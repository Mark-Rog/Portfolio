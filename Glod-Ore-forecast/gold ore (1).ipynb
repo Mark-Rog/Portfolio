{
 "cells": [
  {
   "cell_type": "markdown",
   "id": "10b35bb3",
   "metadata": {},
   "source": [
    "# Восстановление золота из руды"
   ]
  },
  {
   "cell_type": "markdown",
   "id": "c51146a6",
   "metadata": {},
   "source": [
    "## 1. Подготовьте данные"
   ]
  },
  {
   "cell_type": "markdown",
   "id": "72d6b8ef",
   "metadata": {},
   "source": [
    "### 1.1. Откройте файлы и изучите их.\n"
   ]
  },
  {
   "cell_type": "code",
   "execution_count": 1,
   "id": "e57d3b91",
   "metadata": {},
   "outputs": [],
   "source": [
    "import pandas as pd\n",
    "import numpy as np\n",
    "from sklearn.tree import DecisionTreeClassifier\n",
    "from sklearn.model_selection import cross_val_score\n",
    "from sklearn.linear_model import LinearRegression\n",
    "from sklearn.metrics import mean_absolute_error\n",
    "from sklearn.linear_model import LogisticRegression\n",
    "from sklearn.ensemble import RandomForestClassifier\n",
    "from sklearn.model_selection import train_test_split\n",
    "from sklearn.tree import DecisionTreeRegressor\n",
    "from sklearn.ensemble import RandomForestRegressor\n",
    "from sklearn.linear_model import LinearRegression"
   ]
  },
  {
   "cell_type": "code",
   "execution_count": 2,
   "id": "e011ccc0",
   "metadata": {},
   "outputs": [],
   "source": [
    "data_train = pd.read_csv('/final_files/gold_recovery_train_new.csv')\n",
    "data_test = pd.read_csv('/datasets/gold_recovery_test_new.csv')\n",
    "data_full = pd.read_csv('/datasets/gold_recovery_full_new.csv')\n",
    "\n",
    "#data_train = pd.read_csv('/opt/anaconda3/gold_recovery_train_new.csv')\n",
    "#data_test = pd.read_csv('/opt/anaconda3/gold_recovery_test_new.csv')\n",
    "#data_full = pd.read_csv('/opt/anaconda3/gold_recovery_full_new.csv')\n"
   ]
  },
  {
   "cell_type": "code",
   "execution_count": 3,
   "id": "b79e1e37",
   "metadata": {},
   "outputs": [
    {
     "data": {
      "text/html": [
       "<div>\n",
       "<style scoped>\n",
       "    .dataframe tbody tr th:only-of-type {\n",
       "        vertical-align: middle;\n",
       "    }\n",
       "\n",
       "    .dataframe tbody tr th {\n",
       "        vertical-align: top;\n",
       "    }\n",
       "\n",
       "    .dataframe thead th {\n",
       "        text-align: right;\n",
       "    }\n",
       "</style>\n",
       "<table border=\"1\" class=\"dataframe\">\n",
       "  <thead>\n",
       "    <tr style=\"text-align: right;\">\n",
       "      <th></th>\n",
       "      <th>date</th>\n",
       "      <th>final.output.concentrate_ag</th>\n",
       "      <th>final.output.concentrate_pb</th>\n",
       "      <th>final.output.concentrate_sol</th>\n",
       "      <th>final.output.concentrate_au</th>\n",
       "      <th>final.output.recovery</th>\n",
       "      <th>final.output.tail_ag</th>\n",
       "      <th>final.output.tail_pb</th>\n",
       "      <th>final.output.tail_sol</th>\n",
       "      <th>final.output.tail_au</th>\n",
       "      <th>...</th>\n",
       "      <th>secondary_cleaner.state.floatbank4_a_air</th>\n",
       "      <th>secondary_cleaner.state.floatbank4_a_level</th>\n",
       "      <th>secondary_cleaner.state.floatbank4_b_air</th>\n",
       "      <th>secondary_cleaner.state.floatbank4_b_level</th>\n",
       "      <th>secondary_cleaner.state.floatbank5_a_air</th>\n",
       "      <th>secondary_cleaner.state.floatbank5_a_level</th>\n",
       "      <th>secondary_cleaner.state.floatbank5_b_air</th>\n",
       "      <th>secondary_cleaner.state.floatbank5_b_level</th>\n",
       "      <th>secondary_cleaner.state.floatbank6_a_air</th>\n",
       "      <th>secondary_cleaner.state.floatbank6_a_level</th>\n",
       "    </tr>\n",
       "  </thead>\n",
       "  <tbody>\n",
       "    <tr>\n",
       "      <th>0</th>\n",
       "      <td>2016-01-15 00:00:00</td>\n",
       "      <td>6.055403</td>\n",
       "      <td>9.889648</td>\n",
       "      <td>5.507324</td>\n",
       "      <td>42.192020</td>\n",
       "      <td>70.541216</td>\n",
       "      <td>10.411962</td>\n",
       "      <td>0.895447</td>\n",
       "      <td>16.904297</td>\n",
       "      <td>2.143149</td>\n",
       "      <td>...</td>\n",
       "      <td>14.016835</td>\n",
       "      <td>-502.488007</td>\n",
       "      <td>12.099931</td>\n",
       "      <td>-504.715942</td>\n",
       "      <td>9.925633</td>\n",
       "      <td>-498.310211</td>\n",
       "      <td>8.079666</td>\n",
       "      <td>-500.470978</td>\n",
       "      <td>14.151341</td>\n",
       "      <td>-605.841980</td>\n",
       "    </tr>\n",
       "    <tr>\n",
       "      <th>1</th>\n",
       "      <td>2016-01-15 01:00:00</td>\n",
       "      <td>6.029369</td>\n",
       "      <td>9.968944</td>\n",
       "      <td>5.257781</td>\n",
       "      <td>42.701629</td>\n",
       "      <td>69.266198</td>\n",
       "      <td>10.462676</td>\n",
       "      <td>0.927452</td>\n",
       "      <td>16.634514</td>\n",
       "      <td>2.224930</td>\n",
       "      <td>...</td>\n",
       "      <td>13.992281</td>\n",
       "      <td>-505.503262</td>\n",
       "      <td>11.950531</td>\n",
       "      <td>-501.331529</td>\n",
       "      <td>10.039245</td>\n",
       "      <td>-500.169983</td>\n",
       "      <td>7.984757</td>\n",
       "      <td>-500.582168</td>\n",
       "      <td>13.998353</td>\n",
       "      <td>-599.787184</td>\n",
       "    </tr>\n",
       "    <tr>\n",
       "      <th>2</th>\n",
       "      <td>2016-01-15 02:00:00</td>\n",
       "      <td>6.055926</td>\n",
       "      <td>10.213995</td>\n",
       "      <td>5.383759</td>\n",
       "      <td>42.657501</td>\n",
       "      <td>68.116445</td>\n",
       "      <td>10.507046</td>\n",
       "      <td>0.953716</td>\n",
       "      <td>16.208849</td>\n",
       "      <td>2.257889</td>\n",
       "      <td>...</td>\n",
       "      <td>14.015015</td>\n",
       "      <td>-502.520901</td>\n",
       "      <td>11.912783</td>\n",
       "      <td>-501.133383</td>\n",
       "      <td>10.070913</td>\n",
       "      <td>-500.129135</td>\n",
       "      <td>8.013877</td>\n",
       "      <td>-500.517572</td>\n",
       "      <td>14.028663</td>\n",
       "      <td>-601.427363</td>\n",
       "    </tr>\n",
       "    <tr>\n",
       "      <th>3</th>\n",
       "      <td>2016-01-15 03:00:00</td>\n",
       "      <td>6.047977</td>\n",
       "      <td>9.977019</td>\n",
       "      <td>4.858634</td>\n",
       "      <td>42.689819</td>\n",
       "      <td>68.347543</td>\n",
       "      <td>10.422762</td>\n",
       "      <td>0.883763</td>\n",
       "      <td>16.532835</td>\n",
       "      <td>2.146849</td>\n",
       "      <td>...</td>\n",
       "      <td>14.036510</td>\n",
       "      <td>-500.857308</td>\n",
       "      <td>11.999550</td>\n",
       "      <td>-501.193686</td>\n",
       "      <td>9.970366</td>\n",
       "      <td>-499.201640</td>\n",
       "      <td>7.977324</td>\n",
       "      <td>-500.255908</td>\n",
       "      <td>14.005551</td>\n",
       "      <td>-599.996129</td>\n",
       "    </tr>\n",
       "    <tr>\n",
       "      <th>4</th>\n",
       "      <td>2016-01-15 04:00:00</td>\n",
       "      <td>6.148599</td>\n",
       "      <td>10.142511</td>\n",
       "      <td>4.939416</td>\n",
       "      <td>42.774141</td>\n",
       "      <td>66.927016</td>\n",
       "      <td>10.360302</td>\n",
       "      <td>0.792826</td>\n",
       "      <td>16.525686</td>\n",
       "      <td>2.055292</td>\n",
       "      <td>...</td>\n",
       "      <td>14.027298</td>\n",
       "      <td>-499.838632</td>\n",
       "      <td>11.953070</td>\n",
       "      <td>-501.053894</td>\n",
       "      <td>9.925709</td>\n",
       "      <td>-501.686727</td>\n",
       "      <td>7.894242</td>\n",
       "      <td>-500.356035</td>\n",
       "      <td>13.996647</td>\n",
       "      <td>-601.496691</td>\n",
       "    </tr>\n",
       "    <tr>\n",
       "      <th>5</th>\n",
       "      <td>2016-01-15 05:00:00</td>\n",
       "      <td>6.482968</td>\n",
       "      <td>10.049416</td>\n",
       "      <td>5.480257</td>\n",
       "      <td>41.633678</td>\n",
       "      <td>69.465816</td>\n",
       "      <td>10.182708</td>\n",
       "      <td>0.664118</td>\n",
       "      <td>16.999638</td>\n",
       "      <td>1.918586</td>\n",
       "      <td>...</td>\n",
       "      <td>13.938497</td>\n",
       "      <td>-500.970168</td>\n",
       "      <td>11.883350</td>\n",
       "      <td>-500.395298</td>\n",
       "      <td>10.054147</td>\n",
       "      <td>-496.374715</td>\n",
       "      <td>7.965083</td>\n",
       "      <td>-499.364752</td>\n",
       "      <td>14.017067</td>\n",
       "      <td>-599.707915</td>\n",
       "    </tr>\n",
       "    <tr>\n",
       "      <th>6</th>\n",
       "      <td>2016-01-15 06:00:00</td>\n",
       "      <td>6.533849</td>\n",
       "      <td>10.058141</td>\n",
       "      <td>4.569100</td>\n",
       "      <td>41.995316</td>\n",
       "      <td>69.300835</td>\n",
       "      <td>10.304598</td>\n",
       "      <td>0.807342</td>\n",
       "      <td>16.723575</td>\n",
       "      <td>2.058913</td>\n",
       "      <td>...</td>\n",
       "      <td>14.046819</td>\n",
       "      <td>-500.971133</td>\n",
       "      <td>12.091543</td>\n",
       "      <td>-500.501426</td>\n",
       "      <td>10.003247</td>\n",
       "      <td>-497.083180</td>\n",
       "      <td>8.010890</td>\n",
       "      <td>-500.002423</td>\n",
       "      <td>14.029649</td>\n",
       "      <td>-600.905470</td>\n",
       "    </tr>\n",
       "    <tr>\n",
       "      <th>7</th>\n",
       "      <td>2016-01-15 07:00:00</td>\n",
       "      <td>6.130823</td>\n",
       "      <td>9.935481</td>\n",
       "      <td>4.389813</td>\n",
       "      <td>42.452727</td>\n",
       "      <td>70.230976</td>\n",
       "      <td>10.443288</td>\n",
       "      <td>0.949346</td>\n",
       "      <td>16.689959</td>\n",
       "      <td>2.143437</td>\n",
       "      <td>...</td>\n",
       "      <td>13.974691</td>\n",
       "      <td>-501.819696</td>\n",
       "      <td>12.101324</td>\n",
       "      <td>-500.583446</td>\n",
       "      <td>9.873169</td>\n",
       "      <td>-499.171928</td>\n",
       "      <td>7.993381</td>\n",
       "      <td>-499.794518</td>\n",
       "      <td>13.984498</td>\n",
       "      <td>-600.411070</td>\n",
       "    </tr>\n",
       "    <tr>\n",
       "      <th>8</th>\n",
       "      <td>2016-01-15 08:00:00</td>\n",
       "      <td>5.834140</td>\n",
       "      <td>10.071156</td>\n",
       "      <td>4.876389</td>\n",
       "      <td>43.404078</td>\n",
       "      <td>69.688595</td>\n",
       "      <td>10.420140</td>\n",
       "      <td>1.065453</td>\n",
       "      <td>17.201948</td>\n",
       "      <td>2.209881</td>\n",
       "      <td>...</td>\n",
       "      <td>13.964030</td>\n",
       "      <td>-504.252450</td>\n",
       "      <td>12.060738</td>\n",
       "      <td>-501.174549</td>\n",
       "      <td>10.033838</td>\n",
       "      <td>-501.178133</td>\n",
       "      <td>7.881604</td>\n",
       "      <td>-499.729434</td>\n",
       "      <td>13.967135</td>\n",
       "      <td>-599.061188</td>\n",
       "    </tr>\n",
       "    <tr>\n",
       "      <th>9</th>\n",
       "      <td>2016-01-15 09:00:00</td>\n",
       "      <td>5.687063</td>\n",
       "      <td>9.980404</td>\n",
       "      <td>5.282514</td>\n",
       "      <td>43.235220</td>\n",
       "      <td>70.279619</td>\n",
       "      <td>10.487013</td>\n",
       "      <td>1.159805</td>\n",
       "      <td>17.483979</td>\n",
       "      <td>2.209593</td>\n",
       "      <td>...</td>\n",
       "      <td>13.989632</td>\n",
       "      <td>-503.195299</td>\n",
       "      <td>12.052233</td>\n",
       "      <td>-500.928547</td>\n",
       "      <td>9.962574</td>\n",
       "      <td>-502.986357</td>\n",
       "      <td>7.979219</td>\n",
       "      <td>-500.146835</td>\n",
       "      <td>13.981614</td>\n",
       "      <td>-598.070855</td>\n",
       "    </tr>\n",
       "  </tbody>\n",
       "</table>\n",
       "<p>10 rows × 87 columns</p>\n",
       "</div>"
      ],
      "text/plain": [
       "                  date  final.output.concentrate_ag  \\\n",
       "0  2016-01-15 00:00:00                     6.055403   \n",
       "1  2016-01-15 01:00:00                     6.029369   \n",
       "2  2016-01-15 02:00:00                     6.055926   \n",
       "3  2016-01-15 03:00:00                     6.047977   \n",
       "4  2016-01-15 04:00:00                     6.148599   \n",
       "5  2016-01-15 05:00:00                     6.482968   \n",
       "6  2016-01-15 06:00:00                     6.533849   \n",
       "7  2016-01-15 07:00:00                     6.130823   \n",
       "8  2016-01-15 08:00:00                     5.834140   \n",
       "9  2016-01-15 09:00:00                     5.687063   \n",
       "\n",
       "   final.output.concentrate_pb  final.output.concentrate_sol  \\\n",
       "0                     9.889648                      5.507324   \n",
       "1                     9.968944                      5.257781   \n",
       "2                    10.213995                      5.383759   \n",
       "3                     9.977019                      4.858634   \n",
       "4                    10.142511                      4.939416   \n",
       "5                    10.049416                      5.480257   \n",
       "6                    10.058141                      4.569100   \n",
       "7                     9.935481                      4.389813   \n",
       "8                    10.071156                      4.876389   \n",
       "9                     9.980404                      5.282514   \n",
       "\n",
       "   final.output.concentrate_au  final.output.recovery  final.output.tail_ag  \\\n",
       "0                    42.192020              70.541216             10.411962   \n",
       "1                    42.701629              69.266198             10.462676   \n",
       "2                    42.657501              68.116445             10.507046   \n",
       "3                    42.689819              68.347543             10.422762   \n",
       "4                    42.774141              66.927016             10.360302   \n",
       "5                    41.633678              69.465816             10.182708   \n",
       "6                    41.995316              69.300835             10.304598   \n",
       "7                    42.452727              70.230976             10.443288   \n",
       "8                    43.404078              69.688595             10.420140   \n",
       "9                    43.235220              70.279619             10.487013   \n",
       "\n",
       "   final.output.tail_pb  final.output.tail_sol  final.output.tail_au  ...  \\\n",
       "0              0.895447              16.904297              2.143149  ...   \n",
       "1              0.927452              16.634514              2.224930  ...   \n",
       "2              0.953716              16.208849              2.257889  ...   \n",
       "3              0.883763              16.532835              2.146849  ...   \n",
       "4              0.792826              16.525686              2.055292  ...   \n",
       "5              0.664118              16.999638              1.918586  ...   \n",
       "6              0.807342              16.723575              2.058913  ...   \n",
       "7              0.949346              16.689959              2.143437  ...   \n",
       "8              1.065453              17.201948              2.209881  ...   \n",
       "9              1.159805              17.483979              2.209593  ...   \n",
       "\n",
       "   secondary_cleaner.state.floatbank4_a_air  \\\n",
       "0                                 14.016835   \n",
       "1                                 13.992281   \n",
       "2                                 14.015015   \n",
       "3                                 14.036510   \n",
       "4                                 14.027298   \n",
       "5                                 13.938497   \n",
       "6                                 14.046819   \n",
       "7                                 13.974691   \n",
       "8                                 13.964030   \n",
       "9                                 13.989632   \n",
       "\n",
       "   secondary_cleaner.state.floatbank4_a_level  \\\n",
       "0                                 -502.488007   \n",
       "1                                 -505.503262   \n",
       "2                                 -502.520901   \n",
       "3                                 -500.857308   \n",
       "4                                 -499.838632   \n",
       "5                                 -500.970168   \n",
       "6                                 -500.971133   \n",
       "7                                 -501.819696   \n",
       "8                                 -504.252450   \n",
       "9                                 -503.195299   \n",
       "\n",
       "   secondary_cleaner.state.floatbank4_b_air  \\\n",
       "0                                 12.099931   \n",
       "1                                 11.950531   \n",
       "2                                 11.912783   \n",
       "3                                 11.999550   \n",
       "4                                 11.953070   \n",
       "5                                 11.883350   \n",
       "6                                 12.091543   \n",
       "7                                 12.101324   \n",
       "8                                 12.060738   \n",
       "9                                 12.052233   \n",
       "\n",
       "   secondary_cleaner.state.floatbank4_b_level  \\\n",
       "0                                 -504.715942   \n",
       "1                                 -501.331529   \n",
       "2                                 -501.133383   \n",
       "3                                 -501.193686   \n",
       "4                                 -501.053894   \n",
       "5                                 -500.395298   \n",
       "6                                 -500.501426   \n",
       "7                                 -500.583446   \n",
       "8                                 -501.174549   \n",
       "9                                 -500.928547   \n",
       "\n",
       "   secondary_cleaner.state.floatbank5_a_air  \\\n",
       "0                                  9.925633   \n",
       "1                                 10.039245   \n",
       "2                                 10.070913   \n",
       "3                                  9.970366   \n",
       "4                                  9.925709   \n",
       "5                                 10.054147   \n",
       "6                                 10.003247   \n",
       "7                                  9.873169   \n",
       "8                                 10.033838   \n",
       "9                                  9.962574   \n",
       "\n",
       "   secondary_cleaner.state.floatbank5_a_level  \\\n",
       "0                                 -498.310211   \n",
       "1                                 -500.169983   \n",
       "2                                 -500.129135   \n",
       "3                                 -499.201640   \n",
       "4                                 -501.686727   \n",
       "5                                 -496.374715   \n",
       "6                                 -497.083180   \n",
       "7                                 -499.171928   \n",
       "8                                 -501.178133   \n",
       "9                                 -502.986357   \n",
       "\n",
       "   secondary_cleaner.state.floatbank5_b_air  \\\n",
       "0                                  8.079666   \n",
       "1                                  7.984757   \n",
       "2                                  8.013877   \n",
       "3                                  7.977324   \n",
       "4                                  7.894242   \n",
       "5                                  7.965083   \n",
       "6                                  8.010890   \n",
       "7                                  7.993381   \n",
       "8                                  7.881604   \n",
       "9                                  7.979219   \n",
       "\n",
       "   secondary_cleaner.state.floatbank5_b_level  \\\n",
       "0                                 -500.470978   \n",
       "1                                 -500.582168   \n",
       "2                                 -500.517572   \n",
       "3                                 -500.255908   \n",
       "4                                 -500.356035   \n",
       "5                                 -499.364752   \n",
       "6                                 -500.002423   \n",
       "7                                 -499.794518   \n",
       "8                                 -499.729434   \n",
       "9                                 -500.146835   \n",
       "\n",
       "   secondary_cleaner.state.floatbank6_a_air  \\\n",
       "0                                 14.151341   \n",
       "1                                 13.998353   \n",
       "2                                 14.028663   \n",
       "3                                 14.005551   \n",
       "4                                 13.996647   \n",
       "5                                 14.017067   \n",
       "6                                 14.029649   \n",
       "7                                 13.984498   \n",
       "8                                 13.967135   \n",
       "9                                 13.981614   \n",
       "\n",
       "   secondary_cleaner.state.floatbank6_a_level  \n",
       "0                                 -605.841980  \n",
       "1                                 -599.787184  \n",
       "2                                 -601.427363  \n",
       "3                                 -599.996129  \n",
       "4                                 -601.496691  \n",
       "5                                 -599.707915  \n",
       "6                                 -600.905470  \n",
       "7                                 -600.411070  \n",
       "8                                 -599.061188  \n",
       "9                                 -598.070855  \n",
       "\n",
       "[10 rows x 87 columns]"
      ]
     },
     "execution_count": 3,
     "metadata": {},
     "output_type": "execute_result"
    }
   ],
   "source": [
    "data_train.head(10)"
   ]
  },
  {
   "cell_type": "code",
   "execution_count": 4,
   "id": "4821eec8",
   "metadata": {},
   "outputs": [
    {
     "data": {
      "text/html": [
       "<div>\n",
       "<style scoped>\n",
       "    .dataframe tbody tr th:only-of-type {\n",
       "        vertical-align: middle;\n",
       "    }\n",
       "\n",
       "    .dataframe tbody tr th {\n",
       "        vertical-align: top;\n",
       "    }\n",
       "\n",
       "    .dataframe thead th {\n",
       "        text-align: right;\n",
       "    }\n",
       "</style>\n",
       "<table border=\"1\" class=\"dataframe\">\n",
       "  <thead>\n",
       "    <tr style=\"text-align: right;\">\n",
       "      <th></th>\n",
       "      <th>date</th>\n",
       "      <th>primary_cleaner.input.sulfate</th>\n",
       "      <th>primary_cleaner.input.depressant</th>\n",
       "      <th>primary_cleaner.input.feed_size</th>\n",
       "      <th>primary_cleaner.input.xanthate</th>\n",
       "      <th>primary_cleaner.state.floatbank8_a_air</th>\n",
       "      <th>primary_cleaner.state.floatbank8_a_level</th>\n",
       "      <th>primary_cleaner.state.floatbank8_b_air</th>\n",
       "      <th>primary_cleaner.state.floatbank8_b_level</th>\n",
       "      <th>primary_cleaner.state.floatbank8_c_air</th>\n",
       "      <th>...</th>\n",
       "      <th>secondary_cleaner.state.floatbank4_a_air</th>\n",
       "      <th>secondary_cleaner.state.floatbank4_a_level</th>\n",
       "      <th>secondary_cleaner.state.floatbank4_b_air</th>\n",
       "      <th>secondary_cleaner.state.floatbank4_b_level</th>\n",
       "      <th>secondary_cleaner.state.floatbank5_a_air</th>\n",
       "      <th>secondary_cleaner.state.floatbank5_a_level</th>\n",
       "      <th>secondary_cleaner.state.floatbank5_b_air</th>\n",
       "      <th>secondary_cleaner.state.floatbank5_b_level</th>\n",
       "      <th>secondary_cleaner.state.floatbank6_a_air</th>\n",
       "      <th>secondary_cleaner.state.floatbank6_a_level</th>\n",
       "    </tr>\n",
       "  </thead>\n",
       "  <tbody>\n",
       "    <tr>\n",
       "      <th>0</th>\n",
       "      <td>2016-09-01 00:59:59</td>\n",
       "      <td>210.800909</td>\n",
       "      <td>14.993118</td>\n",
       "      <td>8.080000</td>\n",
       "      <td>1.005021</td>\n",
       "      <td>1398.981301</td>\n",
       "      <td>-500.225577</td>\n",
       "      <td>1399.144926</td>\n",
       "      <td>-499.919735</td>\n",
       "      <td>1400.102998</td>\n",
       "      <td>...</td>\n",
       "      <td>12.023554</td>\n",
       "      <td>-497.795834</td>\n",
       "      <td>8.016656</td>\n",
       "      <td>-501.289139</td>\n",
       "      <td>7.946562</td>\n",
       "      <td>-432.317850</td>\n",
       "      <td>4.872511</td>\n",
       "      <td>-500.037437</td>\n",
       "      <td>26.705889</td>\n",
       "      <td>-499.709414</td>\n",
       "    </tr>\n",
       "    <tr>\n",
       "      <th>1</th>\n",
       "      <td>2016-09-01 01:59:59</td>\n",
       "      <td>215.392455</td>\n",
       "      <td>14.987471</td>\n",
       "      <td>8.080000</td>\n",
       "      <td>0.990469</td>\n",
       "      <td>1398.777912</td>\n",
       "      <td>-500.057435</td>\n",
       "      <td>1398.055362</td>\n",
       "      <td>-499.778182</td>\n",
       "      <td>1396.151033</td>\n",
       "      <td>...</td>\n",
       "      <td>12.058140</td>\n",
       "      <td>-498.695773</td>\n",
       "      <td>8.130979</td>\n",
       "      <td>-499.634209</td>\n",
       "      <td>7.958270</td>\n",
       "      <td>-525.839648</td>\n",
       "      <td>4.878850</td>\n",
       "      <td>-500.162375</td>\n",
       "      <td>25.019940</td>\n",
       "      <td>-499.819438</td>\n",
       "    </tr>\n",
       "    <tr>\n",
       "      <th>2</th>\n",
       "      <td>2016-09-01 02:59:59</td>\n",
       "      <td>215.259946</td>\n",
       "      <td>12.884934</td>\n",
       "      <td>7.786667</td>\n",
       "      <td>0.996043</td>\n",
       "      <td>1398.493666</td>\n",
       "      <td>-500.868360</td>\n",
       "      <td>1398.860436</td>\n",
       "      <td>-499.764529</td>\n",
       "      <td>1398.075709</td>\n",
       "      <td>...</td>\n",
       "      <td>11.962366</td>\n",
       "      <td>-498.767484</td>\n",
       "      <td>8.096893</td>\n",
       "      <td>-500.827423</td>\n",
       "      <td>8.071056</td>\n",
       "      <td>-500.801673</td>\n",
       "      <td>4.905125</td>\n",
       "      <td>-499.828510</td>\n",
       "      <td>24.994862</td>\n",
       "      <td>-500.622559</td>\n",
       "    </tr>\n",
       "    <tr>\n",
       "      <th>3</th>\n",
       "      <td>2016-09-01 03:59:59</td>\n",
       "      <td>215.336236</td>\n",
       "      <td>12.006805</td>\n",
       "      <td>7.640000</td>\n",
       "      <td>0.863514</td>\n",
       "      <td>1399.618111</td>\n",
       "      <td>-498.863574</td>\n",
       "      <td>1397.440120</td>\n",
       "      <td>-499.211024</td>\n",
       "      <td>1400.129303</td>\n",
       "      <td>...</td>\n",
       "      <td>12.033091</td>\n",
       "      <td>-498.350935</td>\n",
       "      <td>8.074946</td>\n",
       "      <td>-499.474407</td>\n",
       "      <td>7.897085</td>\n",
       "      <td>-500.868509</td>\n",
       "      <td>4.931400</td>\n",
       "      <td>-499.963623</td>\n",
       "      <td>24.948919</td>\n",
       "      <td>-498.709987</td>\n",
       "    </tr>\n",
       "    <tr>\n",
       "      <th>4</th>\n",
       "      <td>2016-09-01 04:59:59</td>\n",
       "      <td>199.099327</td>\n",
       "      <td>10.682530</td>\n",
       "      <td>7.530000</td>\n",
       "      <td>0.805575</td>\n",
       "      <td>1401.268123</td>\n",
       "      <td>-500.808305</td>\n",
       "      <td>1398.128818</td>\n",
       "      <td>-499.504543</td>\n",
       "      <td>1402.172226</td>\n",
       "      <td>...</td>\n",
       "      <td>12.025367</td>\n",
       "      <td>-500.786497</td>\n",
       "      <td>8.054678</td>\n",
       "      <td>-500.397500</td>\n",
       "      <td>8.107890</td>\n",
       "      <td>-509.526725</td>\n",
       "      <td>4.957674</td>\n",
       "      <td>-500.360026</td>\n",
       "      <td>25.003331</td>\n",
       "      <td>-500.856333</td>\n",
       "    </tr>\n",
       "    <tr>\n",
       "      <th>5</th>\n",
       "      <td>2016-09-01 05:59:59</td>\n",
       "      <td>168.485085</td>\n",
       "      <td>8.817007</td>\n",
       "      <td>7.420000</td>\n",
       "      <td>0.791191</td>\n",
       "      <td>1402.826803</td>\n",
       "      <td>-499.299521</td>\n",
       "      <td>1401.511119</td>\n",
       "      <td>-499.205357</td>\n",
       "      <td>1404.088107</td>\n",
       "      <td>...</td>\n",
       "      <td>12.029797</td>\n",
       "      <td>-499.814895</td>\n",
       "      <td>8.036586</td>\n",
       "      <td>-500.371492</td>\n",
       "      <td>8.041446</td>\n",
       "      <td>-510.037054</td>\n",
       "      <td>4.983949</td>\n",
       "      <td>-499.990990</td>\n",
       "      <td>24.978973</td>\n",
       "      <td>-500.475640</td>\n",
       "    </tr>\n",
       "    <tr>\n",
       "      <th>6</th>\n",
       "      <td>2016-09-01 06:59:59</td>\n",
       "      <td>144.133440</td>\n",
       "      <td>7.924610</td>\n",
       "      <td>7.420000</td>\n",
       "      <td>0.788838</td>\n",
       "      <td>1398.252401</td>\n",
       "      <td>-499.748672</td>\n",
       "      <td>1393.255503</td>\n",
       "      <td>-499.195380</td>\n",
       "      <td>1396.738566</td>\n",
       "      <td>...</td>\n",
       "      <td>12.026296</td>\n",
       "      <td>-499.473127</td>\n",
       "      <td>8.027984</td>\n",
       "      <td>-500.983079</td>\n",
       "      <td>7.907340</td>\n",
       "      <td>-507.964971</td>\n",
       "      <td>5.010224</td>\n",
       "      <td>-500.043697</td>\n",
       "      <td>25.040709</td>\n",
       "      <td>-499.501984</td>\n",
       "    </tr>\n",
       "    <tr>\n",
       "      <th>7</th>\n",
       "      <td>2016-09-01 07:59:59</td>\n",
       "      <td>133.513396</td>\n",
       "      <td>8.055252</td>\n",
       "      <td>6.988000</td>\n",
       "      <td>0.801871</td>\n",
       "      <td>1401.669677</td>\n",
       "      <td>-501.777839</td>\n",
       "      <td>1400.754446</td>\n",
       "      <td>-502.514024</td>\n",
       "      <td>1400.465244</td>\n",
       "      <td>...</td>\n",
       "      <td>12.040911</td>\n",
       "      <td>-501.293852</td>\n",
       "      <td>8.020490</td>\n",
       "      <td>-499.185229</td>\n",
       "      <td>8.116897</td>\n",
       "      <td>-511.927561</td>\n",
       "      <td>5.036498</td>\n",
       "      <td>-500.149615</td>\n",
       "      <td>25.032580</td>\n",
       "      <td>-503.970657</td>\n",
       "    </tr>\n",
       "    <tr>\n",
       "      <th>8</th>\n",
       "      <td>2016-09-01 08:59:59</td>\n",
       "      <td>133.735356</td>\n",
       "      <td>7.999618</td>\n",
       "      <td>6.935000</td>\n",
       "      <td>0.789329</td>\n",
       "      <td>1402.358981</td>\n",
       "      <td>-499.981597</td>\n",
       "      <td>1400.985954</td>\n",
       "      <td>-496.802968</td>\n",
       "      <td>1401.168584</td>\n",
       "      <td>...</td>\n",
       "      <td>11.998184</td>\n",
       "      <td>-499.481608</td>\n",
       "      <td>8.012610</td>\n",
       "      <td>-500.896783</td>\n",
       "      <td>7.974422</td>\n",
       "      <td>-521.199104</td>\n",
       "      <td>5.061599</td>\n",
       "      <td>-499.791519</td>\n",
       "      <td>25.005063</td>\n",
       "      <td>-497.613716</td>\n",
       "    </tr>\n",
       "    <tr>\n",
       "      <th>9</th>\n",
       "      <td>2016-09-01 09:59:59</td>\n",
       "      <td>126.961069</td>\n",
       "      <td>8.017856</td>\n",
       "      <td>7.030000</td>\n",
       "      <td>0.805298</td>\n",
       "      <td>1400.816120</td>\n",
       "      <td>-499.014158</td>\n",
       "      <td>1399.975401</td>\n",
       "      <td>-499.570552</td>\n",
       "      <td>1401.871924</td>\n",
       "      <td>...</td>\n",
       "      <td>12.040725</td>\n",
       "      <td>-499.987743</td>\n",
       "      <td>7.989503</td>\n",
       "      <td>-499.750625</td>\n",
       "      <td>7.989710</td>\n",
       "      <td>-509.946737</td>\n",
       "      <td>5.068811</td>\n",
       "      <td>-499.293900</td>\n",
       "      <td>24.992741</td>\n",
       "      <td>-499.272255</td>\n",
       "    </tr>\n",
       "  </tbody>\n",
       "</table>\n",
       "<p>10 rows × 53 columns</p>\n",
       "</div>"
      ],
      "text/plain": [
       "                  date  primary_cleaner.input.sulfate  \\\n",
       "0  2016-09-01 00:59:59                     210.800909   \n",
       "1  2016-09-01 01:59:59                     215.392455   \n",
       "2  2016-09-01 02:59:59                     215.259946   \n",
       "3  2016-09-01 03:59:59                     215.336236   \n",
       "4  2016-09-01 04:59:59                     199.099327   \n",
       "5  2016-09-01 05:59:59                     168.485085   \n",
       "6  2016-09-01 06:59:59                     144.133440   \n",
       "7  2016-09-01 07:59:59                     133.513396   \n",
       "8  2016-09-01 08:59:59                     133.735356   \n",
       "9  2016-09-01 09:59:59                     126.961069   \n",
       "\n",
       "   primary_cleaner.input.depressant  primary_cleaner.input.feed_size  \\\n",
       "0                         14.993118                         8.080000   \n",
       "1                         14.987471                         8.080000   \n",
       "2                         12.884934                         7.786667   \n",
       "3                         12.006805                         7.640000   \n",
       "4                         10.682530                         7.530000   \n",
       "5                          8.817007                         7.420000   \n",
       "6                          7.924610                         7.420000   \n",
       "7                          8.055252                         6.988000   \n",
       "8                          7.999618                         6.935000   \n",
       "9                          8.017856                         7.030000   \n",
       "\n",
       "   primary_cleaner.input.xanthate  primary_cleaner.state.floatbank8_a_air  \\\n",
       "0                        1.005021                             1398.981301   \n",
       "1                        0.990469                             1398.777912   \n",
       "2                        0.996043                             1398.493666   \n",
       "3                        0.863514                             1399.618111   \n",
       "4                        0.805575                             1401.268123   \n",
       "5                        0.791191                             1402.826803   \n",
       "6                        0.788838                             1398.252401   \n",
       "7                        0.801871                             1401.669677   \n",
       "8                        0.789329                             1402.358981   \n",
       "9                        0.805298                             1400.816120   \n",
       "\n",
       "   primary_cleaner.state.floatbank8_a_level  \\\n",
       "0                               -500.225577   \n",
       "1                               -500.057435   \n",
       "2                               -500.868360   \n",
       "3                               -498.863574   \n",
       "4                               -500.808305   \n",
       "5                               -499.299521   \n",
       "6                               -499.748672   \n",
       "7                               -501.777839   \n",
       "8                               -499.981597   \n",
       "9                               -499.014158   \n",
       "\n",
       "   primary_cleaner.state.floatbank8_b_air  \\\n",
       "0                             1399.144926   \n",
       "1                             1398.055362   \n",
       "2                             1398.860436   \n",
       "3                             1397.440120   \n",
       "4                             1398.128818   \n",
       "5                             1401.511119   \n",
       "6                             1393.255503   \n",
       "7                             1400.754446   \n",
       "8                             1400.985954   \n",
       "9                             1399.975401   \n",
       "\n",
       "   primary_cleaner.state.floatbank8_b_level  \\\n",
       "0                               -499.919735   \n",
       "1                               -499.778182   \n",
       "2                               -499.764529   \n",
       "3                               -499.211024   \n",
       "4                               -499.504543   \n",
       "5                               -499.205357   \n",
       "6                               -499.195380   \n",
       "7                               -502.514024   \n",
       "8                               -496.802968   \n",
       "9                               -499.570552   \n",
       "\n",
       "   primary_cleaner.state.floatbank8_c_air  ...  \\\n",
       "0                             1400.102998  ...   \n",
       "1                             1396.151033  ...   \n",
       "2                             1398.075709  ...   \n",
       "3                             1400.129303  ...   \n",
       "4                             1402.172226  ...   \n",
       "5                             1404.088107  ...   \n",
       "6                             1396.738566  ...   \n",
       "7                             1400.465244  ...   \n",
       "8                             1401.168584  ...   \n",
       "9                             1401.871924  ...   \n",
       "\n",
       "   secondary_cleaner.state.floatbank4_a_air  \\\n",
       "0                                 12.023554   \n",
       "1                                 12.058140   \n",
       "2                                 11.962366   \n",
       "3                                 12.033091   \n",
       "4                                 12.025367   \n",
       "5                                 12.029797   \n",
       "6                                 12.026296   \n",
       "7                                 12.040911   \n",
       "8                                 11.998184   \n",
       "9                                 12.040725   \n",
       "\n",
       "   secondary_cleaner.state.floatbank4_a_level  \\\n",
       "0                                 -497.795834   \n",
       "1                                 -498.695773   \n",
       "2                                 -498.767484   \n",
       "3                                 -498.350935   \n",
       "4                                 -500.786497   \n",
       "5                                 -499.814895   \n",
       "6                                 -499.473127   \n",
       "7                                 -501.293852   \n",
       "8                                 -499.481608   \n",
       "9                                 -499.987743   \n",
       "\n",
       "   secondary_cleaner.state.floatbank4_b_air  \\\n",
       "0                                  8.016656   \n",
       "1                                  8.130979   \n",
       "2                                  8.096893   \n",
       "3                                  8.074946   \n",
       "4                                  8.054678   \n",
       "5                                  8.036586   \n",
       "6                                  8.027984   \n",
       "7                                  8.020490   \n",
       "8                                  8.012610   \n",
       "9                                  7.989503   \n",
       "\n",
       "   secondary_cleaner.state.floatbank4_b_level  \\\n",
       "0                                 -501.289139   \n",
       "1                                 -499.634209   \n",
       "2                                 -500.827423   \n",
       "3                                 -499.474407   \n",
       "4                                 -500.397500   \n",
       "5                                 -500.371492   \n",
       "6                                 -500.983079   \n",
       "7                                 -499.185229   \n",
       "8                                 -500.896783   \n",
       "9                                 -499.750625   \n",
       "\n",
       "   secondary_cleaner.state.floatbank5_a_air  \\\n",
       "0                                  7.946562   \n",
       "1                                  7.958270   \n",
       "2                                  8.071056   \n",
       "3                                  7.897085   \n",
       "4                                  8.107890   \n",
       "5                                  8.041446   \n",
       "6                                  7.907340   \n",
       "7                                  8.116897   \n",
       "8                                  7.974422   \n",
       "9                                  7.989710   \n",
       "\n",
       "   secondary_cleaner.state.floatbank5_a_level  \\\n",
       "0                                 -432.317850   \n",
       "1                                 -525.839648   \n",
       "2                                 -500.801673   \n",
       "3                                 -500.868509   \n",
       "4                                 -509.526725   \n",
       "5                                 -510.037054   \n",
       "6                                 -507.964971   \n",
       "7                                 -511.927561   \n",
       "8                                 -521.199104   \n",
       "9                                 -509.946737   \n",
       "\n",
       "   secondary_cleaner.state.floatbank5_b_air  \\\n",
       "0                                  4.872511   \n",
       "1                                  4.878850   \n",
       "2                                  4.905125   \n",
       "3                                  4.931400   \n",
       "4                                  4.957674   \n",
       "5                                  4.983949   \n",
       "6                                  5.010224   \n",
       "7                                  5.036498   \n",
       "8                                  5.061599   \n",
       "9                                  5.068811   \n",
       "\n",
       "   secondary_cleaner.state.floatbank5_b_level  \\\n",
       "0                                 -500.037437   \n",
       "1                                 -500.162375   \n",
       "2                                 -499.828510   \n",
       "3                                 -499.963623   \n",
       "4                                 -500.360026   \n",
       "5                                 -499.990990   \n",
       "6                                 -500.043697   \n",
       "7                                 -500.149615   \n",
       "8                                 -499.791519   \n",
       "9                                 -499.293900   \n",
       "\n",
       "   secondary_cleaner.state.floatbank6_a_air  \\\n",
       "0                                 26.705889   \n",
       "1                                 25.019940   \n",
       "2                                 24.994862   \n",
       "3                                 24.948919   \n",
       "4                                 25.003331   \n",
       "5                                 24.978973   \n",
       "6                                 25.040709   \n",
       "7                                 25.032580   \n",
       "8                                 25.005063   \n",
       "9                                 24.992741   \n",
       "\n",
       "   secondary_cleaner.state.floatbank6_a_level  \n",
       "0                                 -499.709414  \n",
       "1                                 -499.819438  \n",
       "2                                 -500.622559  \n",
       "3                                 -498.709987  \n",
       "4                                 -500.856333  \n",
       "5                                 -500.475640  \n",
       "6                                 -499.501984  \n",
       "7                                 -503.970657  \n",
       "8                                 -497.613716  \n",
       "9                                 -499.272255  \n",
       "\n",
       "[10 rows x 53 columns]"
      ]
     },
     "execution_count": 4,
     "metadata": {},
     "output_type": "execute_result"
    }
   ],
   "source": [
    "data_test.head(10)"
   ]
  },
  {
   "cell_type": "code",
   "execution_count": 5,
   "id": "50f7fd9d",
   "metadata": {},
   "outputs": [
    {
     "data": {
      "text/html": [
       "<div>\n",
       "<style scoped>\n",
       "    .dataframe tbody tr th:only-of-type {\n",
       "        vertical-align: middle;\n",
       "    }\n",
       "\n",
       "    .dataframe tbody tr th {\n",
       "        vertical-align: top;\n",
       "    }\n",
       "\n",
       "    .dataframe thead th {\n",
       "        text-align: right;\n",
       "    }\n",
       "</style>\n",
       "<table border=\"1\" class=\"dataframe\">\n",
       "  <thead>\n",
       "    <tr style=\"text-align: right;\">\n",
       "      <th></th>\n",
       "      <th>date</th>\n",
       "      <th>final.output.concentrate_ag</th>\n",
       "      <th>final.output.concentrate_pb</th>\n",
       "      <th>final.output.concentrate_sol</th>\n",
       "      <th>final.output.concentrate_au</th>\n",
       "      <th>final.output.recovery</th>\n",
       "      <th>final.output.tail_ag</th>\n",
       "      <th>final.output.tail_pb</th>\n",
       "      <th>final.output.tail_sol</th>\n",
       "      <th>final.output.tail_au</th>\n",
       "      <th>...</th>\n",
       "      <th>secondary_cleaner.state.floatbank4_a_air</th>\n",
       "      <th>secondary_cleaner.state.floatbank4_a_level</th>\n",
       "      <th>secondary_cleaner.state.floatbank4_b_air</th>\n",
       "      <th>secondary_cleaner.state.floatbank4_b_level</th>\n",
       "      <th>secondary_cleaner.state.floatbank5_a_air</th>\n",
       "      <th>secondary_cleaner.state.floatbank5_a_level</th>\n",
       "      <th>secondary_cleaner.state.floatbank5_b_air</th>\n",
       "      <th>secondary_cleaner.state.floatbank5_b_level</th>\n",
       "      <th>secondary_cleaner.state.floatbank6_a_air</th>\n",
       "      <th>secondary_cleaner.state.floatbank6_a_level</th>\n",
       "    </tr>\n",
       "  </thead>\n",
       "  <tbody>\n",
       "    <tr>\n",
       "      <th>0</th>\n",
       "      <td>2016-01-15 00:00:00</td>\n",
       "      <td>6.055403</td>\n",
       "      <td>9.889648</td>\n",
       "      <td>5.507324</td>\n",
       "      <td>42.192020</td>\n",
       "      <td>70.541216</td>\n",
       "      <td>10.411962</td>\n",
       "      <td>0.895447</td>\n",
       "      <td>16.904297</td>\n",
       "      <td>2.143149</td>\n",
       "      <td>...</td>\n",
       "      <td>14.016835</td>\n",
       "      <td>-502.488007</td>\n",
       "      <td>12.099931</td>\n",
       "      <td>-504.715942</td>\n",
       "      <td>9.925633</td>\n",
       "      <td>-498.310211</td>\n",
       "      <td>8.079666</td>\n",
       "      <td>-500.470978</td>\n",
       "      <td>14.151341</td>\n",
       "      <td>-605.841980</td>\n",
       "    </tr>\n",
       "    <tr>\n",
       "      <th>1</th>\n",
       "      <td>2016-01-15 01:00:00</td>\n",
       "      <td>6.029369</td>\n",
       "      <td>9.968944</td>\n",
       "      <td>5.257781</td>\n",
       "      <td>42.701629</td>\n",
       "      <td>69.266198</td>\n",
       "      <td>10.462676</td>\n",
       "      <td>0.927452</td>\n",
       "      <td>16.634514</td>\n",
       "      <td>2.224930</td>\n",
       "      <td>...</td>\n",
       "      <td>13.992281</td>\n",
       "      <td>-505.503262</td>\n",
       "      <td>11.950531</td>\n",
       "      <td>-501.331529</td>\n",
       "      <td>10.039245</td>\n",
       "      <td>-500.169983</td>\n",
       "      <td>7.984757</td>\n",
       "      <td>-500.582168</td>\n",
       "      <td>13.998353</td>\n",
       "      <td>-599.787184</td>\n",
       "    </tr>\n",
       "    <tr>\n",
       "      <th>2</th>\n",
       "      <td>2016-01-15 02:00:00</td>\n",
       "      <td>6.055926</td>\n",
       "      <td>10.213995</td>\n",
       "      <td>5.383759</td>\n",
       "      <td>42.657501</td>\n",
       "      <td>68.116445</td>\n",
       "      <td>10.507046</td>\n",
       "      <td>0.953716</td>\n",
       "      <td>16.208849</td>\n",
       "      <td>2.257889</td>\n",
       "      <td>...</td>\n",
       "      <td>14.015015</td>\n",
       "      <td>-502.520901</td>\n",
       "      <td>11.912783</td>\n",
       "      <td>-501.133383</td>\n",
       "      <td>10.070913</td>\n",
       "      <td>-500.129135</td>\n",
       "      <td>8.013877</td>\n",
       "      <td>-500.517572</td>\n",
       "      <td>14.028663</td>\n",
       "      <td>-601.427363</td>\n",
       "    </tr>\n",
       "    <tr>\n",
       "      <th>3</th>\n",
       "      <td>2016-01-15 03:00:00</td>\n",
       "      <td>6.047977</td>\n",
       "      <td>9.977019</td>\n",
       "      <td>4.858634</td>\n",
       "      <td>42.689819</td>\n",
       "      <td>68.347543</td>\n",
       "      <td>10.422762</td>\n",
       "      <td>0.883763</td>\n",
       "      <td>16.532835</td>\n",
       "      <td>2.146849</td>\n",
       "      <td>...</td>\n",
       "      <td>14.036510</td>\n",
       "      <td>-500.857308</td>\n",
       "      <td>11.999550</td>\n",
       "      <td>-501.193686</td>\n",
       "      <td>9.970366</td>\n",
       "      <td>-499.201640</td>\n",
       "      <td>7.977324</td>\n",
       "      <td>-500.255908</td>\n",
       "      <td>14.005551</td>\n",
       "      <td>-599.996129</td>\n",
       "    </tr>\n",
       "    <tr>\n",
       "      <th>4</th>\n",
       "      <td>2016-01-15 04:00:00</td>\n",
       "      <td>6.148599</td>\n",
       "      <td>10.142511</td>\n",
       "      <td>4.939416</td>\n",
       "      <td>42.774141</td>\n",
       "      <td>66.927016</td>\n",
       "      <td>10.360302</td>\n",
       "      <td>0.792826</td>\n",
       "      <td>16.525686</td>\n",
       "      <td>2.055292</td>\n",
       "      <td>...</td>\n",
       "      <td>14.027298</td>\n",
       "      <td>-499.838632</td>\n",
       "      <td>11.953070</td>\n",
       "      <td>-501.053894</td>\n",
       "      <td>9.925709</td>\n",
       "      <td>-501.686727</td>\n",
       "      <td>7.894242</td>\n",
       "      <td>-500.356035</td>\n",
       "      <td>13.996647</td>\n",
       "      <td>-601.496691</td>\n",
       "    </tr>\n",
       "    <tr>\n",
       "      <th>5</th>\n",
       "      <td>2016-01-15 05:00:00</td>\n",
       "      <td>6.482968</td>\n",
       "      <td>10.049416</td>\n",
       "      <td>5.480257</td>\n",
       "      <td>41.633678</td>\n",
       "      <td>69.465816</td>\n",
       "      <td>10.182708</td>\n",
       "      <td>0.664118</td>\n",
       "      <td>16.999638</td>\n",
       "      <td>1.918586</td>\n",
       "      <td>...</td>\n",
       "      <td>13.938497</td>\n",
       "      <td>-500.970168</td>\n",
       "      <td>11.883350</td>\n",
       "      <td>-500.395298</td>\n",
       "      <td>10.054147</td>\n",
       "      <td>-496.374715</td>\n",
       "      <td>7.965083</td>\n",
       "      <td>-499.364752</td>\n",
       "      <td>14.017067</td>\n",
       "      <td>-599.707915</td>\n",
       "    </tr>\n",
       "    <tr>\n",
       "      <th>6</th>\n",
       "      <td>2016-01-15 06:00:00</td>\n",
       "      <td>6.533849</td>\n",
       "      <td>10.058141</td>\n",
       "      <td>4.569100</td>\n",
       "      <td>41.995316</td>\n",
       "      <td>69.300835</td>\n",
       "      <td>10.304598</td>\n",
       "      <td>0.807342</td>\n",
       "      <td>16.723575</td>\n",
       "      <td>2.058913</td>\n",
       "      <td>...</td>\n",
       "      <td>14.046819</td>\n",
       "      <td>-500.971133</td>\n",
       "      <td>12.091543</td>\n",
       "      <td>-500.501426</td>\n",
       "      <td>10.003247</td>\n",
       "      <td>-497.083180</td>\n",
       "      <td>8.010890</td>\n",
       "      <td>-500.002423</td>\n",
       "      <td>14.029649</td>\n",
       "      <td>-600.905470</td>\n",
       "    </tr>\n",
       "    <tr>\n",
       "      <th>7</th>\n",
       "      <td>2016-01-15 07:00:00</td>\n",
       "      <td>6.130823</td>\n",
       "      <td>9.935481</td>\n",
       "      <td>4.389813</td>\n",
       "      <td>42.452727</td>\n",
       "      <td>70.230976</td>\n",
       "      <td>10.443288</td>\n",
       "      <td>0.949346</td>\n",
       "      <td>16.689959</td>\n",
       "      <td>2.143437</td>\n",
       "      <td>...</td>\n",
       "      <td>13.974691</td>\n",
       "      <td>-501.819696</td>\n",
       "      <td>12.101324</td>\n",
       "      <td>-500.583446</td>\n",
       "      <td>9.873169</td>\n",
       "      <td>-499.171928</td>\n",
       "      <td>7.993381</td>\n",
       "      <td>-499.794518</td>\n",
       "      <td>13.984498</td>\n",
       "      <td>-600.411070</td>\n",
       "    </tr>\n",
       "    <tr>\n",
       "      <th>8</th>\n",
       "      <td>2016-01-15 08:00:00</td>\n",
       "      <td>5.834140</td>\n",
       "      <td>10.071156</td>\n",
       "      <td>4.876389</td>\n",
       "      <td>43.404078</td>\n",
       "      <td>69.688595</td>\n",
       "      <td>10.420140</td>\n",
       "      <td>1.065453</td>\n",
       "      <td>17.201948</td>\n",
       "      <td>2.209881</td>\n",
       "      <td>...</td>\n",
       "      <td>13.964030</td>\n",
       "      <td>-504.252450</td>\n",
       "      <td>12.060738</td>\n",
       "      <td>-501.174549</td>\n",
       "      <td>10.033838</td>\n",
       "      <td>-501.178133</td>\n",
       "      <td>7.881604</td>\n",
       "      <td>-499.729434</td>\n",
       "      <td>13.967135</td>\n",
       "      <td>-599.061188</td>\n",
       "    </tr>\n",
       "    <tr>\n",
       "      <th>9</th>\n",
       "      <td>2016-01-15 09:00:00</td>\n",
       "      <td>5.687063</td>\n",
       "      <td>9.980404</td>\n",
       "      <td>5.282514</td>\n",
       "      <td>43.235220</td>\n",
       "      <td>70.279619</td>\n",
       "      <td>10.487013</td>\n",
       "      <td>1.159805</td>\n",
       "      <td>17.483979</td>\n",
       "      <td>2.209593</td>\n",
       "      <td>...</td>\n",
       "      <td>13.989632</td>\n",
       "      <td>-503.195299</td>\n",
       "      <td>12.052233</td>\n",
       "      <td>-500.928547</td>\n",
       "      <td>9.962574</td>\n",
       "      <td>-502.986357</td>\n",
       "      <td>7.979219</td>\n",
       "      <td>-500.146835</td>\n",
       "      <td>13.981614</td>\n",
       "      <td>-598.070855</td>\n",
       "    </tr>\n",
       "  </tbody>\n",
       "</table>\n",
       "<p>10 rows × 87 columns</p>\n",
       "</div>"
      ],
      "text/plain": [
       "                  date  final.output.concentrate_ag  \\\n",
       "0  2016-01-15 00:00:00                     6.055403   \n",
       "1  2016-01-15 01:00:00                     6.029369   \n",
       "2  2016-01-15 02:00:00                     6.055926   \n",
       "3  2016-01-15 03:00:00                     6.047977   \n",
       "4  2016-01-15 04:00:00                     6.148599   \n",
       "5  2016-01-15 05:00:00                     6.482968   \n",
       "6  2016-01-15 06:00:00                     6.533849   \n",
       "7  2016-01-15 07:00:00                     6.130823   \n",
       "8  2016-01-15 08:00:00                     5.834140   \n",
       "9  2016-01-15 09:00:00                     5.687063   \n",
       "\n",
       "   final.output.concentrate_pb  final.output.concentrate_sol  \\\n",
       "0                     9.889648                      5.507324   \n",
       "1                     9.968944                      5.257781   \n",
       "2                    10.213995                      5.383759   \n",
       "3                     9.977019                      4.858634   \n",
       "4                    10.142511                      4.939416   \n",
       "5                    10.049416                      5.480257   \n",
       "6                    10.058141                      4.569100   \n",
       "7                     9.935481                      4.389813   \n",
       "8                    10.071156                      4.876389   \n",
       "9                     9.980404                      5.282514   \n",
       "\n",
       "   final.output.concentrate_au  final.output.recovery  final.output.tail_ag  \\\n",
       "0                    42.192020              70.541216             10.411962   \n",
       "1                    42.701629              69.266198             10.462676   \n",
       "2                    42.657501              68.116445             10.507046   \n",
       "3                    42.689819              68.347543             10.422762   \n",
       "4                    42.774141              66.927016             10.360302   \n",
       "5                    41.633678              69.465816             10.182708   \n",
       "6                    41.995316              69.300835             10.304598   \n",
       "7                    42.452727              70.230976             10.443288   \n",
       "8                    43.404078              69.688595             10.420140   \n",
       "9                    43.235220              70.279619             10.487013   \n",
       "\n",
       "   final.output.tail_pb  final.output.tail_sol  final.output.tail_au  ...  \\\n",
       "0              0.895447              16.904297              2.143149  ...   \n",
       "1              0.927452              16.634514              2.224930  ...   \n",
       "2              0.953716              16.208849              2.257889  ...   \n",
       "3              0.883763              16.532835              2.146849  ...   \n",
       "4              0.792826              16.525686              2.055292  ...   \n",
       "5              0.664118              16.999638              1.918586  ...   \n",
       "6              0.807342              16.723575              2.058913  ...   \n",
       "7              0.949346              16.689959              2.143437  ...   \n",
       "8              1.065453              17.201948              2.209881  ...   \n",
       "9              1.159805              17.483979              2.209593  ...   \n",
       "\n",
       "   secondary_cleaner.state.floatbank4_a_air  \\\n",
       "0                                 14.016835   \n",
       "1                                 13.992281   \n",
       "2                                 14.015015   \n",
       "3                                 14.036510   \n",
       "4                                 14.027298   \n",
       "5                                 13.938497   \n",
       "6                                 14.046819   \n",
       "7                                 13.974691   \n",
       "8                                 13.964030   \n",
       "9                                 13.989632   \n",
       "\n",
       "   secondary_cleaner.state.floatbank4_a_level  \\\n",
       "0                                 -502.488007   \n",
       "1                                 -505.503262   \n",
       "2                                 -502.520901   \n",
       "3                                 -500.857308   \n",
       "4                                 -499.838632   \n",
       "5                                 -500.970168   \n",
       "6                                 -500.971133   \n",
       "7                                 -501.819696   \n",
       "8                                 -504.252450   \n",
       "9                                 -503.195299   \n",
       "\n",
       "   secondary_cleaner.state.floatbank4_b_air  \\\n",
       "0                                 12.099931   \n",
       "1                                 11.950531   \n",
       "2                                 11.912783   \n",
       "3                                 11.999550   \n",
       "4                                 11.953070   \n",
       "5                                 11.883350   \n",
       "6                                 12.091543   \n",
       "7                                 12.101324   \n",
       "8                                 12.060738   \n",
       "9                                 12.052233   \n",
       "\n",
       "   secondary_cleaner.state.floatbank4_b_level  \\\n",
       "0                                 -504.715942   \n",
       "1                                 -501.331529   \n",
       "2                                 -501.133383   \n",
       "3                                 -501.193686   \n",
       "4                                 -501.053894   \n",
       "5                                 -500.395298   \n",
       "6                                 -500.501426   \n",
       "7                                 -500.583446   \n",
       "8                                 -501.174549   \n",
       "9                                 -500.928547   \n",
       "\n",
       "   secondary_cleaner.state.floatbank5_a_air  \\\n",
       "0                                  9.925633   \n",
       "1                                 10.039245   \n",
       "2                                 10.070913   \n",
       "3                                  9.970366   \n",
       "4                                  9.925709   \n",
       "5                                 10.054147   \n",
       "6                                 10.003247   \n",
       "7                                  9.873169   \n",
       "8                                 10.033838   \n",
       "9                                  9.962574   \n",
       "\n",
       "   secondary_cleaner.state.floatbank5_a_level  \\\n",
       "0                                 -498.310211   \n",
       "1                                 -500.169983   \n",
       "2                                 -500.129135   \n",
       "3                                 -499.201640   \n",
       "4                                 -501.686727   \n",
       "5                                 -496.374715   \n",
       "6                                 -497.083180   \n",
       "7                                 -499.171928   \n",
       "8                                 -501.178133   \n",
       "9                                 -502.986357   \n",
       "\n",
       "   secondary_cleaner.state.floatbank5_b_air  \\\n",
       "0                                  8.079666   \n",
       "1                                  7.984757   \n",
       "2                                  8.013877   \n",
       "3                                  7.977324   \n",
       "4                                  7.894242   \n",
       "5                                  7.965083   \n",
       "6                                  8.010890   \n",
       "7                                  7.993381   \n",
       "8                                  7.881604   \n",
       "9                                  7.979219   \n",
       "\n",
       "   secondary_cleaner.state.floatbank5_b_level  \\\n",
       "0                                 -500.470978   \n",
       "1                                 -500.582168   \n",
       "2                                 -500.517572   \n",
       "3                                 -500.255908   \n",
       "4                                 -500.356035   \n",
       "5                                 -499.364752   \n",
       "6                                 -500.002423   \n",
       "7                                 -499.794518   \n",
       "8                                 -499.729434   \n",
       "9                                 -500.146835   \n",
       "\n",
       "   secondary_cleaner.state.floatbank6_a_air  \\\n",
       "0                                 14.151341   \n",
       "1                                 13.998353   \n",
       "2                                 14.028663   \n",
       "3                                 14.005551   \n",
       "4                                 13.996647   \n",
       "5                                 14.017067   \n",
       "6                                 14.029649   \n",
       "7                                 13.984498   \n",
       "8                                 13.967135   \n",
       "9                                 13.981614   \n",
       "\n",
       "   secondary_cleaner.state.floatbank6_a_level  \n",
       "0                                 -605.841980  \n",
       "1                                 -599.787184  \n",
       "2                                 -601.427363  \n",
       "3                                 -599.996129  \n",
       "4                                 -601.496691  \n",
       "5                                 -599.707915  \n",
       "6                                 -600.905470  \n",
       "7                                 -600.411070  \n",
       "8                                 -599.061188  \n",
       "9                                 -598.070855  \n",
       "\n",
       "[10 rows x 87 columns]"
      ]
     },
     "execution_count": 5,
     "metadata": {},
     "output_type": "execute_result"
    }
   ],
   "source": [
    "data_full.head(10)"
   ]
  },
  {
   "cell_type": "code",
   "execution_count": 6,
   "id": "894bee11",
   "metadata": {},
   "outputs": [
    {
     "name": "stdout",
     "output_type": "stream",
     "text": [
      "<class 'pandas.core.frame.DataFrame'>\n",
      "RangeIndex: 14149 entries, 0 to 14148\n",
      "Data columns (total 87 columns):\n",
      " #   Column                                              Non-Null Count  Dtype  \n",
      "---  ------                                              --------------  -----  \n",
      " 0   date                                                14149 non-null  object \n",
      " 1   final.output.concentrate_ag                         14148 non-null  float64\n",
      " 2   final.output.concentrate_pb                         14148 non-null  float64\n",
      " 3   final.output.concentrate_sol                        13938 non-null  float64\n",
      " 4   final.output.concentrate_au                         14149 non-null  float64\n",
      " 5   final.output.recovery                               14149 non-null  float64\n",
      " 6   final.output.tail_ag                                14149 non-null  float64\n",
      " 7   final.output.tail_pb                                14049 non-null  float64\n",
      " 8   final.output.tail_sol                               14144 non-null  float64\n",
      " 9   final.output.tail_au                                14149 non-null  float64\n",
      " 10  primary_cleaner.input.sulfate                       14129 non-null  float64\n",
      " 11  primary_cleaner.input.depressant                    14117 non-null  float64\n",
      " 12  primary_cleaner.input.feed_size                     14149 non-null  float64\n",
      " 13  primary_cleaner.input.xanthate                      14049 non-null  float64\n",
      " 14  primary_cleaner.output.concentrate_ag               14149 non-null  float64\n",
      " 15  primary_cleaner.output.concentrate_pb               14063 non-null  float64\n",
      " 16  primary_cleaner.output.concentrate_sol              13863 non-null  float64\n",
      " 17  primary_cleaner.output.concentrate_au               14149 non-null  float64\n",
      " 18  primary_cleaner.output.tail_ag                      14148 non-null  float64\n",
      " 19  primary_cleaner.output.tail_pb                      14134 non-null  float64\n",
      " 20  primary_cleaner.output.tail_sol                     14103 non-null  float64\n",
      " 21  primary_cleaner.output.tail_au                      14149 non-null  float64\n",
      " 22  primary_cleaner.state.floatbank8_a_air              14145 non-null  float64\n",
      " 23  primary_cleaner.state.floatbank8_a_level            14148 non-null  float64\n",
      " 24  primary_cleaner.state.floatbank8_b_air              14145 non-null  float64\n",
      " 25  primary_cleaner.state.floatbank8_b_level            14148 non-null  float64\n",
      " 26  primary_cleaner.state.floatbank8_c_air              14147 non-null  float64\n",
      " 27  primary_cleaner.state.floatbank8_c_level            14148 non-null  float64\n",
      " 28  primary_cleaner.state.floatbank8_d_air              14146 non-null  float64\n",
      " 29  primary_cleaner.state.floatbank8_d_level            14148 non-null  float64\n",
      " 30  rougher.calculation.sulfate_to_au_concentrate       14148 non-null  float64\n",
      " 31  rougher.calculation.floatbank10_sulfate_to_au_feed  14148 non-null  float64\n",
      " 32  rougher.calculation.floatbank11_sulfate_to_au_feed  14148 non-null  float64\n",
      " 33  rougher.calculation.au_pb_ratio                     14149 non-null  float64\n",
      " 34  rougher.input.feed_ag                               14149 non-null  float64\n",
      " 35  rougher.input.feed_pb                               14049 non-null  float64\n",
      " 36  rougher.input.feed_rate                             14141 non-null  float64\n",
      " 37  rougher.input.feed_size                             14005 non-null  float64\n",
      " 38  rougher.input.feed_sol                              14071 non-null  float64\n",
      " 39  rougher.input.feed_au                               14149 non-null  float64\n",
      " 40  rougher.input.floatbank10_sulfate                   14120 non-null  float64\n",
      " 41  rougher.input.floatbank10_xanthate                  14141 non-null  float64\n",
      " 42  rougher.input.floatbank11_sulfate                   14113 non-null  float64\n",
      " 43  rougher.input.floatbank11_xanthate                  13721 non-null  float64\n",
      " 44  rougher.output.concentrate_ag                       14149 non-null  float64\n",
      " 45  rougher.output.concentrate_pb                       14149 non-null  float64\n",
      " 46  rougher.output.concentrate_sol                      14127 non-null  float64\n",
      " 47  rougher.output.concentrate_au                       14149 non-null  float64\n",
      " 48  rougher.output.recovery                             14149 non-null  float64\n",
      " 49  rougher.output.tail_ag                              14148 non-null  float64\n",
      " 50  rougher.output.tail_pb                              14149 non-null  float64\n",
      " 51  rougher.output.tail_sol                             14149 non-null  float64\n",
      " 52  rougher.output.tail_au                              14149 non-null  float64\n",
      " 53  rougher.state.floatbank10_a_air                     14148 non-null  float64\n",
      " 54  rougher.state.floatbank10_a_level                   14148 non-null  float64\n",
      " 55  rougher.state.floatbank10_b_air                     14148 non-null  float64\n",
      " 56  rougher.state.floatbank10_b_level                   14148 non-null  float64\n",
      " 57  rougher.state.floatbank10_c_air                     14148 non-null  float64\n",
      " 58  rougher.state.floatbank10_c_level                   14148 non-null  float64\n",
      " 59  rougher.state.floatbank10_d_air                     14149 non-null  float64\n",
      " 60  rougher.state.floatbank10_d_level                   14149 non-null  float64\n",
      " 61  rougher.state.floatbank10_e_air                     13713 non-null  float64\n",
      " 62  rougher.state.floatbank10_e_level                   14149 non-null  float64\n",
      " 63  rougher.state.floatbank10_f_air                     14149 non-null  float64\n",
      " 64  rougher.state.floatbank10_f_level                   14149 non-null  float64\n",
      " 65  secondary_cleaner.output.tail_ag                    14147 non-null  float64\n",
      " 66  secondary_cleaner.output.tail_pb                    14139 non-null  float64\n",
      " 67  secondary_cleaner.output.tail_sol                   12544 non-null  float64\n",
      " 68  secondary_cleaner.output.tail_au                    14149 non-null  float64\n",
      " 69  secondary_cleaner.state.floatbank2_a_air            13932 non-null  float64\n",
      " 70  secondary_cleaner.state.floatbank2_a_level          14148 non-null  float64\n",
      " 71  secondary_cleaner.state.floatbank2_b_air            14128 non-null  float64\n",
      " 72  secondary_cleaner.state.floatbank2_b_level          14148 non-null  float64\n",
      " 73  secondary_cleaner.state.floatbank3_a_air            14145 non-null  float64\n",
      " 74  secondary_cleaner.state.floatbank3_a_level          14148 non-null  float64\n",
      " 75  secondary_cleaner.state.floatbank3_b_air            14148 non-null  float64\n",
      " 76  secondary_cleaner.state.floatbank3_b_level          14148 non-null  float64\n",
      " 77  secondary_cleaner.state.floatbank4_a_air            14143 non-null  float64\n",
      " 78  secondary_cleaner.state.floatbank4_a_level          14148 non-null  float64\n",
      " 79  secondary_cleaner.state.floatbank4_b_air            14148 non-null  float64\n",
      " 80  secondary_cleaner.state.floatbank4_b_level          14148 non-null  float64\n",
      " 81  secondary_cleaner.state.floatbank5_a_air            14148 non-null  float64\n",
      " 82  secondary_cleaner.state.floatbank5_a_level          14148 non-null  float64\n",
      " 83  secondary_cleaner.state.floatbank5_b_air            14148 non-null  float64\n",
      " 84  secondary_cleaner.state.floatbank5_b_level          14148 non-null  float64\n",
      " 85  secondary_cleaner.state.floatbank6_a_air            14147 non-null  float64\n",
      " 86  secondary_cleaner.state.floatbank6_a_level          14148 non-null  float64\n",
      "dtypes: float64(86), object(1)\n",
      "memory usage: 9.4+ MB\n"
     ]
    }
   ],
   "source": [
    "data_train.info()"
   ]
  },
  {
   "cell_type": "code",
   "execution_count": 7,
   "id": "32ef56d3",
   "metadata": {},
   "outputs": [
    {
     "name": "stdout",
     "output_type": "stream",
     "text": [
      "<class 'pandas.core.frame.DataFrame'>\n",
      "RangeIndex: 5290 entries, 0 to 5289\n",
      "Data columns (total 53 columns):\n",
      " #   Column                                      Non-Null Count  Dtype  \n",
      "---  ------                                      --------------  -----  \n",
      " 0   date                                        5290 non-null   object \n",
      " 1   primary_cleaner.input.sulfate               5286 non-null   float64\n",
      " 2   primary_cleaner.input.depressant            5285 non-null   float64\n",
      " 3   primary_cleaner.input.feed_size             5290 non-null   float64\n",
      " 4   primary_cleaner.input.xanthate              5286 non-null   float64\n",
      " 5   primary_cleaner.state.floatbank8_a_air      5290 non-null   float64\n",
      " 6   primary_cleaner.state.floatbank8_a_level    5290 non-null   float64\n",
      " 7   primary_cleaner.state.floatbank8_b_air      5290 non-null   float64\n",
      " 8   primary_cleaner.state.floatbank8_b_level    5290 non-null   float64\n",
      " 9   primary_cleaner.state.floatbank8_c_air      5290 non-null   float64\n",
      " 10  primary_cleaner.state.floatbank8_c_level    5290 non-null   float64\n",
      " 11  primary_cleaner.state.floatbank8_d_air      5290 non-null   float64\n",
      " 12  primary_cleaner.state.floatbank8_d_level    5290 non-null   float64\n",
      " 13  rougher.input.feed_ag                       5290 non-null   float64\n",
      " 14  rougher.input.feed_pb                       5290 non-null   float64\n",
      " 15  rougher.input.feed_rate                     5287 non-null   float64\n",
      " 16  rougher.input.feed_size                     5289 non-null   float64\n",
      " 17  rougher.input.feed_sol                      5269 non-null   float64\n",
      " 18  rougher.input.feed_au                       5290 non-null   float64\n",
      " 19  rougher.input.floatbank10_sulfate           5285 non-null   float64\n",
      " 20  rougher.input.floatbank10_xanthate          5290 non-null   float64\n",
      " 21  rougher.input.floatbank11_sulfate           5282 non-null   float64\n",
      " 22  rougher.input.floatbank11_xanthate          5265 non-null   float64\n",
      " 23  rougher.state.floatbank10_a_air             5290 non-null   float64\n",
      " 24  rougher.state.floatbank10_a_level           5290 non-null   float64\n",
      " 25  rougher.state.floatbank10_b_air             5290 non-null   float64\n",
      " 26  rougher.state.floatbank10_b_level           5290 non-null   float64\n",
      " 27  rougher.state.floatbank10_c_air             5290 non-null   float64\n",
      " 28  rougher.state.floatbank10_c_level           5290 non-null   float64\n",
      " 29  rougher.state.floatbank10_d_air             5290 non-null   float64\n",
      " 30  rougher.state.floatbank10_d_level           5290 non-null   float64\n",
      " 31  rougher.state.floatbank10_e_air             5290 non-null   float64\n",
      " 32  rougher.state.floatbank10_e_level           5290 non-null   float64\n",
      " 33  rougher.state.floatbank10_f_air             5290 non-null   float64\n",
      " 34  rougher.state.floatbank10_f_level           5290 non-null   float64\n",
      " 35  secondary_cleaner.state.floatbank2_a_air    5287 non-null   float64\n",
      " 36  secondary_cleaner.state.floatbank2_a_level  5290 non-null   float64\n",
      " 37  secondary_cleaner.state.floatbank2_b_air    5288 non-null   float64\n",
      " 38  secondary_cleaner.state.floatbank2_b_level  5290 non-null   float64\n",
      " 39  secondary_cleaner.state.floatbank3_a_air    5281 non-null   float64\n",
      " 40  secondary_cleaner.state.floatbank3_a_level  5290 non-null   float64\n",
      " 41  secondary_cleaner.state.floatbank3_b_air    5290 non-null   float64\n",
      " 42  secondary_cleaner.state.floatbank3_b_level  5290 non-null   float64\n",
      " 43  secondary_cleaner.state.floatbank4_a_air    5290 non-null   float64\n",
      " 44  secondary_cleaner.state.floatbank4_a_level  5290 non-null   float64\n",
      " 45  secondary_cleaner.state.floatbank4_b_air    5290 non-null   float64\n",
      " 46  secondary_cleaner.state.floatbank4_b_level  5290 non-null   float64\n",
      " 47  secondary_cleaner.state.floatbank5_a_air    5290 non-null   float64\n",
      " 48  secondary_cleaner.state.floatbank5_a_level  5290 non-null   float64\n",
      " 49  secondary_cleaner.state.floatbank5_b_air    5290 non-null   float64\n",
      " 50  secondary_cleaner.state.floatbank5_b_level  5290 non-null   float64\n",
      " 51  secondary_cleaner.state.floatbank6_a_air    5290 non-null   float64\n",
      " 52  secondary_cleaner.state.floatbank6_a_level  5290 non-null   float64\n",
      "dtypes: float64(52), object(1)\n",
      "memory usage: 2.1+ MB\n"
     ]
    }
   ],
   "source": [
    "data_test.info()"
   ]
  },
  {
   "cell_type": "code",
   "execution_count": 8,
   "id": "b69883fd",
   "metadata": {},
   "outputs": [
    {
     "name": "stdout",
     "output_type": "stream",
     "text": [
      "<class 'pandas.core.frame.DataFrame'>\n",
      "RangeIndex: 19439 entries, 0 to 19438\n",
      "Data columns (total 87 columns):\n",
      " #   Column                                              Non-Null Count  Dtype  \n",
      "---  ------                                              --------------  -----  \n",
      " 0   date                                                19439 non-null  object \n",
      " 1   final.output.concentrate_ag                         19438 non-null  float64\n",
      " 2   final.output.concentrate_pb                         19438 non-null  float64\n",
      " 3   final.output.concentrate_sol                        19228 non-null  float64\n",
      " 4   final.output.concentrate_au                         19439 non-null  float64\n",
      " 5   final.output.recovery                               19439 non-null  float64\n",
      " 6   final.output.tail_ag                                19438 non-null  float64\n",
      " 7   final.output.tail_pb                                19338 non-null  float64\n",
      " 8   final.output.tail_sol                               19433 non-null  float64\n",
      " 9   final.output.tail_au                                19439 non-null  float64\n",
      " 10  primary_cleaner.input.sulfate                       19415 non-null  float64\n",
      " 11  primary_cleaner.input.depressant                    19402 non-null  float64\n",
      " 12  primary_cleaner.input.feed_size                     19439 non-null  float64\n",
      " 13  primary_cleaner.input.xanthate                      19335 non-null  float64\n",
      " 14  primary_cleaner.output.concentrate_ag               19439 non-null  float64\n",
      " 15  primary_cleaner.output.concentrate_pb               19323 non-null  float64\n",
      " 16  primary_cleaner.output.concentrate_sol              19069 non-null  float64\n",
      " 17  primary_cleaner.output.concentrate_au               19439 non-null  float64\n",
      " 18  primary_cleaner.output.tail_ag                      19435 non-null  float64\n",
      " 19  primary_cleaner.output.tail_pb                      19418 non-null  float64\n",
      " 20  primary_cleaner.output.tail_sol                     19377 non-null  float64\n",
      " 21  primary_cleaner.output.tail_au                      19439 non-null  float64\n",
      " 22  primary_cleaner.state.floatbank8_a_air              19435 non-null  float64\n",
      " 23  primary_cleaner.state.floatbank8_a_level            19438 non-null  float64\n",
      " 24  primary_cleaner.state.floatbank8_b_air              19435 non-null  float64\n",
      " 25  primary_cleaner.state.floatbank8_b_level            19438 non-null  float64\n",
      " 26  primary_cleaner.state.floatbank8_c_air              19437 non-null  float64\n",
      " 27  primary_cleaner.state.floatbank8_c_level            19438 non-null  float64\n",
      " 28  primary_cleaner.state.floatbank8_d_air              19436 non-null  float64\n",
      " 29  primary_cleaner.state.floatbank8_d_level            19438 non-null  float64\n",
      " 30  rougher.calculation.sulfate_to_au_concentrate       19437 non-null  float64\n",
      " 31  rougher.calculation.floatbank10_sulfate_to_au_feed  19437 non-null  float64\n",
      " 32  rougher.calculation.floatbank11_sulfate_to_au_feed  19437 non-null  float64\n",
      " 33  rougher.calculation.au_pb_ratio                     19439 non-null  float64\n",
      " 34  rougher.input.feed_ag                               19439 non-null  float64\n",
      " 35  rougher.input.feed_pb                               19339 non-null  float64\n",
      " 36  rougher.input.feed_rate                             19428 non-null  float64\n",
      " 37  rougher.input.feed_size                             19294 non-null  float64\n",
      " 38  rougher.input.feed_sol                              19340 non-null  float64\n",
      " 39  rougher.input.feed_au                               19439 non-null  float64\n",
      " 40  rougher.input.floatbank10_sulfate                   19405 non-null  float64\n",
      " 41  rougher.input.floatbank10_xanthate                  19431 non-null  float64\n",
      " 42  rougher.input.floatbank11_sulfate                   19395 non-null  float64\n",
      " 43  rougher.input.floatbank11_xanthate                  18986 non-null  float64\n",
      " 44  rougher.output.concentrate_ag                       19439 non-null  float64\n",
      " 45  rougher.output.concentrate_pb                       19439 non-null  float64\n",
      " 46  rougher.output.concentrate_sol                      19416 non-null  float64\n",
      " 47  rougher.output.concentrate_au                       19439 non-null  float64\n",
      " 48  rougher.output.recovery                             19439 non-null  float64\n",
      " 49  rougher.output.tail_ag                              19438 non-null  float64\n",
      " 50  rougher.output.tail_pb                              19439 non-null  float64\n",
      " 51  rougher.output.tail_sol                             19439 non-null  float64\n",
      " 52  rougher.output.tail_au                              19439 non-null  float64\n",
      " 53  rougher.state.floatbank10_a_air                     19438 non-null  float64\n",
      " 54  rougher.state.floatbank10_a_level                   19438 non-null  float64\n",
      " 55  rougher.state.floatbank10_b_air                     19438 non-null  float64\n",
      " 56  rougher.state.floatbank10_b_level                   19438 non-null  float64\n",
      " 57  rougher.state.floatbank10_c_air                     19438 non-null  float64\n",
      " 58  rougher.state.floatbank10_c_level                   19438 non-null  float64\n",
      " 59  rougher.state.floatbank10_d_air                     19439 non-null  float64\n",
      " 60  rougher.state.floatbank10_d_level                   19439 non-null  float64\n",
      " 61  rougher.state.floatbank10_e_air                     19003 non-null  float64\n",
      " 62  rougher.state.floatbank10_e_level                   19439 non-null  float64\n",
      " 63  rougher.state.floatbank10_f_air                     19439 non-null  float64\n",
      " 64  rougher.state.floatbank10_f_level                   19439 non-null  float64\n",
      " 65  secondary_cleaner.output.tail_ag                    19437 non-null  float64\n",
      " 66  secondary_cleaner.output.tail_pb                    19427 non-null  float64\n",
      " 67  secondary_cleaner.output.tail_sol                   17691 non-null  float64\n",
      " 68  secondary_cleaner.output.tail_au                    19439 non-null  float64\n",
      " 69  secondary_cleaner.state.floatbank2_a_air            19219 non-null  float64\n",
      " 70  secondary_cleaner.state.floatbank2_a_level          19438 non-null  float64\n",
      " 71  secondary_cleaner.state.floatbank2_b_air            19416 non-null  float64\n",
      " 72  secondary_cleaner.state.floatbank2_b_level          19438 non-null  float64\n",
      " 73  secondary_cleaner.state.floatbank3_a_air            19426 non-null  float64\n",
      " 74  secondary_cleaner.state.floatbank3_a_level          19438 non-null  float64\n",
      " 75  secondary_cleaner.state.floatbank3_b_air            19438 non-null  float64\n",
      " 76  secondary_cleaner.state.floatbank3_b_level          19438 non-null  float64\n",
      " 77  secondary_cleaner.state.floatbank4_a_air            19433 non-null  float64\n",
      " 78  secondary_cleaner.state.floatbank4_a_level          19438 non-null  float64\n",
      " 79  secondary_cleaner.state.floatbank4_b_air            19438 non-null  float64\n",
      " 80  secondary_cleaner.state.floatbank4_b_level          19438 non-null  float64\n",
      " 81  secondary_cleaner.state.floatbank5_a_air            19438 non-null  float64\n",
      " 82  secondary_cleaner.state.floatbank5_a_level          19438 non-null  float64\n",
      " 83  secondary_cleaner.state.floatbank5_b_air            19438 non-null  float64\n",
      " 84  secondary_cleaner.state.floatbank5_b_level          19438 non-null  float64\n",
      " 85  secondary_cleaner.state.floatbank6_a_air            19437 non-null  float64\n",
      " 86  secondary_cleaner.state.floatbank6_a_level          19438 non-null  float64\n",
      "dtypes: float64(86), object(1)\n",
      "memory usage: 12.9+ MB\n"
     ]
    }
   ],
   "source": [
    "data_full.info()"
   ]
  },
  {
   "cell_type": "markdown",
   "id": "a24e8693",
   "metadata": {},
   "source": [
    "### 1.2. Проверить, что эффективность обогащения рассчитана правильно. Вычислите её на обучающей выборке для признака rougher.output.recovery. Найдите MAE между вашими расчётами и значением признака. Опишите выводы.\n"
   ]
  },
  {
   "cell_type": "code",
   "execution_count": 9,
   "id": "13ed1f67",
   "metadata": {},
   "outputs": [
    {
     "data": {
      "text/plain": [
       "(14149,)"
      ]
     },
     "execution_count": 9,
     "metadata": {},
     "output_type": "execute_result"
    }
   ],
   "source": [
    "data_train_veri = data_train.drop(['date'], axis=1)\n",
    "data_train_veri = data_train_veri.dropna(axis=1)\n",
    "\n",
    "\n",
    "# Убирем из ДС столбец date, так как он имеет не подходящий формат для обучения\n",
    "# Убирем из ДС пропуски, так как они мешают обучению\n",
    "\n",
    "target_train_veri = data_train_veri['rougher.output.recovery']\n",
    "features_train_veri = data_train_veri.drop(['rougher.output.recovery'], axis=1)\n",
    "\n",
    "model = RandomForestRegressor(n_estimators=100, \n",
    "    max_depth=25, random_state=12345)\n",
    "model.fit(features_train_veri, target_train_veri)\n",
    "predicted_train_veri = model.predict(features_train_veri)\n",
    "predicted_train_veri.shape"
   ]
  },
  {
   "cell_type": "code",
   "execution_count": 10,
   "id": "24213d91",
   "metadata": {},
   "outputs": [
    {
     "data": {
      "text/plain": [
       "(14149,)"
      ]
     },
     "execution_count": 10,
     "metadata": {},
     "output_type": "execute_result"
    }
   ],
   "source": [
    "target_full_veri = data_train['rougher.output.recovery']\n",
    "target_full_veri.shape"
   ]
  },
  {
   "cell_type": "code",
   "execution_count": 11,
   "id": "1bb2b6e7",
   "metadata": {},
   "outputs": [
    {
     "name": "stdout",
     "output_type": "stream",
     "text": [
      "0.16212623991860894\n"
     ]
    }
   ],
   "source": [
    "\n",
    "mae = mean_absolute_error(target_full_veri, predicted_train_veri)\n",
    "print(mae) #необходимо сравнивать две одинаковые по размеру выборки -4.0"
   ]
  },
  {
   "cell_type": "code",
   "execution_count": 12,
   "id": "51431020",
   "metadata": {},
   "outputs": [
    {
     "data": {
      "text/plain": [
       "82.70450164550293"
      ]
     },
     "execution_count": 12,
     "metadata": {},
     "output_type": "execute_result"
    }
   ],
   "source": [
    "target_full_veri.mean()"
   ]
  },
  {
   "cell_type": "code",
   "execution_count": 13,
   "id": "4c3cfa04",
   "metadata": {},
   "outputs": [
    {
     "name": "stdout",
     "output_type": "stream",
     "text": [
      "0.19603073193468012\n"
     ]
    }
   ],
   "source": [
    "result = mae / (target_full_veri.mean() / 100)\n",
    "print(result)"
   ]
  },
  {
   "cell_type": "markdown",
   "id": "353075f9",
   "metadata": {},
   "source": [
    "В среднем мы ошибаемся на 0,16 условные еденицы в эффективности обогощения чернового концентрата. От среднего значения это составляет 0,19%.\n",
    "На мой взгляд погрешность не существенная, можем считать что эффективность обогащения рассчитана верно."
   ]
  },
  {
   "cell_type": "markdown",
   "id": "9b5b2feb",
   "metadata": {},
   "source": [
    "### 1.3. Проанализируйте признаки, недоступные в тестовой выборке. Что это за параметры? К какому типу относятся?"
   ]
  },
  {
   "cell_type": "code",
   "execution_count": 14,
   "id": "0de0e582",
   "metadata": {},
   "outputs": [
    {
     "name": "stdout",
     "output_type": "stream",
     "text": [
      "Index(['final.output.concentrate_ag', 'final.output.concentrate_au',\n",
      "       'final.output.concentrate_pb', 'final.output.concentrate_sol',\n",
      "       'final.output.recovery', 'final.output.tail_ag', 'final.output.tail_au',\n",
      "       'final.output.tail_pb', 'final.output.tail_sol',\n",
      "       'primary_cleaner.output.concentrate_ag',\n",
      "       'primary_cleaner.output.concentrate_au',\n",
      "       'primary_cleaner.output.concentrate_pb',\n",
      "       'primary_cleaner.output.concentrate_sol',\n",
      "       'primary_cleaner.output.tail_ag', 'primary_cleaner.output.tail_au',\n",
      "       'primary_cleaner.output.tail_pb', 'primary_cleaner.output.tail_sol',\n",
      "       'rougher.calculation.au_pb_ratio',\n",
      "       'rougher.calculation.floatbank10_sulfate_to_au_feed',\n",
      "       'rougher.calculation.floatbank11_sulfate_to_au_feed',\n",
      "       'rougher.calculation.sulfate_to_au_concentrate',\n",
      "       'rougher.output.concentrate_ag', 'rougher.output.concentrate_au',\n",
      "       'rougher.output.concentrate_pb', 'rougher.output.concentrate_sol',\n",
      "       'rougher.output.recovery', 'rougher.output.tail_ag',\n",
      "       'rougher.output.tail_au', 'rougher.output.tail_pb',\n",
      "       'rougher.output.tail_sol', 'secondary_cleaner.output.tail_ag',\n",
      "       'secondary_cleaner.output.tail_au', 'secondary_cleaner.output.tail_pb',\n",
      "       'secondary_cleaner.output.tail_sol'],\n",
      "      dtype='object')\n"
     ]
    }
   ],
   "source": [
    "full_cols = data_full.columns\n",
    "test_cols = data_test.columns\n",
    "full_not_test = full_cols.difference(test_cols)\n",
    "print(full_not_test)\n",
    "                                                                      \n",
    "                                                                      \n",
    "                                                                      "
   ]
  },
  {
   "cell_type": "markdown",
   "id": "0fa8c0c0",
   "metadata": {},
   "source": [
    "По типу данных все данные - float\n",
    "\n",
    "По содержанию:\n",
    "4 финальных характеристик параметра продукта в части концентрации золота, серебра, свинца, коллоидного раствора\n",
    "\n",
    "финальнная характеристик параметра продукта в части восстановления\n",
    "\n",
    "4 финальных характеристик параметра продукта в части отвальных хвостов золота, серебра, свинца, коллоидного раствора\n",
    "\n",
    "4 характеристики продукта после первичной очистки в части концентрации золота, серебра, свинца, коллоидного раствора\n",
    "\n",
    "4 характеристики продукта после первичной очистки в части отвальных хвостов золота, серебра, свинца, коллоидного раствора\n",
    "\n",
    "Рассчетная характеристика соотношения золота и свинца на этапе флотации\n",
    "\n",
    "2 Рассчетные характеристики флотационной установки 10 и 11 в части преобразования сульфатов в золото на этапе флотации\n",
    "\n",
    "Рассчетная характеристика золото-сульфатного концентрата\n",
    "\n",
    "4 Рассчетные характеристики концентрации золота, серебра, свинца, коллоидного раствора на этапе флотации\n",
    "\n",
    "Рассчетная характеристика восстановления на этапе флотации\n",
    "\n",
    "4 Рассчетные характеристики в части отвальных хвостов золота, серебра, свинца, коллоидного раствора на этапе флотации\n",
    "\n",
    "4 параметра продукта на этапе вторичной очистки в части отвальных хвостов золота, серебра, свинца, коллоидного раствора\n",
    "\n",
    "\n"
   ]
  },
  {
   "cell_type": "markdown",
   "id": "4e168087",
   "metadata": {},
   "source": [
    "### 1.4. Проведите предобработку данных."
   ]
  },
  {
   "cell_type": "code",
   "execution_count": 15,
   "id": "de5de8a5",
   "metadata": {},
   "outputs": [
    {
     "data": {
      "text/plain": [
       "0"
      ]
     },
     "execution_count": 15,
     "metadata": {},
     "output_type": "execute_result"
    }
   ],
   "source": [
    "data_full.duplicated().sum()"
   ]
  },
  {
   "cell_type": "code",
   "execution_count": 16,
   "id": "28ef0235",
   "metadata": {},
   "outputs": [
    {
     "data": {
      "text/plain": [
       "0"
      ]
     },
     "execution_count": 16,
     "metadata": {},
     "output_type": "execute_result"
    }
   ],
   "source": [
    "data_test.duplicated().sum()"
   ]
  },
  {
   "cell_type": "code",
   "execution_count": 17,
   "id": "1fa17090",
   "metadata": {},
   "outputs": [
    {
     "data": {
      "text/plain": [
       "0"
      ]
     },
     "execution_count": 17,
     "metadata": {},
     "output_type": "execute_result"
    }
   ],
   "source": [
    "data_train.duplicated().sum()"
   ]
  },
  {
   "cell_type": "markdown",
   "id": "17b85ca4",
   "metadata": {},
   "source": [
    "Дублирование данных отсутствует"
   ]
  },
  {
   "cell_type": "code",
   "execution_count": 18,
   "id": "da7b96ce",
   "metadata": {},
   "outputs": [
    {
     "data": {
      "text/plain": [
       "date                                                     0\n",
       "final.output.concentrate_ag                              1\n",
       "final.output.concentrate_pb                              1\n",
       "final.output.concentrate_sol                           211\n",
       "final.output.concentrate_au                              0\n",
       "final.output.recovery                                    0\n",
       "final.output.tail_ag                                     1\n",
       "final.output.tail_pb                                   101\n",
       "final.output.tail_sol                                    6\n",
       "final.output.tail_au                                     0\n",
       "primary_cleaner.input.sulfate                           24\n",
       "primary_cleaner.input.depressant                        37\n",
       "primary_cleaner.input.feed_size                          0\n",
       "primary_cleaner.input.xanthate                         104\n",
       "primary_cleaner.output.concentrate_ag                    0\n",
       "primary_cleaner.output.concentrate_pb                  116\n",
       "primary_cleaner.output.concentrate_sol                 370\n",
       "primary_cleaner.output.concentrate_au                    0\n",
       "primary_cleaner.output.tail_ag                           4\n",
       "primary_cleaner.output.tail_pb                          21\n",
       "primary_cleaner.output.tail_sol                         62\n",
       "primary_cleaner.output.tail_au                           0\n",
       "primary_cleaner.state.floatbank8_a_air                   4\n",
       "primary_cleaner.state.floatbank8_a_level                 1\n",
       "primary_cleaner.state.floatbank8_b_air                   4\n",
       "primary_cleaner.state.floatbank8_b_level                 1\n",
       "primary_cleaner.state.floatbank8_c_air                   2\n",
       "primary_cleaner.state.floatbank8_c_level                 1\n",
       "primary_cleaner.state.floatbank8_d_air                   3\n",
       "primary_cleaner.state.floatbank8_d_level                 1\n",
       "rougher.calculation.sulfate_to_au_concentrate            2\n",
       "rougher.calculation.floatbank10_sulfate_to_au_feed       2\n",
       "rougher.calculation.floatbank11_sulfate_to_au_feed       2\n",
       "rougher.calculation.au_pb_ratio                          0\n",
       "rougher.input.feed_ag                                    0\n",
       "rougher.input.feed_pb                                  100\n",
       "rougher.input.feed_rate                                 11\n",
       "rougher.input.feed_size                                145\n",
       "rougher.input.feed_sol                                  99\n",
       "rougher.input.feed_au                                    0\n",
       "rougher.input.floatbank10_sulfate                       34\n",
       "rougher.input.floatbank10_xanthate                       8\n",
       "rougher.input.floatbank11_sulfate                       44\n",
       "rougher.input.floatbank11_xanthate                     453\n",
       "rougher.output.concentrate_ag                            0\n",
       "rougher.output.concentrate_pb                            0\n",
       "rougher.output.concentrate_sol                          23\n",
       "rougher.output.concentrate_au                            0\n",
       "rougher.output.recovery                                  0\n",
       "rougher.output.tail_ag                                   1\n",
       "rougher.output.tail_pb                                   0\n",
       "rougher.output.tail_sol                                  0\n",
       "rougher.output.tail_au                                   0\n",
       "rougher.state.floatbank10_a_air                          1\n",
       "rougher.state.floatbank10_a_level                        1\n",
       "rougher.state.floatbank10_b_air                          1\n",
       "rougher.state.floatbank10_b_level                        1\n",
       "rougher.state.floatbank10_c_air                          1\n",
       "rougher.state.floatbank10_c_level                        1\n",
       "rougher.state.floatbank10_d_air                          0\n",
       "rougher.state.floatbank10_d_level                        0\n",
       "rougher.state.floatbank10_e_air                        436\n",
       "rougher.state.floatbank10_e_level                        0\n",
       "rougher.state.floatbank10_f_air                          0\n",
       "rougher.state.floatbank10_f_level                        0\n",
       "secondary_cleaner.output.tail_ag                         2\n",
       "secondary_cleaner.output.tail_pb                        12\n",
       "secondary_cleaner.output.tail_sol                     1748\n",
       "secondary_cleaner.output.tail_au                         0\n",
       "secondary_cleaner.state.floatbank2_a_air               220\n",
       "secondary_cleaner.state.floatbank2_a_level               1\n",
       "secondary_cleaner.state.floatbank2_b_air                23\n",
       "secondary_cleaner.state.floatbank2_b_level               1\n",
       "secondary_cleaner.state.floatbank3_a_air                13\n",
       "secondary_cleaner.state.floatbank3_a_level               1\n",
       "secondary_cleaner.state.floatbank3_b_air                 1\n",
       "secondary_cleaner.state.floatbank3_b_level               1\n",
       "secondary_cleaner.state.floatbank4_a_air                 6\n",
       "secondary_cleaner.state.floatbank4_a_level               1\n",
       "secondary_cleaner.state.floatbank4_b_air                 1\n",
       "secondary_cleaner.state.floatbank4_b_level               1\n",
       "secondary_cleaner.state.floatbank5_a_air                 1\n",
       "secondary_cleaner.state.floatbank5_a_level               1\n",
       "secondary_cleaner.state.floatbank5_b_air                 1\n",
       "secondary_cleaner.state.floatbank5_b_level               1\n",
       "secondary_cleaner.state.floatbank6_a_air                 2\n",
       "secondary_cleaner.state.floatbank6_a_level               1\n",
       "dtype: int64"
      ]
     },
     "execution_count": 18,
     "metadata": {},
     "output_type": "execute_result"
    }
   ],
   "source": [
    "pd.set_option('display.max_rows',None)\n",
    "data_full.isna().sum()\n"
   ]
  },
  {
   "cell_type": "markdown",
   "id": "85080d45",
   "metadata": {},
   "source": [
    "Будем считать что предел допустимой погрешности в части кол-ва пропусков - 3% от массива данных. В данном случает только столбец\n",
    "secondary_cleaner.output.tail_sol выходит за пределы допустимой погрешности. Заменим пропуски на медианное значение по столбцу"
   ]
  },
  {
   "cell_type": "code",
   "execution_count": 19,
   "id": "74ab38bb",
   "metadata": {},
   "outputs": [],
   "source": [
    "data_full['secondary_cleaner.output.tail_sol'] = data_full['secondary_cleaner.output.tail_sol'].interpolate(method='nearest')\n",
    "data_full = data_full.dropna()"
   ]
  },
  {
   "cell_type": "code",
   "execution_count": 20,
   "id": "9e447903",
   "metadata": {},
   "outputs": [
    {
     "name": "stdout",
     "output_type": "stream",
     "text": [
      "<class 'pandas.core.frame.DataFrame'>\n",
      "Int64Index: 17390 entries, 0 to 19438\n",
      "Data columns (total 87 columns):\n",
      " #   Column                                              Non-Null Count  Dtype  \n",
      "---  ------                                              --------------  -----  \n",
      " 0   date                                                17390 non-null  object \n",
      " 1   final.output.concentrate_ag                         17390 non-null  float64\n",
      " 2   final.output.concentrate_pb                         17390 non-null  float64\n",
      " 3   final.output.concentrate_sol                        17390 non-null  float64\n",
      " 4   final.output.concentrate_au                         17390 non-null  float64\n",
      " 5   final.output.recovery                               17390 non-null  float64\n",
      " 6   final.output.tail_ag                                17390 non-null  float64\n",
      " 7   final.output.tail_pb                                17390 non-null  float64\n",
      " 8   final.output.tail_sol                               17390 non-null  float64\n",
      " 9   final.output.tail_au                                17390 non-null  float64\n",
      " 10  primary_cleaner.input.sulfate                       17390 non-null  float64\n",
      " 11  primary_cleaner.input.depressant                    17390 non-null  float64\n",
      " 12  primary_cleaner.input.feed_size                     17390 non-null  float64\n",
      " 13  primary_cleaner.input.xanthate                      17390 non-null  float64\n",
      " 14  primary_cleaner.output.concentrate_ag               17390 non-null  float64\n",
      " 15  primary_cleaner.output.concentrate_pb               17390 non-null  float64\n",
      " 16  primary_cleaner.output.concentrate_sol              17390 non-null  float64\n",
      " 17  primary_cleaner.output.concentrate_au               17390 non-null  float64\n",
      " 18  primary_cleaner.output.tail_ag                      17390 non-null  float64\n",
      " 19  primary_cleaner.output.tail_pb                      17390 non-null  float64\n",
      " 20  primary_cleaner.output.tail_sol                     17390 non-null  float64\n",
      " 21  primary_cleaner.output.tail_au                      17390 non-null  float64\n",
      " 22  primary_cleaner.state.floatbank8_a_air              17390 non-null  float64\n",
      " 23  primary_cleaner.state.floatbank8_a_level            17390 non-null  float64\n",
      " 24  primary_cleaner.state.floatbank8_b_air              17390 non-null  float64\n",
      " 25  primary_cleaner.state.floatbank8_b_level            17390 non-null  float64\n",
      " 26  primary_cleaner.state.floatbank8_c_air              17390 non-null  float64\n",
      " 27  primary_cleaner.state.floatbank8_c_level            17390 non-null  float64\n",
      " 28  primary_cleaner.state.floatbank8_d_air              17390 non-null  float64\n",
      " 29  primary_cleaner.state.floatbank8_d_level            17390 non-null  float64\n",
      " 30  rougher.calculation.sulfate_to_au_concentrate       17390 non-null  float64\n",
      " 31  rougher.calculation.floatbank10_sulfate_to_au_feed  17390 non-null  float64\n",
      " 32  rougher.calculation.floatbank11_sulfate_to_au_feed  17390 non-null  float64\n",
      " 33  rougher.calculation.au_pb_ratio                     17390 non-null  float64\n",
      " 34  rougher.input.feed_ag                               17390 non-null  float64\n",
      " 35  rougher.input.feed_pb                               17390 non-null  float64\n",
      " 36  rougher.input.feed_rate                             17390 non-null  float64\n",
      " 37  rougher.input.feed_size                             17390 non-null  float64\n",
      " 38  rougher.input.feed_sol                              17390 non-null  float64\n",
      " 39  rougher.input.feed_au                               17390 non-null  float64\n",
      " 40  rougher.input.floatbank10_sulfate                   17390 non-null  float64\n",
      " 41  rougher.input.floatbank10_xanthate                  17390 non-null  float64\n",
      " 42  rougher.input.floatbank11_sulfate                   17390 non-null  float64\n",
      " 43  rougher.input.floatbank11_xanthate                  17390 non-null  float64\n",
      " 44  rougher.output.concentrate_ag                       17390 non-null  float64\n",
      " 45  rougher.output.concentrate_pb                       17390 non-null  float64\n",
      " 46  rougher.output.concentrate_sol                      17390 non-null  float64\n",
      " 47  rougher.output.concentrate_au                       17390 non-null  float64\n",
      " 48  rougher.output.recovery                             17390 non-null  float64\n",
      " 49  rougher.output.tail_ag                              17390 non-null  float64\n",
      " 50  rougher.output.tail_pb                              17390 non-null  float64\n",
      " 51  rougher.output.tail_sol                             17390 non-null  float64\n",
      " 52  rougher.output.tail_au                              17390 non-null  float64\n",
      " 53  rougher.state.floatbank10_a_air                     17390 non-null  float64\n",
      " 54  rougher.state.floatbank10_a_level                   17390 non-null  float64\n",
      " 55  rougher.state.floatbank10_b_air                     17390 non-null  float64\n",
      " 56  rougher.state.floatbank10_b_level                   17390 non-null  float64\n",
      " 57  rougher.state.floatbank10_c_air                     17390 non-null  float64\n",
      " 58  rougher.state.floatbank10_c_level                   17390 non-null  float64\n",
      " 59  rougher.state.floatbank10_d_air                     17390 non-null  float64\n",
      " 60  rougher.state.floatbank10_d_level                   17390 non-null  float64\n",
      " 61  rougher.state.floatbank10_e_air                     17390 non-null  float64\n",
      " 62  rougher.state.floatbank10_e_level                   17390 non-null  float64\n",
      " 63  rougher.state.floatbank10_f_air                     17390 non-null  float64\n",
      " 64  rougher.state.floatbank10_f_level                   17390 non-null  float64\n",
      " 65  secondary_cleaner.output.tail_ag                    17390 non-null  float64\n",
      " 66  secondary_cleaner.output.tail_pb                    17390 non-null  float64\n",
      " 67  secondary_cleaner.output.tail_sol                   17390 non-null  float64\n",
      " 68  secondary_cleaner.output.tail_au                    17390 non-null  float64\n",
      " 69  secondary_cleaner.state.floatbank2_a_air            17390 non-null  float64\n",
      " 70  secondary_cleaner.state.floatbank2_a_level          17390 non-null  float64\n",
      " 71  secondary_cleaner.state.floatbank2_b_air            17390 non-null  float64\n",
      " 72  secondary_cleaner.state.floatbank2_b_level          17390 non-null  float64\n",
      " 73  secondary_cleaner.state.floatbank3_a_air            17390 non-null  float64\n",
      " 74  secondary_cleaner.state.floatbank3_a_level          17390 non-null  float64\n",
      " 75  secondary_cleaner.state.floatbank3_b_air            17390 non-null  float64\n",
      " 76  secondary_cleaner.state.floatbank3_b_level          17390 non-null  float64\n",
      " 77  secondary_cleaner.state.floatbank4_a_air            17390 non-null  float64\n",
      " 78  secondary_cleaner.state.floatbank4_a_level          17390 non-null  float64\n",
      " 79  secondary_cleaner.state.floatbank4_b_air            17390 non-null  float64\n",
      " 80  secondary_cleaner.state.floatbank4_b_level          17390 non-null  float64\n",
      " 81  secondary_cleaner.state.floatbank5_a_air            17390 non-null  float64\n",
      " 82  secondary_cleaner.state.floatbank5_a_level          17390 non-null  float64\n",
      " 83  secondary_cleaner.state.floatbank5_b_air            17390 non-null  float64\n",
      " 84  secondary_cleaner.state.floatbank5_b_level          17390 non-null  float64\n",
      " 85  secondary_cleaner.state.floatbank6_a_air            17390 non-null  float64\n",
      " 86  secondary_cleaner.state.floatbank6_a_level          17390 non-null  float64\n",
      "dtypes: float64(86), object(1)\n",
      "memory usage: 11.7+ MB\n"
     ]
    }
   ],
   "source": [
    "data_full.info()"
   ]
  },
  {
   "cell_type": "code",
   "execution_count": 21,
   "id": "84ae0475",
   "metadata": {},
   "outputs": [
    {
     "data": {
      "text/plain": [
       "date                                           0\n",
       "primary_cleaner.input.sulfate                  4\n",
       "primary_cleaner.input.depressant               5\n",
       "primary_cleaner.input.feed_size                0\n",
       "primary_cleaner.input.xanthate                 4\n",
       "primary_cleaner.state.floatbank8_a_air         0\n",
       "primary_cleaner.state.floatbank8_a_level       0\n",
       "primary_cleaner.state.floatbank8_b_air         0\n",
       "primary_cleaner.state.floatbank8_b_level       0\n",
       "primary_cleaner.state.floatbank8_c_air         0\n",
       "primary_cleaner.state.floatbank8_c_level       0\n",
       "primary_cleaner.state.floatbank8_d_air         0\n",
       "primary_cleaner.state.floatbank8_d_level       0\n",
       "rougher.input.feed_ag                          0\n",
       "rougher.input.feed_pb                          0\n",
       "rougher.input.feed_rate                        3\n",
       "rougher.input.feed_size                        1\n",
       "rougher.input.feed_sol                        21\n",
       "rougher.input.feed_au                          0\n",
       "rougher.input.floatbank10_sulfate              5\n",
       "rougher.input.floatbank10_xanthate             0\n",
       "rougher.input.floatbank11_sulfate              8\n",
       "rougher.input.floatbank11_xanthate            25\n",
       "rougher.state.floatbank10_a_air                0\n",
       "rougher.state.floatbank10_a_level              0\n",
       "rougher.state.floatbank10_b_air                0\n",
       "rougher.state.floatbank10_b_level              0\n",
       "rougher.state.floatbank10_c_air                0\n",
       "rougher.state.floatbank10_c_level              0\n",
       "rougher.state.floatbank10_d_air                0\n",
       "rougher.state.floatbank10_d_level              0\n",
       "rougher.state.floatbank10_e_air                0\n",
       "rougher.state.floatbank10_e_level              0\n",
       "rougher.state.floatbank10_f_air                0\n",
       "rougher.state.floatbank10_f_level              0\n",
       "secondary_cleaner.state.floatbank2_a_air       3\n",
       "secondary_cleaner.state.floatbank2_a_level     0\n",
       "secondary_cleaner.state.floatbank2_b_air       2\n",
       "secondary_cleaner.state.floatbank2_b_level     0\n",
       "secondary_cleaner.state.floatbank3_a_air       9\n",
       "secondary_cleaner.state.floatbank3_a_level     0\n",
       "secondary_cleaner.state.floatbank3_b_air       0\n",
       "secondary_cleaner.state.floatbank3_b_level     0\n",
       "secondary_cleaner.state.floatbank4_a_air       0\n",
       "secondary_cleaner.state.floatbank4_a_level     0\n",
       "secondary_cleaner.state.floatbank4_b_air       0\n",
       "secondary_cleaner.state.floatbank4_b_level     0\n",
       "secondary_cleaner.state.floatbank5_a_air       0\n",
       "secondary_cleaner.state.floatbank5_a_level     0\n",
       "secondary_cleaner.state.floatbank5_b_air       0\n",
       "secondary_cleaner.state.floatbank5_b_level     0\n",
       "secondary_cleaner.state.floatbank6_a_air       0\n",
       "secondary_cleaner.state.floatbank6_a_level     0\n",
       "dtype: int64"
      ]
     },
     "execution_count": 21,
     "metadata": {},
     "output_type": "execute_result"
    }
   ],
   "source": [
    "data_test.isna().sum()"
   ]
  },
  {
   "cell_type": "code",
   "execution_count": 22,
   "id": "a2f2659f",
   "metadata": {},
   "outputs": [],
   "source": [
    "data_test = data_test.dropna()"
   ]
  },
  {
   "cell_type": "code",
   "execution_count": 23,
   "id": "1fa624a9",
   "metadata": {},
   "outputs": [
    {
     "data": {
      "text/plain": [
       "date                                                     0\n",
       "final.output.concentrate_ag                              1\n",
       "final.output.concentrate_pb                              1\n",
       "final.output.concentrate_sol                           211\n",
       "final.output.concentrate_au                              0\n",
       "final.output.recovery                                    0\n",
       "final.output.tail_ag                                     0\n",
       "final.output.tail_pb                                   100\n",
       "final.output.tail_sol                                    5\n",
       "final.output.tail_au                                     0\n",
       "primary_cleaner.input.sulfate                           20\n",
       "primary_cleaner.input.depressant                        32\n",
       "primary_cleaner.input.feed_size                          0\n",
       "primary_cleaner.input.xanthate                         100\n",
       "primary_cleaner.output.concentrate_ag                    0\n",
       "primary_cleaner.output.concentrate_pb                   86\n",
       "primary_cleaner.output.concentrate_sol                 286\n",
       "primary_cleaner.output.concentrate_au                    0\n",
       "primary_cleaner.output.tail_ag                           1\n",
       "primary_cleaner.output.tail_pb                          15\n",
       "primary_cleaner.output.tail_sol                         46\n",
       "primary_cleaner.output.tail_au                           0\n",
       "primary_cleaner.state.floatbank8_a_air                   4\n",
       "primary_cleaner.state.floatbank8_a_level                 1\n",
       "primary_cleaner.state.floatbank8_b_air                   4\n",
       "primary_cleaner.state.floatbank8_b_level                 1\n",
       "primary_cleaner.state.floatbank8_c_air                   2\n",
       "primary_cleaner.state.floatbank8_c_level                 1\n",
       "primary_cleaner.state.floatbank8_d_air                   3\n",
       "primary_cleaner.state.floatbank8_d_level                 1\n",
       "rougher.calculation.sulfate_to_au_concentrate            1\n",
       "rougher.calculation.floatbank10_sulfate_to_au_feed       1\n",
       "rougher.calculation.floatbank11_sulfate_to_au_feed       1\n",
       "rougher.calculation.au_pb_ratio                          0\n",
       "rougher.input.feed_ag                                    0\n",
       "rougher.input.feed_pb                                  100\n",
       "rougher.input.feed_rate                                  8\n",
       "rougher.input.feed_size                                144\n",
       "rougher.input.feed_sol                                  78\n",
       "rougher.input.feed_au                                    0\n",
       "rougher.input.floatbank10_sulfate                       29\n",
       "rougher.input.floatbank10_xanthate                       8\n",
       "rougher.input.floatbank11_sulfate                       36\n",
       "rougher.input.floatbank11_xanthate                     428\n",
       "rougher.output.concentrate_ag                            0\n",
       "rougher.output.concentrate_pb                            0\n",
       "rougher.output.concentrate_sol                          22\n",
       "rougher.output.concentrate_au                            0\n",
       "rougher.output.recovery                                  0\n",
       "rougher.output.tail_ag                                   1\n",
       "rougher.output.tail_pb                                   0\n",
       "rougher.output.tail_sol                                  0\n",
       "rougher.output.tail_au                                   0\n",
       "rougher.state.floatbank10_a_air                          1\n",
       "rougher.state.floatbank10_a_level                        1\n",
       "rougher.state.floatbank10_b_air                          1\n",
       "rougher.state.floatbank10_b_level                        1\n",
       "rougher.state.floatbank10_c_air                          1\n",
       "rougher.state.floatbank10_c_level                        1\n",
       "rougher.state.floatbank10_d_air                          0\n",
       "rougher.state.floatbank10_d_level                        0\n",
       "rougher.state.floatbank10_e_air                        436\n",
       "rougher.state.floatbank10_e_level                        0\n",
       "rougher.state.floatbank10_f_air                          0\n",
       "rougher.state.floatbank10_f_level                        0\n",
       "secondary_cleaner.output.tail_ag                         2\n",
       "secondary_cleaner.output.tail_pb                        10\n",
       "secondary_cleaner.output.tail_sol                     1605\n",
       "secondary_cleaner.output.tail_au                         0\n",
       "secondary_cleaner.state.floatbank2_a_air               217\n",
       "secondary_cleaner.state.floatbank2_a_level               1\n",
       "secondary_cleaner.state.floatbank2_b_air                21\n",
       "secondary_cleaner.state.floatbank2_b_level               1\n",
       "secondary_cleaner.state.floatbank3_a_air                 4\n",
       "secondary_cleaner.state.floatbank3_a_level               1\n",
       "secondary_cleaner.state.floatbank3_b_air                 1\n",
       "secondary_cleaner.state.floatbank3_b_level               1\n",
       "secondary_cleaner.state.floatbank4_a_air                 6\n",
       "secondary_cleaner.state.floatbank4_a_level               1\n",
       "secondary_cleaner.state.floatbank4_b_air                 1\n",
       "secondary_cleaner.state.floatbank4_b_level               1\n",
       "secondary_cleaner.state.floatbank5_a_air                 1\n",
       "secondary_cleaner.state.floatbank5_a_level               1\n",
       "secondary_cleaner.state.floatbank5_b_air                 1\n",
       "secondary_cleaner.state.floatbank5_b_level               1\n",
       "secondary_cleaner.state.floatbank6_a_air                 2\n",
       "secondary_cleaner.state.floatbank6_a_level               1\n",
       "dtype: int64"
      ]
     },
     "execution_count": 23,
     "metadata": {},
     "output_type": "execute_result"
    }
   ],
   "source": [
    "data_train.isna().sum()\n",
    "\n"
   ]
  },
  {
   "cell_type": "markdown",
   "id": "248866a3",
   "metadata": {},
   "source": [
    "На тренеровочной выборке столбцы secondary_cleaner.output.tail_sol, rougher.state.floatbank10_e_air и rougher.input.floatbank11_xanthate\n",
    "выходят за пределы 3% погрешности."
   ]
  },
  {
   "cell_type": "code",
   "execution_count": 24,
   "id": "a47922bf",
   "metadata": {},
   "outputs": [],
   "source": [
    "data_train['secondary_cleaner.output.tail_sol'] = data_train['secondary_cleaner.output.tail_sol'].interpolate(method='nearest')\n",
    "data_train['rougher.state.floatbank10_e_air'] = data_train['rougher.state.floatbank10_e_air'].interpolate(method='nearest')\n",
    "data_train['rougher.input.floatbank11_xanthate'] = data_train['rougher.input.floatbank11_xanthate'].interpolate(method='nearest')"
   ]
  },
  {
   "cell_type": "code",
   "execution_count": 25,
   "id": "220415b9",
   "metadata": {},
   "outputs": [],
   "source": [
    "data_train = data_train.dropna()"
   ]
  },
  {
   "cell_type": "markdown",
   "id": "89eaf7ee",
   "metadata": {},
   "source": [
    "Пропуски убраны! Теперь поработаем с типом данных. Необходимо изменить только столбец date. При обучении модели в дальнейшем столбец с датой будет нам мешать! Можем избавиться от него!"
   ]
  },
  {
   "cell_type": "code",
   "execution_count": 26,
   "id": "e380accb",
   "metadata": {},
   "outputs": [],
   "source": [
    "#data_train['date'] = data_train['date'].astype('datetime64[s]')\n",
    "#data_test['date'] = data_test['date'].astype('datetime64[s]')\n",
    "#data_full['date'] = data_full['date'].astype('datetime64[s]')\n",
    "\n",
    "data_full = data_full.drop(['date'], axis=1)\n",
    "data_train = data_train.drop(['date'], axis=1)\n",
    "data_test = data_test.drop(['date'], axis=1)"
   ]
  },
  {
   "cell_type": "markdown",
   "id": "011223e7",
   "metadata": {},
   "source": [
    "Вывод:"
   ]
  },
  {
   "cell_type": "markdown",
   "id": "8df2d53d",
   "metadata": {},
   "source": [
    "На входе мы имеем довольно большой массив данных, его обработка и визуализация затруднены, это стоит учитывать на будущее. Эффективность обогащения на этапе флотации рассчитана верно! На неё можно ориентироваться.\n",
    "\n",
    "На тестовой выборке не доступны часть целевых параметров! В такой конфигруации её нельзя будет полноценно использовать в моделе. Необходимо обратить внимание лиц, предоставляющих данные на это.\n",
    "\n",
    "При проведении прдобработки был выявлено значимое кол-во пропусков. Проблем решена, но это могло повлиять на точность работы модели и функции. Необходимо обратить внимание руководителя на этот момент."
   ]
  },
  {
   "cell_type": "markdown",
   "id": "dcc58ad9",
   "metadata": {},
   "source": [
    "## 2. Проанализируйте данные"
   ]
  },
  {
   "cell_type": "markdown",
   "id": "eb5800fc",
   "metadata": {},
   "source": [
    "### 2.1. Посмотрите, как меняется концентрация металлов (Au, Ag, Pb) на различных этапах очистки. Опишите выводы."
   ]
  },
  {
   "cell_type": "markdown",
   "id": "544de4c6",
   "metadata": {},
   "source": [
    "У нас есть 4 этапа очистки: Флотация, первый этап, второй и финальный концентрат. Возьмем медианное значение массива по этим металлам и по этапам для сравнения.\n",
    "Данные о концентрации на втором этапе отсутствуют! Вероятно они не замеряются по технологическим причинам."
   ]
  },
  {
   "cell_type": "code",
   "execution_count": 27,
   "id": "a4122cab",
   "metadata": {},
   "outputs": [
    {
     "name": "stdout",
     "output_type": "stream",
     "text": [
      "<class 'pandas.core.frame.DataFrame'>\n",
      "Int64Index: 17390 entries, 0 to 19438\n",
      "Data columns (total 86 columns):\n",
      " #   Column                                              Non-Null Count  Dtype  \n",
      "---  ------                                              --------------  -----  \n",
      " 0   final.output.concentrate_ag                         17390 non-null  float64\n",
      " 1   final.output.concentrate_pb                         17390 non-null  float64\n",
      " 2   final.output.concentrate_sol                        17390 non-null  float64\n",
      " 3   final.output.concentrate_au                         17390 non-null  float64\n",
      " 4   final.output.recovery                               17390 non-null  float64\n",
      " 5   final.output.tail_ag                                17390 non-null  float64\n",
      " 6   final.output.tail_pb                                17390 non-null  float64\n",
      " 7   final.output.tail_sol                               17390 non-null  float64\n",
      " 8   final.output.tail_au                                17390 non-null  float64\n",
      " 9   primary_cleaner.input.sulfate                       17390 non-null  float64\n",
      " 10  primary_cleaner.input.depressant                    17390 non-null  float64\n",
      " 11  primary_cleaner.input.feed_size                     17390 non-null  float64\n",
      " 12  primary_cleaner.input.xanthate                      17390 non-null  float64\n",
      " 13  primary_cleaner.output.concentrate_ag               17390 non-null  float64\n",
      " 14  primary_cleaner.output.concentrate_pb               17390 non-null  float64\n",
      " 15  primary_cleaner.output.concentrate_sol              17390 non-null  float64\n",
      " 16  primary_cleaner.output.concentrate_au               17390 non-null  float64\n",
      " 17  primary_cleaner.output.tail_ag                      17390 non-null  float64\n",
      " 18  primary_cleaner.output.tail_pb                      17390 non-null  float64\n",
      " 19  primary_cleaner.output.tail_sol                     17390 non-null  float64\n",
      " 20  primary_cleaner.output.tail_au                      17390 non-null  float64\n",
      " 21  primary_cleaner.state.floatbank8_a_air              17390 non-null  float64\n",
      " 22  primary_cleaner.state.floatbank8_a_level            17390 non-null  float64\n",
      " 23  primary_cleaner.state.floatbank8_b_air              17390 non-null  float64\n",
      " 24  primary_cleaner.state.floatbank8_b_level            17390 non-null  float64\n",
      " 25  primary_cleaner.state.floatbank8_c_air              17390 non-null  float64\n",
      " 26  primary_cleaner.state.floatbank8_c_level            17390 non-null  float64\n",
      " 27  primary_cleaner.state.floatbank8_d_air              17390 non-null  float64\n",
      " 28  primary_cleaner.state.floatbank8_d_level            17390 non-null  float64\n",
      " 29  rougher.calculation.sulfate_to_au_concentrate       17390 non-null  float64\n",
      " 30  rougher.calculation.floatbank10_sulfate_to_au_feed  17390 non-null  float64\n",
      " 31  rougher.calculation.floatbank11_sulfate_to_au_feed  17390 non-null  float64\n",
      " 32  rougher.calculation.au_pb_ratio                     17390 non-null  float64\n",
      " 33  rougher.input.feed_ag                               17390 non-null  float64\n",
      " 34  rougher.input.feed_pb                               17390 non-null  float64\n",
      " 35  rougher.input.feed_rate                             17390 non-null  float64\n",
      " 36  rougher.input.feed_size                             17390 non-null  float64\n",
      " 37  rougher.input.feed_sol                              17390 non-null  float64\n",
      " 38  rougher.input.feed_au                               17390 non-null  float64\n",
      " 39  rougher.input.floatbank10_sulfate                   17390 non-null  float64\n",
      " 40  rougher.input.floatbank10_xanthate                  17390 non-null  float64\n",
      " 41  rougher.input.floatbank11_sulfate                   17390 non-null  float64\n",
      " 42  rougher.input.floatbank11_xanthate                  17390 non-null  float64\n",
      " 43  rougher.output.concentrate_ag                       17390 non-null  float64\n",
      " 44  rougher.output.concentrate_pb                       17390 non-null  float64\n",
      " 45  rougher.output.concentrate_sol                      17390 non-null  float64\n",
      " 46  rougher.output.concentrate_au                       17390 non-null  float64\n",
      " 47  rougher.output.recovery                             17390 non-null  float64\n",
      " 48  rougher.output.tail_ag                              17390 non-null  float64\n",
      " 49  rougher.output.tail_pb                              17390 non-null  float64\n",
      " 50  rougher.output.tail_sol                             17390 non-null  float64\n",
      " 51  rougher.output.tail_au                              17390 non-null  float64\n",
      " 52  rougher.state.floatbank10_a_air                     17390 non-null  float64\n",
      " 53  rougher.state.floatbank10_a_level                   17390 non-null  float64\n",
      " 54  rougher.state.floatbank10_b_air                     17390 non-null  float64\n",
      " 55  rougher.state.floatbank10_b_level                   17390 non-null  float64\n",
      " 56  rougher.state.floatbank10_c_air                     17390 non-null  float64\n",
      " 57  rougher.state.floatbank10_c_level                   17390 non-null  float64\n",
      " 58  rougher.state.floatbank10_d_air                     17390 non-null  float64\n",
      " 59  rougher.state.floatbank10_d_level                   17390 non-null  float64\n",
      " 60  rougher.state.floatbank10_e_air                     17390 non-null  float64\n",
      " 61  rougher.state.floatbank10_e_level                   17390 non-null  float64\n",
      " 62  rougher.state.floatbank10_f_air                     17390 non-null  float64\n",
      " 63  rougher.state.floatbank10_f_level                   17390 non-null  float64\n",
      " 64  secondary_cleaner.output.tail_ag                    17390 non-null  float64\n",
      " 65  secondary_cleaner.output.tail_pb                    17390 non-null  float64\n",
      " 66  secondary_cleaner.output.tail_sol                   17390 non-null  float64\n",
      " 67  secondary_cleaner.output.tail_au                    17390 non-null  float64\n",
      " 68  secondary_cleaner.state.floatbank2_a_air            17390 non-null  float64\n",
      " 69  secondary_cleaner.state.floatbank2_a_level          17390 non-null  float64\n",
      " 70  secondary_cleaner.state.floatbank2_b_air            17390 non-null  float64\n",
      " 71  secondary_cleaner.state.floatbank2_b_level          17390 non-null  float64\n",
      " 72  secondary_cleaner.state.floatbank3_a_air            17390 non-null  float64\n",
      " 73  secondary_cleaner.state.floatbank3_a_level          17390 non-null  float64\n",
      " 74  secondary_cleaner.state.floatbank3_b_air            17390 non-null  float64\n",
      " 75  secondary_cleaner.state.floatbank3_b_level          17390 non-null  float64\n",
      " 76  secondary_cleaner.state.floatbank4_a_air            17390 non-null  float64\n",
      " 77  secondary_cleaner.state.floatbank4_a_level          17390 non-null  float64\n",
      " 78  secondary_cleaner.state.floatbank4_b_air            17390 non-null  float64\n",
      " 79  secondary_cleaner.state.floatbank4_b_level          17390 non-null  float64\n",
      " 80  secondary_cleaner.state.floatbank5_a_air            17390 non-null  float64\n",
      " 81  secondary_cleaner.state.floatbank5_a_level          17390 non-null  float64\n",
      " 82  secondary_cleaner.state.floatbank5_b_air            17390 non-null  float64\n",
      " 83  secondary_cleaner.state.floatbank5_b_level          17390 non-null  float64\n",
      " 84  secondary_cleaner.state.floatbank6_a_air            17390 non-null  float64\n",
      " 85  secondary_cleaner.state.floatbank6_a_level          17390 non-null  float64\n",
      "dtypes: float64(86)\n",
      "memory usage: 11.5 MB\n"
     ]
    }
   ],
   "source": [
    "data_full.info()"
   ]
  },
  {
   "cell_type": "code",
   "execution_count": 28,
   "id": "421f286d",
   "metadata": {},
   "outputs": [
    {
     "name": "stdout",
     "output_type": "stream",
     "text": [
      "Поэтапное изменение концентрации свинца\n"
     ]
    },
    {
     "data": {
      "image/png": "[encoded data removed]",
      "text/plain": [
       "<Figure size 432x288 with 1 Axes>"
      ]
     },
     "metadata": {
      "needs_background": "light"
     },
     "output_type": "display_data"
    }
   ],
   "source": [
    "#final.output.concentrate_pb концентрация свинца финальный\n",
    "#primary_cleaner.output.concentrate_pb концентрация свинца первичная очистка\n",
    "#rougher.output.concentrate_pb концентрация свинца флотация\n",
    "\n",
    "final_pb = data_full['final.output.concentrate_pb'].median()\n",
    "prim_pb = data_full['primary_cleaner.output.concentrate_pb'].median()\n",
    "roug_pb = data_full['rougher.output.concentrate_pb'].median()\n",
    "d_pb = {'Концентрация свинца флотация': [roug_pb], 'Концентрация свинца первичная очистка': [prim_pb], 'Финальный концентрат свинца': [final_pb]}\n",
    "conc_dynam_pb = pd.DataFrame(data=d_pb)\n",
    "conc_dynam_pb.plot(kind='bar')\n",
    "print('Поэтапное изменение концентрации свинца')\n"
   ]
  },
  {
   "cell_type": "code",
   "execution_count": 29,
   "id": "045bdb04",
   "metadata": {},
   "outputs": [
    {
     "name": "stdout",
     "output_type": "stream",
     "text": [
      "Распределение концентрации свинца на этапе флотации\n"
     ]
    },
    {
     "data": {
      "image/png": "[encoded data removed]",
      "text/plain": [
       "<Figure size 432x288 with 1 Axes>"
      ]
     },
     "metadata": {
      "needs_background": "light"
     },
     "output_type": "display_data"
    }
   ],
   "source": [
    "print('Распределение концентрации свинца на этапе флотации')\n",
    "data_full['rougher.output.concentrate_pb'].hist(bins=50);"
   ]
  },
  {
   "cell_type": "code",
   "execution_count": 30,
   "id": "a2a57977",
   "metadata": {},
   "outputs": [
    {
     "name": "stdout",
     "output_type": "stream",
     "text": [
      "Распределение концентрации свинца на этапе первичной очистки\n"
     ]
    },
    {
     "data": {
      "image/png": "[encoded data removed]",
      "text/plain": [
       "<Figure size 432x288 with 1 Axes>"
      ]
     },
     "metadata": {
      "needs_background": "light"
     },
     "output_type": "display_data"
    }
   ],
   "source": [
    "print('Распределение концентрации свинца на этапе первичной очистки')\n",
    "data_full['primary_cleaner.output.concentrate_pb'].hist(bins=50);"
   ]
  },
  {
   "cell_type": "code",
   "execution_count": 31,
   "id": "81f01893",
   "metadata": {},
   "outputs": [
    {
     "name": "stdout",
     "output_type": "stream",
     "text": [
      "Распределение концентрации свинца на финальном этапе\n"
     ]
    },
    {
     "data": {
      "image/png": "[encoded data removed]",
      "text/plain": [
       "<Figure size 432x288 with 1 Axes>"
      ]
     },
     "metadata": {
      "needs_background": "light"
     },
     "output_type": "display_data"
    }
   ],
   "source": [
    "print('Распределение концентрации свинца на финальном этапе')\n",
    "data_full['final.output.concentrate_pb'].hist(bins=50);"
   ]
  },
  {
   "cell_type": "code",
   "execution_count": 32,
   "id": "48f4e9b3",
   "metadata": {},
   "outputs": [
    {
     "name": "stdout",
     "output_type": "stream",
     "text": [
      "Поэтапное изменение концентрации золота\n"
     ]
    },
    {
     "data": {
      "image/png": "[encoded data removed]",
      "text/plain": [
       "<Figure size 432x288 with 1 Axes>"
      ]
     },
     "metadata": {
      "needs_background": "light"
     },
     "output_type": "display_data"
    }
   ],
   "source": [
    "#final.output.concentrate_au концентрация золота финальный\n",
    "#primary_cleaner.output.concentrate_au концентрация золота первичная очистка\n",
    "#rougher.output.concentrate_au концентрация золота флотация\n",
    "\n",
    "final_au = data_full['final.output.concentrate_au'].median()\n",
    "prim_au = data_full['primary_cleaner.output.concentrate_au'].median()\n",
    "roug_au = data_full['rougher.output.concentrate_au'].median()\n",
    "d_au = {'Концентрация золота флотация': [roug_au], 'Концентрация золота первичная очистка': [prim_au], 'Концентрация золота финальный этап': [final_au]}\n",
    "\n",
    "conc_dynam_au = pd.DataFrame(data=d_au)\n",
    "print('Поэтапное изменение концентрации золота')\n",
    "conc_dynam_au.plot(kind='bar');"
   ]
  },
  {
   "cell_type": "code",
   "execution_count": 33,
   "id": "2a4265c1",
   "metadata": {},
   "outputs": [
    {
     "name": "stdout",
     "output_type": "stream",
     "text": [
      "Распределение концентрации золота на этапе флотации\n"
     ]
    },
    {
     "data": {
      "image/png": "[encoded data removed]",
      "text/plain": [
       "<Figure size 432x288 with 1 Axes>"
      ]
     },
     "metadata": {
      "needs_background": "light"
     },
     "output_type": "display_data"
    }
   ],
   "source": [
    "print('Распределение концентрации золота на этапе флотации')\n",
    "data_full['rougher.output.concentrate_au'].hist(bins=50);"
   ]
  },
  {
   "cell_type": "code",
   "execution_count": 34,
   "id": "05d5dd35",
   "metadata": {},
   "outputs": [
    {
     "name": "stdout",
     "output_type": "stream",
     "text": [
      "Распределение концентрации золота на этапе первичной очистки\n"
     ]
    },
    {
     "data": {
      "image/png": "[encoded data removed]",
      "text/plain": [
       "<Figure size 432x288 with 1 Axes>"
      ]
     },
     "metadata": {
      "needs_background": "light"
     },
     "output_type": "display_data"
    }
   ],
   "source": [
    "print('Распределение концентрации золота на этапе первичной очистки')\n",
    "data_full['primary_cleaner.output.concentrate_au'].hist(bins=50);"
   ]
  },
  {
   "cell_type": "code",
   "execution_count": 35,
   "id": "894b4f65",
   "metadata": {},
   "outputs": [
    {
     "name": "stdout",
     "output_type": "stream",
     "text": [
      "Распределение концентрации золота на финальном этапе\n"
     ]
    },
    {
     "data": {
      "image/png": "[encoded data removed]",
      "text/plain": [
       "<Figure size 432x288 with 1 Axes>"
      ]
     },
     "metadata": {
      "needs_background": "light"
     },
     "output_type": "display_data"
    }
   ],
   "source": [
    "print('Распределение концентрации золота на финальном этапе')\n",
    "data_full['final.output.concentrate_au'].hist(bins=50);"
   ]
  },
  {
   "cell_type": "code",
   "execution_count": 36,
   "id": "48d6637a",
   "metadata": {},
   "outputs": [
    {
     "name": "stdout",
     "output_type": "stream",
     "text": [
      "Поэтапное изменение концентрации серебра\n"
     ]
    },
    {
     "data": {
      "image/png": "[encoded data removed]",
      "text/plain": [
       "<Figure size 432x288 with 1 Axes>"
      ]
     },
     "metadata": {
      "needs_background": "light"
     },
     "output_type": "display_data"
    }
   ],
   "source": [
    "#final.output.concentrate_au концентрация серебра финальный\n",
    "#primary_cleaner.output.concentrate_au концентрация серебра первичная очистка\n",
    "#rougher.output.concentrate_au концентрация серебра флотация\n",
    "\n",
    "final_ag = data_full['final.output.concentrate_ag'].median()\n",
    "prim_ag = data_full['primary_cleaner.output.concentrate_ag'].median()\n",
    "roug_ag = data_full['rougher.output.concentrate_ag'].median()\n",
    "d_ag = {'Концентрация серебра на этапе флотации': [roug_ag], 'Концентрация серебра на этапе первичной очистки': [prim_ag], 'Концентрация серебра на финальном этапе': [final_ag]}\n",
    "conc_dynam_ag = pd.DataFrame(data=d_ag)\n",
    "print('Поэтапное изменение концентрации серебра')\n",
    "conc_dynam_ag.plot(kind='bar');"
   ]
  },
  {
   "cell_type": "code",
   "execution_count": 37,
   "id": "dd2ffbe5",
   "metadata": {},
   "outputs": [
    {
     "name": "stdout",
     "output_type": "stream",
     "text": [
      "Распределение концентрации серебра на этапе флотации\n"
     ]
    },
    {
     "data": {
      "image/png": "[encoded data removed]",
      "text/plain": [
       "<Figure size 432x288 with 1 Axes>"
      ]
     },
     "metadata": {
      "needs_background": "light"
     },
     "output_type": "display_data"
    }
   ],
   "source": [
    "print('Распределение концентрации серебра на этапе флотации')\n",
    "data_full['rougher.output.concentrate_ag'].hist(bins=50);"
   ]
  },
  {
   "cell_type": "code",
   "execution_count": 38,
   "id": "21f9bb8d",
   "metadata": {},
   "outputs": [
    {
     "name": "stdout",
     "output_type": "stream",
     "text": [
      "Распределение концентрации серебра на этапе первичной очистки\n"
     ]
    },
    {
     "data": {
      "image/png": "[encoded data removed]",
      "text/plain": [
       "<Figure size 432x288 with 1 Axes>"
      ]
     },
     "metadata": {
      "needs_background": "light"
     },
     "output_type": "display_data"
    }
   ],
   "source": [
    "print('Распределение концентрации серебра на этапе первичной очистки')\n",
    "data_full['primary_cleaner.output.concentrate_ag'].hist(bins=50);"
   ]
  },
  {
   "cell_type": "code",
   "execution_count": 39,
   "id": "893321c8",
   "metadata": {},
   "outputs": [
    {
     "name": "stdout",
     "output_type": "stream",
     "text": [
      "Распределение концентрации серебра на финальном этапе\n"
     ]
    },
    {
     "data": {
      "image/png": "[encoded data removed]",
      "text/plain": [
       "<Figure size 432x288 with 1 Axes>"
      ]
     },
     "metadata": {
      "needs_background": "light"
     },
     "output_type": "display_data"
    }
   ],
   "source": [
    "print('Распределение концентрации серебра на финальном этапе')\n",
    "data_full['final.output.concentrate_ag'].hist(bins=50);"
   ]
  },
  {
   "cell_type": "markdown",
   "id": "9a7c8855",
   "metadata": {},
   "source": [
    "Интересно! Получается из первичного сырья на этапе флотации больше всего концентрация золота! \n",
    "\n",
    "Далее на первом этапе очистки концентрация золота существенно увеличивается, как и концентрация свинца, а вот серебро уменьшается в результате очистки.\n",
    "\n",
    "На финальном этапе концентрация золота увеличивается в тех же темпах, свинец чуть снижается а серебро уходит к показателям ниже 50% от изначальной концентрации."
   ]
  },
  {
   "cell_type": "markdown",
   "id": "98451560",
   "metadata": {},
   "source": [
    "### 2.2. Сравниваем распределения размеров гранул сырья на обучающей и тестовой выборках. Если распределения сильно отличаются друг от друга, оценка модели будет неправильной."
   ]
  },
  {
   "cell_type": "code",
   "execution_count": 40,
   "id": "ce676790",
   "metadata": {},
   "outputs": [
    {
     "name": "stdout",
     "output_type": "stream",
     "text": [
      "Распределение гранул сырья на тестовой выборке:\n"
     ]
    },
    {
     "data": {
      "image/png": "[encoded data removed]",
      "text/plain": [
       "<Figure size 432x288 with 1 Axes>"
      ]
     },
     "metadata": {
      "needs_background": "light"
     },
     "output_type": "display_data"
    }
   ],
   "source": [
    "data_test['rougher.input.feed_size'].hist(bins=50);\n",
    "print('Распределение гранул сырья на тестовой выборке:')"
   ]
  },
  {
   "cell_type": "code",
   "execution_count": 41,
   "id": "77df4e6c",
   "metadata": {},
   "outputs": [
    {
     "name": "stdout",
     "output_type": "stream",
     "text": [
      "Распределение гранул сырья на обучающей выборке\n"
     ]
    },
    {
     "data": {
      "image/png": "[encoded data removed]",
      "text/plain": [
       "<Figure size 432x288 with 1 Axes>"
      ]
     },
     "metadata": {
      "needs_background": "light"
     },
     "output_type": "display_data"
    }
   ],
   "source": [
    "data_train['rougher.input.feed_size'].hist(bins=50);\n",
    "print('Распределение гранул сырья на обучающей выборке')"
   ]
  },
  {
   "cell_type": "code",
   "execution_count": 42,
   "id": "4d681892",
   "metadata": {},
   "outputs": [
    {
     "name": "stdout",
     "output_type": "stream",
     "text": [
      "Средний размер гранул сырья на обучающей выборке: 59.740282533412746\n",
      "Средний размер гранул сырья на тестовой выборке: 55.86397810255099\n"
     ]
    }
   ],
   "source": [
    "size_mean_train = data_train['rougher.input.feed_size'].mean()\n",
    "print('Средний размер гранул сырья на обучающей выборке:', size_mean_train)\n",
    "\n",
    "size_mean_test = data_test['rougher.input.feed_size'].mean()\n",
    "print('Средний размер гранул сырья на тестовой выборке:', size_mean_test)"
   ]
  },
  {
   "cell_type": "markdown",
   "id": "b23ef437",
   "metadata": {},
   "source": [
    "На мой взглят модели похожи по структуре, распределение отличается не сильно! Средний размер гранул сырья так же не сильно отличается."
   ]
  },
  {
   "cell_type": "markdown",
   "id": "472cca90",
   "metadata": {},
   "source": [
    "### 2.3. Исследуем суммарную концентрацию всех веществ на разных стадиях: в сырье, в черновом и финальном концентратах."
   ]
  },
  {
   "cell_type": "markdown",
   "id": "978c2a0c",
   "metadata": {},
   "source": [
    "Для реализации этой задачи необходимо полнять архитектуру данных! В строках мы получаем данные о технологическом процессе в моменте, соответсвенно две соседние строки могут выдавать практически одинаковый результат в случае если разниться по времени снятия данных не велика.\n",
    "\n",
    "Наша задача сравнить концентрацию веществ на разных стадиях, можем суммировать концентрацию 4х веществ на каждой стадии и сравнивать медианы между собой."
   ]
  },
  {
   "cell_type": "code",
   "execution_count": 43,
   "id": "fdc91c4c",
   "metadata": {},
   "outputs": [],
   "source": [
    "data_full_count = data_full\n",
    "data_full_count['roug_sum'] = data_full_count['rougher.output.concentrate_au'] + data_full_count['rougher.output.concentrate_ag'] + data_full_count['rougher.output.concentrate_pb'] + data_full_count['rougher.output.concentrate_sol']\n",
    "roug_sum_med = data_full_count['roug_sum'].median()"
   ]
  },
  {
   "cell_type": "code",
   "execution_count": 44,
   "id": "71a06bfc",
   "metadata": {},
   "outputs": [],
   "source": [
    "data_full_count['prim_sum'] = data_full_count['primary_cleaner.output.concentrate_au'] + data_full_count['primary_cleaner.output.concentrate_ag'] + data_full_count['primary_cleaner.output.concentrate_pb'] + data_full_count['primary_cleaner.output.concentrate_sol']\n",
    "prim_sum_med = data_full_count['prim_sum'].median()"
   ]
  },
  {
   "cell_type": "code",
   "execution_count": 45,
   "id": "1a86976b",
   "metadata": {},
   "outputs": [],
   "source": [
    "data_full_count['final_sum'] = data_full_count['final.output.concentrate_au'] + data_full_count['final.output.concentrate_ag'] + data_full_count['final.output.concentrate_pb'] + data_full_count['final.output.concentrate_sol']\n",
    "final_sum_med = data_full_count['final_sum'].median()"
   ]
  },
  {
   "cell_type": "code",
   "execution_count": 46,
   "id": "907762f2",
   "metadata": {},
   "outputs": [
    {
     "name": "stdout",
     "output_type": "stream",
     "text": [
      "Поэтапное изменение концентрации всех веществ\n"
     ]
    },
    {
     "data": {
      "image/png": "[encoded data removed]",
      "text/plain": [
       "<Figure size 432x288 with 1 Axes>"
      ]
     },
     "metadata": {
      "needs_background": "light"
     },
     "output_type": "display_data"
    }
   ],
   "source": [
    "d_con = {'Концентрация на флотации': [roug_sum_med], 'Концентрация на первичной очистке': [prim_sum_med], 'Финальная концентрация': [final_sum_med]}\n",
    "conc_sum = pd.DataFrame(data=d_con)\n",
    "print('Поэтапное изменение концентрации всех веществ')\n",
    "conc_sum.plot(kind='bar');"
   ]
  },
  {
   "cell_type": "code",
   "execution_count": 47,
   "id": "b29f82cc",
   "metadata": {},
   "outputs": [
    {
     "name": "stdout",
     "output_type": "stream",
     "text": [
      "Распределение суммарной концентрации на флотации\n"
     ]
    },
    {
     "data": {
      "image/png": "[encoded data removed]",
      "text/plain": [
       "<Figure size 432x288 with 1 Axes>"
      ]
     },
     "metadata": {
      "needs_background": "light"
     },
     "output_type": "display_data"
    }
   ],
   "source": [
    "data_full_count['roug_sum'].hist(bins=100);\n",
    "print('Распределение суммарной концентрации на флотации')"
   ]
  },
  {
   "cell_type": "code",
   "execution_count": 48,
   "id": "60167e9a",
   "metadata": {},
   "outputs": [
    {
     "name": "stdout",
     "output_type": "stream",
     "text": [
      "Распределение суммарной концентрации на первичной очистке\n"
     ]
    },
    {
     "data": {
      "image/png": "[encoded data removed]",
      "text/plain": [
       "<Figure size 432x288 with 1 Axes>"
      ]
     },
     "metadata": {
      "needs_background": "light"
     },
     "output_type": "display_data"
    }
   ],
   "source": [
    "data_full_count['prim_sum'].hist(bins=100);\n",
    "print('Распределение суммарной концентрации на первичной очистке')"
   ]
  },
  {
   "cell_type": "code",
   "execution_count": 49,
   "id": "944ab48c",
   "metadata": {},
   "outputs": [
    {
     "name": "stdout",
     "output_type": "stream",
     "text": [
      "Распределение суммарной концентрации на финальном этапе\n"
     ]
    },
    {
     "data": {
      "image/png": "[encoded data removed]",
      "text/plain": [
       "<Figure size 432x288 with 1 Axes>"
      ]
     },
     "metadata": {
      "needs_background": "light"
     },
     "output_type": "display_data"
    }
   ],
   "source": [
    "data_full_count['final_sum'].hist(bins=100);\n",
    "print('Распределение суммарной концентрации на финальном этапе')"
   ]
  },
  {
   "cell_type": "markdown",
   "id": "636cacf6",
   "metadata": {},
   "source": [
    "Вывод:"
   ]
  },
  {
   "cell_type": "markdown",
   "id": "1b7919d2",
   "metadata": {},
   "source": [
    "Итак, мы видим не линейную динамику распределения суммарной концентрации вещество по этапам.\n",
    "По логике распределение должно быть линейным, так как мы «вымываем» лишние вещества.\n",
    "По факту суммарная концентрация на этапе флотации примерна равна суммарной финальной концентрации.\n",
    "\n",
    "С точки зрения распределения суммарных концентраций – на флотации мы видим нормальное распределение вокруг 70 у.е.\n",
    "На первичной очистке – вокруг 65, на финале – узкое распределение вокруг 70. Вопросы к флотации\n",
    "\n",
    "Объяснение простое – в отличии от концентрации золота и свинца, концентрация серебра уменьшается к финалу, а не увеличивается. Это компенсирует суммарную концентрацию остальных металлов, что в итоге даёт не линейное изменение суммарной концентрации.\n"
   ]
  },
  {
   "cell_type": "markdown",
   "id": "51361539",
   "metadata": {},
   "source": [
    "### 3. Постройте модель"
   ]
  },
  {
   "cell_type": "markdown",
   "id": "ffe691b5",
   "metadata": {},
   "source": [
    "### 3.1. Пишем функцию для вычисления итоговой sMAPE."
   ]
  },
  {
   "cell_type": "code",
   "execution_count": 50,
   "id": "f9df0e0e",
   "metadata": {},
   "outputs": [],
   "source": [
    "def count_smape(roug_act, roug_pred, fin_act, fin_pred):\n",
    "    roug_smape = 100/len(roug_act) * np.sum(2 * np.abs(roug_pred - roug_act) / (np.abs(roug_act) + np.abs(roug_pred)))\n",
    "    final_smape = 100/len(fin_act) * np.sum(2 * np.abs(fin_pred - fin_act) / (np.abs(fin_act) + np.abs(fin_pred)))\n",
    "    total_smape = 0,25 * roug_smape + 0,75 * final_smape\n",
    "    return total_smape"
   ]
  },
  {
   "cell_type": "markdown",
   "id": "07eedce7",
   "metadata": {},
   "source": [
    "### 3.2. Обучаем разные модели и оцениваем их качество кросс-валидацией. Выбераем лучшую модель и проверяем её на тестовой выборке. "
   ]
  },
  {
   "cell_type": "code",
   "execution_count": 51,
   "id": "d660abd4",
   "metadata": {},
   "outputs": [],
   "source": [
    "#data_full = data_full.drop(['date'], axis=1)\n",
    "features = data_full.drop(['rougher.output.recovery'], axis=1)\n",
    "target = data_full['rougher.output.recovery']\n",
    "\n",
    "\n",
    "model = DecisionTreeRegressor(random_state=0)\n",
    "\n"
   ]
  },
  {
   "cell_type": "code",
   "execution_count": 52,
   "id": "61241bbe",
   "metadata": {},
   "outputs": [],
   "source": [
    "scores_dt = cross_val_score(model, features, target, cv=10)"
   ]
  },
  {
   "cell_type": "code",
   "execution_count": 53,
   "id": "9a30473b",
   "metadata": {},
   "outputs": [
    {
     "name": "stdout",
     "output_type": "stream",
     "text": [
      "Средняя оценка качества модели \"Древо решений в регресии\": 0.876\n"
     ]
    }
   ],
   "source": [
    "\n",
    "\n",
    "final_score_dt = sum(scores_dt) / len(scores_dt)\n",
    "print('Средняя оценка качества модели \"Древо решений в регресии\": {:.3f}'.format(final_score_dt))"
   ]
  },
  {
   "cell_type": "code",
   "execution_count": 54,
   "id": "416a4057",
   "metadata": {},
   "outputs": [],
   "source": [
    "\n",
    "model_2 = RandomForestRegressor(n_estimators=10, max_depth=10, random_state=0)\n",
    "\n"
   ]
  },
  {
   "cell_type": "code",
   "execution_count": 55,
   "id": "d16ef7a9",
   "metadata": {},
   "outputs": [
    {
     "name": "stdout",
     "output_type": "stream",
     "text": [
      "Средняя оценка качества модели \"Случайный лес в регресии\": 0.941\n"
     ]
    }
   ],
   "source": [
    "scores_rf_1 = cross_val_score(model_2, features, target, cv=10)\n",
    "final_score_rf_1 = sum(scores_rf_1) / len(scores_rf_1)\n",
    "print('Средняя оценка качества модели \"Случайный лес в регресии\": {:.3f}'.format(final_score_rf_1))"
   ]
  },
  {
   "cell_type": "code",
   "execution_count": 56,
   "id": "19dae917",
   "metadata": {},
   "outputs": [
    {
     "name": "stdout",
     "output_type": "stream",
     "text": [
      "Средняя оценка качества модели \"Случайный лес в регресии\": 0.935\n"
     ]
    }
   ],
   "source": [
    "model_3 = RandomForestRegressor(n_estimators=5, max_depth=10, random_state=0)\n",
    "scores_rf_2 = cross_val_score(model_3, features, target, cv=10)\n",
    "final_score_rf_2 = sum(scores_rf_2) / len(scores_rf_2)\n",
    "print('Средняя оценка качества модели \"Случайный лес в регресии\": {:.3f}'.format(final_score_rf_2))"
   ]
  },
  {
   "cell_type": "code",
   "execution_count": 57,
   "id": "65dfa32e",
   "metadata": {},
   "outputs": [
    {
     "name": "stdout",
     "output_type": "stream",
     "text": [
      "Средняя оценка качества модели \"Случайный лес в регресии\": 0.935\n"
     ]
    }
   ],
   "source": [
    "model_4 = RandomForestRegressor(n_estimators=15, max_depth=10, random_state=0)\n",
    "scores_rf_3 = cross_val_score(model_3, features, target, cv=10)\n",
    "final_score_rf_3 = sum(scores_rf_3) / len(scores_rf_3)\n",
    "print('Средняя оценка качества модели \"Случайный лес в регресии\": {:.3f}'.format(final_score_rf_3))"
   ]
  },
  {
   "cell_type": "code",
   "execution_count": 58,
   "id": "555f8756",
   "metadata": {},
   "outputs": [
    {
     "name": "stdout",
     "output_type": "stream",
     "text": [
      "Средняя оценка качества модели \"Случайный лес в регресии\": 0.935\n"
     ]
    }
   ],
   "source": [
    "model_5 = RandomForestRegressor(n_estimators=10, max_depth=5, random_state=0)\n",
    "scores_rf_4 = cross_val_score(model_5, features, target, cv=10)\n",
    "final_score_rf_4 = sum(scores_rf_4) / len(scores_rf_4)\n",
    "print('Средняя оценка качества модели \"Случайный лес в регресии\": {:.3f}'.format(final_score_rf_3))"
   ]
  },
  {
   "cell_type": "code",
   "execution_count": 59,
   "id": "98adc174",
   "metadata": {},
   "outputs": [
    {
     "name": "stdout",
     "output_type": "stream",
     "text": [
      "Средняя оценка качества модели \"Случайный лес в регресии\": 0.935\n"
     ]
    }
   ],
   "source": [
    "model_6 = RandomForestRegressor(n_estimators=10, max_depth=15, random_state=0)\n",
    "scores_rf_5 = cross_val_score(model_6, features, target, cv=10)\n",
    "final_score_rf_5 = sum(scores_rf_5) / len(scores_rf_5)\n",
    "print('Средняя оценка качества модели \"Случайный лес в регресии\": {:.3f}'.format(final_score_rf_3))"
   ]
  },
  {
   "cell_type": "markdown",
   "id": "9ba58ae8",
   "metadata": {},
   "source": [
    "Оптимальные гиперпараметры:\n",
    "\n",
    "n_estimators=10\n",
    "\n",
    "max_depth=15"
   ]
  },
  {
   "cell_type": "code",
   "execution_count": 60,
   "id": "c7adfb49",
   "metadata": {},
   "outputs": [
    {
     "name": "stdout",
     "output_type": "stream",
     "text": [
      "Средняя оценка качества модели: 0.2621385107143187\n"
     ]
    }
   ],
   "source": [
    "\n",
    "model_1 = LinearRegression()\n",
    "\n",
    "scores = cross_val_score(model_1, features, target, cv=10)\n",
    "final_score = sum(scores) / len(scores)\n",
    "print('Средняя оценка качества модели:', final_score)"
   ]
  },
  {
   "cell_type": "markdown",
   "id": "aff364f2",
   "metadata": {},
   "source": [
    "Исходя из текущих данных стоит выбрать модель случайный лес в регресии"
   ]
  },
  {
   "cell_type": "code",
   "execution_count": 61,
   "id": "5db81401",
   "metadata": {},
   "outputs": [],
   "source": [
    "\n",
    "\n",
    "roug_features_full = data_full.drop(['rougher.output.recovery'], axis=1)\n",
    "roug_target_full = data_full['rougher.output.recovery']\n",
    "#У нас есть возможность обучить модель на полной выборке, или на тренеровочной! На тестовой исходные данные отсутствуют.\n",
    "#Данные для работы функции берем с трен. выборки, обучаем модель на полной.\n",
    "\n"
   ]
  },
  {
   "cell_type": "code",
   "execution_count": 62,
   "id": "a8b32b14",
   "metadata": {},
   "outputs": [],
   "source": [
    "roug_features_full = roug_features_full.drop(['roug_sum'], axis=1)\n",
    "roug_features_full = roug_features_full.drop(['prim_sum'], axis=1)\n",
    "roug_features_full = roug_features_full.drop(['final_sum'], axis=1)"
   ]
  },
  {
   "cell_type": "code",
   "execution_count": 63,
   "id": "a6d49154",
   "metadata": {},
   "outputs": [
    {
     "data": {
      "text/plain": [
       "RandomForestRegressor(bootstrap=True, criterion='mse', max_depth=10,\n",
       "                      max_features='auto', max_leaf_nodes=None,\n",
       "                      min_impurity_decrease=0.0, min_impurity_split=None,\n",
       "                      min_samples_leaf=1, min_samples_split=2,\n",
       "                      min_weight_fraction_leaf=0.0, n_estimators=10,\n",
       "                      n_jobs=None, oob_score=False, random_state=12345,\n",
       "                      verbose=0, warm_start=False)"
      ]
     },
     "execution_count": 63,
     "metadata": {},
     "output_type": "execute_result"
    }
   ],
   "source": [
    "model = RandomForestRegressor(n_estimators=10, max_depth=10, random_state=12345) \n",
    "\n",
    "model.fit(roug_features_full, roug_target_full)"
   ]
  },
  {
   "cell_type": "code",
   "execution_count": 64,
   "id": "730874e0",
   "metadata": {},
   "outputs": [],
   "source": [
    "roug_target_train = data_train['rougher.output.recovery']\n",
    "#roug_target_train - Реальные показатели по rougher.output.recovery"
   ]
  },
  {
   "cell_type": "code",
   "execution_count": 65,
   "id": "d6498d6f",
   "metadata": {},
   "outputs": [],
   "source": [
    "roug_features_train = data_train.drop(['rougher.output.recovery'], axis=1)\n",
    "\n",
    "roug_predictions = model.predict(roug_features_train)\n",
    "#roug_predictions - Предсказанные показатели rougher.output.recovery"
   ]
  },
  {
   "cell_type": "code",
   "execution_count": 66,
   "id": "673e51c4",
   "metadata": {},
   "outputs": [],
   "source": [
    "final_features_full = data_full.drop(['final.output.recovery'], axis=1)\n",
    "final_target_full = data_full['final.output.recovery']"
   ]
  },
  {
   "cell_type": "code",
   "execution_count": 67,
   "id": "a91ff61f",
   "metadata": {},
   "outputs": [],
   "source": [
    "final_features_full = final_features_full.drop(['roug_sum'], axis=1)\n",
    "final_features_full = final_features_full.drop(['prim_sum'], axis=1)\n",
    "final_features_full = final_features_full.drop(['final_sum'], axis=1)"
   ]
  },
  {
   "cell_type": "code",
   "execution_count": 68,
   "id": "6e0e1df4",
   "metadata": {},
   "outputs": [
    {
     "data": {
      "text/plain": [
       "RandomForestRegressor(bootstrap=True, criterion='mse', max_depth=10,\n",
       "                      max_features='auto', max_leaf_nodes=None,\n",
       "                      min_impurity_decrease=0.0, min_impurity_split=None,\n",
       "                      min_samples_leaf=1, min_samples_split=2,\n",
       "                      min_weight_fraction_leaf=0.0, n_estimators=10,\n",
       "                      n_jobs=None, oob_score=False, random_state=12345,\n",
       "                      verbose=0, warm_start=False)"
      ]
     },
     "execution_count": 68,
     "metadata": {},
     "output_type": "execute_result"
    }
   ],
   "source": [
    "model_4 = RandomForestRegressor(n_estimators=10, max_depth=10, random_state=12345) \n",
    "\n",
    "model_4.fit(final_features_full, final_target_full)"
   ]
  },
  {
   "cell_type": "code",
   "execution_count": 69,
   "id": "19e9a7e1",
   "metadata": {},
   "outputs": [],
   "source": [
    "final_target_train = data_train['final.output.recovery']\n",
    "#roug_target_train - Реальные показатели по final.output.recovery"
   ]
  },
  {
   "cell_type": "code",
   "execution_count": 70,
   "id": "9ccca817",
   "metadata": {},
   "outputs": [],
   "source": [
    "final_features_train = data_train.drop(['final.output.recovery'], axis=1)\n",
    "\n",
    "final_predictions = model.predict(final_features_train)\n",
    "#final_predictions - Предсказанные показатели final.output.recovery"
   ]
  },
  {
   "cell_type": "markdown",
   "id": "7de63a8a",
   "metadata": {},
   "source": [
    "В функцию нужно передать:\n",
    "\n",
    "Реальные показатели по rougher.output.recovery\n",
    "\n",
    "Предсказанные показатели rougher.output.recovery\n",
    "\n",
    "Реальные показатели final.output.recovery\n",
    "\n",
    "Предсказанные показатели final.output.recovery"
   ]
  },
  {
   "cell_type": "code",
   "execution_count": 71,
   "id": "093fba71",
   "metadata": {},
   "outputs": [],
   "source": [
    "result = count_smape(roug_target_train, roug_predictions, final_target_train, final_predictions)"
   ]
  },
  {
   "cell_type": "code",
   "execution_count": 72,
   "id": "0614c62a",
   "metadata": {},
   "outputs": [
    {
     "name": "stdout",
     "output_type": "stream",
     "text": [
      "(0, 21.875917089806432, 1864.7408412633893)\n"
     ]
    }
   ],
   "source": [
    "print(result)"
   ]
  },
  {
   "cell_type": "markdown",
   "id": "eb8f3c3d",
   "metadata": {},
   "source": [
    "#### Вывод"
   ]
  },
  {
   "cell_type": "markdown",
   "id": "06b58dd7",
   "metadata": {},
   "source": [
    "Проект выполненен! \n",
    "\n",
    "На входе мы имеем довольно большой массив данных, его обработка и визуализация затруднены, это стоит учитывать на будущее. Эффективность обогащения на этапе флотации рассчитана верно! На неё можно ориентироваться.\n",
    "\n",
    "На тестовой выборке не доступны часть целевых параметров! В такой конфигруации её нельзя будет полноценно использовать в моделе. Необходимо обратить внимание лиц, предоставляющих данные на это.\n",
    "\n",
    "При проведении прдобработки был выявлено значимое кол-во пропусков. Проблем решена, но это могло повлиять на точность работы модели и функции. Необходимо обратить внимание руководителя на этот момент.\n",
    "\n",
    "На этапе анализ данных мы видим  4 этапа очистки: Флотация, первый этап, второй и финальный концентрат. Возьмем медианное значение массива по этим металлам и по этапам для сравнения.\n",
    "Данные о концентрации на втором этапе отсутствуют! Вероятно они не замеряются по технологическим причинам.\n",
    "\n",
    "Наблюдаем что из первичного сырья на этапе флотации больше всего концентрация золота! \n",
    "\n",
    "Далее на первом этапе очистки концентрация золота существенно увеличивается, как и концентрация свинца, а вот серебро уменьшается в результате очистки.\n",
    "\n",
    "На финальном этапе концентрация золота увеличивается в тех же темпах, свинец чуть снижается а серебро уходит к показателям ниже 50% от изначальной концентрации.\n",
    "\n",
    "Мы видим не линейную динамику распределения суммарной концентрации вещество по этапам.\n",
    "По логике распределение должно быть линейным, так как мы «вымываем» лишние вещества.\n",
    "По факту суммарная концентрация на этапе флотации примерна равна суммарной финальной концентрации.\n",
    "\n",
    "С точки зрения распределения суммарных концентраций – на флотации мы видим нормальное распределение вокруг 70 у.е.\n",
    "На первичной очистке – вокруг 65, на финале – узкое распределение вокруг 70. Вопросы к флотации\n",
    "\n",
    "Объяснение простое – в отличии от концентрации золота и свинца, концентрация серебра уменьшается к финалу, а не увеличивается. Это компенсирует суммарную концентрацию остальных металлов, что в итоге даёт не линейное изменение суммарной концентрации.\n",
    "\n",
    "\n",
    "При выборе модели для обучения мы проверили разные модели, а так же вариации гиперпараметров и остановились на модели RandomForestRegressor с параметрами\n",
    "n_estimators=10\n",
    "\n",
    "max_depth=15\n",
    "\n",
    "Обучение модели для двух ключевых показателях проведено на обучающей выборке. Данные переданы в функцию для подсчёта sMAPE. Результат готов.\n"
   ]
  },
  {
   "cell_type": "code",
   "execution_count": null,
   "id": "46eb1f02",
   "metadata": {},
   "outputs": [],
   "source": []
  }
 ],
 "metadata": {
  "ExecuteTimeLog": [
   {
    "duration": 1360,
    "start_time": "2021-08-31T10:59:17.940Z"
   },
   {
    "duration": 8375,
    "start_time": "2021-08-31T10:59:19.303Z"
   },
   {
    "duration": 396,
    "start_time": "2021-08-31T10:59:27.681Z"
   },
   {
    "duration": -29,
    "start_time": "2021-08-31T10:59:28.113Z"
   },
   {
    "duration": -31,
    "start_time": "2021-08-31T10:59:28.117Z"
   },
   {
    "duration": -40,
    "start_time": "2021-08-31T10:59:28.128Z"
   },
   {
    "duration": -43,
    "start_time": "2021-08-31T10:59:28.134Z"
   },
   {
    "duration": -49,
    "start_time": "2021-08-31T10:59:28.142Z"
   },
   {
    "duration": -52,
    "start_time": "2021-08-31T10:59:28.147Z"
   },
   {
    "duration": -54,
    "start_time": "2021-08-31T10:59:28.151Z"
   },
   {
    "duration": -56,
    "start_time": "2021-08-31T10:59:28.156Z"
   },
   {
    "duration": -60,
    "start_time": "2021-08-31T10:59:28.161Z"
   },
   {
    "duration": -61,
    "start_time": "2021-08-31T10:59:28.165Z"
   },
   {
    "duration": -63,
    "start_time": "2021-08-31T10:59:28.169Z"
   },
   {
    "duration": -71,
    "start_time": "2021-08-31T10:59:28.179Z"
   },
   {
    "duration": -72,
    "start_time": "2021-08-31T10:59:28.182Z"
   },
   {
    "duration": -73,
    "start_time": "2021-08-31T10:59:28.186Z"
   },
   {
    "duration": -78,
    "start_time": "2021-08-31T10:59:28.193Z"
   },
   {
    "duration": -81,
    "start_time": "2021-08-31T10:59:28.198Z"
   },
   {
    "duration": -83,
    "start_time": "2021-08-31T10:59:28.202Z"
   },
   {
    "duration": -90,
    "start_time": "2021-08-31T10:59:28.211Z"
   },
   {
    "duration": -92,
    "start_time": "2021-08-31T10:59:28.214Z"
   },
   {
    "duration": -62,
    "start_time": "2021-08-31T10:59:28.218Z"
   },
   {
    "duration": -65,
    "start_time": "2021-08-31T10:59:28.223Z"
   },
   {
    "duration": -65,
    "start_time": "2021-08-31T10:59:28.226Z"
   },
   {
    "duration": -69,
    "start_time": "2021-08-31T10:59:28.232Z"
   },
   {
    "duration": -69,
    "start_time": "2021-08-31T10:59:28.235Z"
   },
   {
    "duration": -101,
    "start_time": "2021-08-31T10:59:28.270Z"
   },
   {
    "duration": -104,
    "start_time": "2021-08-31T10:59:28.275Z"
   },
   {
    "duration": -107,
    "start_time": "2021-08-31T10:59:28.280Z"
   },
   {
    "duration": -107,
    "start_time": "2021-08-31T10:59:28.283Z"
   },
   {
    "duration": -109,
    "start_time": "2021-08-31T10:59:28.287Z"
   },
   {
    "duration": -112,
    "start_time": "2021-08-31T10:59:28.292Z"
   },
   {
    "duration": -113,
    "start_time": "2021-08-31T10:59:28.295Z"
   },
   {
    "duration": -114,
    "start_time": "2021-08-31T10:59:28.299Z"
   },
   {
    "duration": -118,
    "start_time": "2021-08-31T10:59:28.305Z"
   },
   {
    "duration": -121,
    "start_time": "2021-08-31T10:59:28.310Z"
   },
   {
    "duration": -123,
    "start_time": "2021-08-31T10:59:28.314Z"
   },
   {
    "duration": -126,
    "start_time": "2021-08-31T10:59:28.319Z"
   },
   {
    "duration": -69,
    "start_time": "2021-08-31T10:59:28.324Z"
   },
   {
    "duration": -72,
    "start_time": "2021-08-31T10:59:28.329Z"
   },
   {
    "duration": -73,
    "start_time": "2021-08-31T10:59:28.333Z"
   },
   {
    "duration": -77,
    "start_time": "2021-08-31T10:59:28.339Z"
   },
   {
    "duration": -78,
    "start_time": "2021-08-31T10:59:28.342Z"
   },
   {
    "duration": -80,
    "start_time": "2021-08-31T10:59:28.345Z"
   },
   {
    "duration": -81,
    "start_time": "2021-08-31T10:59:28.348Z"
   },
   {
    "duration": -88,
    "start_time": "2021-08-31T10:59:28.357Z"
   },
   {
    "duration": -91,
    "start_time": "2021-08-31T10:59:28.361Z"
   },
   {
    "duration": -93,
    "start_time": "2021-08-31T10:59:28.365Z"
   },
   {
    "duration": 1492,
    "start_time": "2021-08-31T11:16:40.290Z"
   },
   {
    "duration": 1043,
    "start_time": "2021-08-31T11:16:42.485Z"
   },
   {
    "duration": 52,
    "start_time": "2021-08-31T11:16:46.066Z"
   },
   {
    "duration": 34,
    "start_time": "2021-08-31T11:16:49.233Z"
   },
   {
    "duration": 41,
    "start_time": "2021-08-31T11:16:49.684Z"
   },
   {
    "duration": 24,
    "start_time": "2021-08-31T11:16:50.204Z"
   },
   {
    "duration": 20,
    "start_time": "2021-08-31T11:16:50.676Z"
   },
   {
    "duration": 28,
    "start_time": "2021-08-31T11:18:16.160Z"
   },
   {
    "duration": 133,
    "start_time": "2021-08-31T11:18:19.671Z"
   },
   {
    "duration": 5,
    "start_time": "2021-08-31T11:18:22.594Z"
   },
   {
    "duration": 5,
    "start_time": "2021-08-31T11:18:23.073Z"
   },
   {
    "duration": 7,
    "start_time": "2021-08-31T11:18:23.544Z"
   },
   {
    "duration": 5,
    "start_time": "2021-08-31T11:18:25.851Z"
   },
   {
    "duration": 6,
    "start_time": "2021-08-31T11:18:28.904Z"
   },
   {
    "duration": 157,
    "start_time": "2021-08-31T11:18:34.623Z"
   },
   {
    "duration": 41,
    "start_time": "2021-08-31T11:18:34.985Z"
   },
   {
    "duration": 210,
    "start_time": "2021-08-31T11:18:35.398Z"
   },
   {
    "duration": 14,
    "start_time": "2021-08-31T11:18:37.969Z"
   },
   {
    "duration": 22,
    "start_time": "2021-08-31T11:18:42.992Z"
   },
   {
    "duration": 23,
    "start_time": "2021-08-31T11:18:43.550Z"
   },
   {
    "duration": 10,
    "start_time": "2021-08-31T11:18:44.455Z"
   },
   {
    "duration": 9,
    "start_time": "2021-08-31T11:18:47.414Z"
   },
   {
    "duration": 15,
    "start_time": "2021-08-31T11:18:47.880Z"
   },
   {
    "duration": 14,
    "start_time": "2021-08-31T11:18:53.002Z"
   },
   {
    "duration": 16,
    "start_time": "2021-08-31T11:18:54.372Z"
   },
   {
    "duration": 18,
    "start_time": "2021-08-31T11:18:56.626Z"
   },
   {
    "duration": 22,
    "start_time": "2021-08-31T11:19:00.842Z"
   },
   {
    "duration": 375,
    "start_time": "2021-08-31T11:19:01.202Z"
   },
   {
    "duration": 249,
    "start_time": "2021-08-31T11:19:03.373Z"
   },
   {
    "duration": 250,
    "start_time": "2021-08-31T11:19:03.847Z"
   },
   {
    "duration": 647,
    "start_time": "2021-08-31T11:19:11.135Z"
   },
   {
    "duration": 579,
    "start_time": "2021-08-31T11:19:11.786Z"
   },
   {
    "duration": 17,
    "start_time": "2021-08-31T11:19:22.684Z"
   },
   {
    "duration": 8,
    "start_time": "2021-08-31T11:19:23.305Z"
   },
   {
    "duration": 7,
    "start_time": "2021-08-31T11:19:23.738Z"
   },
   {
    "duration": 310,
    "start_time": "2021-08-31T11:19:24.415Z"
   },
   {
    "duration": 6,
    "start_time": "2021-08-31T11:19:30.016Z"
   },
   {
    "duration": 24,
    "start_time": "2021-08-31T11:19:37.027Z"
   },
   {
    "duration": 12,
    "start_time": "2021-08-31T11:19:38.619Z"
   },
   {
    "duration": 14991,
    "start_time": "2021-08-31T11:19:40.456Z"
   },
   {
    "duration": 5,
    "start_time": "2021-08-31T11:20:04.225Z"
   },
   {
    "duration": 8,
    "start_time": "2021-08-31T11:20:06.983Z"
   },
   {
    "duration": 1913,
    "start_time": "2021-08-31T11:20:52.359Z"
   },
   {
    "duration": 1128,
    "start_time": "2021-08-31T11:20:54.276Z"
   },
   {
    "duration": 87,
    "start_time": "2021-08-31T11:20:55.408Z"
   },
   {
    "duration": 41,
    "start_time": "2021-08-31T11:20:55.498Z"
   },
   {
    "duration": 79,
    "start_time": "2021-08-31T11:20:55.542Z"
   },
   {
    "duration": 39,
    "start_time": "2021-08-31T11:20:55.624Z"
   },
   {
    "duration": 44,
    "start_time": "2021-08-31T11:20:55.666Z"
   },
   {
    "duration": 27,
    "start_time": "2021-08-31T11:20:55.714Z"
   },
   {
    "duration": 165,
    "start_time": "2021-08-31T11:20:55.744Z"
   },
   {
    "duration": 75,
    "start_time": "2021-08-31T11:20:55.913Z"
   },
   {
    "duration": 24,
    "start_time": "2021-08-31T11:20:55.991Z"
   },
   {
    "duration": 13,
    "start_time": "2021-08-31T11:20:56.018Z"
   },
   {
    "duration": 7,
    "start_time": "2021-08-31T11:20:56.034Z"
   },
   {
    "duration": 6,
    "start_time": "2021-08-31T11:20:57.170Z"
   },
   {
    "duration": 199,
    "start_time": "2021-08-31T11:20:57.706Z"
   },
   {
    "duration": 42,
    "start_time": "2021-08-31T11:20:57.908Z"
   },
   {
    "duration": 190,
    "start_time": "2021-08-31T11:20:58.056Z"
   },
   {
    "duration": 16,
    "start_time": "2021-08-31T11:20:58.410Z"
   },
   {
    "duration": 28,
    "start_time": "2021-08-31T11:20:58.776Z"
   },
   {
    "duration": 41,
    "start_time": "2021-08-31T11:20:59.000Z"
   },
   {
    "duration": 11,
    "start_time": "2021-08-31T11:20:59.224Z"
   },
   {
    "duration": 9,
    "start_time": "2021-08-31T11:20:59.494Z"
   },
   {
    "duration": 17,
    "start_time": "2021-08-31T11:21:00.187Z"
   },
   {
    "duration": 11,
    "start_time": "2021-08-31T11:21:04.172Z"
   },
   {
    "duration": 16,
    "start_time": "2021-08-31T11:21:04.360Z"
   },
   {
    "duration": 18,
    "start_time": "2021-08-31T11:21:04.753Z"
   },
   {
    "duration": 25,
    "start_time": "2021-08-31T11:21:05.482Z"
   },
   {
    "duration": 376,
    "start_time": "2021-08-31T11:21:05.900Z"
   },
   {
    "duration": 529,
    "start_time": "2021-08-31T11:21:08.209Z"
   },
   {
    "duration": 387,
    "start_time": "2021-08-31T11:21:08.742Z"
   },
   {
    "duration": 493,
    "start_time": "2021-08-31T11:21:11.485Z"
   },
   {
    "duration": 429,
    "start_time": "2021-08-31T11:21:11.983Z"
   },
   {
    "duration": 14,
    "start_time": "2021-08-31T11:21:17.047Z"
   },
   {
    "duration": 8,
    "start_time": "2021-08-31T11:21:17.519Z"
   },
   {
    "duration": 10,
    "start_time": "2021-08-31T11:21:17.753Z"
   },
   {
    "duration": 385,
    "start_time": "2021-08-31T11:21:17.966Z"
   },
   {
    "duration": 8,
    "start_time": "2021-08-31T11:21:22.936Z"
   },
   {
    "duration": 5,
    "start_time": "2021-08-31T11:21:46.559Z"
   },
   {
    "duration": 30,
    "start_time": "2021-08-31T11:21:47.888Z"
   },
   {
    "duration": 710,
    "start_time": "2021-08-31T11:21:49.989Z"
   },
   {
    "duration": 14,
    "start_time": "2021-08-31T11:23:35.741Z"
   },
   {
    "duration": 81,
    "start_time": "2021-08-31T11:23:36.738Z"
   },
   {
    "duration": 15280,
    "start_time": "2021-08-31T11:23:37.853Z"
   },
   {
    "duration": 1433,
    "start_time": "2021-08-31T11:24:33.159Z"
   },
   {
    "duration": 938,
    "start_time": "2021-08-31T11:24:34.595Z"
   },
   {
    "duration": 58,
    "start_time": "2021-08-31T11:24:35.536Z"
   },
   {
    "duration": 38,
    "start_time": "2021-08-31T11:24:35.597Z"
   },
   {
    "duration": 92,
    "start_time": "2021-08-31T11:24:35.638Z"
   },
   {
    "duration": 32,
    "start_time": "2021-08-31T11:24:35.733Z"
   },
   {
    "duration": 31,
    "start_time": "2021-08-31T11:24:35.768Z"
   },
   {
    "duration": 27,
    "start_time": "2021-08-31T11:24:35.805Z"
   },
   {
    "duration": 172,
    "start_time": "2021-08-31T11:24:35.834Z"
   },
   {
    "duration": 12,
    "start_time": "2021-08-31T11:24:36.081Z"
   },
   {
    "duration": 6,
    "start_time": "2021-08-31T11:24:36.158Z"
   },
   {
    "duration": 6,
    "start_time": "2021-08-31T11:24:36.336Z"
   },
   {
    "duration": 5,
    "start_time": "2021-08-31T11:24:36.506Z"
   },
   {
    "duration": 7,
    "start_time": "2021-08-31T11:24:36.982Z"
   },
   {
    "duration": 173,
    "start_time": "2021-08-31T11:24:37.519Z"
   },
   {
    "duration": 51,
    "start_time": "2021-08-31T11:24:37.746Z"
   },
   {
    "duration": 186,
    "start_time": "2021-08-31T11:24:37.894Z"
   },
   {
    "duration": 14,
    "start_time": "2021-08-31T11:24:38.262Z"
   },
   {
    "duration": 18,
    "start_time": "2021-08-31T11:24:38.639Z"
   },
   {
    "duration": 24,
    "start_time": "2021-08-31T11:24:38.830Z"
   },
   {
    "duration": 11,
    "start_time": "2021-08-31T11:24:39.034Z"
   },
   {
    "duration": 10,
    "start_time": "2021-08-31T11:24:39.199Z"
   },
   {
    "duration": 18,
    "start_time": "2021-08-31T11:24:39.386Z"
   },
   {
    "duration": 17,
    "start_time": "2021-08-31T11:24:39.788Z"
   },
   {
    "duration": 15,
    "start_time": "2021-08-31T11:24:40.240Z"
   },
   {
    "duration": 17,
    "start_time": "2021-08-31T11:24:40.617Z"
   },
   {
    "duration": 27,
    "start_time": "2021-08-31T11:24:41.384Z"
   },
   {
    "duration": 368,
    "start_time": "2021-08-31T11:24:41.588Z"
   },
   {
    "duration": 266,
    "start_time": "2021-08-31T11:24:41.959Z"
   },
   {
    "duration": 289,
    "start_time": "2021-08-31T11:24:42.228Z"
   },
   {
    "duration": 557,
    "start_time": "2021-08-31T11:24:43.385Z"
   },
   {
    "duration": 550,
    "start_time": "2021-08-31T11:24:43.945Z"
   },
   {
    "duration": 13,
    "start_time": "2021-08-31T11:24:45.238Z"
   },
   {
    "duration": 7,
    "start_time": "2021-08-31T11:24:45.561Z"
   },
   {
    "duration": 8,
    "start_time": "2021-08-31T11:24:45.742Z"
   },
   {
    "duration": 258,
    "start_time": "2021-08-31T11:24:45.915Z"
   },
   {
    "duration": 7,
    "start_time": "2021-08-31T11:24:47.045Z"
   },
   {
    "duration": 25,
    "start_time": "2021-08-31T11:24:47.628Z"
   },
   {
    "duration": 591,
    "start_time": "2021-08-31T11:24:47.938Z"
   },
   {
    "duration": 1699,
    "start_time": "2021-08-31T11:24:46.833Z"
   },
   {
    "duration": 1497,
    "start_time": "2021-08-31T11:25:01.416Z"
   },
   {
    "duration": 907,
    "start_time": "2021-08-31T11:25:02.916Z"
   },
   {
    "duration": 61,
    "start_time": "2021-08-31T11:25:03.826Z"
   },
   {
    "duration": 38,
    "start_time": "2021-08-31T11:25:03.890Z"
   },
   {
    "duration": 55,
    "start_time": "2021-08-31T11:25:03.931Z"
   },
   {
    "duration": 32,
    "start_time": "2021-08-31T11:25:03.989Z"
   },
   {
    "duration": 17,
    "start_time": "2021-08-31T11:25:04.024Z"
   },
   {
    "duration": 59,
    "start_time": "2021-08-31T11:25:04.044Z"
   },
   {
    "duration": 90,
    "start_time": "2021-08-31T11:25:04.106Z"
   },
   {
    "duration": 90,
    "start_time": "2021-08-31T11:25:04.200Z"
   },
   {
    "duration": 20,
    "start_time": "2021-08-31T11:25:04.293Z"
   },
   {
    "duration": 9,
    "start_time": "2021-08-31T11:25:04.384Z"
   },
   {
    "duration": 7,
    "start_time": "2021-08-31T11:25:04.397Z"
   },
   {
    "duration": 6,
    "start_time": "2021-08-31T11:25:04.505Z"
   },
   {
    "duration": 160,
    "start_time": "2021-08-31T11:25:05.028Z"
   },
   {
    "duration": 50,
    "start_time": "2021-08-31T11:25:05.197Z"
   },
   {
    "duration": 184,
    "start_time": "2021-08-31T11:25:05.384Z"
   },
   {
    "duration": 16,
    "start_time": "2021-08-31T11:25:05.735Z"
   },
   {
    "duration": 26,
    "start_time": "2021-08-31T11:25:06.089Z"
   },
   {
    "duration": 35,
    "start_time": "2021-08-31T11:25:06.272Z"
   },
   {
    "duration": 12,
    "start_time": "2021-08-31T11:25:06.466Z"
   },
   {
    "duration": 9,
    "start_time": "2021-08-31T11:25:06.671Z"
   },
   {
    "duration": 14,
    "start_time": "2021-08-31T11:25:06.857Z"
   },
   {
    "duration": 9,
    "start_time": "2021-08-31T11:25:07.235Z"
   },
   {
    "duration": 15,
    "start_time": "2021-08-31T11:25:07.442Z"
   },
   {
    "duration": 19,
    "start_time": "2021-08-31T11:25:08.472Z"
   },
   {
    "duration": 85,
    "start_time": "2021-08-31T11:25:09.452Z"
   },
   {
    "duration": 380,
    "start_time": "2021-08-31T11:25:09.615Z"
   },
   {
    "duration": 262,
    "start_time": "2021-08-31T11:25:09.998Z"
   },
   {
    "duration": 273,
    "start_time": "2021-08-31T11:25:10.263Z"
   },
   {
    "duration": 448,
    "start_time": "2021-08-31T11:25:10.664Z"
   },
   {
    "duration": 403,
    "start_time": "2021-08-31T11:25:11.114Z"
   },
   {
    "duration": 14,
    "start_time": "2021-08-31T11:25:15.203Z"
   },
   {
    "duration": 9,
    "start_time": "2021-08-31T11:25:15.501Z"
   },
   {
    "duration": 8,
    "start_time": "2021-08-31T11:25:15.780Z"
   },
   {
    "duration": 266,
    "start_time": "2021-08-31T11:25:16.099Z"
   },
   {
    "duration": 6,
    "start_time": "2021-08-31T11:25:21.736Z"
   },
   {
    "duration": 4,
    "start_time": "2021-08-31T11:25:29.519Z"
   },
   {
    "duration": 3,
    "start_time": "2021-08-31T11:25:35.707Z"
   },
   {
    "duration": 4,
    "start_time": "2021-08-31T11:26:50.283Z"
   },
   {
    "duration": 29,
    "start_time": "2021-08-31T11:27:01.514Z"
   },
   {
    "duration": 23597,
    "start_time": "2021-08-31T11:27:04.542Z"
   },
   {
    "duration": 5,
    "start_time": "2021-08-31T11:27:40.859Z"
   },
   {
    "duration": 4,
    "start_time": "2021-08-31T11:27:51.585Z"
   },
   {
    "duration": 633,
    "start_time": "2021-08-31T11:27:55.326Z"
   },
   {
    "duration": 403,
    "start_time": "2021-08-31T11:29:00.335Z"
   },
   {
    "duration": 3,
    "start_time": "2021-08-31T11:31:44.870Z"
   },
   {
    "duration": 4,
    "start_time": "2021-08-31T11:31:45.486Z"
   },
   {
    "duration": 4,
    "start_time": "2021-08-31T11:32:47.918Z"
   },
   {
    "duration": 22701,
    "start_time": "2021-08-31T11:32:53.221Z"
   },
   {
    "duration": 4,
    "start_time": "2021-08-31T11:33:27.674Z"
   },
   {
    "duration": 92340,
    "start_time": "2021-08-31T11:33:28.666Z"
   },
   {
    "duration": 3,
    "start_time": "2021-08-31T11:35:10.612Z"
   },
   {
    "duration": 92999,
    "start_time": "2021-08-31T11:35:12.033Z"
   },
   {
    "duration": 3,
    "start_time": "2021-08-31T11:39:46.927Z"
   },
   {
    "duration": 387,
    "start_time": "2021-08-31T11:39:53.488Z"
   },
   {
    "duration": 3,
    "start_time": "2021-08-31T11:41:57.609Z"
   },
   {
    "duration": 4,
    "start_time": "2021-08-31T11:52:13.003Z"
   },
   {
    "duration": 4,
    "start_time": "2021-08-31T11:53:35.820Z"
   },
   {
    "duration": 1264,
    "start_time": "2021-08-31T11:54:38.124Z"
   },
   {
    "duration": 851,
    "start_time": "2021-08-31T11:54:39.395Z"
   },
   {
    "duration": 44,
    "start_time": "2021-08-31T11:54:41.082Z"
   },
   {
    "duration": 36,
    "start_time": "2021-08-31T11:54:41.307Z"
   },
   {
    "duration": 34,
    "start_time": "2021-08-31T11:54:41.470Z"
   },
   {
    "duration": 24,
    "start_time": "2021-08-31T11:54:41.649Z"
   },
   {
    "duration": 18,
    "start_time": "2021-08-31T11:54:41.823Z"
   },
   {
    "duration": 29,
    "start_time": "2021-08-31T11:54:42.009Z"
   },
   {
    "duration": 197,
    "start_time": "2021-08-31T11:54:42.388Z"
   },
   {
    "duration": 7,
    "start_time": "2021-08-31T11:54:42.588Z"
   },
   {
    "duration": 5,
    "start_time": "2021-08-31T11:54:42.759Z"
   },
   {
    "duration": 6,
    "start_time": "2021-08-31T11:54:42.944Z"
   },
   {
    "duration": 5,
    "start_time": "2021-08-31T11:54:43.113Z"
   },
   {
    "duration": 7,
    "start_time": "2021-08-31T11:54:43.692Z"
   },
   {
    "duration": 161,
    "start_time": "2021-08-31T11:54:44.271Z"
   },
   {
    "duration": 51,
    "start_time": "2021-08-31T11:54:44.435Z"
   },
   {
    "duration": 172,
    "start_time": "2021-08-31T11:54:44.621Z"
   },
   {
    "duration": 14,
    "start_time": "2021-08-31T11:54:45.002Z"
   },
   {
    "duration": 20,
    "start_time": "2021-08-31T11:54:45.379Z"
   },
   {
    "duration": 25,
    "start_time": "2021-08-31T11:54:45.583Z"
   },
   {
    "duration": 12,
    "start_time": "2021-08-31T11:54:45.784Z"
   },
   {
    "duration": 10,
    "start_time": "2021-08-31T11:54:45.940Z"
   },
   {
    "duration": 12,
    "start_time": "2021-08-31T11:54:46.130Z"
   },
   {
    "duration": 9,
    "start_time": "2021-08-31T11:54:46.498Z"
   },
   {
    "duration": 16,
    "start_time": "2021-08-31T11:54:46.668Z"
   },
   {
    "duration": 17,
    "start_time": "2021-08-31T11:54:47.077Z"
   },
   {
    "duration": 22,
    "start_time": "2021-08-31T11:54:47.824Z"
   },
   {
    "duration": 353,
    "start_time": "2021-08-31T11:54:48.001Z"
   },
   {
    "duration": 237,
    "start_time": "2021-08-31T11:54:48.357Z"
   },
   {
    "duration": 255,
    "start_time": "2021-08-31T11:54:48.598Z"
   },
   {
    "duration": 429,
    "start_time": "2021-08-31T11:54:49.080Z"
   },
   {
    "duration": 383,
    "start_time": "2021-08-31T11:54:49.511Z"
   },
   {
    "duration": 13,
    "start_time": "2021-08-31T11:54:50.447Z"
   },
   {
    "duration": 7,
    "start_time": "2021-08-31T11:54:50.630Z"
   },
   {
    "duration": 7,
    "start_time": "2021-08-31T11:54:50.865Z"
   },
   {
    "duration": 257,
    "start_time": "2021-08-31T11:54:51.054Z"
   },
   {
    "duration": 6,
    "start_time": "2021-08-31T11:54:52.873Z"
   },
   {
    "duration": 3,
    "start_time": "2021-08-31T11:54:53.625Z"
   },
   {
    "duration": 23,
    "start_time": "2021-08-31T11:54:54.025Z"
   },
   {
    "duration": 19988,
    "start_time": "2021-08-31T11:54:54.524Z"
   },
   {
    "duration": 5,
    "start_time": "2021-08-31T11:55:14.514Z"
   },
   {
    "duration": 4,
    "start_time": "2021-08-31T11:55:14.523Z"
   },
   {
    "duration": 90408,
    "start_time": "2021-08-31T11:55:14.529Z"
   },
   {
    "duration": 3,
    "start_time": "2021-08-31T11:56:44.940Z"
   },
   {
    "duration": 18,
    "start_time": "2021-08-31T12:05:14.974Z"
   },
   {
    "duration": 2083,
    "start_time": "2021-08-31T12:05:41.108Z"
   },
   {
    "duration": 4,
    "start_time": "2021-08-31T12:05:55.347Z"
   },
   {
    "duration": 506,
    "start_time": "2021-08-31T12:06:01.446Z"
   },
   {
    "duration": 9,
    "start_time": "2021-08-31T12:09:15.161Z"
   },
   {
    "duration": 2349,
    "start_time": "2021-08-31T12:09:16.561Z"
   },
   {
    "duration": 4,
    "start_time": "2021-08-31T12:09:50.571Z"
   },
   {
    "duration": 323,
    "start_time": "2021-08-31T12:09:53.520Z"
   },
   {
    "duration": 2083,
    "start_time": "2021-08-31T12:18:43.649Z"
   },
   {
    "duration": 2154,
    "start_time": "2021-08-31T12:18:51.293Z"
   },
   {
    "duration": 1083,
    "start_time": "2021-08-31T12:18:57.450Z"
   },
   {
    "duration": 1307,
    "start_time": "2021-08-31T12:19:05.829Z"
   },
   {
    "duration": 2715,
    "start_time": "2021-08-31T12:19:11.904Z"
   },
   {
    "duration": 2095,
    "start_time": "2021-08-31T12:19:22.265Z"
   },
   {
    "duration": 3,
    "start_time": "2021-08-31T12:20:00.297Z"
   },
   {
    "duration": 377,
    "start_time": "2021-08-31T12:20:02.653Z"
   },
   {
    "duration": 2111,
    "start_time": "2021-08-31T12:20:48.997Z"
   },
   {
    "duration": 326,
    "start_time": "2021-08-31T12:21:53.654Z"
   },
   {
    "duration": 383,
    "start_time": "2021-08-31T12:23:04.767Z"
   },
   {
    "duration": 386,
    "start_time": "2021-08-31T12:23:16.105Z"
   },
   {
    "duration": 7,
    "start_time": "2021-08-31T12:24:04.552Z"
   },
   {
    "duration": 8,
    "start_time": "2021-08-31T12:24:35.942Z"
   },
   {
    "duration": 2108,
    "start_time": "2021-08-31T12:24:36.552Z"
   },
   {
    "duration": 3,
    "start_time": "2021-08-31T12:24:42.418Z"
   },
   {
    "duration": 348,
    "start_time": "2021-08-31T12:24:45.132Z"
   },
   {
    "duration": 344,
    "start_time": "2021-08-31T12:25:11.470Z"
   },
   {
    "duration": 563,
    "start_time": "2021-08-31T12:25:26.625Z"
   },
   {
    "duration": 8,
    "start_time": "2021-08-31T12:29:07.617Z"
   },
   {
    "duration": 6771,
    "start_time": "2021-08-31T12:29:08.440Z"
   },
   {
    "duration": 3,
    "start_time": "2021-08-31T12:29:22.485Z"
   },
   {
    "duration": 352,
    "start_time": "2021-08-31T12:29:25.601Z"
   },
   {
    "duration": 369,
    "start_time": "2021-08-31T12:33:23.389Z"
   },
   {
    "duration": 7110,
    "start_time": "2021-08-31T12:42:45.563Z"
   },
   {
    "duration": 369,
    "start_time": "2021-08-31T12:43:56.974Z"
   },
   {
    "duration": 7148,
    "start_time": "2021-08-31T12:44:14.950Z"
   },
   {
    "duration": 9871,
    "start_time": "2021-08-31T12:44:25.122Z"
   },
   {
    "duration": 4,
    "start_time": "2021-08-31T12:44:39.337Z"
   },
   {
    "duration": 372,
    "start_time": "2021-08-31T12:44:40.188Z"
   },
   {
    "duration": 344,
    "start_time": "2021-08-31T12:46:52.690Z"
   },
   {
    "duration": 936,
    "start_time": "2021-08-31T12:47:24.178Z"
   },
   {
    "duration": 357,
    "start_time": "2021-08-31T12:47:41.642Z"
   },
   {
    "duration": 9643,
    "start_time": "2021-08-31T12:48:04.458Z"
   },
   {
    "duration": 4,
    "start_time": "2021-08-31T12:48:24.467Z"
   },
   {
    "duration": 349,
    "start_time": "2021-08-31T12:48:26.400Z"
   },
   {
    "duration": 1308,
    "start_time": "2021-09-01T05:01:20.284Z"
   },
   {
    "duration": 893,
    "start_time": "2021-09-01T05:01:23.485Z"
   },
   {
    "duration": 44,
    "start_time": "2021-09-01T05:01:24.381Z"
   },
   {
    "duration": 52,
    "start_time": "2021-09-01T05:01:24.427Z"
   },
   {
    "duration": 33,
    "start_time": "2021-09-01T05:01:24.481Z"
   },
   {
    "duration": 50,
    "start_time": "2021-09-01T05:01:24.516Z"
   },
   {
    "duration": 15,
    "start_time": "2021-09-01T05:01:24.568Z"
   },
   {
    "duration": 26,
    "start_time": "2021-09-01T05:01:24.733Z"
   },
   {
    "duration": 81,
    "start_time": "2021-09-01T05:01:25.087Z"
   },
   {
    "duration": 6,
    "start_time": "2021-09-01T05:01:25.278Z"
   },
   {
    "duration": 5,
    "start_time": "2021-09-01T05:01:25.457Z"
   },
   {
    "duration": 7,
    "start_time": "2021-09-01T05:01:25.647Z"
   },
   {
    "duration": 6,
    "start_time": "2021-09-01T05:01:25.841Z"
   },
   {
    "duration": 6,
    "start_time": "2021-09-01T05:01:26.385Z"
   },
   {
    "duration": 155,
    "start_time": "2021-09-01T05:01:26.916Z"
   },
   {
    "duration": 35,
    "start_time": "2021-09-01T05:01:27.091Z"
   },
   {
    "duration": 178,
    "start_time": "2021-09-01T05:01:27.285Z"
   },
   {
    "duration": 15,
    "start_time": "2021-09-01T05:01:27.632Z"
   },
   {
    "duration": 20,
    "start_time": "2021-09-01T05:01:27.997Z"
   },
   {
    "duration": 26,
    "start_time": "2021-09-01T05:01:28.174Z"
   },
   {
    "duration": 9,
    "start_time": "2021-09-01T05:01:28.363Z"
   },
   {
    "duration": 8,
    "start_time": "2021-09-01T05:01:28.557Z"
   },
   {
    "duration": 14,
    "start_time": "2021-09-01T05:01:28.742Z"
   },
   {
    "duration": 10,
    "start_time": "2021-09-01T05:01:29.090Z"
   },
   {
    "duration": 16,
    "start_time": "2021-09-01T05:01:29.281Z"
   },
   {
    "duration": 19,
    "start_time": "2021-09-01T05:01:29.640Z"
   },
   {
    "duration": 23,
    "start_time": "2021-09-01T05:01:30.403Z"
   },
   {
    "duration": 346,
    "start_time": "2021-09-01T05:01:30.620Z"
   },
   {
    "duration": 224,
    "start_time": "2021-09-01T05:01:31.631Z"
   },
   {
    "duration": 233,
    "start_time": "2021-09-01T05:01:32.070Z"
   },
   {
    "duration": 420,
    "start_time": "2021-09-01T05:01:33.926Z"
   },
   {
    "duration": 378,
    "start_time": "2021-09-01T05:01:34.486Z"
   },
   {
    "duration": 11,
    "start_time": "2021-09-01T05:01:38.077Z"
   },
   {
    "duration": 7,
    "start_time": "2021-09-01T05:01:38.433Z"
   },
   {
    "duration": 8,
    "start_time": "2021-09-01T05:01:38.747Z"
   },
   {
    "duration": 269,
    "start_time": "2021-09-01T05:01:39.053Z"
   },
   {
    "duration": 5,
    "start_time": "2021-09-01T05:01:42.303Z"
   },
   {
    "duration": 3,
    "start_time": "2021-09-01T05:01:44.148Z"
   },
   {
    "duration": 24,
    "start_time": "2021-09-01T05:01:46.299Z"
   },
   {
    "duration": 19790,
    "start_time": "2021-09-01T05:01:48.530Z"
   },
   {
    "duration": 5,
    "start_time": "2021-09-01T05:02:08.323Z"
   },
   {
    "duration": 16,
    "start_time": "2021-09-01T05:02:08.331Z"
   },
   {
    "duration": 85453,
    "start_time": "2021-09-01T05:02:08.350Z"
   },
   {
    "duration": 3,
    "start_time": "2021-09-01T05:03:33.806Z"
   },
   {
    "duration": 8,
    "start_time": "2021-09-01T05:03:40.003Z"
   },
   {
    "duration": 3124,
    "start_time": "2021-09-01T05:04:04.605Z"
   },
   {
    "duration": 30,
    "start_time": "2021-09-01T05:04:37.478Z"
   },
   {
    "duration": 7,
    "start_time": "2021-09-01T05:05:11.236Z"
   },
   {
    "duration": 4,
    "start_time": "2021-09-01T05:05:39.000Z"
   },
   {
    "duration": 21,
    "start_time": "2021-09-01T05:05:57.371Z"
   },
   {
    "duration": 461,
    "start_time": "2021-09-01T05:07:04.025Z"
   },
   {
    "duration": 115,
    "start_time": "2021-09-01T05:07:19.832Z"
   },
   {
    "duration": 3,
    "start_time": "2021-09-01T05:08:14.567Z"
   },
   {
    "duration": 29,
    "start_time": "2021-09-01T05:08:32.265Z"
   },
   {
    "duration": 22,
    "start_time": "2021-09-01T05:08:39.469Z"
   },
   {
    "duration": 368,
    "start_time": "2021-09-01T05:09:13.667Z"
   },
   {
    "duration": 118,
    "start_time": "2021-09-01T05:09:26.754Z"
   },
   {
    "duration": 153,
    "start_time": "2021-09-01T05:10:41.919Z"
   },
   {
    "duration": 8116,
    "start_time": "2021-09-01T05:10:58.086Z"
   },
   {
    "duration": 3,
    "start_time": "2021-09-01T05:11:48.381Z"
   },
   {
    "duration": 16,
    "start_time": "2021-09-01T05:12:37.169Z"
   },
   {
    "duration": 15,
    "start_time": "2021-09-01T05:15:56.010Z"
   },
   {
    "duration": 327,
    "start_time": "2021-09-01T05:18:12.300Z"
   },
   {
    "duration": 328,
    "start_time": "2021-09-01T05:18:24.714Z"
   },
   {
    "duration": 7857,
    "start_time": "2021-09-01T05:19:07.141Z"
   },
   {
    "duration": 22,
    "start_time": "2021-09-01T05:19:35.978Z"
   },
   {
    "duration": 3,
    "start_time": "2021-09-01T05:27:43.332Z"
   },
   {
    "duration": 108,
    "start_time": "2021-09-01T05:27:49.186Z"
   },
   {
    "duration": 4,
    "start_time": "2021-09-01T05:37:08.599Z"
   },
   {
    "duration": 10,
    "start_time": "2021-09-01T05:37:44.553Z"
   },
   {
    "duration": 17,
    "start_time": "2021-09-01T05:37:58.836Z"
   },
   {
    "duration": 1335,
    "start_time": "2021-09-01T05:38:26.352Z"
   },
   {
    "duration": 864,
    "start_time": "2021-09-01T05:38:27.690Z"
   },
   {
    "duration": 43,
    "start_time": "2021-09-01T05:38:28.561Z"
   },
   {
    "duration": 32,
    "start_time": "2021-09-01T05:38:28.606Z"
   },
   {
    "duration": 53,
    "start_time": "2021-09-01T05:38:28.640Z"
   },
   {
    "duration": 30,
    "start_time": "2021-09-01T05:38:28.695Z"
   },
   {
    "duration": 39,
    "start_time": "2021-09-01T05:38:28.727Z"
   },
   {
    "duration": 26,
    "start_time": "2021-09-01T05:38:28.769Z"
   },
   {
    "duration": 168,
    "start_time": "2021-09-01T05:38:28.798Z"
   },
   {
    "duration": 95,
    "start_time": "2021-09-01T05:38:28.969Z"
   },
   {
    "duration": 11,
    "start_time": "2021-09-01T05:38:29.067Z"
   },
   {
    "duration": 6,
    "start_time": "2021-09-01T05:38:29.081Z"
   },
   {
    "duration": 5,
    "start_time": "2021-09-01T05:38:29.178Z"
   },
   {
    "duration": 7,
    "start_time": "2021-09-01T05:38:29.749Z"
   },
   {
    "duration": 155,
    "start_time": "2021-09-01T05:38:30.544Z"
   },
   {
    "duration": 34,
    "start_time": "2021-09-01T05:38:30.744Z"
   },
   {
    "duration": 173,
    "start_time": "2021-09-01T05:38:30.975Z"
   },
   {
    "duration": 15,
    "start_time": "2021-09-01T05:38:31.402Z"
   },
   {
    "duration": 19,
    "start_time": "2021-09-01T05:38:31.818Z"
   },
   {
    "duration": 24,
    "start_time": "2021-09-01T05:38:32.043Z"
   },
   {
    "duration": 10,
    "start_time": "2021-09-01T05:38:32.259Z"
   },
   {
    "duration": 8,
    "start_time": "2021-09-01T05:38:32.491Z"
   },
   {
    "duration": 14,
    "start_time": "2021-09-01T05:38:32.692Z"
   },
   {
    "duration": 9,
    "start_time": "2021-09-01T05:38:33.175Z"
   },
   {
    "duration": 16,
    "start_time": "2021-09-01T05:38:33.523Z"
   },
   {
    "duration": 19,
    "start_time": "2021-09-01T05:38:33.954Z"
   },
   {
    "duration": 24,
    "start_time": "2021-09-01T05:38:34.975Z"
   },
   {
    "duration": 351,
    "start_time": "2021-09-01T05:38:35.177Z"
   },
   {
    "duration": 249,
    "start_time": "2021-09-01T05:38:35.531Z"
   },
   {
    "duration": 248,
    "start_time": "2021-09-01T05:38:35.783Z"
   },
   {
    "duration": 411,
    "start_time": "2021-09-01T05:38:36.239Z"
   },
   {
    "duration": 376,
    "start_time": "2021-09-01T05:38:36.653Z"
   },
   {
    "duration": 12,
    "start_time": "2021-09-01T05:38:38.015Z"
   },
   {
    "duration": 8,
    "start_time": "2021-09-01T05:38:38.336Z"
   },
   {
    "duration": 8,
    "start_time": "2021-09-01T05:38:38.565Z"
   },
   {
    "duration": 233,
    "start_time": "2021-09-01T05:38:38.816Z"
   },
   {
    "duration": 5,
    "start_time": "2021-09-01T05:38:42.597Z"
   },
   {
    "duration": 13,
    "start_time": "2021-09-01T05:38:50.075Z"
   },
   {
    "duration": 93,
    "start_time": "2021-09-01T05:38:53.090Z"
   },
   {
    "duration": 118,
    "start_time": "2021-09-01T05:39:03.725Z"
   },
   {
    "duration": 1331,
    "start_time": "2021-09-01T05:47:30.062Z"
   },
   {
    "duration": 869,
    "start_time": "2021-09-01T05:47:31.963Z"
   },
   {
    "duration": 50,
    "start_time": "2021-09-01T05:47:32.835Z"
   },
   {
    "duration": 33,
    "start_time": "2021-09-01T05:47:32.888Z"
   },
   {
    "duration": 57,
    "start_time": "2021-09-01T05:47:32.924Z"
   },
   {
    "duration": 24,
    "start_time": "2021-09-01T05:47:32.984Z"
   },
   {
    "duration": 17,
    "start_time": "2021-09-01T05:47:33.169Z"
   },
   {
    "duration": 28,
    "start_time": "2021-09-01T05:47:33.345Z"
   },
   {
    "duration": 222,
    "start_time": "2021-09-01T05:47:33.742Z"
   },
   {
    "duration": 5,
    "start_time": "2021-09-01T05:47:33.966Z"
   },
   {
    "duration": 5,
    "start_time": "2021-09-01T05:47:34.150Z"
   },
   {
    "duration": 6,
    "start_time": "2021-09-01T05:47:34.359Z"
   },
   {
    "duration": 6,
    "start_time": "2021-09-01T05:47:34.549Z"
   },
   {
    "duration": 7,
    "start_time": "2021-09-01T05:47:35.170Z"
   },
   {
    "duration": 160,
    "start_time": "2021-09-01T05:47:35.806Z"
   },
   {
    "duration": 36,
    "start_time": "2021-09-01T05:47:36.074Z"
   },
   {
    "duration": 171,
    "start_time": "2021-09-01T05:47:36.239Z"
   },
   {
    "duration": 14,
    "start_time": "2021-09-01T05:47:36.672Z"
   },
   {
    "duration": 20,
    "start_time": "2021-09-01T05:47:37.107Z"
   },
   {
    "duration": 26,
    "start_time": "2021-09-01T05:47:37.328Z"
   },
   {
    "duration": 9,
    "start_time": "2021-09-01T05:47:37.551Z"
   },
   {
    "duration": 9,
    "start_time": "2021-09-01T05:47:37.887Z"
   },
   {
    "duration": 13,
    "start_time": "2021-09-01T05:47:38.119Z"
   },
   {
    "duration": 9,
    "start_time": "2021-09-01T05:47:38.617Z"
   },
   {
    "duration": 16,
    "start_time": "2021-09-01T05:47:39.159Z"
   },
   {
    "duration": 19,
    "start_time": "2021-09-01T05:47:39.764Z"
   },
   {
    "duration": 23,
    "start_time": "2021-09-01T05:47:40.894Z"
   },
   {
    "duration": 482,
    "start_time": "2021-09-01T05:47:41.208Z"
   },
   {
    "duration": 231,
    "start_time": "2021-09-01T05:47:41.762Z"
   },
   {
    "duration": 245,
    "start_time": "2021-09-01T05:47:42.017Z"
   },
   {
    "duration": 402,
    "start_time": "2021-09-01T05:47:43.003Z"
   },
   {
    "duration": 369,
    "start_time": "2021-09-01T05:47:43.551Z"
   },
   {
    "duration": 11,
    "start_time": "2021-09-01T05:47:44.968Z"
   },
   {
    "duration": 8,
    "start_time": "2021-09-01T05:47:45.272Z"
   },
   {
    "duration": 8,
    "start_time": "2021-09-01T05:47:45.573Z"
   },
   {
    "duration": 267,
    "start_time": "2021-09-01T05:47:45.867Z"
   },
   {
    "duration": 6,
    "start_time": "2021-09-01T05:47:47.045Z"
   },
   {
    "duration": 3,
    "start_time": "2021-09-01T05:47:47.540Z"
   },
   {
    "duration": 25,
    "start_time": "2021-09-01T05:47:47.763Z"
   },
   {
    "duration": 20238,
    "start_time": "2021-09-01T05:47:47.973Z"
   },
   {
    "duration": 4,
    "start_time": "2021-09-01T05:48:08.214Z"
   },
   {
    "duration": 10,
    "start_time": "2021-09-01T05:48:08.221Z"
   },
   {
    "duration": 89613,
    "start_time": "2021-09-01T05:48:08.233Z"
   },
   {
    "duration": 442,
    "start_time": "2021-09-01T05:49:37.849Z"
   },
   {
    "duration": -168,
    "start_time": "2021-09-01T05:49:38.461Z"
   },
   {
    "duration": -171,
    "start_time": "2021-09-01T05:49:38.466Z"
   },
   {
    "duration": -174,
    "start_time": "2021-09-01T05:49:38.470Z"
   },
   {
    "duration": -182,
    "start_time": "2021-09-01T05:49:38.479Z"
   },
   {
    "duration": 4,
    "start_time": "2021-09-01T05:50:23.390Z"
   },
   {
    "duration": 5455,
    "start_time": "2021-09-01T05:50:36.007Z"
   },
   {
    "duration": 5181,
    "start_time": "2021-09-01T05:50:48.387Z"
   },
   {
    "duration": 5306,
    "start_time": "2021-09-01T05:50:53.763Z"
   },
   {
    "duration": 10,
    "start_time": "2021-09-01T05:54:20.333Z"
   },
   {
    "duration": 121,
    "start_time": "2021-09-01T05:54:23.608Z"
   },
   {
    "duration": 20,
    "start_time": "2021-09-01T05:54:35.827Z"
   },
   {
    "duration": 11,
    "start_time": "2021-09-01T06:03:21.409Z"
   },
   {
    "duration": 22,
    "start_time": "2021-09-01T06:03:27.408Z"
   },
   {
    "duration": 118,
    "start_time": "2021-09-01T06:03:32.505Z"
   },
   {
    "duration": 3,
    "start_time": "2021-09-01T06:05:17.151Z"
   },
   {
    "duration": 3,
    "start_time": "2021-09-01T06:05:24.292Z"
   },
   {
    "duration": 3,
    "start_time": "2021-09-01T06:05:25.374Z"
   },
   {
    "duration": 4,
    "start_time": "2021-09-01T06:06:00.391Z"
   },
   {
    "duration": 4,
    "start_time": "2021-09-01T06:06:02.424Z"
   },
   {
    "duration": 355,
    "start_time": "2021-09-01T06:06:04.262Z"
   },
   {
    "duration": 6569,
    "start_time": "2021-09-01T06:06:23.029Z"
   },
   {
    "duration": 3,
    "start_time": "2021-09-01T06:06:34.355Z"
   },
   {
    "duration": 320,
    "start_time": "2021-09-01T06:06:35.247Z"
   },
   {
    "duration": 356,
    "start_time": "2021-09-01T06:09:32.515Z"
   },
   {
    "duration": 314,
    "start_time": "2021-09-01T06:10:17.419Z"
   },
   {
    "duration": 352,
    "start_time": "2021-09-01T06:12:53.702Z"
   },
   {
    "duration": 383,
    "start_time": "2021-09-01T06:13:12.247Z"
   },
   {
    "duration": 1328,
    "start_time": "2021-09-01T06:14:25.277Z"
   },
   {
    "duration": 894,
    "start_time": "2021-09-01T06:14:26.607Z"
   },
   {
    "duration": 43,
    "start_time": "2021-09-01T06:14:28.727Z"
   },
   {
    "duration": 34,
    "start_time": "2021-09-01T06:14:28.914Z"
   },
   {
    "duration": 34,
    "start_time": "2021-09-01T06:14:29.084Z"
   },
   {
    "duration": 24,
    "start_time": "2021-09-01T06:14:29.266Z"
   },
   {
    "duration": 16,
    "start_time": "2021-09-01T06:14:29.440Z"
   },
   {
    "duration": 28,
    "start_time": "2021-09-01T06:14:29.599Z"
   },
   {
    "duration": 41,
    "start_time": "2021-09-01T06:14:29.934Z"
   },
   {
    "duration": 6,
    "start_time": "2021-09-01T06:14:30.165Z"
   },
   {
    "duration": 6,
    "start_time": "2021-09-01T06:14:30.327Z"
   },
   {
    "duration": 7,
    "start_time": "2021-09-01T06:14:30.488Z"
   },
   {
    "duration": 6,
    "start_time": "2021-09-01T06:14:30.667Z"
   },
   {
    "duration": 6,
    "start_time": "2021-09-01T06:14:31.216Z"
   },
   {
    "duration": 157,
    "start_time": "2021-09-01T06:14:31.772Z"
   },
   {
    "duration": 36,
    "start_time": "2021-09-01T06:14:31.956Z"
   },
   {
    "duration": 179,
    "start_time": "2021-09-01T06:14:32.153Z"
   },
   {
    "duration": 14,
    "start_time": "2021-09-01T06:14:32.528Z"
   },
   {
    "duration": 19,
    "start_time": "2021-09-01T06:14:32.908Z"
   },
   {
    "duration": 26,
    "start_time": "2021-09-01T06:14:33.101Z"
   },
   {
    "duration": 10,
    "start_time": "2021-09-01T06:14:33.298Z"
   },
   {
    "duration": 9,
    "start_time": "2021-09-01T06:14:33.492Z"
   },
   {
    "duration": 14,
    "start_time": "2021-09-01T06:14:33.678Z"
   },
   {
    "duration": 12,
    "start_time": "2021-09-01T06:14:34.048Z"
   },
   {
    "duration": 17,
    "start_time": "2021-09-01T06:14:34.225Z"
   },
   {
    "duration": 20,
    "start_time": "2021-09-01T06:14:34.599Z"
   },
   {
    "duration": 24,
    "start_time": "2021-09-01T06:14:35.361Z"
   },
   {
    "duration": 354,
    "start_time": "2021-09-01T06:14:35.554Z"
   },
   {
    "duration": 257,
    "start_time": "2021-09-01T06:14:35.911Z"
   },
   {
    "duration": 258,
    "start_time": "2021-09-01T06:14:36.171Z"
   },
   {
    "duration": 498,
    "start_time": "2021-09-01T06:14:36.527Z"
   },
   {
    "duration": 378,
    "start_time": "2021-09-01T06:14:37.027Z"
   },
   {
    "duration": 11,
    "start_time": "2021-09-01T06:14:37.550Z"
   },
   {
    "duration": 8,
    "start_time": "2021-09-01T06:14:37.765Z"
   },
   {
    "duration": 8,
    "start_time": "2021-09-01T06:14:37.989Z"
   },
   {
    "duration": 318,
    "start_time": "2021-09-01T06:14:38.175Z"
   },
   {
    "duration": 5,
    "start_time": "2021-09-01T06:14:42.154Z"
   },
   {
    "duration": 503,
    "start_time": "2021-09-01T06:14:54.465Z"
   },
   {
    "duration": 10,
    "start_time": "2021-09-01T06:15:49.952Z"
   },
   {
    "duration": 514,
    "start_time": "2021-09-01T06:15:59.922Z"
   },
   {
    "duration": 7610,
    "start_time": "2021-09-01T06:16:20.983Z"
   },
   {
    "duration": 3,
    "start_time": "2021-09-01T06:16:45.858Z"
   },
   {
    "duration": 429,
    "start_time": "2021-09-01T06:16:48.987Z"
   },
   {
    "duration": 1320,
    "start_time": "2021-09-01T06:33:26.567Z"
   },
   {
    "duration": 903,
    "start_time": "2021-09-01T06:33:27.890Z"
   },
   {
    "duration": 44,
    "start_time": "2021-09-01T06:33:28.796Z"
   },
   {
    "duration": 51,
    "start_time": "2021-09-01T06:33:28.842Z"
   },
   {
    "duration": 33,
    "start_time": "2021-09-01T06:33:28.896Z"
   },
   {
    "duration": 52,
    "start_time": "2021-09-01T06:33:28.931Z"
   },
   {
    "duration": 15,
    "start_time": "2021-09-01T06:33:28.986Z"
   },
   {
    "duration": 28,
    "start_time": "2021-09-01T06:33:29.004Z"
   },
   {
    "duration": 200,
    "start_time": "2021-09-01T06:33:29.063Z"
   },
   {
    "duration": 7,
    "start_time": "2021-09-01T06:33:29.266Z"
   },
   {
    "duration": 7,
    "start_time": "2021-09-01T06:33:29.277Z"
   },
   {
    "duration": 7,
    "start_time": "2021-09-01T06:33:29.364Z"
   },
   {
    "duration": 5,
    "start_time": "2021-09-01T06:33:29.537Z"
   },
   {
    "duration": 6,
    "start_time": "2021-09-01T06:33:30.144Z"
   },
   {
    "duration": 161,
    "start_time": "2021-09-01T06:33:30.793Z"
   },
   {
    "duration": 36,
    "start_time": "2021-09-01T06:33:30.988Z"
   },
   {
    "duration": 177,
    "start_time": "2021-09-01T06:33:31.192Z"
   },
   {
    "duration": 14,
    "start_time": "2021-09-01T06:33:31.602Z"
   },
   {
    "duration": 19,
    "start_time": "2021-09-01T06:33:32.026Z"
   },
   {
    "duration": 26,
    "start_time": "2021-09-01T06:33:32.348Z"
   },
   {
    "duration": 10,
    "start_time": "2021-09-01T06:33:32.570Z"
   },
   {
    "duration": 8,
    "start_time": "2021-09-01T06:33:32.778Z"
   },
   {
    "duration": 14,
    "start_time": "2021-09-01T06:33:33.012Z"
   },
   {
    "duration": 10,
    "start_time": "2021-09-01T06:33:33.755Z"
   },
   {
    "duration": 15,
    "start_time": "2021-09-01T06:33:33.948Z"
   },
   {
    "duration": 19,
    "start_time": "2021-09-01T06:33:34.351Z"
   },
   {
    "duration": 22,
    "start_time": "2021-09-01T06:33:35.146Z"
   },
   {
    "duration": 348,
    "start_time": "2021-09-01T06:33:35.345Z"
   },
   {
    "duration": 238,
    "start_time": "2021-09-01T06:33:35.695Z"
   },
   {
    "duration": 252,
    "start_time": "2021-09-01T06:33:35.936Z"
   },
   {
    "duration": 413,
    "start_time": "2021-09-01T06:33:36.353Z"
   },
   {
    "duration": 382,
    "start_time": "2021-09-01T06:33:36.972Z"
   },
   {
    "duration": 13,
    "start_time": "2021-09-01T06:33:37.813Z"
   },
   {
    "duration": 8,
    "start_time": "2021-09-01T06:33:38.346Z"
   },
   {
    "duration": 7,
    "start_time": "2021-09-01T06:33:38.614Z"
   },
   {
    "duration": 249,
    "start_time": "2021-09-01T06:33:38.812Z"
   },
   {
    "duration": 6,
    "start_time": "2021-09-01T06:33:40.299Z"
   },
   {
    "duration": 24,
    "start_time": "2021-09-01T06:34:10.059Z"
   },
   {
    "duration": 9613,
    "start_time": "2021-09-01T06:34:18.469Z"
   },
   {
    "duration": 3,
    "start_time": "2021-09-01T06:34:57.510Z"
   },
   {
    "duration": 514,
    "start_time": "2021-09-01T06:36:50.943Z"
   },
   {
    "duration": 9753,
    "start_time": "2021-09-01T06:44:25.743Z"
   },
   {
    "duration": 4,
    "start_time": "2021-09-01T06:45:51.671Z"
   },
   {
    "duration": 9,
    "start_time": "2021-09-01T06:45:59.085Z"
   },
   {
    "duration": 299,
    "start_time": "2021-09-01T06:46:04.545Z"
   },
   {
    "duration": 11,
    "start_time": "2021-09-01T06:46:15.333Z"
   },
   {
    "duration": 339,
    "start_time": "2021-09-01T06:46:33.333Z"
   },
   {
    "duration": 10,
    "start_time": "2021-09-01T06:46:45.233Z"
   },
   {
    "duration": 324,
    "start_time": "2021-09-01T06:46:56.467Z"
   },
   {
    "duration": 21,
    "start_time": "2021-09-01T06:47:13.103Z"
   },
   {
    "duration": 23,
    "start_time": "2021-09-01T06:48:33.574Z"
   },
   {
    "duration": 1359,
    "start_time": "2021-09-01T06:49:19.934Z"
   },
   {
    "duration": 831,
    "start_time": "2021-09-01T06:49:21.295Z"
   },
   {
    "duration": 44,
    "start_time": "2021-09-01T06:49:22.871Z"
   },
   {
    "duration": 34,
    "start_time": "2021-09-01T06:49:23.373Z"
   },
   {
    "duration": 34,
    "start_time": "2021-09-01T06:49:23.671Z"
   },
   {
    "duration": 24,
    "start_time": "2021-09-01T06:49:23.890Z"
   },
   {
    "duration": 17,
    "start_time": "2021-09-01T06:49:24.081Z"
   },
   {
    "duration": 26,
    "start_time": "2021-09-01T06:49:24.311Z"
   },
   {
    "duration": 168,
    "start_time": "2021-09-01T06:49:24.695Z"
   },
   {
    "duration": 5,
    "start_time": "2021-09-01T06:49:24.963Z"
   },
   {
    "duration": 5,
    "start_time": "2021-09-01T06:49:25.117Z"
   },
   {
    "duration": 6,
    "start_time": "2021-09-01T06:49:25.323Z"
   },
   {
    "duration": 4,
    "start_time": "2021-09-01T06:49:25.542Z"
   },
   {
    "duration": 7,
    "start_time": "2021-09-01T06:49:26.172Z"
   },
   {
    "duration": 155,
    "start_time": "2021-09-01T06:49:27.125Z"
   },
   {
    "duration": 36,
    "start_time": "2021-09-01T06:49:27.532Z"
   },
   {
    "duration": 180,
    "start_time": "2021-09-01T06:49:27.835Z"
   },
   {
    "duration": 14,
    "start_time": "2021-09-01T06:49:28.560Z"
   },
   {
    "duration": 19,
    "start_time": "2021-09-01T06:49:29.896Z"
   },
   {
    "duration": 25,
    "start_time": "2021-09-01T06:49:30.454Z"
   },
   {
    "duration": 10,
    "start_time": "2021-09-01T06:49:31.003Z"
   },
   {
    "duration": 8,
    "start_time": "2021-09-01T06:49:31.537Z"
   },
   {
    "duration": 13,
    "start_time": "2021-09-01T06:49:33.829Z"
   },
   {
    "duration": 9,
    "start_time": "2021-09-01T06:49:37.990Z"
   },
   {
    "duration": 16,
    "start_time": "2021-09-01T06:49:38.182Z"
   },
   {
    "duration": 17,
    "start_time": "2021-09-01T06:49:38.589Z"
   },
   {
    "duration": 23,
    "start_time": "2021-09-01T06:49:42.186Z"
   },
   {
    "duration": 333,
    "start_time": "2021-09-01T06:49:55.717Z"
   },
   {
    "duration": 229,
    "start_time": "2021-09-01T06:50:01.846Z"
   },
   {
    "duration": 232,
    "start_time": "2021-09-01T06:50:04.903Z"
   },
   {
    "duration": 412,
    "start_time": "2021-09-01T06:50:20.872Z"
   },
   {
    "duration": 366,
    "start_time": "2021-09-01T06:50:23.342Z"
   },
   {
    "duration": 17,
    "start_time": "2021-09-01T06:52:09.077Z"
   },
   {
    "duration": 10,
    "start_time": "2021-09-01T06:52:11.221Z"
   },
   {
    "duration": 8,
    "start_time": "2021-09-01T06:52:40.719Z"
   },
   {
    "duration": 242,
    "start_time": "2021-09-01T06:52:52.405Z"
   },
   {
    "duration": 6,
    "start_time": "2021-09-01T06:52:56.940Z"
   },
   {
    "duration": 9828,
    "start_time": "2021-09-01T06:53:07.388Z"
   },
   {
    "duration": 3,
    "start_time": "2021-09-01T06:53:20.042Z"
   },
   {
    "duration": 470,
    "start_time": "2021-09-01T06:53:22.008Z"
   },
   {
    "duration": 105,
    "start_time": "2021-09-01T06:53:30.321Z"
   },
   {
    "duration": 23,
    "start_time": "2021-09-01T06:53:38.502Z"
   },
   {
    "duration": 1288,
    "start_time": "2021-09-01T06:54:08.305Z"
   },
   {
    "duration": 858,
    "start_time": "2021-09-01T06:54:09.596Z"
   },
   {
    "duration": 44,
    "start_time": "2021-09-01T06:54:11.097Z"
   },
   {
    "duration": 35,
    "start_time": "2021-09-01T06:54:11.294Z"
   },
   {
    "duration": 35,
    "start_time": "2021-09-01T06:54:11.460Z"
   },
   {
    "duration": 24,
    "start_time": "2021-09-01T06:54:11.642Z"
   },
   {
    "duration": 16,
    "start_time": "2021-09-01T06:54:11.808Z"
   },
   {
    "duration": 29,
    "start_time": "2021-09-01T06:54:11.994Z"
   },
   {
    "duration": 77,
    "start_time": "2021-09-01T06:54:12.390Z"
   },
   {
    "duration": 83,
    "start_time": "2021-09-01T06:54:12.580Z"
   },
   {
    "duration": 5,
    "start_time": "2021-09-01T06:54:12.800Z"
   },
   {
    "duration": 7,
    "start_time": "2021-09-01T06:54:12.979Z"
   },
   {
    "duration": 5,
    "start_time": "2021-09-01T06:54:13.164Z"
   },
   {
    "duration": 6,
    "start_time": "2021-09-01T06:54:13.768Z"
   },
   {
    "duration": 160,
    "start_time": "2021-09-01T06:54:14.679Z"
   },
   {
    "duration": 37,
    "start_time": "2021-09-01T06:54:14.880Z"
   },
   {
    "duration": 171,
    "start_time": "2021-09-01T06:54:15.073Z"
   },
   {
    "duration": 14,
    "start_time": "2021-09-01T06:54:15.468Z"
   },
   {
    "duration": 20,
    "start_time": "2021-09-01T06:54:15.892Z"
   },
   {
    "duration": 25,
    "start_time": "2021-09-01T06:54:16.097Z"
   },
   {
    "duration": 10,
    "start_time": "2021-09-01T06:54:16.291Z"
   },
   {
    "duration": 8,
    "start_time": "2021-09-01T06:54:16.490Z"
   },
   {
    "duration": 13,
    "start_time": "2021-09-01T06:54:16.694Z"
   },
   {
    "duration": 9,
    "start_time": "2021-09-01T06:54:17.098Z"
   },
   {
    "duration": 16,
    "start_time": "2021-09-01T06:54:17.523Z"
   },
   {
    "duration": 17,
    "start_time": "2021-09-01T06:54:18.257Z"
   },
   {
    "duration": 22,
    "start_time": "2021-09-01T06:54:19.563Z"
   },
   {
    "duration": 345,
    "start_time": "2021-09-01T06:54:19.793Z"
   },
   {
    "duration": 233,
    "start_time": "2021-09-01T06:54:37.345Z"
   },
   {
    "duration": 243,
    "start_time": "2021-09-01T06:54:39.613Z"
   },
   {
    "duration": 425,
    "start_time": "2021-09-01T06:54:44.387Z"
   },
   {
    "duration": 392,
    "start_time": "2021-09-01T06:54:44.815Z"
   },
   {
    "duration": 482,
    "start_time": "2021-09-01T06:55:32.565Z"
   },
   {
    "duration": 12,
    "start_time": "2021-09-01T06:55:41.700Z"
   },
   {
    "duration": 7,
    "start_time": "2021-09-01T06:55:42.296Z"
   },
   {
    "duration": 8,
    "start_time": "2021-09-01T06:55:42.827Z"
   },
   {
    "duration": 244,
    "start_time": "2021-09-01T06:55:43.610Z"
   },
   {
    "duration": 344,
    "start_time": "2021-09-01T06:55:59.206Z"
   },
   {
    "duration": 9719,
    "start_time": "2021-09-01T06:56:13.595Z"
   },
   {
    "duration": 5,
    "start_time": "2021-09-01T06:56:26.891Z"
   },
   {
    "duration": 346,
    "start_time": "2021-09-01T06:56:29.841Z"
   },
   {
    "duration": 102,
    "start_time": "2021-09-01T06:56:36.375Z"
   },
   {
    "duration": 23,
    "start_time": "2021-09-01T06:56:45.611Z"
   },
   {
    "duration": 11,
    "start_time": "2021-09-01T06:59:10.120Z"
   },
   {
    "duration": 331,
    "start_time": "2021-09-01T06:59:46.357Z"
   },
   {
    "duration": 23,
    "start_time": "2021-09-01T07:00:01.687Z"
   },
   {
    "duration": 1280,
    "start_time": "2021-09-01T07:01:30.606Z"
   },
   {
    "duration": 864,
    "start_time": "2021-09-01T07:01:32.698Z"
   },
   {
    "duration": 44,
    "start_time": "2021-09-01T07:01:33.565Z"
   },
   {
    "duration": 53,
    "start_time": "2021-09-01T07:01:33.612Z"
   },
   {
    "duration": 33,
    "start_time": "2021-09-01T07:01:33.667Z"
   },
   {
    "duration": 25,
    "start_time": "2021-09-01T07:01:33.703Z"
   },
   {
    "duration": 16,
    "start_time": "2021-09-01T07:01:33.874Z"
   },
   {
    "duration": 25,
    "start_time": "2021-09-01T07:01:34.063Z"
   },
   {
    "duration": 134,
    "start_time": "2021-09-01T07:01:34.428Z"
   },
   {
    "duration": 5,
    "start_time": "2021-09-01T07:01:34.663Z"
   },
   {
    "duration": 6,
    "start_time": "2021-09-01T07:01:34.776Z"
   },
   {
    "duration": 6,
    "start_time": "2021-09-01T07:01:34.950Z"
   },
   {
    "duration": 5,
    "start_time": "2021-09-01T07:01:35.144Z"
   },
   {
    "duration": 6,
    "start_time": "2021-09-01T07:01:35.718Z"
   },
   {
    "duration": 164,
    "start_time": "2021-09-01T07:01:36.292Z"
   },
   {
    "duration": 35,
    "start_time": "2021-09-01T07:01:36.491Z"
   },
   {
    "duration": 169,
    "start_time": "2021-09-01T07:01:36.704Z"
   },
   {
    "duration": 14,
    "start_time": "2021-09-01T07:01:37.065Z"
   },
   {
    "duration": 19,
    "start_time": "2021-09-01T07:01:37.459Z"
   },
   {
    "duration": 25,
    "start_time": "2021-09-01T07:01:37.647Z"
   },
   {
    "duration": 11,
    "start_time": "2021-09-01T07:01:37.839Z"
   },
   {
    "duration": 9,
    "start_time": "2021-09-01T07:01:38.037Z"
   },
   {
    "duration": 14,
    "start_time": "2021-09-01T07:01:38.239Z"
   },
   {
    "duration": 9,
    "start_time": "2021-09-01T07:01:38.631Z"
   },
   {
    "duration": 16,
    "start_time": "2021-09-01T07:01:38.833Z"
   },
   {
    "duration": 18,
    "start_time": "2021-09-01T07:01:39.234Z"
   },
   {
    "duration": 22,
    "start_time": "2021-09-01T07:01:40.059Z"
   },
   {
    "duration": 355,
    "start_time": "2021-09-01T07:01:40.444Z"
   },
   {
    "duration": 257,
    "start_time": "2021-09-01T07:01:41.061Z"
   },
   {
    "duration": 258,
    "start_time": "2021-09-01T07:01:42.048Z"
   },
   {
    "duration": 462,
    "start_time": "2021-09-01T07:01:43.955Z"
   },
   {
    "duration": 396,
    "start_time": "2021-09-01T07:01:44.420Z"
   },
   {
    "duration": 11,
    "start_time": "2021-09-01T07:01:48.047Z"
   },
   {
    "duration": 8,
    "start_time": "2021-09-01T07:01:48.704Z"
   },
   {
    "duration": 7,
    "start_time": "2021-09-01T07:01:49.227Z"
   },
   {
    "duration": 239,
    "start_time": "2021-09-01T07:01:52.386Z"
   },
   {
    "duration": 114,
    "start_time": "2021-09-01T07:02:06.475Z"
   },
   {
    "duration": 5,
    "start_time": "2021-09-01T07:02:36.236Z"
   },
   {
    "duration": 9470,
    "start_time": "2021-09-01T07:02:42.147Z"
   },
   {
    "duration": 19,
    "start_time": "2021-09-01T07:02:53.866Z"
   },
   {
    "duration": 4,
    "start_time": "2021-09-01T07:03:01.624Z"
   },
   {
    "duration": 483,
    "start_time": "2021-09-01T07:03:04.135Z"
   },
   {
    "duration": 21,
    "start_time": "2021-09-01T07:03:13.996Z"
   },
   {
    "duration": 22,
    "start_time": "2021-09-01T07:03:17.790Z"
   },
   {
    "duration": 9450,
    "start_time": "2021-09-01T07:04:23.675Z"
   },
   {
    "duration": 26,
    "start_time": "2021-09-01T07:04:38.476Z"
   },
   {
    "duration": 1339,
    "start_time": "2021-09-01T07:25:21.348Z"
   },
   {
    "duration": 879,
    "start_time": "2021-09-01T07:25:23.371Z"
   },
   {
    "duration": 44,
    "start_time": "2021-09-01T07:26:20.205Z"
   },
   {
    "duration": 35,
    "start_time": "2021-09-01T07:26:21.127Z"
   },
   {
    "duration": 33,
    "start_time": "2021-09-01T07:26:23.859Z"
   },
   {
    "duration": 23,
    "start_time": "2021-09-01T07:26:24.419Z"
   },
   {
    "duration": 16,
    "start_time": "2021-09-01T07:26:26.759Z"
   },
   {
    "duration": 25,
    "start_time": "2021-09-01T07:26:27.607Z"
   },
   {
    "duration": 142,
    "start_time": "2021-09-01T07:26:32.021Z"
   },
   {
    "duration": 6,
    "start_time": "2021-09-01T07:26:34.386Z"
   },
   {
    "duration": 6,
    "start_time": "2021-09-01T07:26:36.693Z"
   },
   {
    "duration": 6,
    "start_time": "2021-09-01T07:26:37.423Z"
   },
   {
    "duration": 5,
    "start_time": "2021-09-01T07:26:38.346Z"
   },
   {
    "duration": 6,
    "start_time": "2021-09-01T07:26:41.967Z"
   },
   {
    "duration": 159,
    "start_time": "2021-09-01T07:26:48.351Z"
   },
   {
    "duration": 35,
    "start_time": "2021-09-01T07:26:48.866Z"
   },
   {
    "duration": 182,
    "start_time": "2021-09-01T07:26:49.423Z"
   },
   {
    "duration": 14,
    "start_time": "2021-09-01T07:26:54.364Z"
   },
   {
    "duration": 22,
    "start_time": "2021-09-01T07:26:59.170Z"
   },
   {
    "duration": 26,
    "start_time": "2021-09-01T07:27:01.986Z"
   },
   {
    "duration": 12,
    "start_time": "2021-09-01T07:27:07.224Z"
   },
   {
    "duration": 9,
    "start_time": "2021-09-01T07:27:12.153Z"
   },
   {
    "duration": 14,
    "start_time": "2021-09-01T07:27:14.448Z"
   },
   {
    "duration": 11,
    "start_time": "2021-09-01T07:27:22.287Z"
   },
   {
    "duration": 9,
    "start_time": "2021-09-01T07:30:55.610Z"
   },
   {
    "duration": 17,
    "start_time": "2021-09-01T07:30:57.065Z"
   },
   {
    "duration": 18,
    "start_time": "2021-09-01T07:31:00.148Z"
   },
   {
    "duration": 23,
    "start_time": "2021-09-01T07:31:09.544Z"
   },
   {
    "duration": 361,
    "start_time": "2021-09-01T07:31:14.364Z"
   },
   {
    "duration": 230,
    "start_time": "2021-09-01T07:31:14.814Z"
   },
   {
    "duration": 240,
    "start_time": "2021-09-01T07:31:15.482Z"
   },
   {
    "duration": 425,
    "start_time": "2021-09-01T07:31:19.675Z"
   },
   {
    "duration": 384,
    "start_time": "2021-09-01T07:31:20.322Z"
   },
   {
    "duration": 13,
    "start_time": "2021-09-01T07:38:27.321Z"
   },
   {
    "duration": 36,
    "start_time": "2021-09-01T07:38:34.386Z"
   },
   {
    "duration": 11,
    "start_time": "2021-09-01T07:39:24.232Z"
   },
   {
    "duration": 36,
    "start_time": "2021-09-01T07:39:27.252Z"
   },
   {
    "duration": 7,
    "start_time": "2021-09-01T07:40:20.470Z"
   },
   {
    "duration": 8,
    "start_time": "2021-09-01T07:40:21.658Z"
   },
   {
    "duration": 254,
    "start_time": "2021-09-01T07:40:24.188Z"
   },
   {
    "duration": 118,
    "start_time": "2021-09-01T07:40:24.762Z"
   },
   {
    "duration": 5,
    "start_time": "2021-09-01T07:40:57.882Z"
   },
   {
    "duration": 4,
    "start_time": "2021-09-01T07:41:00.138Z"
   },
   {
    "duration": 10,
    "start_time": "2021-09-01T07:41:29.051Z"
   },
   {
    "duration": 19970,
    "start_time": "2021-09-01T07:41:31.646Z"
   },
   {
    "duration": 4,
    "start_time": "2021-09-01T07:41:53.582Z"
   },
   {
    "duration": 5,
    "start_time": "2021-09-01T07:42:17.000Z"
   },
   {
    "duration": 5,
    "start_time": "2021-09-01T07:43:42.158Z"
   },
   {
    "duration": 4,
    "start_time": "2021-09-01T07:44:01.198Z"
   },
   {
    "duration": 87976,
    "start_time": "2021-09-01T07:44:05.273Z"
   },
   {
    "duration": 13,
    "start_time": "2021-09-01T07:45:33.251Z"
   },
   {
    "duration": 5363,
    "start_time": "2021-09-01T07:45:45.407Z"
   },
   {
    "duration": 9,
    "start_time": "2021-09-01T07:46:27.289Z"
   },
   {
    "duration": 16,
    "start_time": "2021-09-01T07:46:33.069Z"
   },
   {
    "duration": 9411,
    "start_time": "2021-09-01T07:46:34.846Z"
   },
   {
    "duration": 4,
    "start_time": "2021-09-01T07:46:46.982Z"
   },
   {
    "duration": 24,
    "start_time": "2021-09-01T07:46:47.882Z"
   },
   {
    "duration": 10,
    "start_time": "2021-09-01T07:48:03.016Z"
   },
   {
    "duration": 22,
    "start_time": "2021-09-01T07:49:02.888Z"
   },
   {
    "duration": 11934,
    "start_time": "2021-09-01T07:49:45.675Z"
   },
   {
    "duration": 4,
    "start_time": "2021-09-01T07:50:43.450Z"
   },
   {
    "duration": 19,
    "start_time": "2021-09-01T07:51:43.167Z"
   },
   {
    "duration": 796,
    "start_time": "2021-09-01T07:53:35.721Z"
   },
   {
    "duration": 5,
    "start_time": "2021-09-01T07:54:09.035Z"
   },
   {
    "duration": 8,
    "start_time": "2021-09-01T07:54:13.819Z"
   },
   {
    "duration": 4,
    "start_time": "2021-09-01T07:54:20.715Z"
   },
   {
    "duration": 1358,
    "start_time": "2021-09-02T04:14:07.561Z"
   },
   {
    "duration": 911,
    "start_time": "2021-09-02T04:14:08.921Z"
   },
   {
    "duration": 45,
    "start_time": "2021-09-02T04:14:09.835Z"
   },
   {
    "duration": 55,
    "start_time": "2021-09-02T04:14:09.884Z"
   },
   {
    "duration": 37,
    "start_time": "2021-09-02T04:14:09.942Z"
   },
   {
    "duration": 58,
    "start_time": "2021-09-02T04:14:09.982Z"
   },
   {
    "duration": 18,
    "start_time": "2021-09-02T04:14:10.043Z"
   },
   {
    "duration": 51,
    "start_time": "2021-09-02T04:14:10.065Z"
   },
   {
    "duration": 204,
    "start_time": "2021-09-02T04:14:10.120Z"
   },
   {
    "duration": 92,
    "start_time": "2021-09-02T04:14:10.327Z"
   },
   {
    "duration": 6,
    "start_time": "2021-09-02T04:14:10.421Z"
   },
   {
    "duration": 12,
    "start_time": "2021-09-02T04:14:10.430Z"
   },
   {
    "duration": 9,
    "start_time": "2021-09-02T04:14:10.445Z"
   },
   {
    "duration": 8,
    "start_time": "2021-09-02T04:14:10.456Z"
   },
   {
    "duration": 212,
    "start_time": "2021-09-02T04:14:10.467Z"
   },
   {
    "duration": 48,
    "start_time": "2021-09-02T04:14:10.682Z"
   },
   {
    "duration": 187,
    "start_time": "2021-09-02T04:14:10.733Z"
   },
   {
    "duration": 14,
    "start_time": "2021-09-02T04:14:10.923Z"
   },
   {
    "duration": 18,
    "start_time": "2021-09-02T04:14:10.939Z"
   },
   {
    "duration": 23,
    "start_time": "2021-09-02T04:14:10.960Z"
   },
   {
    "duration": 38,
    "start_time": "2021-09-02T04:14:10.985Z"
   },
   {
    "duration": 8,
    "start_time": "2021-09-02T04:14:11.025Z"
   },
   {
    "duration": 13,
    "start_time": "2021-09-02T04:14:11.039Z"
   },
   {
    "duration": 9,
    "start_time": "2021-09-02T04:14:11.055Z"
   },
   {
    "duration": 60,
    "start_time": "2021-09-02T04:14:11.067Z"
   },
   {
    "duration": 18,
    "start_time": "2021-09-02T04:14:11.129Z"
   },
   {
    "duration": 24,
    "start_time": "2021-09-02T04:14:11.150Z"
   },
   {
    "duration": 379,
    "start_time": "2021-09-02T04:14:11.177Z"
   },
   {
    "duration": 268,
    "start_time": "2021-09-02T04:14:11.558Z"
   },
   {
    "duration": 269,
    "start_time": "2021-09-02T04:14:11.828Z"
   },
   {
    "duration": 434,
    "start_time": "2021-09-02T04:14:12.100Z"
   },
   {
    "duration": 391,
    "start_time": "2021-09-02T04:14:12.537Z"
   },
   {
    "duration": 14,
    "start_time": "2021-09-02T04:14:12.931Z"
   },
   {
    "duration": 7,
    "start_time": "2021-09-02T04:14:12.947Z"
   },
   {
    "duration": 8,
    "start_time": "2021-09-02T04:14:12.956Z"
   },
   {
    "duration": 350,
    "start_time": "2021-09-02T04:14:12.966Z"
   },
   {
    "duration": 36,
    "start_time": "2021-09-02T04:14:13.318Z"
   },
   {
    "duration": 5,
    "start_time": "2021-09-02T04:14:13.357Z"
   },
   {
    "duration": 14,
    "start_time": "2021-09-02T04:14:13.364Z"
   },
   {
    "duration": 21503,
    "start_time": "2021-09-02T04:14:13.380Z"
   },
   {
    "duration": 5,
    "start_time": "2021-09-02T04:14:34.886Z"
   },
   {
    "duration": 22,
    "start_time": "2021-09-02T04:14:34.894Z"
   },
   {
    "duration": 91650,
    "start_time": "2021-09-02T04:14:34.918Z"
   },
   {
    "duration": 5747,
    "start_time": "2021-09-02T04:16:06.570Z"
   },
   {
    "duration": 12,
    "start_time": "2021-09-02T04:16:12.320Z"
   },
   {
    "duration": 92,
    "start_time": "2021-09-02T04:16:12.334Z"
   },
   {
    "duration": 9731,
    "start_time": "2021-09-02T04:16:12.429Z"
   },
   {
    "duration": 3,
    "start_time": "2021-09-02T04:16:22.162Z"
   },
   {
    "duration": 28,
    "start_time": "2021-09-02T04:16:22.167Z"
   },
   {
    "duration": 26,
    "start_time": "2021-09-02T04:16:22.197Z"
   },
   {
    "duration": 22,
    "start_time": "2021-09-02T04:16:22.226Z"
   },
   {
    "duration": 10608,
    "start_time": "2021-09-02T04:16:22.251Z"
   },
   {
    "duration": 4,
    "start_time": "2021-09-02T04:16:32.861Z"
   },
   {
    "duration": 23,
    "start_time": "2021-09-02T04:16:32.867Z"
   },
   {
    "duration": 29,
    "start_time": "2021-09-02T04:16:32.892Z"
   },
   {
    "duration": 5,
    "start_time": "2021-09-02T04:16:32.924Z"
   },
   {
    "duration": 1508,
    "start_time": "2021-09-02T06:46:35.155Z"
   },
   {
    "duration": 992,
    "start_time": "2021-09-02T06:46:36.665Z"
   },
   {
    "duration": 72,
    "start_time": "2021-09-02T06:46:37.660Z"
   },
   {
    "duration": 36,
    "start_time": "2021-09-02T06:46:37.735Z"
   },
   {
    "duration": 62,
    "start_time": "2021-09-02T06:46:37.774Z"
   },
   {
    "duration": 25,
    "start_time": "2021-09-02T06:46:37.839Z"
   },
   {
    "duration": 15,
    "start_time": "2021-09-02T06:46:37.866Z"
   },
   {
    "duration": 31,
    "start_time": "2021-09-02T06:46:37.920Z"
   },
   {
    "duration": 88,
    "start_time": "2021-09-02T06:46:37.955Z"
   },
   {
    "duration": 14,
    "start_time": "2021-09-02T06:46:38.217Z"
   },
   {
    "duration": 8,
    "start_time": "2021-09-02T06:46:38.234Z"
   },
   {
    "duration": 10,
    "start_time": "2021-09-02T06:46:38.245Z"
   },
   {
    "duration": 16,
    "start_time": "2021-09-02T06:46:38.259Z"
   },
   {
    "duration": 7,
    "start_time": "2021-09-02T06:46:38.325Z"
   },
   {
    "duration": 185,
    "start_time": "2021-09-02T06:46:38.334Z"
   },
   {
    "duration": 36,
    "start_time": "2021-09-02T06:46:38.522Z"
   },
   {
    "duration": 216,
    "start_time": "2021-09-02T06:46:38.561Z"
   },
   {
    "duration": 15,
    "start_time": "2021-09-02T06:46:38.779Z"
   },
   {
    "duration": 26,
    "start_time": "2021-09-02T06:46:38.816Z"
   },
   {
    "duration": 25,
    "start_time": "2021-09-02T06:46:38.845Z"
   },
   {
    "duration": 50,
    "start_time": "2021-09-02T06:46:38.873Z"
   },
   {
    "duration": 9,
    "start_time": "2021-09-02T06:46:38.925Z"
   },
   {
    "duration": 13,
    "start_time": "2021-09-02T06:46:38.946Z"
   },
   {
    "duration": 9,
    "start_time": "2021-09-02T06:46:38.962Z"
   },
   {
    "duration": 44,
    "start_time": "2021-09-02T06:46:38.973Z"
   },
   {
    "duration": 19,
    "start_time": "2021-09-02T06:46:39.029Z"
   },
   {
    "duration": 30,
    "start_time": "2021-09-02T06:46:39.050Z"
   },
   {
    "duration": 409,
    "start_time": "2021-09-02T06:46:39.083Z"
   },
   {
    "duration": 278,
    "start_time": "2021-09-02T06:46:39.494Z"
   },
   {
    "duration": 289,
    "start_time": "2021-09-02T06:46:39.774Z"
   },
   {
    "duration": 465,
    "start_time": "2021-09-02T06:46:40.066Z"
   },
   {
    "duration": 418,
    "start_time": "2021-09-02T06:46:40.534Z"
   },
   {
    "duration": 17,
    "start_time": "2021-09-02T06:46:40.955Z"
   },
   {
    "duration": 9,
    "start_time": "2021-09-02T06:46:40.975Z"
   },
   {
    "duration": 40,
    "start_time": "2021-09-02T06:46:40.987Z"
   },
   {
    "duration": 370,
    "start_time": "2021-09-02T06:46:41.030Z"
   },
   {
    "duration": 43,
    "start_time": "2021-09-02T06:46:41.402Z"
   },
   {
    "duration": 6,
    "start_time": "2021-09-02T06:46:41.447Z"
   },
   {
    "duration": 17,
    "start_time": "2021-09-02T06:46:41.455Z"
   },
   {
    "duration": 22504,
    "start_time": "2021-09-02T06:46:41.475Z"
   },
   {
    "duration": 5,
    "start_time": "2021-09-02T06:47:03.982Z"
   },
   {
    "duration": 16,
    "start_time": "2021-09-02T06:47:03.989Z"
   },
   {
    "duration": 96153,
    "start_time": "2021-09-02T06:47:04.019Z"
   },
   {
    "duration": 11657,
    "start_time": "2021-09-02T06:48:40.174Z"
   },
   {
    "duration": 91,
    "start_time": "2021-09-02T06:48:51.834Z"
   },
   {
    "duration": 89,
    "start_time": "2021-09-02T06:48:51.935Z"
   },
   {
    "duration": 10429,
    "start_time": "2021-09-02T06:48:52.027Z"
   },
   {
    "duration": 3,
    "start_time": "2021-09-02T06:49:02.459Z"
   },
   {
    "duration": 35,
    "start_time": "2021-09-02T06:49:02.465Z"
   },
   {
    "duration": 13,
    "start_time": "2021-09-02T06:49:02.521Z"
   },
   {
    "duration": 30,
    "start_time": "2021-09-02T06:49:02.537Z"
   },
   {
    "duration": 11291,
    "start_time": "2021-09-02T06:49:02.569Z"
   },
   {
    "duration": 4,
    "start_time": "2021-09-02T06:49:13.862Z"
   },
   {
    "duration": 24,
    "start_time": "2021-09-02T06:49:13.868Z"
   },
   {
    "duration": 10,
    "start_time": "2021-09-02T06:49:13.918Z"
   },
   {
    "duration": 8,
    "start_time": "2021-09-02T06:49:13.931Z"
   },
   {
    "duration": 425,
    "start_time": "2021-09-02T07:26:59.265Z"
   },
   {
    "duration": 1393,
    "start_time": "2021-09-02T07:30:49.636Z"
   },
   {
    "duration": 912,
    "start_time": "2021-09-02T07:30:51.495Z"
   },
   {
    "duration": 48,
    "start_time": "2021-09-02T07:30:52.487Z"
   },
   {
    "duration": 37,
    "start_time": "2021-09-02T07:30:53.002Z"
   },
   {
    "duration": 35,
    "start_time": "2021-09-02T07:31:06.192Z"
   },
   {
    "duration": 28,
    "start_time": "2021-09-02T07:31:06.751Z"
   },
   {
    "duration": 16,
    "start_time": "2021-09-02T07:31:07.602Z"
   },
   {
    "duration": 31,
    "start_time": "2021-09-02T07:31:09.761Z"
   },
   {
    "duration": 175,
    "start_time": "2021-09-02T07:31:13.601Z"
   },
   {
    "duration": 5,
    "start_time": "2021-09-02T07:31:14.607Z"
   },
   {
    "duration": 6,
    "start_time": "2021-09-02T07:31:17.991Z"
   },
   {
    "duration": 5,
    "start_time": "2021-09-02T07:31:18.647Z"
   },
   {
    "duration": 5,
    "start_time": "2021-09-02T07:31:19.542Z"
   },
   {
    "duration": 2254,
    "start_time": "2021-09-02T07:37:57.690Z"
   },
   {
    "duration": 5,
    "start_time": "2021-09-02T07:38:05.776Z"
   },
   {
    "duration": 7,
    "start_time": "2021-09-02T07:38:06.967Z"
   },
   {
    "duration": 1172,
    "start_time": "2021-09-02T07:38:28.569Z"
   },
   {
    "duration": 5,
    "start_time": "2021-09-02T07:38:30.648Z"
   },
   {
    "duration": 5,
    "start_time": "2021-09-02T07:38:31.328Z"
   },
   {
    "duration": 248,
    "start_time": "2021-09-02T07:38:56.608Z"
   },
   {
    "duration": 5,
    "start_time": "2021-09-02T07:38:57.744Z"
   },
   {
    "duration": 7,
    "start_time": "2021-09-02T07:38:58.281Z"
   },
   {
    "duration": 436,
    "start_time": "2021-09-02T07:39:08.241Z"
   },
   {
    "duration": 5,
    "start_time": "2021-09-02T07:39:08.681Z"
   },
   {
    "duration": 6,
    "start_time": "2021-09-02T07:39:09.033Z"
   },
   {
    "duration": 718,
    "start_time": "2021-09-02T07:39:18.450Z"
   },
   {
    "duration": 8,
    "start_time": "2021-09-02T07:39:19.170Z"
   },
   {
    "duration": 5,
    "start_time": "2021-09-02T07:39:19.912Z"
   },
   {
    "duration": 1081,
    "start_time": "2021-09-02T07:39:50.633Z"
   },
   {
    "duration": 9,
    "start_time": "2021-09-02T07:39:52.225Z"
   },
   {
    "duration": 5,
    "start_time": "2021-09-02T07:39:52.704Z"
   },
   {
    "duration": 1460,
    "start_time": "2021-09-02T07:40:12.072Z"
   },
   {
    "duration": 5,
    "start_time": "2021-09-02T07:40:14.063Z"
   },
   {
    "duration": 5,
    "start_time": "2021-09-02T07:40:15.329Z"
   },
   {
    "duration": 2178,
    "start_time": "2021-09-02T07:40:26.778Z"
   },
   {
    "duration": 9,
    "start_time": "2021-09-02T07:40:29.759Z"
   },
   {
    "duration": 7,
    "start_time": "2021-09-02T07:40:30.168Z"
   },
   {
    "duration": 2284,
    "start_time": "2021-09-02T07:40:40.593Z"
   },
   {
    "duration": 6,
    "start_time": "2021-09-02T07:40:42.882Z"
   },
   {
    "duration": 7,
    "start_time": "2021-09-02T07:40:43.697Z"
   },
   {
    "duration": 3364,
    "start_time": "2021-09-02T07:40:53.907Z"
   },
   {
    "duration": 6,
    "start_time": "2021-09-02T07:40:57.801Z"
   },
   {
    "duration": 6,
    "start_time": "2021-09-02T07:40:58.519Z"
   },
   {
    "duration": 5768,
    "start_time": "2021-09-02T07:41:13.096Z"
   },
   {
    "duration": 5,
    "start_time": "2021-09-02T07:41:20.281Z"
   },
   {
    "duration": 5,
    "start_time": "2021-09-02T07:41:21.196Z"
   },
   {
    "duration": 11683,
    "start_time": "2021-09-02T07:41:32.827Z"
   },
   {
    "duration": 5,
    "start_time": "2021-09-02T07:41:44.513Z"
   },
   {
    "duration": 6,
    "start_time": "2021-09-02T07:41:46.114Z"
   },
   {
    "duration": 20188,
    "start_time": "2021-09-02T07:41:56.664Z"
   },
   {
    "duration": 13,
    "start_time": "2021-09-02T07:42:16.855Z"
   },
   {
    "duration": 7,
    "start_time": "2021-09-02T07:42:16.870Z"
   },
   {
    "duration": 2849,
    "start_time": "2021-09-02T07:42:53.186Z"
   },
   {
    "duration": 22,
    "start_time": "2021-09-02T07:42:56.039Z"
   },
   {
    "duration": 10,
    "start_time": "2021-09-02T07:42:56.065Z"
   },
   {
    "duration": 12186,
    "start_time": "2021-09-02T07:43:06.587Z"
   },
   {
    "duration": 6,
    "start_time": "2021-09-02T07:43:18.775Z"
   },
   {
    "duration": 39,
    "start_time": "2021-09-02T07:43:18.783Z"
   },
   {
    "duration": 20128,
    "start_time": "2021-09-02T07:43:43.200Z"
   },
   {
    "duration": 4,
    "start_time": "2021-09-02T07:44:03.331Z"
   },
   {
    "duration": 25,
    "start_time": "2021-09-02T07:44:03.338Z"
   },
   {
    "duration": 26090,
    "start_time": "2021-09-02T07:45:02.402Z"
   },
   {
    "duration": 5,
    "start_time": "2021-09-02T07:45:28.495Z"
   },
   {
    "duration": 15,
    "start_time": "2021-09-02T07:45:28.502Z"
   },
   {
    "duration": 28630,
    "start_time": "2021-09-02T07:45:41.915Z"
   },
   {
    "duration": 14,
    "start_time": "2021-09-02T07:46:10.548Z"
   },
   {
    "duration": 11,
    "start_time": "2021-09-02T07:46:10.565Z"
   },
   {
    "duration": 6,
    "start_time": "2021-09-02T07:46:33.057Z"
   },
   {
    "duration": 5,
    "start_time": "2021-09-02T07:46:34.681Z"
   },
   {
    "duration": 6,
    "start_time": "2021-09-02T07:52:06.298Z"
   },
   {
    "duration": 180,
    "start_time": "2021-09-02T07:52:10.153Z"
   },
   {
    "duration": 39,
    "start_time": "2021-09-02T07:52:10.848Z"
   },
   {
    "duration": 179,
    "start_time": "2021-09-02T07:52:13.608Z"
   },
   {
    "duration": 15,
    "start_time": "2021-09-02T07:52:14.952Z"
   },
   {
    "duration": 23,
    "start_time": "2021-09-02T08:12:08.612Z"
   },
   {
    "duration": 14,
    "start_time": "2021-09-02T08:12:29.068Z"
   },
   {
    "duration": 27,
    "start_time": "2021-09-02T08:12:43.059Z"
   },
   {
    "duration": 21,
    "start_time": "2021-09-02T08:14:57.517Z"
   },
   {
    "duration": 24,
    "start_time": "2021-09-02T08:14:58.044Z"
   },
   {
    "duration": 9,
    "start_time": "2021-09-02T08:15:01.454Z"
   },
   {
    "duration": 8,
    "start_time": "2021-09-02T08:15:04.660Z"
   },
   {
    "duration": 12,
    "start_time": "2021-09-02T08:15:06.316Z"
   },
   {
    "duration": 14,
    "start_time": "2021-09-02T08:17:21.165Z"
   },
   {
    "duration": 15,
    "start_time": "2021-09-02T08:17:25.982Z"
   },
   {
    "duration": 12,
    "start_time": "2021-09-02T08:17:36.628Z"
   },
   {
    "duration": 241,
    "start_time": "2021-09-02T08:19:22.208Z"
   },
   {
    "duration": 166,
    "start_time": "2021-09-02T08:26:15.606Z"
   },
   {
    "duration": 20,
    "start_time": "2021-09-02T08:26:30.645Z"
   },
   {
    "duration": 341,
    "start_time": "2021-09-02T08:26:33.149Z"
   },
   {
    "duration": 237,
    "start_time": "2021-09-02T08:26:51.246Z"
   },
   {
    "duration": 243,
    "start_time": "2021-09-02T08:27:03.455Z"
   },
   {
    "duration": 226,
    "start_time": "2021-09-02T08:27:55.671Z"
   },
   {
    "duration": 228,
    "start_time": "2021-09-02T08:28:21.918Z"
   },
   {
    "duration": 310,
    "start_time": "2021-09-02T08:28:40.121Z"
   },
   {
    "duration": 445,
    "start_time": "2021-09-02T09:52:03.696Z"
   },
   {
    "duration": 254,
    "start_time": "2021-09-02T09:52:40.843Z"
   },
   {
    "duration": 244,
    "start_time": "2021-09-02T09:52:51.070Z"
   },
   {
    "duration": 232,
    "start_time": "2021-09-02T09:53:13.690Z"
   },
   {
    "duration": 427,
    "start_time": "2021-09-02T09:53:21.049Z"
   },
   {
    "duration": 448,
    "start_time": "2021-09-02T09:54:47.872Z"
   },
   {
    "duration": 387,
    "start_time": "2021-09-02T09:54:59.115Z"
   },
   {
    "duration": 423,
    "start_time": "2021-09-02T09:55:02.314Z"
   },
   {
    "duration": 473,
    "start_time": "2021-09-02T09:56:07.212Z"
   },
   {
    "duration": 256,
    "start_time": "2021-09-02T10:00:14.859Z"
   },
   {
    "duration": 496,
    "start_time": "2021-09-02T10:01:22.651Z"
   },
   {
    "duration": 416,
    "start_time": "2021-09-02T10:02:06.483Z"
   },
   {
    "duration": 430,
    "start_time": "2021-09-02T10:03:06.563Z"
   },
   {
    "duration": 233,
    "start_time": "2021-09-02T10:03:43.198Z"
   },
   {
    "duration": 111,
    "start_time": "2021-09-02T10:04:27.047Z"
   },
   {
    "duration": 96,
    "start_time": "2021-09-02T10:04:40.450Z"
   },
   {
    "duration": 263,
    "start_time": "2021-09-02T10:05:40.908Z"
   },
   {
    "duration": 128,
    "start_time": "2021-09-02T10:05:53.228Z"
   },
   {
    "duration": 232,
    "start_time": "2021-09-02T10:06:27.708Z"
   },
   {
    "duration": 416,
    "start_time": "2021-09-02T10:07:11.419Z"
   },
   {
    "duration": 396,
    "start_time": "2021-09-02T10:08:06.198Z"
   },
   {
    "duration": 410,
    "start_time": "2021-09-02T10:08:13.647Z"
   },
   {
    "duration": 472,
    "start_time": "2021-09-02T10:10:46.717Z"
   },
   {
    "duration": 412,
    "start_time": "2021-09-02T10:11:06.230Z"
   },
   {
    "duration": 400,
    "start_time": "2021-09-02T10:11:08.630Z"
   },
   {
    "duration": 431,
    "start_time": "2021-09-02T10:11:18.076Z"
   },
   {
    "duration": 498,
    "start_time": "2021-09-02T10:11:19.212Z"
   },
   {
    "duration": 457,
    "start_time": "2021-09-02T10:11:51.741Z"
   },
   {
    "duration": 431,
    "start_time": "2021-09-02T10:12:08.037Z"
   },
   {
    "duration": 455,
    "start_time": "2021-09-02T10:15:17.252Z"
   },
   {
    "duration": 412,
    "start_time": "2021-09-02T10:15:20.989Z"
   },
   {
    "duration": 6,
    "start_time": "2021-09-02T10:16:12.317Z"
   },
   {
    "duration": 7,
    "start_time": "2021-09-02T10:16:50.405Z"
   },
   {
    "duration": 408,
    "start_time": "2021-09-02T10:18:08.158Z"
   },
   {
    "duration": 12,
    "start_time": "2021-09-02T10:18:17.804Z"
   },
   {
    "duration": 8,
    "start_time": "2021-09-02T10:18:18.397Z"
   },
   {
    "duration": 8,
    "start_time": "2021-09-02T10:18:18.852Z"
   },
   {
    "duration": 264,
    "start_time": "2021-09-02T10:18:19.351Z"
   },
   {
    "duration": 40,
    "start_time": "2021-09-02T10:18:29.964Z"
   },
   {
    "duration": 244,
    "start_time": "2021-09-02T10:20:36.429Z"
   },
   {
    "duration": 390,
    "start_time": "2021-09-02T10:21:37.638Z"
   },
   {
    "duration": 419,
    "start_time": "2021-09-02T10:22:07.320Z"
   },
   {
    "duration": 425,
    "start_time": "2021-09-02T10:22:48.070Z"
   },
   {
    "duration": 601,
    "start_time": "2021-09-02T10:23:26.070Z"
   },
   {
    "duration": 548,
    "start_time": "2021-09-02T10:23:33.700Z"
   },
   {
    "duration": 411,
    "start_time": "2021-09-02T10:23:41.693Z"
   },
   {
    "duration": 770,
    "start_time": "2021-09-02T10:23:49.277Z"
   },
   {
    "duration": 557,
    "start_time": "2021-09-02T10:23:54.829Z"
   },
   {
    "duration": 524,
    "start_time": "2021-09-02T10:24:01.638Z"
   },
   {
    "duration": 99,
    "start_time": "2021-09-02T11:01:10.746Z"
   },
   {
    "duration": 742,
    "start_time": "2021-09-02T11:05:05.892Z"
   },
   {
    "duration": 6,
    "start_time": "2021-09-02T11:05:10.041Z"
   },
   {
    "duration": 12,
    "start_time": "2021-09-02T11:48:59.344Z"
   },
   {
    "duration": 544,
    "start_time": "2021-09-02T11:49:01.351Z"
   },
   {
    "duration": 15,
    "start_time": "2021-09-02T11:50:25.232Z"
   },
   {
    "duration": 22878,
    "start_time": "2021-09-02T11:50:27.436Z"
   },
   {
    "duration": 5,
    "start_time": "2021-09-02T11:51:08.910Z"
   },
   {
    "duration": 4,
    "start_time": "2021-09-02T11:51:55.023Z"
   },
   {
    "duration": 3,
    "start_time": "2021-09-02T11:52:08.503Z"
   },
   {
    "duration": 90353,
    "start_time": "2021-09-02T11:52:09.838Z"
   },
   {
    "duration": 5,
    "start_time": "2021-09-02T11:53:40.194Z"
   },
   {
    "duration": 1499,
    "start_time": "2021-09-02T11:54:30.214Z"
   },
   {
    "duration": 1152,
    "start_time": "2021-09-02T11:54:31.721Z"
   },
   {
    "duration": 50,
    "start_time": "2021-09-02T11:54:32.878Z"
   },
   {
    "duration": 39,
    "start_time": "2021-09-02T11:54:33.027Z"
   },
   {
    "duration": 35,
    "start_time": "2021-09-02T11:54:33.193Z"
   },
   {
    "duration": 29,
    "start_time": "2021-09-02T11:54:33.378Z"
   },
   {
    "duration": 23,
    "start_time": "2021-09-02T11:54:33.552Z"
   },
   {
    "duration": 25,
    "start_time": "2021-09-02T11:54:33.729Z"
   },
   {
    "duration": 29213,
    "start_time": "2021-09-02T11:54:34.097Z"
   },
   {
    "duration": 5,
    "start_time": "2021-09-02T11:55:03.314Z"
   },
   {
    "duration": 21,
    "start_time": "2021-09-02T11:55:03.322Z"
   },
   {
    "duration": 22,
    "start_time": "2021-09-02T11:55:03.346Z"
   },
   {
    "duration": 33,
    "start_time": "2021-09-02T11:55:03.377Z"
   },
   {
    "duration": 23,
    "start_time": "2021-09-02T11:55:03.413Z"
   },
   {
    "duration": 186,
    "start_time": "2021-09-02T11:55:03.438Z"
   },
   {
    "duration": 51,
    "start_time": "2021-09-02T11:55:03.627Z"
   },
   {
    "duration": 192,
    "start_time": "2021-09-02T11:55:03.681Z"
   },
   {
    "duration": 17,
    "start_time": "2021-09-02T11:55:03.876Z"
   },
   {
    "duration": 21,
    "start_time": "2021-09-02T11:55:03.896Z"
   },
   {
    "duration": 68,
    "start_time": "2021-09-02T11:55:03.919Z"
   },
   {
    "duration": 12,
    "start_time": "2021-09-02T11:55:09.960Z"
   },
   {
    "duration": 10,
    "start_time": "2021-09-02T11:55:12.586Z"
   },
   {
    "duration": 13,
    "start_time": "2021-09-02T11:55:13.248Z"
   },
   {
    "duration": 16,
    "start_time": "2021-09-02T11:55:14.200Z"
   },
   {
    "duration": 17,
    "start_time": "2021-09-02T11:55:14.472Z"
   },
   {
    "duration": 19,
    "start_time": "2021-09-02T11:55:15.561Z"
   },
   {
    "duration": 21,
    "start_time": "2021-09-02T11:55:18.905Z"
   },
   {
    "duration": 383,
    "start_time": "2021-09-02T11:55:19.154Z"
   },
   {
    "duration": 461,
    "start_time": "2021-09-02T11:55:19.540Z"
   },
   {
    "duration": 479,
    "start_time": "2021-09-02T11:55:20.003Z"
   },
   {
    "duration": 459,
    "start_time": "2021-09-02T11:55:20.485Z"
   },
   {
    "duration": 259,
    "start_time": "2021-09-02T11:55:21.271Z"
   },
   {
    "duration": 600,
    "start_time": "2021-09-02T11:55:22.057Z"
   },
   {
    "duration": 389,
    "start_time": "2021-09-02T11:55:22.835Z"
   },
   {
    "duration": 382,
    "start_time": "2021-09-02T11:55:23.809Z"
   },
   {
    "duration": 244,
    "start_time": "2021-09-02T11:55:24.281Z"
   },
   {
    "duration": 380,
    "start_time": "2021-09-02T11:55:24.832Z"
   },
   {
    "duration": 391,
    "start_time": "2021-09-02T11:55:25.408Z"
   },
   {
    "duration": 462,
    "start_time": "2021-09-02T11:55:26.050Z"
   },
   {
    "duration": 497,
    "start_time": "2021-09-02T11:55:30.936Z"
   },
   {
    "duration": 445,
    "start_time": "2021-09-02T11:55:31.435Z"
   },
   {
    "duration": 9,
    "start_time": "2021-09-02T11:55:31.884Z"
   },
   {
    "duration": 21,
    "start_time": "2021-09-02T11:55:32.560Z"
   },
   {
    "duration": 8,
    "start_time": "2021-09-02T11:55:34.967Z"
   },
   {
    "duration": 12,
    "start_time": "2021-09-02T11:55:35.456Z"
   },
   {
    "duration": 275,
    "start_time": "2021-09-02T11:55:37.810Z"
   },
   {
    "duration": 669,
    "start_time": "2021-09-02T11:55:38.713Z"
   },
   {
    "duration": 608,
    "start_time": "2021-09-02T11:55:39.386Z"
   },
   {
    "duration": 603,
    "start_time": "2021-09-02T11:55:39.997Z"
   },
   {
    "duration": 6,
    "start_time": "2021-09-02T11:55:43.519Z"
   },
   {
    "duration": 469,
    "start_time": "2021-09-02T11:55:44.432Z"
   },
   {
    "duration": 24,
    "start_time": "2021-09-02T11:56:20.186Z"
   },
   {
    "duration": 20371,
    "start_time": "2021-09-02T11:56:22.864Z"
   },
   {
    "duration": 5,
    "start_time": "2021-09-02T11:57:26.810Z"
   },
   {
    "duration": 20372,
    "start_time": "2021-09-02T11:58:07.680Z"
   },
   {
    "duration": 5,
    "start_time": "2021-09-02T11:58:36.211Z"
   },
   {
    "duration": 5,
    "start_time": "2021-09-02T11:59:01.587Z"
   },
   {
    "duration": 5,
    "start_time": "2021-09-02T11:59:07.953Z"
   },
   {
    "duration": 349,
    "start_time": "2021-09-02T12:00:19.929Z"
   },
   {
    "duration": 4,
    "start_time": "2021-09-02T12:00:26.034Z"
   },
   {
    "duration": 95657,
    "start_time": "2021-09-02T12:00:26.883Z"
   },
   {
    "duration": 45169,
    "start_time": "2021-09-02T12:02:09.065Z"
   },
   {
    "duration": 46979,
    "start_time": "2021-09-02T12:03:01.748Z"
   },
   {
    "duration": 57527,
    "start_time": "2021-09-02T12:04:54.499Z"
   },
   {
    "duration": 332,
    "start_time": "2021-09-02T12:05:56.682Z"
   },
   {
    "duration": 124693,
    "start_time": "2021-09-02T12:06:03.469Z"
   },
   {
    "duration": 135,
    "start_time": "2021-09-02T12:08:27.954Z"
   },
   {
    "duration": 148083,
    "start_time": "2021-09-02T12:08:39.002Z"
   },
   {
    "duration": 6397,
    "start_time": "2021-09-02T12:11:07.089Z"
   },
   {
    "duration": 9,
    "start_time": "2021-09-02T12:11:36.051Z"
   },
   {
    "duration": 19,
    "start_time": "2021-09-02T12:11:37.091Z"
   },
   {
    "duration": 10773,
    "start_time": "2021-09-02T12:11:38.219Z"
   },
   {
    "duration": 5,
    "start_time": "2021-09-02T12:11:51.131Z"
   },
   {
    "duration": 24,
    "start_time": "2021-09-02T12:11:51.925Z"
   },
   {
    "duration": 9,
    "start_time": "2021-09-02T12:11:52.714Z"
   },
   {
    "duration": 22,
    "start_time": "2021-09-02T12:11:53.474Z"
   },
   {
    "duration": 10841,
    "start_time": "2021-09-02T12:11:54.443Z"
   },
   {
    "duration": 4,
    "start_time": "2021-09-02T12:12:11.179Z"
   },
   {
    "duration": 20,
    "start_time": "2021-09-02T12:12:11.813Z"
   },
   {
    "duration": 9,
    "start_time": "2021-09-02T12:12:14.394Z"
   },
   {
    "duration": 6,
    "start_time": "2021-09-02T12:12:14.973Z"
   },
   {
    "duration": 1256,
    "start_time": "2021-09-03T10:24:33.780Z"
   },
   {
    "duration": 790,
    "start_time": "2021-09-03T10:24:35.039Z"
   },
   {
    "duration": 56,
    "start_time": "2021-09-03T10:24:35.832Z"
   },
   {
    "duration": 35,
    "start_time": "2021-09-03T10:24:35.891Z"
   },
   {
    "duration": 58,
    "start_time": "2021-09-03T10:24:35.929Z"
   },
   {
    "duration": 23,
    "start_time": "2021-09-03T10:24:35.990Z"
   },
   {
    "duration": 17,
    "start_time": "2021-09-03T10:24:36.016Z"
   },
   {
    "duration": 52,
    "start_time": "2021-09-03T10:24:36.035Z"
   },
   {
    "duration": 28586,
    "start_time": "2021-09-03T10:24:36.091Z"
   },
   {
    "duration": 5,
    "start_time": "2021-09-03T10:25:04.683Z"
   },
   {
    "duration": 20,
    "start_time": "2021-09-03T10:25:04.691Z"
   },
   {
    "duration": 19,
    "start_time": "2021-09-03T10:25:04.713Z"
   },
   {
    "duration": 6,
    "start_time": "2021-09-03T10:25:04.735Z"
   },
   {
    "duration": 17,
    "start_time": "2021-09-03T10:25:04.744Z"
   },
   {
    "duration": 191,
    "start_time": "2021-09-03T10:25:04.764Z"
   },
   {
    "duration": 52,
    "start_time": "2021-09-03T10:25:04.958Z"
   },
   {
    "duration": 183,
    "start_time": "2021-09-03T10:25:05.013Z"
   },
   {
    "duration": 13,
    "start_time": "2021-09-03T10:25:05.198Z"
   },
   {
    "duration": 21,
    "start_time": "2021-09-03T10:25:05.213Z"
   },
   {
    "duration": 47,
    "start_time": "2021-09-03T10:25:05.236Z"
   },
   {
    "duration": 8,
    "start_time": "2021-09-03T10:25:05.285Z"
   },
   {
    "duration": 20,
    "start_time": "2021-09-03T10:25:05.296Z"
   },
   {
    "duration": 18,
    "start_time": "2021-09-03T10:25:05.318Z"
   },
   {
    "duration": 18,
    "start_time": "2021-09-03T10:25:05.339Z"
   },
   {
    "duration": 33,
    "start_time": "2021-09-03T10:25:05.359Z"
   },
   {
    "duration": 17,
    "start_time": "2021-09-03T10:25:05.395Z"
   },
   {
    "duration": 31,
    "start_time": "2021-09-03T10:25:05.419Z"
   },
   {
    "duration": 1848,
    "start_time": "2021-09-03T10:25:05.454Z"
   },
   {
    "duration": 555,
    "start_time": "2021-09-03T10:25:07.304Z"
   },
   {
    "duration": 440,
    "start_time": "2021-09-03T10:25:07.861Z"
   },
   {
    "duration": 480,
    "start_time": "2021-09-03T10:25:08.303Z"
   },
   {
    "duration": 315,
    "start_time": "2021-09-03T10:25:08.785Z"
   },
   {
    "duration": 464,
    "start_time": "2021-09-03T10:25:09.102Z"
   },
   {
    "duration": 411,
    "start_time": "2021-09-03T10:25:09.568Z"
   },
   {
    "duration": 459,
    "start_time": "2021-09-03T10:25:09.983Z"
   },
   {
    "duration": 337,
    "start_time": "2021-09-03T10:25:10.445Z"
   },
   {
    "duration": 401,
    "start_time": "2021-09-03T10:25:10.784Z"
   },
   {
    "duration": 435,
    "start_time": "2021-09-03T10:25:11.187Z"
   },
   {
    "duration": 459,
    "start_time": "2021-09-03T10:25:11.625Z"
   },
   {
    "duration": 603,
    "start_time": "2021-09-03T10:25:12.087Z"
   },
   {
    "duration": 432,
    "start_time": "2021-09-03T10:25:12.693Z"
   },
   {
    "duration": 7,
    "start_time": "2021-09-03T10:25:13.127Z"
   },
   {
    "duration": 11,
    "start_time": "2021-09-03T10:25:13.136Z"
   },
   {
    "duration": 9,
    "start_time": "2021-09-03T10:25:13.149Z"
   },
   {
    "duration": 29,
    "start_time": "2021-09-03T10:25:13.160Z"
   },
   {
    "duration": 311,
    "start_time": "2021-09-03T10:25:13.192Z"
   },
   {
    "duration": 530,
    "start_time": "2021-09-03T10:25:13.505Z"
   },
   {
    "duration": 572,
    "start_time": "2021-09-03T10:25:14.037Z"
   },
   {
    "duration": 528,
    "start_time": "2021-09-03T10:25:14.611Z"
   },
   {
    "duration": 5,
    "start_time": "2021-09-03T10:25:15.142Z"
   },
   {
    "duration": 60,
    "start_time": "2021-09-03T10:25:15.149Z"
   },
   {
    "duration": 20258,
    "start_time": "2021-09-03T10:25:15.211Z"
   },
   {
    "duration": 5,
    "start_time": "2021-09-03T10:25:35.471Z"
   },
   {
    "duration": 4,
    "start_time": "2021-09-03T10:25:35.483Z"
   },
   {
    "duration": 92700,
    "start_time": "2021-09-03T10:25:35.489Z"
   },
   {
    "duration": 44226,
    "start_time": "2021-09-03T10:27:08.191Z"
   },
   {
    "duration": 45247,
    "start_time": "2021-09-03T10:27:52.419Z"
   },
   {
    "duration": 50699,
    "start_time": "2021-09-03T10:28:37.669Z"
   },
   {
    "duration": 112727,
    "start_time": "2021-09-03T10:29:28.370Z"
   },
   {
    "duration": 5587,
    "start_time": "2021-09-03T10:31:21.099Z"
   },
   {
    "duration": 9,
    "start_time": "2021-09-03T10:31:26.690Z"
   },
   {
    "duration": 20,
    "start_time": "2021-09-03T10:31:26.785Z"
   },
   {
    "duration": 9550,
    "start_time": "2021-09-03T10:31:26.808Z"
   },
   {
    "duration": 3,
    "start_time": "2021-09-03T10:31:36.361Z"
   },
   {
    "duration": 23,
    "start_time": "2021-09-03T10:31:36.382Z"
   },
   {
    "duration": 12,
    "start_time": "2021-09-03T10:31:36.407Z"
   },
   {
    "duration": 26,
    "start_time": "2021-09-03T10:31:36.421Z"
   },
   {
    "duration": 10044,
    "start_time": "2021-09-03T10:31:36.450Z"
   },
   {
    "duration": 3,
    "start_time": "2021-09-03T10:31:46.496Z"
   },
   {
    "duration": 25,
    "start_time": "2021-09-03T10:31:46.501Z"
   },
   {
    "duration": 6,
    "start_time": "2021-09-03T10:31:46.529Z"
   },
   {
    "duration": 4,
    "start_time": "2021-09-03T10:31:46.538Z"
   }
  ],
  "kernelspec": {
   "display_name": "Python 3",
   "language": "python",
   "name": "python3"
  },
  "language_info": {
   "codemirror_mode": {
    "name": "ipython",
    "version": 3
   },
   "file_extension": ".py",
   "mimetype": "text/x-python",
   "name": "python",
   "nbconvert_exporter": "python",
   "pygments_lexer": "ipython3",
   "version": "3.7.10"
  },
  "toc": {
   "base_numbering": 1,
   "nav_menu": {},
   "number_sections": true,
   "sideBar": true,
   "skip_h1_title": true,
   "title_cell": "Table of Contents",
   "title_sidebar": "Contents",
   "toc_cell": false,
   "toc_position": {},
   "toc_section_display": true,
   "toc_window_display": false
  }
 },
 "nbformat": 4,
 "nbformat_minor": 5
}
