{
 "cells": [
  {
   "cell_type": "markdown",
   "metadata": {},
   "source": [
    "# Спрос на рейсы авиакомпании"
   ]
  },
  {
   "cell_type": "markdown",
   "metadata": {},
   "source": [
    "Задача понять предпочтения пользователей, покупающих билеты на разные направления.\n",
    "\n",
    "Требуется изучить базу данных и проанализировать спрос пассажиров на рейсы в города, где проходят крупнейшие культурные фестивали."
   ]
  },
  {
   "cell_type": "code",
   "execution_count": null,
   "metadata": {},
   "outputs": [],
   "source": [
    "SELECT\n",
    "    aircrafts.model AS model, \n",
    "    COUNT(subquery.flight_id) AS flights_amount\n",
    "FROM\n",
    "    aircrafts\n",
    "    INNER JOIN (\n",
    "        SELECT\n",
    "            *\n",
    "        FROM\n",
    "            flights\n",
    "        WHERE\n",
    "            flights.departure_time :: date BETWEEN '2018-09-01' AND '2018-09-30'\n",
    ") AS subquery ON subquery.aircraft_code = aircrafts.aircraft_code\n",
    "GROUP BY\n",
    "    aircrafts.model\n"
   ]
  },
  {
   "cell_type": "code",
   "execution_count": null,
   "metadata": {},
   "outputs": [],
   "source": [
    "SELECT\n",
    "    subquery.city, \n",
    "    AVG(subquery.flights_per_day) AS average_flights\n",
    "FROM\n",
    "     (\n",
    "        SELECT\n",
    "            airports.city, \n",
    "            EXTRACT(DAY FROM flights.arrival_time :: date) AS day_of_august,\n",
    "            COUNT(flights.flight_id) AS flights_per_day\n",
    "        FROM\n",
    "            flights\n",
    "            INNER JOIN airports ON airports.airport_code = flights.arrival_airport\n",
    "        WHERE\n",
    "            DATE_TRUNC('month', flights.arrival_time :: date) = '2018-08-01'\n",
    "        GROUP BY\n",
    "            city,\n",
    "            day_of_august\n",
    "     ) AS subquery\n",
    "GROUP BY\n",
    "    city;\n"
   ]
  },
  {
   "cell_type": "markdown",
   "metadata": {},
   "source": [
    "## Импорт и проверки"
   ]
  },
  {
   "cell_type": "code",
   "execution_count": 2,
   "metadata": {},
   "outputs": [
    {
     "name": "stdout",
     "output_type": "stream",
     "text": [
      "Defaulting to user installation because normal site-packages is not writeable\n",
      "Collecting squarify\n",
      "  Downloading squarify-0.4.3-py3-none-any.whl (4.3 kB)\n",
      "Installing collected packages: squarify\n",
      "Successfully installed squarify-0.4.3\n",
      "Note: you may need to restart the kernel to use updated packages.\n"
     ]
    }
   ],
   "source": [
    "pip install squarify"
   ]
  },
  {
   "cell_type": "code",
   "execution_count": 3,
   "metadata": {},
   "outputs": [],
   "source": [
    "import pandas as pd\n",
    "import numpy as np\n",
    "import squarify\n",
    "import matplotlib.pyplot as plt\n",
    "import matplotlib.patches as patches\n",
    "import matplotlib"
   ]
  },
  {
   "cell_type": "code",
   "execution_count": 4,
   "metadata": {},
   "outputs": [],
   "source": [
    "df_plane = pd.read_csv('/datasets/query_1.csv')\n",
    "df_city = pd.read_csv('/datasets/query_3.csv')"
   ]
  },
  {
   "cell_type": "code",
   "execution_count": 26,
   "metadata": {},
   "outputs": [],
   "source": [
    "def first_check(data):\n",
    "    print('---ВИЗУАЛИЗАЦИЯ ТАБЛИЦЫ---')\n",
    "    print(' ')\n",
    "    print(data.head())\n",
    "    print(' ')\n",
    "    print('---ТИПЫ И КОЛИЧЕСТВО ДАННЫХ---')\n",
    "    print(' ')\n",
    "    print(data.info())\n",
    "    print(' ')\n",
    "    print('---ДУБЛИКАТЫ---')\n",
    "    print(' ')\n",
    "    print(data.duplicated().sum())\n",
    "    print(' ')\n",
    "    print('---ПРОПУСКИ---')\n",
    "    print(' ')\n",
    "    print(data.isna().sum())\n",
    "    "
   ]
  },
  {
   "cell_type": "code",
   "execution_count": 27,
   "metadata": {},
   "outputs": [
    {
     "name": "stdout",
     "output_type": "stream",
     "text": [
      "---ВИЗУАЛИЗАЦИЯ ТАБЛИЦЫ---\n",
      " \n",
      "          city  average_flights\n",
      "0       Абакан         3.870968\n",
      "1      Анадырь         1.000000\n",
      "2        Анапа         2.161290\n",
      "3  Архангельск         5.354839\n",
      "4    Астрахань         2.451613\n",
      " \n",
      "---ТИПЫ И КОЛИЧЕСТВО ДАННЫХ---\n",
      " \n",
      "<class 'pandas.core.frame.DataFrame'>\n",
      "RangeIndex: 101 entries, 0 to 100\n",
      "Data columns (total 2 columns):\n",
      "city               101 non-null object\n",
      "average_flights    101 non-null float64\n",
      "dtypes: float64(1), object(1)\n",
      "memory usage: 1.7+ KB\n",
      "None\n",
      " \n",
      "---ДУБЛИКАТЫ---\n",
      " \n",
      "0\n",
      " \n",
      "---ПРОПУСКИ---\n",
      " \n",
      "city               0\n",
      "average_flights    0\n",
      "dtype: int64\n"
     ]
    }
   ],
   "source": [
    "first_check(df_city)"
   ]
  },
  {
   "cell_type": "code",
   "execution_count": null,
   "metadata": {},
   "outputs": [],
   "source": []
  },
  {
   "cell_type": "code",
   "execution_count": 4,
   "metadata": {},
   "outputs": [
    {
     "data": {
      "text/html": [
       "<div>\n",
       "<style scoped>\n",
       "    .dataframe tbody tr th:only-of-type {\n",
       "        vertical-align: middle;\n",
       "    }\n",
       "\n",
       "    .dataframe tbody tr th {\n",
       "        vertical-align: top;\n",
       "    }\n",
       "\n",
       "    .dataframe thead th {\n",
       "        text-align: right;\n",
       "    }\n",
       "</style>\n",
       "<table border=\"1\" class=\"dataframe\">\n",
       "  <thead>\n",
       "    <tr style=\"text-align: right;\">\n",
       "      <th></th>\n",
       "      <th>model</th>\n",
       "      <th>flights_amount</th>\n",
       "    </tr>\n",
       "  </thead>\n",
       "  <tbody>\n",
       "    <tr>\n",
       "      <td>0</td>\n",
       "      <td>Airbus A319-100</td>\n",
       "      <td>607</td>\n",
       "    </tr>\n",
       "    <tr>\n",
       "      <td>1</td>\n",
       "      <td>Airbus A321-200</td>\n",
       "      <td>960</td>\n",
       "    </tr>\n",
       "    <tr>\n",
       "      <td>2</td>\n",
       "      <td>Boeing 737-300</td>\n",
       "      <td>630</td>\n",
       "    </tr>\n",
       "    <tr>\n",
       "      <td>3</td>\n",
       "      <td>Boeing 767-300</td>\n",
       "      <td>600</td>\n",
       "    </tr>\n",
       "    <tr>\n",
       "      <td>4</td>\n",
       "      <td>Boeing 777-300</td>\n",
       "      <td>300</td>\n",
       "    </tr>\n",
       "    <tr>\n",
       "      <td>5</td>\n",
       "      <td>Bombardier CRJ-200</td>\n",
       "      <td>4446</td>\n",
       "    </tr>\n",
       "    <tr>\n",
       "      <td>6</td>\n",
       "      <td>Cessna 208 Caravan</td>\n",
       "      <td>4557</td>\n",
       "    </tr>\n",
       "    <tr>\n",
       "      <td>7</td>\n",
       "      <td>Sukhoi SuperJet-100</td>\n",
       "      <td>4185</td>\n",
       "    </tr>\n",
       "  </tbody>\n",
       "</table>\n",
       "</div>"
      ],
      "text/plain": [
       "                 model  flights_amount\n",
       "0      Airbus A319-100             607\n",
       "1      Airbus A321-200             960\n",
       "2       Boeing 737-300             630\n",
       "3       Boeing 767-300             600\n",
       "4       Boeing 777-300             300\n",
       "5   Bombardier CRJ-200            4446\n",
       "6   Cessna 208 Caravan            4557\n",
       "7  Sukhoi SuperJet-100            4185"
      ]
     },
     "execution_count": 4,
     "metadata": {},
     "output_type": "execute_result"
    }
   ],
   "source": [
    "df_plane.head(10)"
   ]
  },
  {
   "cell_type": "code",
   "execution_count": 5,
   "metadata": {},
   "outputs": [
    {
     "data": {
      "text/html": [
       "<div>\n",
       "<style scoped>\n",
       "    .dataframe tbody tr th:only-of-type {\n",
       "        vertical-align: middle;\n",
       "    }\n",
       "\n",
       "    .dataframe tbody tr th {\n",
       "        vertical-align: top;\n",
       "    }\n",
       "\n",
       "    .dataframe thead th {\n",
       "        text-align: right;\n",
       "    }\n",
       "</style>\n",
       "<table border=\"1\" class=\"dataframe\">\n",
       "  <thead>\n",
       "    <tr style=\"text-align: right;\">\n",
       "      <th></th>\n",
       "      <th>city</th>\n",
       "      <th>average_flights</th>\n",
       "    </tr>\n",
       "  </thead>\n",
       "  <tbody>\n",
       "    <tr>\n",
       "      <td>0</td>\n",
       "      <td>Абакан</td>\n",
       "      <td>3.870968</td>\n",
       "    </tr>\n",
       "    <tr>\n",
       "      <td>1</td>\n",
       "      <td>Анадырь</td>\n",
       "      <td>1.000000</td>\n",
       "    </tr>\n",
       "    <tr>\n",
       "      <td>2</td>\n",
       "      <td>Анапа</td>\n",
       "      <td>2.161290</td>\n",
       "    </tr>\n",
       "    <tr>\n",
       "      <td>3</td>\n",
       "      <td>Архангельск</td>\n",
       "      <td>5.354839</td>\n",
       "    </tr>\n",
       "    <tr>\n",
       "      <td>4</td>\n",
       "      <td>Астрахань</td>\n",
       "      <td>2.451613</td>\n",
       "    </tr>\n",
       "  </tbody>\n",
       "</table>\n",
       "</div>"
      ],
      "text/plain": [
       "          city  average_flights\n",
       "0       Абакан         3.870968\n",
       "1      Анадырь         1.000000\n",
       "2        Анапа         2.161290\n",
       "3  Архангельск         5.354839\n",
       "4    Астрахань         2.451613"
      ]
     },
     "execution_count": 5,
     "metadata": {},
     "output_type": "execute_result"
    }
   ],
   "source": [
    "df_city.head()"
   ]
  },
  {
   "cell_type": "code",
   "execution_count": 6,
   "metadata": {},
   "outputs": [
    {
     "name": "stdout",
     "output_type": "stream",
     "text": [
      "<class 'pandas.core.frame.DataFrame'>\n",
      "RangeIndex: 8 entries, 0 to 7\n",
      "Data columns (total 2 columns):\n",
      "model             8 non-null object\n",
      "flights_amount    8 non-null int64\n",
      "dtypes: int64(1), object(1)\n",
      "memory usage: 256.0+ bytes\n"
     ]
    }
   ],
   "source": [
    "df_plane.info()"
   ]
  },
  {
   "cell_type": "code",
   "execution_count": 7,
   "metadata": {},
   "outputs": [
    {
     "name": "stdout",
     "output_type": "stream",
     "text": [
      "<class 'pandas.core.frame.DataFrame'>\n",
      "RangeIndex: 101 entries, 0 to 100\n",
      "Data columns (total 2 columns):\n",
      "city               101 non-null object\n",
      "average_flights    101 non-null float64\n",
      "dtypes: float64(1), object(1)\n",
      "memory usage: 1.7+ KB\n"
     ]
    }
   ],
   "source": [
    "df_city.info()"
   ]
  },
  {
   "cell_type": "code",
   "execution_count": 8,
   "metadata": {},
   "outputs": [
    {
     "data": {
      "text/plain": [
       "0"
      ]
     },
     "execution_count": 8,
     "metadata": {},
     "output_type": "execute_result"
    }
   ],
   "source": [
    "df_plane.duplicated().sum()"
   ]
  },
  {
   "cell_type": "code",
   "execution_count": 9,
   "metadata": {},
   "outputs": [
    {
     "data": {
      "text/plain": [
       "0"
      ]
     },
     "execution_count": 9,
     "metadata": {},
     "output_type": "execute_result"
    }
   ],
   "source": [
    "df_city.duplicated().sum()"
   ]
  },
  {
   "cell_type": "code",
   "execution_count": 10,
   "metadata": {},
   "outputs": [
    {
     "data": {
      "text/plain": [
       "model             0\n",
       "flights_amount    0\n",
       "dtype: int64"
      ]
     },
     "execution_count": 10,
     "metadata": {},
     "output_type": "execute_result"
    }
   ],
   "source": [
    "df_plane.isna().sum()"
   ]
  },
  {
   "cell_type": "code",
   "execution_count": 11,
   "metadata": {},
   "outputs": [
    {
     "data": {
      "text/plain": [
       "city               0\n",
       "average_flights    0\n",
       "dtype: int64"
      ]
     },
     "execution_count": 11,
     "metadata": {},
     "output_type": "execute_result"
    }
   ],
   "source": [
    "df_city.isna().sum()"
   ]
  },
  {
   "cell_type": "markdown",
   "metadata": {},
   "source": [
    "#### Вывод"
   ]
  },
  {
   "cell_type": "markdown",
   "metadata": {},
   "source": [
    "Данные импортированы и проверены. Типы данных коректны, пропуски и дубликаты отсутствуют, можно приступать к анализу."
   ]
  },
  {
   "cell_type": "markdown",
   "metadata": {},
   "source": [
    "## Визуализация и анализ"
   ]
  },
  {
   "cell_type": "code",
   "execution_count": 12,
   "metadata": {},
   "outputs": [
    {
     "name": "stdout",
     "output_type": "stream",
     "text": [
      "              city  average_flights\n",
      "0           Москва       129.774194\n",
      "1  Санкт-Петербург        31.161290\n",
      "2      Новосибирск        17.322581\n",
      "3       Красноярск        11.580645\n",
      "4     Екатеринбург        11.322581\n",
      "5   Ростов-на-Дону        10.193548\n",
      "6            Пермь        10.129032\n",
      "7           Брянск        10.000000\n",
      "8             Сочи         9.612903\n",
      "9        Ульяновск         9.580645\n"
     ]
    }
   ],
   "source": [
    "df_city_sorted = df_city.sort_values('average_flights', ascending=False).reset_index(drop=True).loc[:9]\n",
    "\n",
    "print(df_city_sorted)"
   ]
  },
  {
   "cell_type": "code",
   "execution_count": 13,
   "metadata": {},
   "outputs": [
    {
     "data": {
      "image/png": "[encoded data removed]",
      "text/plain": [
       "<Figure size 1200x560 with 1 Axes>"
      ]
     },
     "metadata": {
      "needs_background": "light"
     },
     "output_type": "display_data"
    }
   ],
   "source": [
    "fig, ax = plt.subplots(figsize=(15,7), dpi= 80)\n",
    "ax.stem(df_city_sorted.city, df_city_sorted.average_flights, basefmt=' ', use_line_collection = True, linefmt ='grey', markerfmt ='*')\n",
    "ax.set_ylim(0, 135)\n",
    "ax.set_title('График топ-10 городов и количества рейсов')\n",
    "ax.set_ylabel('Кол-во рейсов')\n",
    "plt.show()\n",
    "\n"
   ]
  },
  {
   "cell_type": "code",
   "execution_count": 14,
   "metadata": {},
   "outputs": [
    {
     "data": {
      "image/png": "[encoded data removed]",
      "text/plain": [
       "<Figure size 1200x560 with 1 Axes>"
      ]
     },
     "metadata": {
      "needs_background": "light"
     },
     "output_type": "display_data"
    }
   ],
   "source": [
    "fig, ax = plt.subplots(figsize=(15,7), dpi= 80)\n",
    "ax.vlines(x = df_plane.model, ymin=0, ymax=df_plane.flights_amount, color='firebrick', alpha=0.7, linewidth=20)\n",
    "ax.set_title('График моделей самолётов и количества рейсов')\n",
    "ax.set(ylabel='Кол-во рейсов')\n",
    "plt.xticks(rotation=30)\n",
    "plt.show()"
   ]
  },
  {
   "cell_type": "code",
   "execution_count": 15,
   "metadata": {},
   "outputs": [],
   "source": [
    "df_city = df_city.sort_values('average_flights', ascending=False).reset_index(drop=True)\n",
    "labels = df_city['city'].to_numpy()\n",
    "sizes = df_city['average_flights'].values"
   ]
  },
  {
   "cell_type": "code",
   "execution_count": 16,
   "metadata": {},
   "outputs": [],
   "source": [
    "colors = [plt.cm.Spectral(i/float(len(labels))) for i in range(len(labels))]"
   ]
  },
  {
   "cell_type": "code",
   "execution_count": 17,
   "metadata": {},
   "outputs": [
    {
     "data": {
      "image/png": "[encoded data removed]",
      "text/plain": [
       "<Figure size 1200x1200 with 1 Axes>"
      ]
     },
     "metadata": {
      "needs_background": "light"
     },
     "output_type": "display_data"
    }
   ],
   "source": [
    "plt.figure(figsize=(15,15), dpi= 80)\n",
    "ax = squarify.plot(sizes=sizes, label=labels, color=colors, alpha=.8)\n",
    "text_parts = ax.texts[0].get_text().split(\"\\n\")\n",
    "ax.texts[0].set_text(text_parts[0] + \"\\n\")\n",
    "ax.texts[0].set_size(30)\n",
    "ax.texts[0].set_weight('bold')\n",
    "ax.set_title('Древовидная карта городов и количества рейсов')\n",
    "plt.show()"
   ]
  },
  {
   "cell_type": "markdown",
   "metadata": {},
   "source": [
    "## Вывод"
   ]
  },
  {
   "cell_type": "markdown",
   "metadata": {},
   "source": [
    "Исходя из той визуализации, которую мы можем наблюдать, москва значительно опережает прочие города по количеству рейсов. Питербург традиционно на втором месте, количество рейсов меньше примерно в 5 раз, Новосибирск почти в 10. Прочие города равномерно убывают по количеству рейсов, в хвосте такие города как Ижевск, Благовещенск, Комсомольск-на-Амуре.\n",
    "\n",
    "С точки зрения самолётов, тройка лидеров - Сухой, Бомбардьер, Кессна с большим отрывом опережают Боинг и Аирбас. Это интересное наблюдени! Мой опыт говорит о том что Боинг наиболее популярный тип самолётов. Я бы изучил причины почему именно эти самолёты лидируют по кол-ву рейсов."
   ]
  }
 ],
 "metadata": {
  "ExecuteTimeLog": [
   {
    "duration": 561,
    "start_time": "2021-11-09T12:07:15.398Z"
   },
   {
    "duration": 18,
    "start_time": "2021-11-09T12:08:15.999Z"
   },
   {
    "duration": 32,
    "start_time": "2021-11-09T12:09:09.950Z"
   },
   {
    "duration": 19,
    "start_time": "2021-11-09T12:09:21.030Z"
   },
   {
    "duration": 9,
    "start_time": "2021-11-09T12:09:31.804Z"
   },
   {
    "duration": 7,
    "start_time": "2021-11-09T12:09:37.341Z"
   },
   {
    "duration": 7,
    "start_time": "2021-11-09T12:09:53.669Z"
   },
   {
    "duration": 8,
    "start_time": "2021-11-09T12:10:17.348Z"
   },
   {
    "duration": 6,
    "start_time": "2021-11-09T12:10:50.750Z"
   },
   {
    "duration": 5,
    "start_time": "2021-11-09T12:13:11.053Z"
   },
   {
    "duration": 5,
    "start_time": "2021-11-09T12:13:33.676Z"
   },
   {
    "duration": 7,
    "start_time": "2021-11-09T12:14:27.453Z"
   },
   {
    "duration": 6,
    "start_time": "2021-11-09T12:14:51.756Z"
   },
   {
    "duration": 347,
    "start_time": "2021-11-10T07:21:27.889Z"
   },
   {
    "duration": 752,
    "start_time": "2021-11-10T07:21:33.842Z"
   },
   {
    "duration": 29,
    "start_time": "2021-11-10T07:21:34.597Z"
   },
   {
    "duration": 22,
    "start_time": "2021-11-10T07:21:34.630Z"
   },
   {
    "duration": 10,
    "start_time": "2021-11-10T07:21:34.655Z"
   },
   {
    "duration": 21,
    "start_time": "2021-11-10T07:21:34.667Z"
   },
   {
    "duration": 11,
    "start_time": "2021-11-10T07:21:34.697Z"
   },
   {
    "duration": 8,
    "start_time": "2021-11-10T07:21:34.874Z"
   },
   {
    "duration": 7,
    "start_time": "2021-11-10T07:21:35.060Z"
   },
   {
    "duration": 8,
    "start_time": "2021-11-10T07:21:35.234Z"
   },
   {
    "duration": 9,
    "start_time": "2021-11-10T07:21:35.427Z"
   },
   {
    "duration": 20,
    "start_time": "2021-11-10T07:21:37.971Z"
   },
   {
    "duration": 14,
    "start_time": "2021-11-10T07:23:33.311Z"
   },
   {
    "duration": 6,
    "start_time": "2021-11-10T07:24:04.360Z"
   },
   {
    "duration": 8,
    "start_time": "2021-11-10T07:24:18.534Z"
   },
   {
    "duration": 389,
    "start_time": "2021-11-10T08:53:47.502Z"
   },
   {
    "duration": 3,
    "start_time": "2021-11-10T08:54:34.063Z"
   },
   {
    "duration": 293,
    "start_time": "2021-11-10T08:54:34.573Z"
   },
   {
    "duration": 109,
    "start_time": "2021-11-10T08:55:31.260Z"
   },
   {
    "duration": 95,
    "start_time": "2021-11-10T08:55:51.204Z"
   },
   {
    "duration": 5164,
    "start_time": "2021-11-10T08:56:31.235Z"
   },
   {
    "duration": 12,
    "start_time": "2021-11-10T08:56:37.219Z"
   },
   {
    "duration": 763,
    "start_time": "2021-11-10T08:56:44.481Z"
   },
   {
    "duration": 31,
    "start_time": "2021-11-10T08:56:45.246Z"
   },
   {
    "duration": 21,
    "start_time": "2021-11-10T08:56:45.281Z"
   },
   {
    "duration": 10,
    "start_time": "2021-11-10T08:56:45.305Z"
   },
   {
    "duration": 22,
    "start_time": "2021-11-10T08:56:45.318Z"
   },
   {
    "duration": 8,
    "start_time": "2021-11-10T08:56:45.377Z"
   },
   {
    "duration": 7,
    "start_time": "2021-11-10T08:56:45.552Z"
   },
   {
    "duration": 7,
    "start_time": "2021-11-10T08:56:45.738Z"
   },
   {
    "duration": 8,
    "start_time": "2021-11-10T08:56:46.049Z"
   },
   {
    "duration": 8,
    "start_time": "2021-11-10T08:56:46.200Z"
   },
   {
    "duration": 9,
    "start_time": "2021-11-10T08:56:49.881Z"
   },
   {
    "duration": 9,
    "start_time": "2021-11-10T08:56:54.793Z"
   },
   {
    "duration": 506,
    "start_time": "2021-11-10T08:58:02.538Z"
   },
   {
    "duration": 121,
    "start_time": "2021-11-10T09:01:41.881Z"
   },
   {
    "duration": 4,
    "start_time": "2021-11-10T09:06:22.513Z"
   },
   {
    "duration": 7,
    "start_time": "2021-11-10T09:06:35.737Z"
   },
   {
    "duration": 5,
    "start_time": "2021-11-10T09:06:55.434Z"
   },
   {
    "duration": 4,
    "start_time": "2021-11-10T09:09:21.369Z"
   },
   {
    "duration": 332,
    "start_time": "2021-11-10T09:09:31.729Z"
   },
   {
    "duration": 7,
    "start_time": "2021-11-10T09:09:55.779Z"
   },
   {
    "duration": 3,
    "start_time": "2021-11-10T09:09:57.204Z"
   },
   {
    "duration": 311,
    "start_time": "2021-11-10T09:09:57.898Z"
   },
   {
    "duration": 5,
    "start_time": "2021-11-10T09:10:06.411Z"
   },
   {
    "duration": 4,
    "start_time": "2021-11-10T09:10:10.868Z"
   },
   {
    "duration": 330,
    "start_time": "2021-11-10T09:10:12.658Z"
   },
   {
    "duration": 5,
    "start_time": "2021-11-10T09:16:29.617Z"
   },
   {
    "duration": 456,
    "start_time": "2021-11-10T09:17:30.486Z"
   },
   {
    "duration": 296,
    "start_time": "2021-11-10T09:17:40.315Z"
   },
   {
    "duration": 350,
    "start_time": "2021-11-10T09:22:04.428Z"
   },
   {
    "duration": 481,
    "start_time": "2021-11-10T09:22:32.461Z"
   },
   {
    "duration": 315,
    "start_time": "2021-11-10T09:23:47.678Z"
   },
   {
    "duration": 10,
    "start_time": "2021-11-10T09:24:02.107Z"
   },
   {
    "duration": 9,
    "start_time": "2021-11-10T09:25:39.943Z"
   },
   {
    "duration": 9,
    "start_time": "2021-11-10T09:25:59.707Z"
   },
   {
    "duration": 303,
    "start_time": "2021-11-10T09:27:09.413Z"
   },
   {
    "duration": 305,
    "start_time": "2021-11-10T09:29:48.012Z"
   },
   {
    "duration": 15,
    "start_time": "2021-11-10T09:29:55.833Z"
   },
   {
    "duration": 9,
    "start_time": "2021-11-10T09:30:37.431Z"
   },
   {
    "duration": 9,
    "start_time": "2021-11-10T09:30:54.182Z"
   },
   {
    "duration": 529,
    "start_time": "2021-11-10T09:31:17.277Z"
   },
   {
    "duration": 11,
    "start_time": "2021-11-10T09:33:12.887Z"
   },
   {
    "duration": 13,
    "start_time": "2021-11-10T09:33:26.804Z"
   },
   {
    "duration": 10,
    "start_time": "2021-11-10T09:34:12.324Z"
   },
   {
    "duration": 10,
    "start_time": "2021-11-10T09:34:32.212Z"
   },
   {
    "duration": 314,
    "start_time": "2021-11-10T09:35:43.547Z"
   },
   {
    "duration": 10,
    "start_time": "2021-11-10T09:35:52.517Z"
   },
   {
    "duration": 12,
    "start_time": "2021-11-10T09:36:19.660Z"
   },
   {
    "duration": 306,
    "start_time": "2021-11-10T09:36:40.414Z"
   },
   {
    "duration": 6,
    "start_time": "2021-11-10T09:38:54.722Z"
   },
   {
    "duration": 10,
    "start_time": "2021-11-10T09:39:12.413Z"
   },
   {
    "duration": 8,
    "start_time": "2021-11-10T09:40:16.391Z"
   },
   {
    "duration": 297,
    "start_time": "2021-11-10T09:40:29.949Z"
   },
   {
    "duration": 693,
    "start_time": "2021-11-10T09:42:34.101Z"
   },
   {
    "duration": 227,
    "start_time": "2021-11-10T09:45:27.973Z"
   },
   {
    "duration": 303,
    "start_time": "2021-11-10T09:46:51.133Z"
   },
   {
    "duration": 277,
    "start_time": "2021-11-10T09:47:35.949Z"
   },
   {
    "duration": 358,
    "start_time": "2021-11-10T09:47:47.327Z"
   },
   {
    "duration": 283,
    "start_time": "2021-11-10T09:47:53.975Z"
   },
   {
    "duration": 280,
    "start_time": "2021-11-10T09:47:59.910Z"
   },
   {
    "duration": 553,
    "start_time": "2021-11-10T09:50:31.368Z"
   },
   {
    "duration": 370,
    "start_time": "2021-11-10T09:50:44.644Z"
   },
   {
    "duration": 420,
    "start_time": "2021-11-10T09:50:58.262Z"
   },
   {
    "duration": 429,
    "start_time": "2021-11-10T09:51:07.438Z"
   },
   {
    "duration": 501,
    "start_time": "2021-11-10T09:51:14.503Z"
   },
   {
    "duration": 447,
    "start_time": "2021-11-10T09:51:31.701Z"
   },
   {
    "duration": 733,
    "start_time": "2021-11-10T09:51:38.137Z"
   },
   {
    "duration": 316,
    "start_time": "2021-11-10T09:51:46.455Z"
   },
   {
    "duration": 459,
    "start_time": "2021-11-10T09:51:53.584Z"
   },
   {
    "duration": 767,
    "start_time": "2021-11-10T09:54:04.910Z"
   },
   {
    "duration": 453,
    "start_time": "2021-11-10T09:54:21.631Z"
   },
   {
    "duration": 707,
    "start_time": "2021-11-10T09:55:10.232Z"
   },
   {
    "duration": 663,
    "start_time": "2021-11-10T09:55:20.858Z"
   },
   {
    "duration": 549,
    "start_time": "2021-11-10T09:56:04.862Z"
   },
   {
    "duration": 718,
    "start_time": "2021-11-10T09:58:36.510Z"
   },
   {
    "duration": 637,
    "start_time": "2021-11-10T09:58:46.101Z"
   },
   {
    "duration": 580,
    "start_time": "2021-11-10T10:00:32.206Z"
   },
   {
    "duration": 510,
    "start_time": "2021-11-10T10:00:42.213Z"
   },
   {
    "duration": 569,
    "start_time": "2021-11-10T10:01:22.070Z"
   },
   {
    "duration": 686,
    "start_time": "2021-11-10T10:01:30.774Z"
   },
   {
    "duration": 559,
    "start_time": "2021-11-10T10:01:35.575Z"
   },
   {
    "duration": 540,
    "start_time": "2021-11-10T10:02:25.095Z"
   },
   {
    "duration": 726,
    "start_time": "2021-11-10T10:02:31.663Z"
   },
   {
    "duration": 558,
    "start_time": "2021-11-10T10:03:31.542Z"
   },
   {
    "duration": 555,
    "start_time": "2021-11-10T10:03:48.614Z"
   },
   {
    "duration": 535,
    "start_time": "2021-11-10T10:03:56.433Z"
   },
   {
    "duration": 627,
    "start_time": "2021-11-10T10:04:03.765Z"
   },
   {
    "duration": 548,
    "start_time": "2021-11-10T10:04:10.912Z"
   },
   {
    "duration": 723,
    "start_time": "2021-11-10T10:06:28.497Z"
   },
   {
    "duration": 800,
    "start_time": "2021-11-10T10:07:12.718Z"
   },
   {
    "duration": 818,
    "start_time": "2021-11-10T10:07:27.823Z"
   },
   {
    "duration": 580,
    "start_time": "2021-11-10T10:08:22.021Z"
   },
   {
    "duration": 565,
    "start_time": "2021-11-10T10:08:38.943Z"
   },
   {
    "duration": 876,
    "start_time": "2021-11-10T10:10:03.340Z"
   },
   {
    "duration": 33,
    "start_time": "2021-11-10T10:10:04.988Z"
   },
   {
    "duration": 13,
    "start_time": "2021-11-10T10:10:05.302Z"
   },
   {
    "duration": 10,
    "start_time": "2021-11-10T10:10:05.508Z"
   },
   {
    "duration": 9,
    "start_time": "2021-11-10T10:10:05.686Z"
   },
   {
    "duration": 9,
    "start_time": "2021-11-10T10:10:05.859Z"
   },
   {
    "duration": 7,
    "start_time": "2021-11-10T10:10:06.052Z"
   },
   {
    "duration": 7,
    "start_time": "2021-11-10T10:10:06.276Z"
   },
   {
    "duration": 7,
    "start_time": "2021-11-10T10:10:06.614Z"
   },
   {
    "duration": 7,
    "start_time": "2021-11-10T10:10:06.806Z"
   },
   {
    "duration": 10,
    "start_time": "2021-11-10T10:10:10.013Z"
   },
   {
    "duration": 98,
    "start_time": "2021-11-10T10:10:11.804Z"
   },
   {
    "duration": 107,
    "start_time": "2021-11-10T10:10:17.084Z"
   },
   {
    "duration": 571,
    "start_time": "2021-11-10T10:10:18.675Z"
   },
   {
    "duration": 570,
    "start_time": "2021-11-10T10:13:01.067Z"
   },
   {
    "duration": 4,
    "start_time": "2021-11-10T11:43:44.641Z"
   },
   {
    "duration": 405,
    "start_time": "2021-11-10T11:44:39.464Z"
   },
   {
    "duration": 1052,
    "start_time": "2021-11-10T11:45:19.934Z"
   },
   {
    "duration": 469,
    "start_time": "2021-11-10T11:46:18.030Z"
   },
   {
    "duration": 583,
    "start_time": "2021-11-10T11:48:05.543Z"
   },
   {
    "duration": 400,
    "start_time": "2021-11-10T11:49:56.193Z"
   },
   {
    "duration": 415,
    "start_time": "2021-11-10T11:50:28.185Z"
   },
   {
    "duration": 855,
    "start_time": "2021-11-10T11:50:46.577Z"
   },
   {
    "duration": 512,
    "start_time": "2021-11-10T11:50:55.151Z"
   },
   {
    "duration": 10,
    "start_time": "2021-11-10T11:51:16.819Z"
   },
   {
    "duration": 418,
    "start_time": "2021-11-10T11:51:48.726Z"
   },
   {
    "duration": 433,
    "start_time": "2021-11-10T11:53:22.824Z"
   },
   {
    "duration": 753,
    "start_time": "2021-11-10T11:54:30.351Z"
   },
   {
    "duration": 427,
    "start_time": "2021-11-10T11:54:44.281Z"
   },
   {
    "duration": 453,
    "start_time": "2021-11-10T11:55:43.431Z"
   },
   {
    "duration": 455,
    "start_time": "2021-11-10T11:55:52.746Z"
   },
   {
    "duration": 501,
    "start_time": "2021-11-10T11:55:58.930Z"
   },
   {
    "duration": 447,
    "start_time": "2021-11-10T11:58:12.936Z"
   },
   {
    "duration": 455,
    "start_time": "2021-11-10T11:58:36.809Z"
   },
   {
    "duration": 439,
    "start_time": "2021-11-10T11:58:45.408Z"
   },
   {
    "duration": 3,
    "start_time": "2021-11-10T13:50:29.336Z"
   },
   {
    "duration": 334,
    "start_time": "2021-11-10T13:52:07.286Z"
   },
   {
    "duration": 298,
    "start_time": "2021-11-10T14:00:16.966Z"
   },
   {
    "duration": 4,
    "start_time": "2021-11-10T14:04:31.712Z"
   },
   {
    "duration": 4,
    "start_time": "2021-11-10T14:04:35.229Z"
   },
   {
    "duration": 46,
    "start_time": "2021-11-10T14:07:01.129Z"
   },
   {
    "duration": 886,
    "start_time": "2021-11-10T14:09:37.978Z"
   },
   {
    "duration": 103,
    "start_time": "2021-11-10T14:11:11.375Z"
   },
   {
    "duration": 641,
    "start_time": "2021-11-10T14:11:40.674Z"
   },
   {
    "duration": 5,
    "start_time": "2021-11-10T14:13:31.497Z"
   },
   {
    "duration": 883,
    "start_time": "2021-11-10T14:13:36.768Z"
   },
   {
    "duration": 299,
    "start_time": "2021-11-10T14:14:26.808Z"
   },
   {
    "duration": 10,
    "start_time": "2021-11-10T14:16:24.809Z"
   },
   {
    "duration": 4,
    "start_time": "2021-11-10T14:17:11.904Z"
   },
   {
    "duration": 4,
    "start_time": "2021-11-10T14:19:22.304Z"
   },
   {
    "duration": 6,
    "start_time": "2021-11-10T14:19:59.816Z"
   },
   {
    "duration": 6,
    "start_time": "2021-11-10T14:20:25.939Z"
   },
   {
    "duration": 5,
    "start_time": "2021-11-10T14:20:35.792Z"
   },
   {
    "duration": 307,
    "start_time": "2021-11-10T14:20:52.138Z"
   },
   {
    "duration": 436,
    "start_time": "2021-11-10T14:21:30.608Z"
   },
   {
    "duration": 304,
    "start_time": "2021-11-10T14:21:53.634Z"
   },
   {
    "duration": 918,
    "start_time": "2021-11-10T14:22:58.049Z"
   },
   {
    "duration": 4,
    "start_time": "2021-11-10T14:23:08.729Z"
   },
   {
    "duration": 7,
    "start_time": "2021-11-10T14:23:22.225Z"
   },
   {
    "duration": 4,
    "start_time": "2021-11-10T14:24:29.145Z"
   },
   {
    "duration": 5,
    "start_time": "2021-11-10T14:24:35.784Z"
   },
   {
    "duration": 5,
    "start_time": "2021-11-10T14:24:40.379Z"
   },
   {
    "duration": 588,
    "start_time": "2021-11-10T14:24:52.548Z"
   },
   {
    "duration": 327,
    "start_time": "2021-11-10T14:26:40.113Z"
   },
   {
    "duration": 281,
    "start_time": "2021-11-10T14:26:50.297Z"
   },
   {
    "duration": 315,
    "start_time": "2021-11-10T14:26:59.264Z"
   },
   {
    "duration": 6,
    "start_time": "2021-11-10T14:28:23.825Z"
   },
   {
    "duration": 6,
    "start_time": "2021-11-10T14:28:35.345Z"
   },
   {
    "duration": 3,
    "start_time": "2021-11-10T14:28:49.580Z"
   },
   {
    "duration": 6,
    "start_time": "2021-11-10T14:29:12.387Z"
   },
   {
    "duration": 7,
    "start_time": "2021-11-10T14:29:22.707Z"
   },
   {
    "duration": 7,
    "start_time": "2021-11-10T14:29:40.425Z"
   },
   {
    "duration": 7,
    "start_time": "2021-11-10T14:29:53.257Z"
   },
   {
    "duration": 8,
    "start_time": "2021-11-10T14:29:58.738Z"
   },
   {
    "duration": 7,
    "start_time": "2021-11-10T14:30:13.830Z"
   },
   {
    "duration": 7,
    "start_time": "2021-11-10T14:30:20.169Z"
   },
   {
    "duration": 7,
    "start_time": "2021-11-10T14:30:23.858Z"
   },
   {
    "duration": 7,
    "start_time": "2021-11-10T14:30:50.378Z"
   },
   {
    "duration": 1448,
    "start_time": "2021-11-10T14:31:07.151Z"
   },
   {
    "duration": 30,
    "start_time": "2021-11-10T14:31:08.601Z"
   },
   {
    "duration": 14,
    "start_time": "2021-11-10T14:31:09.121Z"
   },
   {
    "duration": 10,
    "start_time": "2021-11-10T14:31:09.294Z"
   },
   {
    "duration": 9,
    "start_time": "2021-11-10T14:31:09.479Z"
   },
   {
    "duration": 8,
    "start_time": "2021-11-10T14:31:09.681Z"
   },
   {
    "duration": 7,
    "start_time": "2021-11-10T14:31:09.871Z"
   },
   {
    "duration": 7,
    "start_time": "2021-11-10T14:31:10.064Z"
   },
   {
    "duration": 7,
    "start_time": "2021-11-10T14:31:10.322Z"
   },
   {
    "duration": 7,
    "start_time": "2021-11-10T14:31:10.607Z"
   },
   {
    "duration": 9,
    "start_time": "2021-11-10T14:31:11.382Z"
   },
   {
    "duration": 588,
    "start_time": "2021-11-10T14:31:11.560Z"
   },
   {
    "duration": 450,
    "start_time": "2021-11-10T14:31:12.150Z"
   },
   {
    "duration": 10,
    "start_time": "2021-11-10T14:31:12.603Z"
   },
   {
    "duration": 4,
    "start_time": "2021-11-10T14:31:15.446Z"
   },
   {
    "duration": 5,
    "start_time": "2021-11-10T14:31:16.343Z"
   },
   {
    "duration": 2968,
    "start_time": "2021-11-10T14:31:20.295Z"
   },
   {
    "duration": 2647,
    "start_time": "2021-11-10T14:32:10.808Z"
   },
   {
    "duration": 2615,
    "start_time": "2021-11-10T14:32:47.096Z"
   },
   {
    "duration": 374,
    "start_time": "2021-11-10T14:33:30.025Z"
   },
   {
    "duration": 2668,
    "start_time": "2021-11-10T14:33:42.439Z"
   },
   {
    "duration": 3055,
    "start_time": "2021-11-10T14:34:05.609Z"
   },
   {
    "duration": 876,
    "start_time": "2021-11-10T14:46:09.898Z"
   },
   {
    "duration": 28,
    "start_time": "2021-11-10T14:46:10.776Z"
   },
   {
    "duration": 26,
    "start_time": "2021-11-10T14:46:10.807Z"
   },
   {
    "duration": 15,
    "start_time": "2021-11-10T14:46:10.835Z"
   },
   {
    "duration": 13,
    "start_time": "2021-11-10T14:46:10.853Z"
   },
   {
    "duration": 14,
    "start_time": "2021-11-10T14:46:10.869Z"
   },
   {
    "duration": 7,
    "start_time": "2021-11-10T14:46:10.972Z"
   },
   {
    "duration": 7,
    "start_time": "2021-11-10T14:46:11.155Z"
   },
   {
    "duration": 7,
    "start_time": "2021-11-10T14:46:11.335Z"
   },
   {
    "duration": 8,
    "start_time": "2021-11-10T14:46:11.514Z"
   },
   {
    "duration": 10,
    "start_time": "2021-11-10T14:46:12.266Z"
   },
   {
    "duration": 565,
    "start_time": "2021-11-10T14:46:12.866Z"
   },
   {
    "duration": 466,
    "start_time": "2021-11-10T14:46:13.434Z"
   },
   {
    "duration": 10,
    "start_time": "2021-11-10T14:46:13.903Z"
   },
   {
    "duration": 13,
    "start_time": "2021-11-10T14:46:13.916Z"
   },
   {
    "duration": 3,
    "start_time": "2021-11-10T14:46:16.058Z"
   },
   {
    "duration": 3,
    "start_time": "2021-11-10T14:46:16.394Z"
   },
   {
    "duration": 4,
    "start_time": "2021-11-10T14:48:36.923Z"
   },
   {
    "duration": 15,
    "start_time": "2021-11-10T14:50:40.822Z"
   },
   {
    "duration": 10,
    "start_time": "2021-11-10T14:51:10.835Z"
   },
   {
    "duration": 1509,
    "start_time": "2021-11-10T14:52:48.293Z"
   },
   {
    "duration": 1595,
    "start_time": "2021-11-10T14:53:52.859Z"
   },
   {
    "duration": 1341,
    "start_time": "2021-11-10T14:54:51.884Z"
   },
   {
    "duration": 1581,
    "start_time": "2021-11-10T14:55:03.235Z"
   },
   {
    "duration": 875,
    "start_time": "2021-11-11T06:06:05.977Z"
   },
   {
    "duration": -129,
    "start_time": "2021-11-11T06:06:06.984Z"
   },
   {
    "duration": -130,
    "start_time": "2021-11-11T06:06:06.986Z"
   },
   {
    "duration": -143,
    "start_time": "2021-11-11T06:06:07.000Z"
   },
   {
    "duration": -144,
    "start_time": "2021-11-11T06:06:07.002Z"
   },
   {
    "duration": 238,
    "start_time": "2021-11-11T06:06:06.887Z"
   },
   {
    "duration": -140,
    "start_time": "2021-11-11T06:06:07.267Z"
   },
   {
    "duration": 279,
    "start_time": "2021-11-11T06:06:07.257Z"
   },
   {
    "duration": -132,
    "start_time": "2021-11-11T06:06:07.669Z"
   },
   {
    "duration": 254,
    "start_time": "2021-11-11T06:06:07.625Z"
   },
   {
    "duration": 3202,
    "start_time": "2021-11-11T06:06:16.164Z"
   },
   {
    "duration": 618,
    "start_time": "2021-11-11T06:06:23.810Z"
   },
   {
    "duration": 31,
    "start_time": "2021-11-11T06:06:25.376Z"
   },
   {
    "duration": 10,
    "start_time": "2021-11-11T06:06:25.729Z"
   },
   {
    "duration": 7,
    "start_time": "2021-11-11T06:06:26.097Z"
   },
   {
    "duration": 6,
    "start_time": "2021-11-11T06:06:27.906Z"
   },
   {
    "duration": 7,
    "start_time": "2021-11-11T06:06:28.172Z"
   },
   {
    "duration": 6,
    "start_time": "2021-11-11T06:06:28.400Z"
   },
   {
    "duration": 6,
    "start_time": "2021-11-11T06:06:28.600Z"
   },
   {
    "duration": 6,
    "start_time": "2021-11-11T06:06:30.217Z"
   },
   {
    "duration": 6,
    "start_time": "2021-11-11T06:06:30.586Z"
   },
   {
    "duration": 7,
    "start_time": "2021-11-11T06:06:34.314Z"
   },
   {
    "duration": 393,
    "start_time": "2021-11-11T06:06:34.649Z"
   },
   {
    "duration": 258,
    "start_time": "2021-11-11T06:06:36.378Z"
   },
   {
    "duration": 539,
    "start_time": "2021-11-11T06:06:55.033Z"
   },
   {
    "duration": 349,
    "start_time": "2021-11-11T06:07:04.394Z"
   },
   {
    "duration": 322,
    "start_time": "2021-11-11T06:07:07.224Z"
   },
   {
    "duration": 3,
    "start_time": "2021-11-11T06:07:15.522Z"
   },
   {
    "duration": 9,
    "start_time": "2021-11-11T06:07:15.803Z"
   },
   {
    "duration": 942,
    "start_time": "2021-11-11T06:07:16.755Z"
   },
   {
    "duration": 913,
    "start_time": "2021-11-11T06:07:26.745Z"
   },
   {
    "duration": 914,
    "start_time": "2021-11-11T06:07:45.481Z"
   },
   {
    "duration": 979,
    "start_time": "2021-11-11T06:08:17.347Z"
   },
   {
    "duration": 915,
    "start_time": "2021-11-11T06:08:26.539Z"
   },
   {
    "duration": 1184,
    "start_time": "2021-11-11T06:08:39.210Z"
   },
   {
    "duration": 5,
    "start_time": "2021-11-11T06:10:58.707Z"
   },
   {
    "duration": 8,
    "start_time": "2021-11-11T06:10:59.529Z"
   },
   {
    "duration": 929,
    "start_time": "2021-11-11T06:11:00.257Z"
   },
   {
    "duration": 1127,
    "start_time": "2021-11-11T06:11:45.618Z"
   },
   {
    "duration": 932,
    "start_time": "2021-11-11T06:12:07.899Z"
   },
   {
    "duration": 1036,
    "start_time": "2021-11-11T06:12:23.722Z"
   },
   {
    "duration": 1095,
    "start_time": "2021-11-11T06:12:49.388Z"
   },
   {
    "duration": 1184,
    "start_time": "2021-11-11T06:13:05.219Z"
   },
   {
    "duration": 1165,
    "start_time": "2021-11-11T06:13:42.946Z"
   },
   {
    "duration": 1222,
    "start_time": "2021-11-11T06:14:02.844Z"
   },
   {
    "duration": 1025,
    "start_time": "2021-11-11T06:14:27.724Z"
   },
   {
    "duration": 952,
    "start_time": "2021-11-11T06:22:24.852Z"
   },
   {
    "duration": 945,
    "start_time": "2021-11-11T06:22:44.163Z"
   },
   {
    "duration": 1074,
    "start_time": "2021-11-11T06:23:37.752Z"
   },
   {
    "duration": 1014,
    "start_time": "2021-11-12T05:33:52.531Z"
   },
   {
    "duration": 3653,
    "start_time": "2021-11-12T05:33:57.325Z"
   },
   {
    "duration": 86,
    "start_time": "2021-11-12T05:34:03.426Z"
   },
   {
    "duration": 33,
    "start_time": "2021-11-12T05:34:05.944Z"
   },
   {
    "duration": 558,
    "start_time": "2021-11-12T05:35:04.094Z"
   },
   {
    "duration": 391,
    "start_time": "2021-11-12T05:35:13.084Z"
   },
   {
    "duration": 4,
    "start_time": "2021-11-12T05:35:34.149Z"
   },
   {
    "duration": 6,
    "start_time": "2021-11-12T05:35:46.346Z"
   },
   {
    "duration": 3,
    "start_time": "2021-11-12T05:39:39.660Z"
   },
   {
    "duration": 10,
    "start_time": "2021-11-12T05:40:08.666Z"
   },
   {
    "duration": 3,
    "start_time": "2021-11-12T05:40:44.717Z"
   },
   {
    "duration": 9,
    "start_time": "2021-11-12T05:40:45.172Z"
   },
   {
    "duration": 4,
    "start_time": "2021-11-12T05:40:56.458Z"
   },
   {
    "duration": 8,
    "start_time": "2021-11-12T05:40:58.315Z"
   },
   {
    "duration": 3,
    "start_time": "2021-11-12T05:41:11.647Z"
   },
   {
    "duration": 11,
    "start_time": "2021-11-12T05:41:12.090Z"
   },
   {
    "duration": 4,
    "start_time": "2021-11-12T05:42:01.964Z"
   },
   {
    "duration": 7,
    "start_time": "2021-11-12T05:42:02.709Z"
   },
   {
    "duration": 4,
    "start_time": "2021-11-12T05:42:12.465Z"
   },
   {
    "duration": 8,
    "start_time": "2021-11-12T05:42:12.851Z"
   },
   {
    "duration": 4,
    "start_time": "2021-11-12T05:43:48.195Z"
   },
   {
    "duration": 11,
    "start_time": "2021-11-12T05:43:48.540Z"
   },
   {
    "duration": 4,
    "start_time": "2021-11-12T05:45:00.893Z"
   },
   {
    "duration": 4,
    "start_time": "2021-11-12T05:45:09.059Z"
   },
   {
    "duration": 11,
    "start_time": "2021-11-12T05:45:09.746Z"
   },
   {
    "duration": 4,
    "start_time": "2021-11-12T05:47:26.370Z"
   },
   {
    "duration": 12,
    "start_time": "2021-11-12T05:47:26.955Z"
   }
  ],
  "kernelspec": {
   "display_name": "Python 3",
   "language": "python",
   "name": "python3"
  },
  "language_info": {
   "codemirror_mode": {
    "name": "ipython",
    "version": 3
   },
   "file_extension": ".py",
   "mimetype": "text/x-python",
   "name": "python",
   "nbconvert_exporter": "python",
   "pygments_lexer": "ipython3",
   "version": "3.7.10"
  },
  "toc": {
   "base_numbering": 1,
   "nav_menu": {},
   "number_sections": true,
   "sideBar": true,
   "skip_h1_title": true,
   "title_cell": "Содержание",
   "title_sidebar": "Contents",
   "toc_cell": true,
   "toc_position": {},
   "toc_section_display": true,
   "toc_window_display": true
  }
 },
 "nbformat": 4,
 "nbformat_minor": 2
}
