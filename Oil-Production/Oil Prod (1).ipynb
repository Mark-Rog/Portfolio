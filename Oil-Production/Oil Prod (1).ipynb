{
 "cells": [
  {
   "cell_type": "markdown",
   "id": "895875bd",
   "metadata": {},
   "source": [
    "# Выбор локации для скважины"
   ]
  },
  {
   "cell_type": "markdown",
   "id": "9e3b04c3",
   "metadata": {},
   "source": [
    "## 1. Загрузка и подготовка данных. "
   ]
  },
  {
   "cell_type": "code",
   "execution_count": 1,
   "id": "85220bd5",
   "metadata": {},
   "outputs": [],
   "source": [
    "import pandas as pd\n",
    "from sklearn.model_selection import train_test_split\n",
    "from sklearn.linear_model import LinearRegression\n",
    "from sklearn.metrics import f1_score\n",
    "from sklearn.utils import shuffle\n",
    "from sklearn.metrics import roc_curve\n",
    "import matplotlib.pyplot as plt\n",
    "from sklearn.metrics import mean_squared_error\n",
    "from scipy import stats as st\n",
    "import numpy as np"
   ]
  },
  {
   "cell_type": "code",
   "execution_count": 2,
   "id": "c0c59545",
   "metadata": {},
   "outputs": [],
   "source": [
    "data_0 = pd.read_csv('/datasets/geo_data_0.csv')\n",
    "data_1 = pd.read_csv('/datasets/geo_data_1.csv')\n",
    "data_2 = pd.read_csv('/datasets/geo_data_2.csv')\n",
    "\n",
    "#data_0 = pd.read_csv('/opt/anaconda3/geo_data_0.csv')\n",
    "#data_1 = pd.read_csv('/opt/anaconda3/geo_data_1.csv')\n",
    "#data_2 = pd.read_csv('/opt/anaconda3/geo_data_2.csv')\n"
   ]
  },
  {
   "cell_type": "markdown",
   "id": "6461bc93",
   "metadata": {},
   "source": [
    "Необходимо:\n",
    "\n",
    "Проверить пропуски и дубликаты\n",
    "\n",
    "Проверить тип данных\n",
    "\n",
    "Проверять кореляцию данных, а так же уладять лишние столбцы не требуется, все данные в массиве важны.\n",
    "\n",
    "\n",
    "Категориальные признаки так же отсутствуют."
   ]
  },
  {
   "cell_type": "code",
   "execution_count": 3,
   "id": "832508ca",
   "metadata": {},
   "outputs": [
    {
     "data": {
      "text/html": [
       "<div>\n",
       "<style scoped>\n",
       "    .dataframe tbody tr th:only-of-type {\n",
       "        vertical-align: middle;\n",
       "    }\n",
       "\n",
       "    .dataframe tbody tr th {\n",
       "        vertical-align: top;\n",
       "    }\n",
       "\n",
       "    .dataframe thead th {\n",
       "        text-align: right;\n",
       "    }\n",
       "</style>\n",
       "<table border=\"1\" class=\"dataframe\">\n",
       "  <thead>\n",
       "    <tr style=\"text-align: right;\">\n",
       "      <th></th>\n",
       "      <th>id</th>\n",
       "      <th>f0</th>\n",
       "      <th>f1</th>\n",
       "      <th>f2</th>\n",
       "      <th>product</th>\n",
       "    </tr>\n",
       "  </thead>\n",
       "  <tbody>\n",
       "    <tr>\n",
       "      <td>0</td>\n",
       "      <td>txEyH</td>\n",
       "      <td>0.705745</td>\n",
       "      <td>-0.497823</td>\n",
       "      <td>1.221170</td>\n",
       "      <td>105.280062</td>\n",
       "    </tr>\n",
       "    <tr>\n",
       "      <td>1</td>\n",
       "      <td>2acmU</td>\n",
       "      <td>1.334711</td>\n",
       "      <td>-0.340164</td>\n",
       "      <td>4.365080</td>\n",
       "      <td>73.037750</td>\n",
       "    </tr>\n",
       "    <tr>\n",
       "      <td>2</td>\n",
       "      <td>409Wp</td>\n",
       "      <td>1.022732</td>\n",
       "      <td>0.151990</td>\n",
       "      <td>1.419926</td>\n",
       "      <td>85.265647</td>\n",
       "    </tr>\n",
       "    <tr>\n",
       "      <td>3</td>\n",
       "      <td>iJLyR</td>\n",
       "      <td>-0.032172</td>\n",
       "      <td>0.139033</td>\n",
       "      <td>2.978566</td>\n",
       "      <td>168.620776</td>\n",
       "    </tr>\n",
       "    <tr>\n",
       "      <td>4</td>\n",
       "      <td>Xdl7t</td>\n",
       "      <td>1.988431</td>\n",
       "      <td>0.155413</td>\n",
       "      <td>4.751769</td>\n",
       "      <td>154.036647</td>\n",
       "    </tr>\n",
       "    <tr>\n",
       "      <td>5</td>\n",
       "      <td>wX4Hy</td>\n",
       "      <td>0.969570</td>\n",
       "      <td>0.489775</td>\n",
       "      <td>-0.735383</td>\n",
       "      <td>64.741541</td>\n",
       "    </tr>\n",
       "    <tr>\n",
       "      <td>6</td>\n",
       "      <td>tL6pL</td>\n",
       "      <td>0.645075</td>\n",
       "      <td>0.530656</td>\n",
       "      <td>1.780266</td>\n",
       "      <td>49.055285</td>\n",
       "    </tr>\n",
       "    <tr>\n",
       "      <td>7</td>\n",
       "      <td>BYPU6</td>\n",
       "      <td>-0.400648</td>\n",
       "      <td>0.808337</td>\n",
       "      <td>-5.624670</td>\n",
       "      <td>72.943292</td>\n",
       "    </tr>\n",
       "    <tr>\n",
       "      <td>8</td>\n",
       "      <td>j9Oui</td>\n",
       "      <td>0.643105</td>\n",
       "      <td>-0.551583</td>\n",
       "      <td>2.372141</td>\n",
       "      <td>113.356160</td>\n",
       "    </tr>\n",
       "    <tr>\n",
       "      <td>9</td>\n",
       "      <td>OLuZU</td>\n",
       "      <td>2.173381</td>\n",
       "      <td>0.563698</td>\n",
       "      <td>9.441852</td>\n",
       "      <td>127.910945</td>\n",
       "    </tr>\n",
       "  </tbody>\n",
       "</table>\n",
       "</div>"
      ],
      "text/plain": [
       "      id        f0        f1        f2     product\n",
       "0  txEyH  0.705745 -0.497823  1.221170  105.280062\n",
       "1  2acmU  1.334711 -0.340164  4.365080   73.037750\n",
       "2  409Wp  1.022732  0.151990  1.419926   85.265647\n",
       "3  iJLyR -0.032172  0.139033  2.978566  168.620776\n",
       "4  Xdl7t  1.988431  0.155413  4.751769  154.036647\n",
       "5  wX4Hy  0.969570  0.489775 -0.735383   64.741541\n",
       "6  tL6pL  0.645075  0.530656  1.780266   49.055285\n",
       "7  BYPU6 -0.400648  0.808337 -5.624670   72.943292\n",
       "8  j9Oui  0.643105 -0.551583  2.372141  113.356160\n",
       "9  OLuZU  2.173381  0.563698  9.441852  127.910945"
      ]
     },
     "execution_count": 3,
     "metadata": {},
     "output_type": "execute_result"
    }
   ],
   "source": [
    "data_0.head(10)"
   ]
  },
  {
   "cell_type": "code",
   "execution_count": 4,
   "id": "0c28b9df",
   "metadata": {},
   "outputs": [
    {
     "data": {
      "text/html": [
       "<div>\n",
       "<style scoped>\n",
       "    .dataframe tbody tr th:only-of-type {\n",
       "        vertical-align: middle;\n",
       "    }\n",
       "\n",
       "    .dataframe tbody tr th {\n",
       "        vertical-align: top;\n",
       "    }\n",
       "\n",
       "    .dataframe thead th {\n",
       "        text-align: right;\n",
       "    }\n",
       "</style>\n",
       "<table border=\"1\" class=\"dataframe\">\n",
       "  <thead>\n",
       "    <tr style=\"text-align: right;\">\n",
       "      <th></th>\n",
       "      <th>id</th>\n",
       "      <th>f0</th>\n",
       "      <th>f1</th>\n",
       "      <th>f2</th>\n",
       "      <th>product</th>\n",
       "    </tr>\n",
       "  </thead>\n",
       "  <tbody>\n",
       "    <tr>\n",
       "      <td>0</td>\n",
       "      <td>kBEdx</td>\n",
       "      <td>-15.001348</td>\n",
       "      <td>-8.276000</td>\n",
       "      <td>-0.005876</td>\n",
       "      <td>3.179103</td>\n",
       "    </tr>\n",
       "    <tr>\n",
       "      <td>1</td>\n",
       "      <td>62mP7</td>\n",
       "      <td>14.272088</td>\n",
       "      <td>-3.475083</td>\n",
       "      <td>0.999183</td>\n",
       "      <td>26.953261</td>\n",
       "    </tr>\n",
       "    <tr>\n",
       "      <td>2</td>\n",
       "      <td>vyE1P</td>\n",
       "      <td>6.263187</td>\n",
       "      <td>-5.948386</td>\n",
       "      <td>5.001160</td>\n",
       "      <td>134.766305</td>\n",
       "    </tr>\n",
       "    <tr>\n",
       "      <td>3</td>\n",
       "      <td>KcrkZ</td>\n",
       "      <td>-13.081196</td>\n",
       "      <td>-11.506057</td>\n",
       "      <td>4.999415</td>\n",
       "      <td>137.945408</td>\n",
       "    </tr>\n",
       "    <tr>\n",
       "      <td>4</td>\n",
       "      <td>AHL4O</td>\n",
       "      <td>12.702195</td>\n",
       "      <td>-8.147433</td>\n",
       "      <td>5.004363</td>\n",
       "      <td>134.766305</td>\n",
       "    </tr>\n",
       "    <tr>\n",
       "      <td>5</td>\n",
       "      <td>HHckp</td>\n",
       "      <td>-3.327590</td>\n",
       "      <td>-2.205276</td>\n",
       "      <td>3.003647</td>\n",
       "      <td>84.038886</td>\n",
       "    </tr>\n",
       "    <tr>\n",
       "      <td>6</td>\n",
       "      <td>h5Ujo</td>\n",
       "      <td>-11.142655</td>\n",
       "      <td>-10.133399</td>\n",
       "      <td>4.002382</td>\n",
       "      <td>110.992147</td>\n",
       "    </tr>\n",
       "    <tr>\n",
       "      <td>7</td>\n",
       "      <td>muH9x</td>\n",
       "      <td>4.234715</td>\n",
       "      <td>-0.001354</td>\n",
       "      <td>2.004588</td>\n",
       "      <td>53.906522</td>\n",
       "    </tr>\n",
       "    <tr>\n",
       "      <td>8</td>\n",
       "      <td>YiRkx</td>\n",
       "      <td>13.355129</td>\n",
       "      <td>-0.332068</td>\n",
       "      <td>4.998647</td>\n",
       "      <td>134.766305</td>\n",
       "    </tr>\n",
       "    <tr>\n",
       "      <td>9</td>\n",
       "      <td>jG6Gi</td>\n",
       "      <td>1.069227</td>\n",
       "      <td>-11.025667</td>\n",
       "      <td>4.997844</td>\n",
       "      <td>137.945408</td>\n",
       "    </tr>\n",
       "  </tbody>\n",
       "</table>\n",
       "</div>"
      ],
      "text/plain": [
       "      id         f0         f1        f2     product\n",
       "0  kBEdx -15.001348  -8.276000 -0.005876    3.179103\n",
       "1  62mP7  14.272088  -3.475083  0.999183   26.953261\n",
       "2  vyE1P   6.263187  -5.948386  5.001160  134.766305\n",
       "3  KcrkZ -13.081196 -11.506057  4.999415  137.945408\n",
       "4  AHL4O  12.702195  -8.147433  5.004363  134.766305\n",
       "5  HHckp  -3.327590  -2.205276  3.003647   84.038886\n",
       "6  h5Ujo -11.142655 -10.133399  4.002382  110.992147\n",
       "7  muH9x   4.234715  -0.001354  2.004588   53.906522\n",
       "8  YiRkx  13.355129  -0.332068  4.998647  134.766305\n",
       "9  jG6Gi   1.069227 -11.025667  4.997844  137.945408"
      ]
     },
     "execution_count": 4,
     "metadata": {},
     "output_type": "execute_result"
    }
   ],
   "source": [
    "data_1.head(10)"
   ]
  },
  {
   "cell_type": "code",
   "execution_count": 5,
   "id": "3637f973",
   "metadata": {},
   "outputs": [
    {
     "data": {
      "text/html": [
       "<div>\n",
       "<style scoped>\n",
       "    .dataframe tbody tr th:only-of-type {\n",
       "        vertical-align: middle;\n",
       "    }\n",
       "\n",
       "    .dataframe tbody tr th {\n",
       "        vertical-align: top;\n",
       "    }\n",
       "\n",
       "    .dataframe thead th {\n",
       "        text-align: right;\n",
       "    }\n",
       "</style>\n",
       "<table border=\"1\" class=\"dataframe\">\n",
       "  <thead>\n",
       "    <tr style=\"text-align: right;\">\n",
       "      <th></th>\n",
       "      <th>id</th>\n",
       "      <th>f0</th>\n",
       "      <th>f1</th>\n",
       "      <th>f2</th>\n",
       "      <th>product</th>\n",
       "    </tr>\n",
       "  </thead>\n",
       "  <tbody>\n",
       "    <tr>\n",
       "      <td>0</td>\n",
       "      <td>fwXo0</td>\n",
       "      <td>-1.146987</td>\n",
       "      <td>0.963328</td>\n",
       "      <td>-0.828965</td>\n",
       "      <td>27.758673</td>\n",
       "    </tr>\n",
       "    <tr>\n",
       "      <td>1</td>\n",
       "      <td>WJtFt</td>\n",
       "      <td>0.262778</td>\n",
       "      <td>0.269839</td>\n",
       "      <td>-2.530187</td>\n",
       "      <td>56.069697</td>\n",
       "    </tr>\n",
       "    <tr>\n",
       "      <td>2</td>\n",
       "      <td>ovLUW</td>\n",
       "      <td>0.194587</td>\n",
       "      <td>0.289035</td>\n",
       "      <td>-5.586433</td>\n",
       "      <td>62.871910</td>\n",
       "    </tr>\n",
       "    <tr>\n",
       "      <td>3</td>\n",
       "      <td>q6cA6</td>\n",
       "      <td>2.236060</td>\n",
       "      <td>-0.553760</td>\n",
       "      <td>0.930038</td>\n",
       "      <td>114.572842</td>\n",
       "    </tr>\n",
       "    <tr>\n",
       "      <td>4</td>\n",
       "      <td>WPMUX</td>\n",
       "      <td>-0.515993</td>\n",
       "      <td>1.716266</td>\n",
       "      <td>5.899011</td>\n",
       "      <td>149.600746</td>\n",
       "    </tr>\n",
       "    <tr>\n",
       "      <td>5</td>\n",
       "      <td>LzZXx</td>\n",
       "      <td>-0.758092</td>\n",
       "      <td>0.710691</td>\n",
       "      <td>2.585887</td>\n",
       "      <td>90.222465</td>\n",
       "    </tr>\n",
       "    <tr>\n",
       "      <td>6</td>\n",
       "      <td>WBHRv</td>\n",
       "      <td>-0.574891</td>\n",
       "      <td>0.317727</td>\n",
       "      <td>1.773745</td>\n",
       "      <td>45.641478</td>\n",
       "    </tr>\n",
       "    <tr>\n",
       "      <td>7</td>\n",
       "      <td>XO8fn</td>\n",
       "      <td>-1.906649</td>\n",
       "      <td>-2.458350</td>\n",
       "      <td>-0.177097</td>\n",
       "      <td>72.480640</td>\n",
       "    </tr>\n",
       "    <tr>\n",
       "      <td>8</td>\n",
       "      <td>ybmQ5</td>\n",
       "      <td>1.776292</td>\n",
       "      <td>-0.279356</td>\n",
       "      <td>3.004156</td>\n",
       "      <td>106.616832</td>\n",
       "    </tr>\n",
       "    <tr>\n",
       "      <td>9</td>\n",
       "      <td>OilcN</td>\n",
       "      <td>-1.214452</td>\n",
       "      <td>-0.439314</td>\n",
       "      <td>5.922514</td>\n",
       "      <td>52.954532</td>\n",
       "    </tr>\n",
       "  </tbody>\n",
       "</table>\n",
       "</div>"
      ],
      "text/plain": [
       "      id        f0        f1        f2     product\n",
       "0  fwXo0 -1.146987  0.963328 -0.828965   27.758673\n",
       "1  WJtFt  0.262778  0.269839 -2.530187   56.069697\n",
       "2  ovLUW  0.194587  0.289035 -5.586433   62.871910\n",
       "3  q6cA6  2.236060 -0.553760  0.930038  114.572842\n",
       "4  WPMUX -0.515993  1.716266  5.899011  149.600746\n",
       "5  LzZXx -0.758092  0.710691  2.585887   90.222465\n",
       "6  WBHRv -0.574891  0.317727  1.773745   45.641478\n",
       "7  XO8fn -1.906649 -2.458350 -0.177097   72.480640\n",
       "8  ybmQ5  1.776292 -0.279356  3.004156  106.616832\n",
       "9  OilcN -1.214452 -0.439314  5.922514   52.954532"
      ]
     },
     "execution_count": 5,
     "metadata": {},
     "output_type": "execute_result"
    }
   ],
   "source": [
    "data_2.head(10)"
   ]
  },
  {
   "cell_type": "code",
   "execution_count": 6,
   "id": "312beb5a",
   "metadata": {},
   "outputs": [
    {
     "name": "stdout",
     "output_type": "stream",
     "text": [
      "<class 'pandas.core.frame.DataFrame'>\n",
      "RangeIndex: 100000 entries, 0 to 99999\n",
      "Data columns (total 5 columns):\n",
      "id         100000 non-null object\n",
      "f0         100000 non-null float64\n",
      "f1         100000 non-null float64\n",
      "f2         100000 non-null float64\n",
      "product    100000 non-null float64\n",
      "dtypes: float64(4), object(1)\n",
      "memory usage: 3.8+ MB\n"
     ]
    }
   ],
   "source": [
    "data_0.info()"
   ]
  },
  {
   "cell_type": "code",
   "execution_count": 7,
   "id": "d8a3de5f",
   "metadata": {},
   "outputs": [
    {
     "name": "stdout",
     "output_type": "stream",
     "text": [
      "<class 'pandas.core.frame.DataFrame'>\n",
      "RangeIndex: 100000 entries, 0 to 99999\n",
      "Data columns (total 5 columns):\n",
      "id         100000 non-null object\n",
      "f0         100000 non-null float64\n",
      "f1         100000 non-null float64\n",
      "f2         100000 non-null float64\n",
      "product    100000 non-null float64\n",
      "dtypes: float64(4), object(1)\n",
      "memory usage: 3.8+ MB\n"
     ]
    }
   ],
   "source": [
    "data_1.info()"
   ]
  },
  {
   "cell_type": "code",
   "execution_count": 8,
   "id": "6392e059",
   "metadata": {},
   "outputs": [
    {
     "name": "stdout",
     "output_type": "stream",
     "text": [
      "<class 'pandas.core.frame.DataFrame'>\n",
      "RangeIndex: 100000 entries, 0 to 99999\n",
      "Data columns (total 5 columns):\n",
      "id         100000 non-null object\n",
      "f0         100000 non-null float64\n",
      "f1         100000 non-null float64\n",
      "f2         100000 non-null float64\n",
      "product    100000 non-null float64\n",
      "dtypes: float64(4), object(1)\n",
      "memory usage: 3.8+ MB\n"
     ]
    }
   ],
   "source": [
    "data_2.info()"
   ]
  },
  {
   "cell_type": "code",
   "execution_count": 9,
   "id": "de344858",
   "metadata": {},
   "outputs": [
    {
     "data": {
      "text/plain": [
       "0"
      ]
     },
     "execution_count": 9,
     "metadata": {},
     "output_type": "execute_result"
    }
   ],
   "source": [
    "data_0.duplicated().sum()"
   ]
  },
  {
   "cell_type": "code",
   "execution_count": 10,
   "id": "5ede1202",
   "metadata": {},
   "outputs": [
    {
     "data": {
      "text/plain": [
       "0"
      ]
     },
     "execution_count": 10,
     "metadata": {},
     "output_type": "execute_result"
    }
   ],
   "source": [
    "data_1.duplicated().sum()"
   ]
  },
  {
   "cell_type": "code",
   "execution_count": 11,
   "id": "3b200162",
   "metadata": {},
   "outputs": [
    {
     "data": {
      "text/plain": [
       "0"
      ]
     },
     "execution_count": 11,
     "metadata": {},
     "output_type": "execute_result"
    }
   ],
   "source": [
    "data_2.duplicated().sum()"
   ]
  },
  {
   "cell_type": "code",
   "execution_count": 12,
   "id": "e93db6d2",
   "metadata": {},
   "outputs": [
    {
     "data": {
      "text/plain": [
       "id         0\n",
       "f0         0\n",
       "f1         0\n",
       "f2         0\n",
       "product    0\n",
       "dtype: int64"
      ]
     },
     "execution_count": 12,
     "metadata": {},
     "output_type": "execute_result"
    }
   ],
   "source": [
    "data_0.isna().sum()"
   ]
  },
  {
   "cell_type": "code",
   "execution_count": 13,
   "id": "59ccf077",
   "metadata": {},
   "outputs": [
    {
     "data": {
      "text/plain": [
       "id         0\n",
       "f0         0\n",
       "f1         0\n",
       "f2         0\n",
       "product    0\n",
       "dtype: int64"
      ]
     },
     "execution_count": 13,
     "metadata": {},
     "output_type": "execute_result"
    }
   ],
   "source": [
    "data_1.isna().sum()"
   ]
  },
  {
   "cell_type": "code",
   "execution_count": 14,
   "id": "6af1dac5",
   "metadata": {},
   "outputs": [
    {
     "data": {
      "text/plain": [
       "id         0\n",
       "f0         0\n",
       "f1         0\n",
       "f2         0\n",
       "product    0\n",
       "dtype: int64"
      ]
     },
     "execution_count": 14,
     "metadata": {},
     "output_type": "execute_result"
    }
   ],
   "source": [
    "data_0.isna().sum()"
   ]
  },
  {
   "cell_type": "code",
   "execution_count": 15,
   "id": "46f5402f",
   "metadata": {},
   "outputs": [
    {
     "data": {
      "text/plain": [
       "10"
      ]
     },
     "execution_count": 15,
     "metadata": {},
     "output_type": "execute_result"
    }
   ],
   "source": [
    "data_0['id'].duplicated().sum()"
   ]
  },
  {
   "cell_type": "code",
   "execution_count": 16,
   "id": "23bd78a8",
   "metadata": {},
   "outputs": [
    {
     "data": {
      "text/plain": [
       "4"
      ]
     },
     "execution_count": 16,
     "metadata": {},
     "output_type": "execute_result"
    }
   ],
   "source": [
    "data_1['id'].duplicated().sum()"
   ]
  },
  {
   "cell_type": "code",
   "execution_count": 17,
   "id": "0bf4880b",
   "metadata": {},
   "outputs": [
    {
     "data": {
      "text/plain": [
       "4"
      ]
     },
     "execution_count": 17,
     "metadata": {},
     "output_type": "execute_result"
    }
   ],
   "source": [
    "data_2['id'].duplicated().sum()"
   ]
  },
  {
   "cell_type": "markdown",
   "id": "ad5c3b9d",
   "metadata": {},
   "source": [
    "По некоторым скважинам повторяются данные! Это ошибка, на которую необходимо обратить внимание коллеги, отвечающих за формирование массива данных! При этом показатели для одной и той же скважины разные! Однако для работы с массивом стратегического значения эти дубликаты не несут, повторения занимают менее 1% массива. Можно просто удалить столбец с уникальными id"
   ]
  },
  {
   "cell_type": "code",
   "execution_count": 18,
   "id": "16e92171",
   "metadata": {},
   "outputs": [],
   "source": [
    "data_0 = data_0.drop('id', 1)\n"
   ]
  },
  {
   "cell_type": "code",
   "execution_count": 19,
   "id": "11c38c54",
   "metadata": {},
   "outputs": [],
   "source": [
    "data_1 = data_1.drop('id', 1)"
   ]
  },
  {
   "cell_type": "code",
   "execution_count": 20,
   "id": "382c6dbb",
   "metadata": {},
   "outputs": [],
   "source": [
    "data_2 = data_2.drop('id', 1)"
   ]
  },
  {
   "cell_type": "markdown",
   "id": "6f20afa0",
   "metadata": {},
   "source": [
    " ## 2. Обучите и проверьте модель для каждого региона:"
   ]
  },
  {
   "cell_type": "markdown",
   "id": "fd5472d1",
   "metadata": {},
   "source": [
    "### 2.1. Разбейте данные на обучающую и валидационную выборки в соотношении 75:25."
   ]
  },
  {
   "cell_type": "code",
   "execution_count": 21,
   "id": "49560503",
   "metadata": {},
   "outputs": [],
   "source": [
    "features_0 = data_0.drop(['product'], axis=1)\n",
    "target_0 = data_0['product'] \n",
    "features_train_0, features_valid_0, target_train_0, target_valid_0 = train_test_split(features_0, target_0, test_size=0.25, random_state=12345)\n"
   ]
  },
  {
   "cell_type": "code",
   "execution_count": 22,
   "id": "93f2e486",
   "metadata": {},
   "outputs": [],
   "source": [
    "features_1 = data_1.drop(['product'], axis=1)\n",
    "target_1 = data_1['product'] \n",
    "features_train_1, features_valid_1, target_train_1, target_valid_1 = train_test_split(features_1, target_1, test_size=0.25, random_state=12345)\n",
    "\n"
   ]
  },
  {
   "cell_type": "code",
   "execution_count": 23,
   "id": "71f66bcf",
   "metadata": {},
   "outputs": [],
   "source": [
    "features_2 = data_2.drop(['product'], axis=1)\n",
    "target_2 = data_2['product'] \n",
    "features_train_2, features_valid_2, target_train_2, target_valid_2 = train_test_split(features_2, target_2, test_size=0.25, random_state=12345)\n",
    "\n"
   ]
  },
  {
   "cell_type": "markdown",
   "id": "b602ec55",
   "metadata": {},
   "source": [
    "### 2.2. Обучите модель и сделайте предсказания на валидационной выборке."
   ]
  },
  {
   "cell_type": "code",
   "execution_count": 24,
   "id": "e80ead93",
   "metadata": {},
   "outputs": [],
   "source": [
    "model = LinearRegression()\n",
    "model.fit(features_train_0, target_train_0)\n",
    "predictions_valid_0 = model.predict(features_valid_0)\n",
    "predictions_valid_0 = pd.Series(predictions_valid_0, index=target_valid_0.index)"
   ]
  },
  {
   "cell_type": "code",
   "execution_count": 25,
   "id": "dde0a1b9",
   "metadata": {},
   "outputs": [],
   "source": [
    "model = LinearRegression()\n",
    "model.fit(features_train_1, target_train_1)\n",
    "predictions_valid_1 = model.predict(features_valid_1)\n",
    "predictions_valid_1 = pd.Series(predictions_valid_1, index=target_valid_1.index)"
   ]
  },
  {
   "cell_type": "code",
   "execution_count": 26,
   "id": "b1067522",
   "metadata": {},
   "outputs": [],
   "source": [
    "model = LinearRegression()\n",
    "model.fit(features_train_2, target_train_2)\n",
    "predictions_valid_2 = model.predict(features_valid_2)\n",
    "predictions_valid_2 = pd.Series(predictions_valid_2, index=target_valid_2.index)"
   ]
  },
  {
   "cell_type": "markdown",
   "id": "e5f7539c",
   "metadata": {},
   "source": [
    "### 2.3. Сохраните предсказания и правильные ответы на валидационной выборке."
   ]
  },
  {
   "cell_type": "code",
   "execution_count": 27,
   "id": "287b366a",
   "metadata": {},
   "outputs": [
    {
     "name": "stdout",
     "output_type": "stream",
     "text": [
      "71751     95.894952\n",
      "80493     77.572583\n",
      "2655      77.892640\n",
      "53233     90.175134\n",
      "91141     70.510088\n",
      "            ...    \n",
      "12581    103.037104\n",
      "18456     85.403255\n",
      "73035     61.509833\n",
      "63834    118.180397\n",
      "43558    118.169392\n",
      "Length: 25000, dtype: float64\n",
      "71751     82.663314\n",
      "80493     54.431786\n",
      "2655      29.748760\n",
      "53233     53.552133\n",
      "91141      1.243856\n",
      "            ...    \n",
      "12581    136.869211\n",
      "18456    110.693465\n",
      "73035    137.879341\n",
      "63834     83.761966\n",
      "43558     53.958466\n",
      "Length: 25000, dtype: float64\n",
      "71751     93.599633\n",
      "80493     75.105159\n",
      "2655      90.066809\n",
      "53233    105.162375\n",
      "91141    115.303310\n",
      "            ...    \n",
      "12581     78.765887\n",
      "18456     95.603394\n",
      "73035     99.407281\n",
      "63834     77.779912\n",
      "43558    129.032417\n",
      "Length: 25000, dtype: float64\n"
     ]
    }
   ],
   "source": [
    "print(predictions_valid_0)\n",
    "print(predictions_valid_1)\n",
    "print(predictions_valid_2)"
   ]
  },
  {
   "cell_type": "code",
   "execution_count": 28,
   "id": "b301f788",
   "metadata": {},
   "outputs": [
    {
     "name": "stdout",
     "output_type": "stream",
     "text": [
      "71751     10.038645\n",
      "80493    114.551489\n",
      "2655     132.603635\n",
      "53233    169.072125\n",
      "91141    122.325180\n",
      "            ...    \n",
      "12581    170.116726\n",
      "18456     93.632175\n",
      "73035    127.352259\n",
      "63834     99.782700\n",
      "43558    177.821022\n",
      "Name: product, Length: 25000, dtype: float64\n",
      "71751     80.859783\n",
      "80493     53.906522\n",
      "2655      30.132364\n",
      "53233     53.906522\n",
      "91141      0.000000\n",
      "            ...    \n",
      "12581    137.945408\n",
      "18456    110.992147\n",
      "73035    137.945408\n",
      "63834     84.038886\n",
      "43558     53.906522\n",
      "Name: product, Length: 25000, dtype: float64\n",
      "71751     61.212375\n",
      "80493     41.850118\n",
      "2655      57.776581\n",
      "53233    100.053761\n",
      "91141    109.897122\n",
      "            ...    \n",
      "12581     28.492402\n",
      "18456     21.431303\n",
      "73035    125.487229\n",
      "63834     99.422903\n",
      "43558    127.445075\n",
      "Name: product, Length: 25000, dtype: float64\n"
     ]
    }
   ],
   "source": [
    "print(target_valid_0)\n",
    "print(target_valid_1)\n",
    "print(target_valid_2)\n"
   ]
  },
  {
   "cell_type": "markdown",
   "id": "537ed743",
   "metadata": {},
   "source": [
    "### 2.4. Напечатайте на экране средний запас предсказанного сырья и RMSE модели."
   ]
  },
  {
   "cell_type": "code",
   "execution_count": 29,
   "id": "c0365ad9",
   "metadata": {},
   "outputs": [
    {
     "name": "stdout",
     "output_type": "stream",
     "text": [
      "Средний запас регион 0: 92.59256778438038\n",
      "Средний запас регион 1: 68.728546895446\n",
      "Средний запас регион 2: 94.96504596800489\n"
     ]
    }
   ],
   "source": [
    "print(\"Средний запас регион 0:\", predictions_valid_0.mean())\n",
    "print(\"Средний запас регион 1:\", predictions_valid_1.mean())\n",
    "print(\"Средний запас регион 2:\", predictions_valid_2.mean())"
   ]
  },
  {
   "cell_type": "code",
   "execution_count": 30,
   "id": "3fc93a8b",
   "metadata": {},
   "outputs": [
    {
     "name": "stdout",
     "output_type": "stream",
     "text": [
      "RMSE_0: 37.5794217150813\n"
     ]
    }
   ],
   "source": [
    "\n",
    "mse = mean_squared_error(target_valid_0, predictions_valid_0)\n",
    "\n",
    "rmse = mse**0.5\n",
    "\n",
    "print(\"RMSE_0:\", rmse)"
   ]
  },
  {
   "cell_type": "code",
   "execution_count": 31,
   "id": "dfca5ea6",
   "metadata": {},
   "outputs": [
    {
     "name": "stdout",
     "output_type": "stream",
     "text": [
      "RMSE_1: 0.893099286775616\n"
     ]
    }
   ],
   "source": [
    "mse = mean_squared_error(target_valid_1, predictions_valid_1)\n",
    "\n",
    "rmse = mse**0.5\n",
    "\n",
    "print(\"RMSE_1:\", rmse)"
   ]
  },
  {
   "cell_type": "code",
   "execution_count": 32,
   "id": "41205d89",
   "metadata": {},
   "outputs": [
    {
     "name": "stdout",
     "output_type": "stream",
     "text": [
      "RMSE_2: 40.02970873393434\n"
     ]
    }
   ],
   "source": [
    "mse = mean_squared_error(target_valid_2, predictions_valid_2)\n",
    "\n",
    "rmse = mse**0.5\n",
    "\n",
    "print(\"RMSE_2:\", rmse)"
   ]
  },
  {
   "cell_type": "markdown",
   "id": "b5f94304",
   "metadata": {},
   "source": [
    "### 2.5. Проанализируйте результаты."
   ]
  },
  {
   "cell_type": "markdown",
   "id": "c5c4dde0",
   "metadata": {},
   "source": [
    "Средний запас сырья больше всего в регионе 2, но средняя квадротичная ошибка крайне высока.\n",
    "\n",
    "На последнем месте регион 1, но средняя квадротичная ошибка крайне низкая."
   ]
  },
  {
   "cell_type": "markdown",
   "id": "2e8d515f",
   "metadata": {},
   "source": [
    "## 3. Подготовьтесь к расчёту прибыли:"
   ]
  },
  {
   "cell_type": "markdown",
   "id": "d766475f",
   "metadata": {},
   "source": [
    "### 3.1. Все ключевые значения для расчётов сохраните в отдельных переменных.\n"
   ]
  },
  {
   "cell_type": "code",
   "execution_count": 33,
   "id": "e58b6520",
   "metadata": {},
   "outputs": [],
   "source": [
    "price_for_devel = 10000000000 #Бюджет на разработку в регионе\n",
    "rup_per_bar = 450000 #доход с еденицы продукта\n",
    "Num_of_well = 200 #кол-во скважин"
   ]
  },
  {
   "cell_type": "markdown",
   "id": "b2fa8d58",
   "metadata": {},
   "source": [
    "### 3.2. Рассчитайте достаточный объём сырья для безубыточной разработки новой скважины. Сравните полученный объём сырья со средним запасом в каждом регионе.\n"
   ]
  },
  {
   "cell_type": "code",
   "execution_count": 34,
   "id": "9312018a",
   "metadata": {},
   "outputs": [
    {
     "name": "stdout",
     "output_type": "stream",
     "text": [
      "111.11111111111111\n"
     ]
    }
   ],
   "source": [
    "break_even = price_for_devel / rup_per_bar / Num_of_well\n",
    "print(break_even)"
   ]
  },
  {
   "cell_type": "code",
   "execution_count": 35,
   "id": "5f623cba",
   "metadata": {},
   "outputs": [
    {
     "name": "stdout",
     "output_type": "stream",
     "text": [
      "92.50000000000001\n",
      "68.82500000000002\n",
      "95.00000000000004\n"
     ]
    }
   ],
   "source": [
    "print(data_0['product'].mean())\n",
    "print(data_1['product'].mean())\n",
    "print(data_2['product'].mean())"
   ]
  },
  {
   "cell_type": "markdown",
   "id": "42c121b4",
   "metadata": {},
   "source": [
    "### 3.3. Напишите выводы по этапу подготовки расчёта прибыли."
   ]
  },
  {
   "cell_type": "markdown",
   "id": "d7f79b09",
   "metadata": {},
   "source": [
    "Средний обьем сырья в скважинах меньше, чем обьем требуемый для безубыточности! Это говорит о том, что надо будет крайне внимательно выбирать скважины для разработки, дабы добывающая компания не ушла в убыток"
   ]
  },
  {
   "cell_type": "markdown",
   "id": "ddfc9d3a",
   "metadata": {},
   "source": [
    "## 4. Напишите функцию для расчёта прибыли по выбранным скважинам и предсказаниям модели:"
   ]
  },
  {
   "cell_type": "markdown",
   "id": "7e2e992e",
   "metadata": {},
   "source": [
    "### 4.1. Выберите скважины с максимальными значениями предсказаний."
   ]
  },
  {
   "cell_type": "code",
   "execution_count": 36,
   "id": "6f94cfac",
   "metadata": {},
   "outputs": [],
   "source": [
    "def profit_coun(data):\n",
    "    feat = data.drop(['product'], axis=1)\n",
    "    targ = data['product'] \n",
    "    feat_train, feat_valid, targ_train, targ_valid = train_test_split(feat, targ, test_size=0.25, random_state=12345)\n",
    "    \n",
    "    model = LinearRegression()\n",
    "    model.fit(feat_train, targ_train)\n",
    "    predict_valid = model.predict(feat)\n",
    "    \n",
    "    pred_series = pd.Series(predict_valid, index=data.index)\n",
    "    df = pd.DataFrame(pred_series, columns=['product'])\n",
    "    df1 = pred_series.nlargest(200)\n",
    "    data = data.loc[df1.index, :]\n",
    "    \n",
    "    return data\n",
    "\n"
   ]
  },
  {
   "cell_type": "code",
   "execution_count": 37,
   "id": "a2a0195a",
   "metadata": {},
   "outputs": [
    {
     "name": "stdout",
     "output_type": "stream",
     "text": [
      "             f0        f1         f2     product\n",
      "51140  1.092258 -0.541900  16.003790  182.079984\n",
      "83095  1.888221  0.067384  15.428372  144.009283\n",
      "51464  1.612452 -0.074593  15.230322  173.971897\n",
      "93073  1.814871 -0.207268  14.087536  162.810993\n",
      "52356  0.879559  0.258449  15.202838  123.920559\n",
      "...         ...       ...        ...         ...\n",
      "96634  0.892427 -0.528988  10.415690  166.875679\n",
      "89983  1.172767  0.305634  12.038409  153.801308\n",
      "48192  1.550545 -0.195269  10.761237  120.584452\n",
      "49683  0.792516 -0.557116  10.398348  185.010308\n",
      "81447  0.982033 -0.508101  10.399208  154.391664\n",
      "\n",
      "[200 rows x 4 columns]\n"
     ]
    }
   ],
   "source": [
    "print(profit_coun(data_0))"
   ]
  },
  {
   "cell_type": "markdown",
   "id": "f6fc51d5",
   "metadata": {},
   "source": [
    "### 4.2. Просуммируйте целевое значение объёма сырья, соответствующее этим предсказаниям.\n"
   ]
  },
  {
   "cell_type": "code",
   "execution_count": 38,
   "id": "a8defbaa",
   "metadata": {},
   "outputs": [],
   "source": [
    "total_prod_0 = profit_coun(data_0)['product'].sum()\n",
    "total_prod_1 = profit_coun(data_1)['product'].sum()\n",
    "total_prod_2 = profit_coun(data_2)['product'].sum()"
   ]
  },
  {
   "cell_type": "markdown",
   "id": "e605d5fa",
   "metadata": {},
   "source": [
    "### 4.3. Рассчитайте прибыль для полученного объёма сырья.\n"
   ]
  },
  {
   "cell_type": "code",
   "execution_count": 59,
   "id": "e94833ca",
   "metadata": {},
   "outputs": [
    {
     "name": "stdout",
     "output_type": "stream",
     "text": [
      "Прибыль региона 0(млн.руб.): 3494.104192112015\n"
     ]
    }
   ],
   "source": [
    "region_prof_0 = (total_prod_0 * rup_per_bar - price_for_devel) / 1000000\n",
    "print(\"Прибыль региона 0(млн.руб.):\", region_prof_0)"
   ]
  },
  {
   "cell_type": "code",
   "execution_count": 60,
   "id": "11dad95c",
   "metadata": {},
   "outputs": [
    {
     "name": "stdout",
     "output_type": "stream",
     "text": [
      "Прибыль региона 1(млн.руб.): 2415.086696681511\n",
      "Прибыль региона 2(млн.руб.): 2571.410631960928\n"
     ]
    }
   ],
   "source": [
    "\n",
    "region_prof_1 = (total_prod_1 * rup_per_bar - price_for_devel) / 1000000\n",
    "print(\"Прибыль региона 1(млн.руб.):\", region_prof_1)\n",
    "\n",
    "\n",
    "region_prof_2 = (total_prod_2 * rup_per_bar - price_for_devel) / 1000000\n",
    "print(\"Прибыль региона 2(млн.руб.):\", region_prof_2)"
   ]
  },
  {
   "cell_type": "markdown",
   "id": "44069f2d",
   "metadata": {},
   "source": [
    "## 5. Посчитайте риски и прибыль для каждого региона:"
   ]
  },
  {
   "cell_type": "markdown",
   "id": "48ce3f18",
   "metadata": {},
   "source": [
    "### 5.1. Примените технику Bootstrap с 1000 выборок, чтобы найти распределение прибыли."
   ]
  },
  {
   "cell_type": "code",
   "execution_count": 41,
   "id": "e00f56c9",
   "metadata": {},
   "outputs": [],
   "source": [
    "def prof_count_1(target, probs):\n",
    "    price_per_wll = price_for_devel / Num_of_well\n",
    "    top_probs = probs.sort_values('product', ascending=False).head(200) #взяли топ 200 предсказаний\n",
    "    top_target = target[target.index.isin(top_probs.index)] #взяли топ 200 значений по индексам\n",
    "    top_rub = top_target * rup_per_bar - price_per_wll # преобразовали реальное сырьё в рубли\n",
    "    total_rub = top_rub.sum() #руб заработано\n",
    "    \n",
    "    return total_rub\n",
    "\n",
    "\n"
   ]
  },
  {
   "cell_type": "code",
   "execution_count": 42,
   "id": "dba6bb06",
   "metadata": {},
   "outputs": [
    {
     "name": "stdout",
     "output_type": "stream",
     "text": [
      "0      6.138507e+08\n",
      "1      5.363934e+08\n",
      "2      3.238570e+08\n",
      "3      1.736900e+08\n",
      "4      2.719929e+08\n",
      "           ...     \n",
      "995    5.597262e+08\n",
      "996    7.544706e+08\n",
      "997    6.089935e+08\n",
      "998    3.047572e+08\n",
      "999    2.288174e+08\n",
      "Length: 1000, dtype: float64\n"
     ]
    }
   ],
   "source": [
    "predictions_valid_0 = pd.DataFrame(predictions_valid_0, columns=['product'])\n",
    "\n",
    "state = np.random.RandomState(12345)\n",
    "values_0 = []\n",
    "\n",
    "for i in range(1000):\n",
    "    probs_subsample_0 = predictions_valid_0.sample(n=500, replace=True, random_state=state) # Получили 500 предсказаний\n",
    "    #target_subsample_0 = target_0[probs_subsample_0.index] #нашли по индексам реальный показатели\n",
    "    target_subsample_0 = target_0[target_0.index.isin(probs_subsample_0.index)]\n",
    "    \n",
    "    values_0.append(prof_count_1(target_subsample_0, probs_subsample_0)) #преобразовали сырьё в прибыль и выбрали топ 200\n",
    "    \n",
    "\n",
    "values_0 = pd.Series(values_0)    \n",
    "print(values_0)\n",
    "\n"
   ]
  },
  {
   "cell_type": "code",
   "execution_count": 43,
   "id": "7068fba1",
   "metadata": {},
   "outputs": [
    {
     "name": "stdout",
     "output_type": "stream",
     "text": [
      "0      2.280162e+08\n",
      "1      3.343157e+08\n",
      "2      2.537047e+08\n",
      "3      6.139661e+08\n",
      "4      3.571430e+08\n",
      "           ...     \n",
      "995    6.831945e+08\n",
      "996    6.468698e+08\n",
      "997    2.386523e+08\n",
      "998    4.142425e+08\n",
      "999    1.245778e+08\n",
      "Length: 1000, dtype: float64\n"
     ]
    }
   ],
   "source": [
    "predictions_valid_1 = pd.DataFrame(predictions_valid_1, columns=['product'])\n",
    "\n",
    "state = np.random.RandomState(12345)\n",
    "values_1 = []\n",
    "\n",
    "for i in range(1000):\n",
    "    probs_subsample_1 = predictions_valid_1.sample(n=500, replace=True, random_state=state) # Получили 500 предсказаний\n",
    "    target_subsample_1 = target_1[probs_subsample_1.index] #нашли по индексам реальный показатели\n",
    "    \n",
    "    values_1.append(prof_count_1(target_subsample_1, probs_subsample_1)) #преобразовали сырьё в прибыль и выбрали топ 200\n",
    "    \n",
    "\n",
    "values_1 = pd.Series(values_1)  \n",
    "print(values_1)\n",
    "\n"
   ]
  },
  {
   "cell_type": "code",
   "execution_count": 44,
   "id": "d951226b",
   "metadata": {},
   "outputs": [
    {
     "name": "stdout",
     "output_type": "stream",
     "text": [
      "0     -7.189923e+07\n",
      "1      6.459964e+08\n",
      "2      6.196866e+08\n",
      "3      4.123517e+08\n",
      "4     -5.596049e+07\n",
      "           ...     \n",
      "995    5.668660e+08\n",
      "996   -5.850207e+07\n",
      "997    5.902561e+08\n",
      "998    4.977628e+08\n",
      "999    2.009241e+08\n",
      "Length: 1000, dtype: float64\n"
     ]
    }
   ],
   "source": [
    "predictions_valid_2 = pd.DataFrame(predictions_valid_2, columns=['product'])\n",
    "\n",
    "state = np.random.RandomState(12345)\n",
    "values_2 = []\n",
    "\n",
    "for i in range(1000):\n",
    "    probs_subsample_2 = predictions_valid_2.sample(n=500, replace=True, random_state=state) # Получили 500 предсказаний\n",
    "    target_subsample_2 = target_2[probs_subsample_2.index] #нашли по индексам реальный показатели\n",
    "    \n",
    "    values_2.append(prof_count_1(target_subsample_2, probs_subsample_2)) #преобразовали сырьё в прибыль и выбрали топ 200\n",
    "    \n",
    "\n",
    "values_2 = pd.Series(values_2)\n",
    "print(values_2)\n"
   ]
  },
  {
   "cell_type": "markdown",
   "id": "935cb944",
   "metadata": {},
   "source": [
    "### 5.2. Найдите среднюю прибыль, 95%-й доверительный интервал и риск убытков. Убыток — это отрицательная прибыль."
   ]
  },
  {
   "cell_type": "code",
   "execution_count": 45,
   "id": "6b4fdf93",
   "metadata": {},
   "outputs": [
    {
     "name": "stdout",
     "output_type": "stream",
     "text": [
      "-104432081.13513231\n",
      "909916474.1627889\n"
     ]
    }
   ],
   "source": [
    "lower_0 = values_0.quantile(0.025)\n",
    "upper_0 = values_0.quantile(0.975)\n",
    "\n",
    "print(lower_0)\n",
    "print(upper_0)\n"
   ]
  },
  {
   "cell_type": "code",
   "execution_count": 46,
   "id": "3bf6cea7",
   "metadata": {},
   "outputs": [
    {
     "name": "stdout",
     "output_type": "stream",
     "text": [
      "33820509.398986004\n",
      "852289453.8660346\n"
     ]
    }
   ],
   "source": [
    "lower_1 = values_1.quantile(0.025)\n",
    "upper_1 = values_1.quantile(0.975)\n",
    "\n",
    "print(lower_1)\n",
    "print(upper_1)"
   ]
  },
  {
   "cell_type": "code",
   "execution_count": 47,
   "id": "7166d4aa",
   "metadata": {},
   "outputs": [
    {
     "name": "stdout",
     "output_type": "stream",
     "text": [
      "-163350413.39559972\n",
      "950359574.9238\n"
     ]
    }
   ],
   "source": [
    "lower_2 = values_2.quantile(0.025)\n",
    "upper_2 = values_2.quantile(0.975)\n",
    "\n",
    "print(lower_2)\n",
    "print(upper_2)"
   ]
  },
  {
   "cell_type": "code",
   "execution_count": 51,
   "id": "8073eae6",
   "metadata": {},
   "outputs": [
    {
     "name": "stdout",
     "output_type": "stream",
     "text": [
      "Средняя прибыль для региона 0 млн. руб.: 392.60585474818424\n"
     ]
    }
   ],
   "source": [
    "profit_0 = values_0 / 1000000\n",
    "\n",
    "print(\"Средняя прибыль для региона 0 млн. руб.:\", profit_0.mean())\n"
   ]
  },
  {
   "cell_type": "code",
   "execution_count": 52,
   "id": "da7b0d1a",
   "metadata": {},
   "outputs": [
    {
     "name": "stdout",
     "output_type": "stream",
     "text": [
      "Средняя прибыль для региона 1 млн. руб.: 455.96914958566606\n"
     ]
    }
   ],
   "source": [
    "profit_1 = values_1 / 1000000\n",
    "\n",
    "print(\"Средняя прибыль для региона 1 млн. руб.:\", profit_1.mean())\n"
   ]
  },
  {
   "cell_type": "code",
   "execution_count": 53,
   "id": "a0508ddc",
   "metadata": {},
   "outputs": [
    {
     "name": "stdout",
     "output_type": "stream",
     "text": [
      "Средняя прибыль для региона 2 млн. руб.: 404.3845910109624\n"
     ]
    }
   ],
   "source": [
    "profit_2 = values_2 / 1000000\n",
    "\n",
    "print(\"Средняя прибыль для региона 2 млн. руб.:\", profit_2.mean())\n"
   ]
  },
  {
   "cell_type": "markdown",
   "id": "a8fd8944",
   "metadata": {},
   "source": [
    "Ищем риск убытков"
   ]
  },
  {
   "cell_type": "code",
   "execution_count": 67,
   "id": "691df4d2",
   "metadata": {},
   "outputs": [
    {
     "name": "stdout",
     "output_type": "stream",
     "text": [
      "Риск убытков для региона 0 составляет(%): 0.066\n",
      "Риск убытков для региона 1 составляет(%): 0.015\n",
      "Риск убытков для региона 2 составляет(%): 0.076\n"
     ]
    }
   ],
   "source": [
    "data_lesion_0 = values_0.loc[values_0 < 0].count()\n",
    "lesion_risk_0 = data_lesion_0 / 1000  \n",
    "print(\"Риск убытков для региона 0 составляет(%):\", lesion_risk_0)\n",
    "\n",
    "data_lesion_1 = values_1.loc[values_1 < 0].count()\n",
    "lesion_risk_1 = data_lesion_1 / 1000\n",
    "print(\"Риск убытков для региона 1 составляет(%):\", lesion_risk_1)\n",
    "\n",
    "data_lesion_2 = values_2.loc[values_2 < 0].count()\n",
    "lesion_risk_2 =  data_lesion_2 / 1000 \n",
    "print(\"Риск убытков для региона 2 составляет(%):\", lesion_risk_2)\n",
    "\n"
   ]
  },
  {
   "cell_type": "markdown",
   "id": "3e68ade2",
   "metadata": {},
   "source": [
    "### 5.3. Напишите выводы: предложите регион для разработки скважин и обоснуйте выбор."
   ]
  },
  {
   "cell_type": "markdown",
   "id": "be6bdfd8",
   "metadata": {},
   "source": [
    "По тотальной прибыли на регион безусловно лидирует регион 0. Регион 2 и 1 существенно отстают, при этом регион 2 чуть более выгоден для добычи по этому мультипликатору.\n",
    "\n",
    "Самая высокая средняя брибыль после будстепа у региона 1, далее идёт регион 2 и регион 0 с примерно равным отрывом.\n",
    "\n",
    "Что касается доверительного интервала - самый близкий к максимальным занчениям разброс у региона 1\n",
    "\n",
    "По риску убытков выигрывает регион 1, существенно отстаёт регион 0 и позади регион 2\n",
    "\n",
    "На мой взгяд по мультиполикаторам следует выбрать регион 1 для разработки\n",
    "\n"
   ]
  },
  {
   "cell_type": "code",
   "execution_count": null,
   "id": "5b80f365",
   "metadata": {},
   "outputs": [],
   "source": []
  }
 ],
 "metadata": {
  "ExecuteTimeLog": [
   {
    "duration": 1166,
    "start_time": "2021-08-18T09:23:17.753Z"
   },
   {
    "duration": 405,
    "start_time": "2021-08-18T09:23:20.129Z"
   },
   {
    "duration": 12,
    "start_time": "2021-08-18T09:23:22.969Z"
   },
   {
    "duration": 1523,
    "start_time": "2021-08-19T08:12:59.065Z"
   },
   {
    "duration": 513,
    "start_time": "2021-08-19T08:13:01.788Z"
   },
   {
    "duration": 20,
    "start_time": "2021-08-19T08:13:04.228Z"
   },
   {
    "duration": 14,
    "start_time": "2021-08-19T08:13:05.078Z"
   },
   {
    "duration": 16,
    "start_time": "2021-08-19T08:13:06.956Z"
   },
   {
    "duration": 21,
    "start_time": "2021-08-19T08:13:09.406Z"
   },
   {
    "duration": 14,
    "start_time": "2021-08-19T08:13:09.797Z"
   },
   {
    "duration": 16,
    "start_time": "2021-08-19T08:13:10.173Z"
   },
   {
    "duration": 74,
    "start_time": "2021-08-19T08:13:10.574Z"
   },
   {
    "duration": 71,
    "start_time": "2021-08-19T08:13:10.980Z"
   },
   {
    "duration": 75,
    "start_time": "2021-08-19T08:13:11.407Z"
   },
   {
    "duration": 13,
    "start_time": "2021-08-19T08:13:11.783Z"
   },
   {
    "duration": 13,
    "start_time": "2021-08-19T08:13:12.212Z"
   },
   {
    "duration": 13,
    "start_time": "2021-08-19T08:13:12.639Z"
   },
   {
    "duration": 30,
    "start_time": "2021-08-19T08:13:13.044Z"
   },
   {
    "duration": 22,
    "start_time": "2021-08-19T08:13:13.701Z"
   },
   {
    "duration": 25,
    "start_time": "2021-08-19T08:13:14.095Z"
   },
   {
    "duration": 13,
    "start_time": "2021-08-19T08:13:15.060Z"
   },
   {
    "duration": 10,
    "start_time": "2021-08-19T08:13:17.357Z"
   },
   {
    "duration": 9,
    "start_time": "2021-08-19T08:13:17.724Z"
   },
   {
    "duration": 22,
    "start_time": "2021-08-19T08:13:20.700Z"
   },
   {
    "duration": 25,
    "start_time": "2021-08-19T08:13:21.356Z"
   },
   {
    "duration": 22,
    "start_time": "2021-08-19T08:13:22.004Z"
   },
   {
    "duration": 19,
    "start_time": "2021-08-19T08:13:23.109Z"
   },
   {
    "duration": 22,
    "start_time": "2021-08-19T08:13:24.252Z"
   },
   {
    "duration": 19,
    "start_time": "2021-08-19T08:13:24.708Z"
   },
   {
    "duration": 6,
    "start_time": "2021-08-19T08:13:25.846Z"
   },
   {
    "duration": 9,
    "start_time": "2021-08-19T08:13:26.900Z"
   },
   {
    "duration": 6,
    "start_time": "2021-08-19T08:13:31.685Z"
   },
   {
    "duration": 6,
    "start_time": "2021-08-19T08:13:32.172Z"
   },
   {
    "duration": 6,
    "start_time": "2021-08-19T08:13:32.716Z"
   },
   {
    "duration": 5,
    "start_time": "2021-08-19T08:13:33.196Z"
   },
   {
    "duration": 4,
    "start_time": "2021-08-19T08:13:38.180Z"
   },
   {
    "duration": 4,
    "start_time": "2021-08-19T08:13:40.923Z"
   },
   {
    "duration": 9,
    "start_time": "2021-08-19T08:13:41.205Z"
   },
   {
    "duration": 6,
    "start_time": "2021-08-19T08:14:14.709Z"
   },
   {
    "duration": 11,
    "start_time": "2021-08-19T08:14:37.896Z"
   },
   {
    "duration": 5,
    "start_time": "2021-08-19T08:22:58.357Z"
   },
   {
    "duration": 785,
    "start_time": "2021-08-19T08:23:00.238Z"
   },
   {
    "duration": 5,
    "start_time": "2021-08-19T08:23:18.854Z"
   },
   {
    "duration": 576,
    "start_time": "2021-08-19T08:23:20.549Z"
   },
   {
    "duration": 5,
    "start_time": "2021-08-19T08:26:02.732Z"
   },
   {
    "duration": 521,
    "start_time": "2021-08-19T08:26:03.790Z"
   },
   {
    "duration": 4,
    "start_time": "2021-08-19T08:28:21.734Z"
   },
   {
    "duration": 14,
    "start_time": "2021-08-19T08:28:24.181Z"
   },
   {
    "duration": 4,
    "start_time": "2021-08-19T08:29:46.726Z"
   },
   {
    "duration": 12,
    "start_time": "2021-08-19T08:29:47.886Z"
   },
   {
    "duration": 4,
    "start_time": "2021-08-19T08:31:04.310Z"
   },
   {
    "duration": 13,
    "start_time": "2021-08-19T08:31:05.006Z"
   },
   {
    "duration": 5,
    "start_time": "2021-08-19T08:31:32.079Z"
   },
   {
    "duration": 12,
    "start_time": "2021-08-19T08:31:32.894Z"
   },
   {
    "duration": 6,
    "start_time": "2021-08-19T08:37:05.102Z"
   },
   {
    "duration": 36,
    "start_time": "2021-08-19T08:37:08.007Z"
   },
   {
    "duration": 7,
    "start_time": "2021-08-19T08:37:39.167Z"
   },
   {
    "duration": 638,
    "start_time": "2021-08-19T08:37:39.743Z"
   },
   {
    "duration": 6,
    "start_time": "2021-08-19T08:37:54.127Z"
   },
   {
    "duration": 569,
    "start_time": "2021-08-19T08:37:55.431Z"
   },
   {
    "duration": 6,
    "start_time": "2021-08-19T08:38:15.902Z"
   },
   {
    "duration": 633,
    "start_time": "2021-08-19T08:38:16.846Z"
   },
   {
    "duration": 6,
    "start_time": "2021-08-19T08:39:01.830Z"
   },
   {
    "duration": 43,
    "start_time": "2021-08-19T08:39:02.313Z"
   },
   {
    "duration": 7,
    "start_time": "2021-08-19T08:41:54.354Z"
   },
   {
    "duration": 583,
    "start_time": "2021-08-19T08:41:54.920Z"
   },
   {
    "duration": 6,
    "start_time": "2021-08-19T08:42:38.393Z"
   },
   {
    "duration": 126,
    "start_time": "2021-08-19T08:42:39.033Z"
   },
   {
    "duration": 9,
    "start_time": "2021-08-19T08:42:58.106Z"
   },
   {
    "duration": 46,
    "start_time": "2021-08-19T08:42:58.465Z"
   },
   {
    "duration": 210,
    "start_time": "2021-08-19T08:43:10.743Z"
   },
   {
    "duration": 40,
    "start_time": "2021-08-19T08:43:15.865Z"
   },
   {
    "duration": 275,
    "start_time": "2021-08-19T08:43:27.345Z"
   },
   {
    "duration": 6,
    "start_time": "2021-08-19T08:49:06.313Z"
   },
   {
    "duration": 604,
    "start_time": "2021-08-19T08:49:06.719Z"
   },
   {
    "duration": 6,
    "start_time": "2021-08-19T08:49:17.832Z"
   },
   {
    "duration": 548,
    "start_time": "2021-08-19T08:49:18.487Z"
   },
   {
    "duration": 5,
    "start_time": "2021-08-19T08:50:04.649Z"
   },
   {
    "duration": 29,
    "start_time": "2021-08-19T08:50:05.474Z"
   },
   {
    "duration": 6,
    "start_time": "2021-08-19T08:50:19.172Z"
   },
   {
    "duration": 8,
    "start_time": "2021-08-19T08:51:27.490Z"
   },
   {
    "duration": 629,
    "start_time": "2021-08-19T08:51:28.465Z"
   },
   {
    "duration": 7,
    "start_time": "2021-08-19T08:52:12.160Z"
   },
   {
    "duration": 563,
    "start_time": "2021-08-19T08:52:13.032Z"
   },
   {
    "duration": 6,
    "start_time": "2021-08-19T08:52:54.281Z"
   },
   {
    "duration": 87,
    "start_time": "2021-08-19T08:52:55.168Z"
   },
   {
    "duration": 6,
    "start_time": "2021-08-19T08:52:57.135Z"
   },
   {
    "duration": 7,
    "start_time": "2021-08-19T08:53:29.113Z"
   },
   {
    "duration": 40,
    "start_time": "2021-08-19T08:53:30.017Z"
   },
   {
    "duration": 10,
    "start_time": "2021-08-19T08:53:30.834Z"
   },
   {
    "duration": 51,
    "start_time": "2021-08-19T08:54:25.904Z"
   },
   {
    "duration": 38,
    "start_time": "2021-08-19T08:55:36.417Z"
   },
   {
    "duration": 47,
    "start_time": "2021-08-19T08:56:02.009Z"
   },
   {
    "duration": 451,
    "start_time": "2021-08-19T08:56:34.920Z"
   },
   {
    "duration": 5,
    "start_time": "2021-08-19T08:58:13.930Z"
   },
   {
    "duration": 5,
    "start_time": "2021-08-19T08:58:43.585Z"
   },
   {
    "duration": 5,
    "start_time": "2021-08-19T08:58:52.872Z"
   },
   {
    "duration": 4,
    "start_time": "2021-08-19T08:59:08.658Z"
   },
   {
    "duration": 5,
    "start_time": "2021-08-19T08:59:19.145Z"
   },
   {
    "duration": 5,
    "start_time": "2021-08-19T09:00:35.946Z"
   },
   {
    "duration": 5,
    "start_time": "2021-08-19T09:01:04.977Z"
   },
   {
    "duration": 3,
    "start_time": "2021-08-19T10:22:47.881Z"
   },
   {
    "duration": 4,
    "start_time": "2021-08-19T10:23:00.601Z"
   },
   {
    "duration": 231,
    "start_time": "2021-08-19T10:25:58.528Z"
   },
   {
    "duration": 383,
    "start_time": "2021-08-19T10:27:05.674Z"
   },
   {
    "duration": 51,
    "start_time": "2021-08-19T10:27:13.810Z"
   },
   {
    "duration": 128,
    "start_time": "2021-08-19T10:27:29.737Z"
   },
   {
    "duration": 118,
    "start_time": "2021-08-19T10:28:06.338Z"
   },
   {
    "duration": 109,
    "start_time": "2021-08-19T10:28:58.147Z"
   },
   {
    "duration": 56,
    "start_time": "2021-08-19T10:29:05.705Z"
   },
   {
    "duration": 141,
    "start_time": "2021-08-19T10:30:12.401Z"
   },
   {
    "duration": 108,
    "start_time": "2021-08-19T10:30:37.608Z"
   },
   {
    "duration": 46,
    "start_time": "2021-08-19T10:33:17.810Z"
   },
   {
    "duration": 39,
    "start_time": "2021-08-19T10:33:42.930Z"
   },
   {
    "duration": 184,
    "start_time": "2021-08-19T10:34:34.370Z"
   },
   {
    "duration": 534,
    "start_time": "2021-08-19T10:35:14.323Z"
   },
   {
    "duration": 525,
    "start_time": "2021-08-19T10:36:07.740Z"
   },
   {
    "duration": 466,
    "start_time": "2021-08-19T10:36:47.090Z"
   },
   {
    "duration": 622,
    "start_time": "2021-08-19T10:37:53.436Z"
   },
   {
    "duration": 372,
    "start_time": "2021-08-19T10:38:02.596Z"
   },
   {
    "duration": 560,
    "start_time": "2021-08-19T10:38:11.099Z"
   },
   {
    "duration": 488,
    "start_time": "2021-08-19T10:38:43.468Z"
   },
   {
    "duration": 83,
    "start_time": "2021-08-19T10:39:47.131Z"
   },
   {
    "duration": 580,
    "start_time": "2021-08-19T10:39:59.979Z"
   },
   {
    "duration": 6,
    "start_time": "2021-08-19T11:33:31.651Z"
   },
   {
    "duration": 118,
    "start_time": "2021-08-19T11:34:04.538Z"
   },
   {
    "duration": 359,
    "start_time": "2021-08-19T11:48:12.847Z"
   },
   {
    "duration": 286,
    "start_time": "2021-08-19T11:48:40.899Z"
   },
   {
    "duration": 229,
    "start_time": "2021-08-19T11:49:06.394Z"
   },
   {
    "duration": 310,
    "start_time": "2021-08-19T11:49:26.698Z"
   },
   {
    "duration": 253,
    "start_time": "2021-08-19T11:49:32.819Z"
   },
   {
    "duration": 265,
    "start_time": "2021-08-19T11:50:31.612Z"
   },
   {
    "duration": 266,
    "start_time": "2021-08-19T11:50:52.798Z"
   },
   {
    "duration": 245,
    "start_time": "2021-08-19T11:51:58.830Z"
   },
   {
    "duration": 226,
    "start_time": "2021-08-19T11:52:28.614Z"
   },
   {
    "duration": 4784,
    "start_time": "2021-08-19T11:55:51.006Z"
   },
   {
    "duration": 326,
    "start_time": "2021-08-19T11:56:27.571Z"
   },
   {
    "duration": 1414,
    "start_time": "2021-08-19T11:56:41.765Z"
   },
   {
    "duration": 468,
    "start_time": "2021-08-19T11:56:43.640Z"
   },
   {
    "duration": 18,
    "start_time": "2021-08-19T11:56:44.110Z"
   },
   {
    "duration": 14,
    "start_time": "2021-08-19T11:56:44.755Z"
   },
   {
    "duration": 13,
    "start_time": "2021-08-19T11:56:44.953Z"
   },
   {
    "duration": 15,
    "start_time": "2021-08-19T11:56:45.145Z"
   },
   {
    "duration": 21,
    "start_time": "2021-08-19T11:56:45.318Z"
   },
   {
    "duration": 17,
    "start_time": "2021-08-19T11:56:45.499Z"
   },
   {
    "duration": 77,
    "start_time": "2021-08-19T11:56:45.667Z"
   },
   {
    "duration": 62,
    "start_time": "2021-08-19T11:56:45.856Z"
   },
   {
    "duration": 86,
    "start_time": "2021-08-19T11:56:46.038Z"
   },
   {
    "duration": 13,
    "start_time": "2021-08-19T11:56:46.206Z"
   },
   {
    "duration": 13,
    "start_time": "2021-08-19T11:56:46.414Z"
   },
   {
    "duration": 13,
    "start_time": "2021-08-19T11:56:46.584Z"
   },
   {
    "duration": 23,
    "start_time": "2021-08-19T11:56:46.783Z"
   },
   {
    "duration": 22,
    "start_time": "2021-08-19T11:56:46.967Z"
   },
   {
    "duration": 29,
    "start_time": "2021-08-19T11:56:47.156Z"
   },
   {
    "duration": 7,
    "start_time": "2021-08-19T11:56:47.518Z"
   },
   {
    "duration": 8,
    "start_time": "2021-08-19T11:56:47.718Z"
   },
   {
    "duration": 8,
    "start_time": "2021-08-19T11:56:47.925Z"
   },
   {
    "duration": 21,
    "start_time": "2021-08-19T11:56:48.765Z"
   },
   {
    "duration": 22,
    "start_time": "2021-08-19T11:56:48.983Z"
   },
   {
    "duration": 23,
    "start_time": "2021-08-19T11:56:49.166Z"
   },
   {
    "duration": 26,
    "start_time": "2021-08-19T11:56:49.556Z"
   },
   {
    "duration": 14,
    "start_time": "2021-08-19T11:56:49.777Z"
   },
   {
    "duration": 16,
    "start_time": "2021-08-19T11:56:49.979Z"
   },
   {
    "duration": 6,
    "start_time": "2021-08-19T11:56:50.540Z"
   },
   {
    "duration": 11,
    "start_time": "2021-08-19T11:56:50.730Z"
   },
   {
    "duration": 6,
    "start_time": "2021-08-19T11:56:51.139Z"
   },
   {
    "duration": 6,
    "start_time": "2021-08-19T11:56:51.408Z"
   },
   {
    "duration": 6,
    "start_time": "2021-08-19T11:56:51.591Z"
   },
   {
    "duration": 6,
    "start_time": "2021-08-19T11:56:51.783Z"
   },
   {
    "duration": 3,
    "start_time": "2021-08-19T11:56:54.134Z"
   },
   {
    "duration": 4,
    "start_time": "2021-08-19T11:56:56.180Z"
   },
   {
    "duration": 9,
    "start_time": "2021-08-19T11:56:56.677Z"
   },
   {
    "duration": 6,
    "start_time": "2021-08-19T11:57:00.283Z"
   },
   {
    "duration": 122,
    "start_time": "2021-08-19T11:57:03.738Z"
   },
   {
    "duration": 552,
    "start_time": "2021-08-19T11:57:07.803Z"
   },
   {
    "duration": 5,
    "start_time": "2021-08-19T11:57:17.787Z"
   },
   {
    "duration": 6,
    "start_time": "2021-08-19T11:57:19.747Z"
   },
   {
    "duration": 5223,
    "start_time": "2021-08-19T11:58:26.778Z"
   },
   {
    "duration": 5040,
    "start_time": "2021-08-19T11:58:44.792Z"
   },
   {
    "duration": 5005,
    "start_time": "2021-08-19T11:59:00.971Z"
   },
   {
    "duration": 2515,
    "start_time": "2021-08-19T11:59:23.684Z"
   },
   {
    "duration": 723,
    "start_time": "2021-08-19T12:00:09.870Z"
   },
   {
    "duration": 536,
    "start_time": "2021-08-19T12:00:26.052Z"
   },
   {
    "duration": 595,
    "start_time": "2021-08-19T12:05:55.638Z"
   },
   {
    "duration": 626,
    "start_time": "2021-08-19T12:06:04.784Z"
   },
   {
    "duration": 287,
    "start_time": "2021-08-19T12:06:53.549Z"
   },
   {
    "duration": 16,
    "start_time": "2021-08-19T12:06:59.791Z"
   },
   {
    "duration": 1229,
    "start_time": "2021-08-19T12:08:03.909Z"
   },
   {
    "duration": 4,
    "start_time": "2021-08-19T12:08:17.495Z"
   },
   {
    "duration": 2149,
    "start_time": "2021-08-19T12:10:01.854Z"
   },
   {
    "duration": 2098,
    "start_time": "2021-08-19T12:10:48.094Z"
   },
   {
    "duration": 4306,
    "start_time": "2021-08-19T12:11:21.133Z"
   },
   {
    "duration": 100,
    "start_time": "2021-08-19T12:12:31.465Z"
   },
   {
    "duration": 9,
    "start_time": "2021-08-19T12:12:36.748Z"
   },
   {
    "duration": 2501,
    "start_time": "2021-08-19T12:13:07.984Z"
   },
   {
    "duration": 2355,
    "start_time": "2021-08-19T12:14:25.482Z"
   },
   {
    "duration": 2575,
    "start_time": "2021-08-19T12:14:34.128Z"
   },
   {
    "duration": 2462,
    "start_time": "2021-08-19T12:15:46.351Z"
   },
   {
    "duration": 2303,
    "start_time": "2021-08-19T12:16:31.811Z"
   },
   {
    "duration": 8,
    "start_time": "2021-08-19T12:18:09.887Z"
   },
   {
    "duration": 8,
    "start_time": "2021-08-19T12:18:37.689Z"
   },
   {
    "duration": 8,
    "start_time": "2021-08-19T12:18:56.768Z"
   },
   {
    "duration": 7,
    "start_time": "2021-08-19T12:20:26.136Z"
   },
   {
    "duration": 346,
    "start_time": "2021-08-20T07:28:23.952Z"
   },
   {
    "duration": 1427,
    "start_time": "2021-08-20T07:28:42.650Z"
   },
   {
    "duration": 467,
    "start_time": "2021-08-20T07:28:44.545Z"
   },
   {
    "duration": 21,
    "start_time": "2021-08-20T07:28:45.030Z"
   },
   {
    "duration": 14,
    "start_time": "2021-08-20T07:28:45.432Z"
   },
   {
    "duration": 14,
    "start_time": "2021-08-20T07:28:45.797Z"
   },
   {
    "duration": 16,
    "start_time": "2021-08-20T07:28:46.138Z"
   },
   {
    "duration": 14,
    "start_time": "2021-08-20T07:28:46.494Z"
   },
   {
    "duration": 13,
    "start_time": "2021-08-20T07:28:46.688Z"
   },
   {
    "duration": 71,
    "start_time": "2021-08-20T07:28:46.870Z"
   },
   {
    "duration": 62,
    "start_time": "2021-08-20T07:28:47.062Z"
   },
   {
    "duration": 67,
    "start_time": "2021-08-20T07:28:47.257Z"
   },
   {
    "duration": 13,
    "start_time": "2021-08-20T07:28:47.430Z"
   },
   {
    "duration": 13,
    "start_time": "2021-08-20T07:28:47.608Z"
   },
   {
    "duration": 13,
    "start_time": "2021-08-20T07:28:47.792Z"
   },
   {
    "duration": 22,
    "start_time": "2021-08-20T07:28:47.974Z"
   },
   {
    "duration": 21,
    "start_time": "2021-08-20T07:28:48.151Z"
   },
   {
    "duration": 21,
    "start_time": "2021-08-20T07:28:48.342Z"
   },
   {
    "duration": 8,
    "start_time": "2021-08-20T07:28:48.688Z"
   },
   {
    "duration": 8,
    "start_time": "2021-08-20T07:28:48.878Z"
   },
   {
    "duration": 8,
    "start_time": "2021-08-20T07:28:49.078Z"
   },
   {
    "duration": 22,
    "start_time": "2021-08-20T07:28:49.788Z"
   },
   {
    "duration": 23,
    "start_time": "2021-08-20T07:28:49.968Z"
   },
   {
    "duration": 23,
    "start_time": "2021-08-20T07:28:50.134Z"
   },
   {
    "duration": 25,
    "start_time": "2021-08-20T07:28:50.525Z"
   },
   {
    "duration": 17,
    "start_time": "2021-08-20T07:28:50.755Z"
   },
   {
    "duration": 17,
    "start_time": "2021-08-20T07:28:50.955Z"
   },
   {
    "duration": 7,
    "start_time": "2021-08-20T07:28:51.310Z"
   },
   {
    "duration": 10,
    "start_time": "2021-08-20T07:28:51.503Z"
   },
   {
    "duration": 7,
    "start_time": "2021-08-20T07:28:51.864Z"
   },
   {
    "duration": 7,
    "start_time": "2021-08-20T07:28:52.070Z"
   },
   {
    "duration": 7,
    "start_time": "2021-08-20T07:28:52.253Z"
   },
   {
    "duration": 6,
    "start_time": "2021-08-20T07:28:52.437Z"
   },
   {
    "duration": 3,
    "start_time": "2021-08-20T07:28:53.558Z"
   },
   {
    "duration": 5,
    "start_time": "2021-08-20T07:28:54.117Z"
   },
   {
    "duration": 8,
    "start_time": "2021-08-20T07:28:54.328Z"
   },
   {
    "duration": 6,
    "start_time": "2021-08-20T07:28:55.452Z"
   },
   {
    "duration": 66,
    "start_time": "2021-08-20T07:28:55.997Z"
   },
   {
    "duration": 490,
    "start_time": "2021-08-20T07:29:04.664Z"
   },
   {
    "duration": 5,
    "start_time": "2021-08-20T07:29:08.261Z"
   },
   {
    "duration": 5,
    "start_time": "2021-08-20T07:29:08.632Z"
   },
   {
    "duration": 5,
    "start_time": "2021-08-20T07:29:11.721Z"
   },
   {
    "duration": 2536,
    "start_time": "2021-08-20T07:29:20.079Z"
   },
   {
    "duration": 2168,
    "start_time": "2021-08-20T07:29:40.116Z"
   },
   {
    "duration": 1253,
    "start_time": "2021-08-20T07:30:09.328Z"
   },
   {
    "duration": 1236,
    "start_time": "2021-08-20T07:40:14.368Z"
   },
   {
    "duration": 1198,
    "start_time": "2021-08-20T07:41:34.224Z"
   },
   {
    "duration": 204,
    "start_time": "2021-08-20T07:51:08.721Z"
   },
   {
    "duration": 303,
    "start_time": "2021-08-20T07:51:24.378Z"
   },
   {
    "duration": 304,
    "start_time": "2021-08-20T07:51:34.224Z"
   },
   {
    "duration": 263,
    "start_time": "2021-08-20T07:52:19.002Z"
   },
   {
    "duration": 271,
    "start_time": "2021-08-20T07:53:38.545Z"
   },
   {
    "duration": 202,
    "start_time": "2021-08-20T07:54:15.834Z"
   },
   {
    "duration": 232,
    "start_time": "2021-08-20T07:54:49.882Z"
   },
   {
    "duration": 276,
    "start_time": "2021-08-20T07:55:08.858Z"
   },
   {
    "duration": 305,
    "start_time": "2021-08-20T07:56:49.186Z"
   },
   {
    "duration": 229,
    "start_time": "2021-08-20T07:58:05.125Z"
   },
   {
    "duration": 372,
    "start_time": "2021-08-20T07:59:11.370Z"
   },
   {
    "duration": 393,
    "start_time": "2021-08-20T08:00:53.717Z"
   },
   {
    "duration": 1980,
    "start_time": "2021-08-20T08:02:30.338Z"
   },
   {
    "duration": 5,
    "start_time": "2021-08-20T08:10:58.787Z"
   },
   {
    "duration": 100,
    "start_time": "2021-08-20T08:11:01.917Z"
   },
   {
    "duration": 90,
    "start_time": "2021-08-20T08:11:25.095Z"
   },
   {
    "duration": 580,
    "start_time": "2021-08-20T08:11:36.003Z"
   },
   {
    "duration": 4,
    "start_time": "2021-08-20T08:13:25.405Z"
   },
   {
    "duration": 527,
    "start_time": "2021-08-20T08:13:27.845Z"
   },
   {
    "duration": 867,
    "start_time": "2021-08-20T08:14:01.556Z"
   },
   {
    "duration": 4,
    "start_time": "2021-08-20T08:14:35.252Z"
   },
   {
    "duration": 561,
    "start_time": "2021-08-20T08:14:37.142Z"
   },
   {
    "duration": 5,
    "start_time": "2021-08-20T08:14:48.836Z"
   },
   {
    "duration": 576,
    "start_time": "2021-08-20T08:14:50.493Z"
   },
   {
    "duration": 5,
    "start_time": "2021-08-20T08:15:28.492Z"
   },
   {
    "duration": 6076,
    "start_time": "2021-08-20T08:15:30.380Z"
   },
   {
    "duration": 4,
    "start_time": "2021-08-20T08:16:24.005Z"
   },
   {
    "duration": 4517,
    "start_time": "2021-08-20T08:16:25.887Z"
   },
   {
    "duration": 4,
    "start_time": "2021-08-20T08:16:50.170Z"
   },
   {
    "duration": 7542,
    "start_time": "2021-08-20T08:16:52.077Z"
   },
   {
    "duration": 6675,
    "start_time": "2021-08-20T08:18:06.916Z"
   },
   {
    "duration": 4,
    "start_time": "2021-08-20T08:22:11.164Z"
   },
   {
    "duration": 896,
    "start_time": "2021-08-20T08:22:14.767Z"
   },
   {
    "duration": 5,
    "start_time": "2021-08-20T08:25:24.896Z"
   },
   {
    "duration": 6068,
    "start_time": "2021-08-20T08:25:27.015Z"
   },
   {
    "duration": 7379,
    "start_time": "2021-08-20T08:25:44.566Z"
   },
   {
    "duration": 6310,
    "start_time": "2021-08-20T08:26:10.824Z"
   },
   {
    "duration": 4,
    "start_time": "2021-08-20T08:26:59.862Z"
   },
   {
    "duration": 7890,
    "start_time": "2021-08-20T08:27:01.681Z"
   },
   {
    "duration": 10495,
    "start_time": "2021-08-20T08:27:17.332Z"
   },
   {
    "duration": 5,
    "start_time": "2021-08-20T08:29:09.269Z"
   },
   {
    "duration": 7678,
    "start_time": "2021-08-20T08:29:11.399Z"
   },
   {
    "duration": 4,
    "start_time": "2021-08-20T08:30:21.622Z"
   },
   {
    "duration": 7640,
    "start_time": "2021-08-20T08:30:23.219Z"
   },
   {
    "duration": 5,
    "start_time": "2021-08-20T08:32:03.386Z"
   },
   {
    "duration": 7673,
    "start_time": "2021-08-20T08:32:05.442Z"
   },
   {
    "duration": 6566,
    "start_time": "2021-08-20T08:32:25.067Z"
   },
   {
    "duration": 6532,
    "start_time": "2021-08-20T08:35:28.504Z"
   },
   {
    "duration": 6678,
    "start_time": "2021-08-20T08:37:18.654Z"
   },
   {
    "duration": 6780,
    "start_time": "2021-08-20T08:38:11.446Z"
   },
   {
    "duration": 480,
    "start_time": "2021-08-20T08:38:57.223Z"
   },
   {
    "duration": 575,
    "start_time": "2021-08-20T08:39:29.208Z"
   },
   {
    "duration": 1543,
    "start_time": "2021-08-23T05:33:38.149Z"
   },
   {
    "duration": 512,
    "start_time": "2021-08-23T05:33:39.694Z"
   },
   {
    "duration": 18,
    "start_time": "2021-08-23T05:33:40.771Z"
   },
   {
    "duration": 13,
    "start_time": "2021-08-23T05:33:40.987Z"
   },
   {
    "duration": 13,
    "start_time": "2021-08-23T05:33:41.234Z"
   },
   {
    "duration": 14,
    "start_time": "2021-08-23T05:33:41.444Z"
   },
   {
    "duration": 17,
    "start_time": "2021-08-23T05:33:41.672Z"
   },
   {
    "duration": 14,
    "start_time": "2021-08-23T05:33:41.891Z"
   },
   {
    "duration": 70,
    "start_time": "2021-08-23T05:33:42.099Z"
   },
   {
    "duration": 60,
    "start_time": "2021-08-23T05:33:42.299Z"
   },
   {
    "duration": 74,
    "start_time": "2021-08-23T05:33:42.546Z"
   },
   {
    "duration": 16,
    "start_time": "2021-08-23T05:33:42.750Z"
   },
   {
    "duration": 16,
    "start_time": "2021-08-23T05:33:42.965Z"
   },
   {
    "duration": 14,
    "start_time": "2021-08-23T05:33:43.165Z"
   },
   {
    "duration": 45,
    "start_time": "2021-08-23T05:33:43.406Z"
   },
   {
    "duration": 22,
    "start_time": "2021-08-23T05:33:43.628Z"
   },
   {
    "duration": 22,
    "start_time": "2021-08-23T05:33:43.839Z"
   },
   {
    "duration": 9,
    "start_time": "2021-08-23T05:33:44.277Z"
   },
   {
    "duration": 11,
    "start_time": "2021-08-23T05:33:44.469Z"
   },
   {
    "duration": 8,
    "start_time": "2021-08-23T05:33:44.673Z"
   },
   {
    "duration": 20,
    "start_time": "2021-08-23T05:33:45.510Z"
   },
   {
    "duration": 22,
    "start_time": "2021-08-23T05:33:45.724Z"
   },
   {
    "duration": 21,
    "start_time": "2021-08-23T05:33:45.992Z"
   },
   {
    "duration": 17,
    "start_time": "2021-08-23T05:33:46.401Z"
   },
   {
    "duration": 16,
    "start_time": "2021-08-23T05:33:46.613Z"
   },
   {
    "duration": 18,
    "start_time": "2021-08-23T05:33:46.827Z"
   },
   {
    "duration": 7,
    "start_time": "2021-08-23T05:33:47.218Z"
   },
   {
    "duration": 10,
    "start_time": "2021-08-23T05:33:47.412Z"
   },
   {
    "duration": 7,
    "start_time": "2021-08-23T05:33:47.956Z"
   },
   {
    "duration": 6,
    "start_time": "2021-08-23T05:33:48.187Z"
   },
   {
    "duration": 6,
    "start_time": "2021-08-23T05:33:48.355Z"
   },
   {
    "duration": 5,
    "start_time": "2021-08-23T05:33:48.555Z"
   },
   {
    "duration": 4,
    "start_time": "2021-08-23T05:33:49.947Z"
   },
   {
    "duration": 5,
    "start_time": "2021-08-23T05:33:50.857Z"
   },
   {
    "duration": 8,
    "start_time": "2021-08-23T05:33:51.138Z"
   },
   {
    "duration": 7,
    "start_time": "2021-08-23T05:33:53.717Z"
   },
   {
    "duration": 82,
    "start_time": "2021-08-23T05:34:10.196Z"
   },
   {
    "duration": 414,
    "start_time": "2021-08-23T05:34:17.662Z"
   },
   {
    "duration": 5,
    "start_time": "2021-08-23T05:34:18.595Z"
   },
   {
    "duration": 6,
    "start_time": "2021-08-23T05:34:18.988Z"
   },
   {
    "duration": 7,
    "start_time": "2021-08-23T05:34:21.772Z"
   },
   {
    "duration": 9791,
    "start_time": "2021-08-23T05:36:44.812Z"
   },
   {
    "duration": 6,
    "start_time": "2021-08-23T05:37:05.451Z"
   },
   {
    "duration": 6640,
    "start_time": "2021-08-23T05:37:08.965Z"
   },
   {
    "duration": 751,
    "start_time": "2021-08-23T05:39:08.357Z"
   },
   {
    "duration": 795,
    "start_time": "2021-08-23T05:40:39.807Z"
   },
   {
    "duration": 4,
    "start_time": "2021-08-23T05:41:55.293Z"
   },
   {
    "duration": 6546,
    "start_time": "2021-08-23T05:42:06.686Z"
   },
   {
    "duration": 5,
    "start_time": "2021-08-23T05:42:42.593Z"
   },
   {
    "duration": 6440,
    "start_time": "2021-08-23T05:42:44.909Z"
   },
   {
    "duration": 9039,
    "start_time": "2021-08-23T05:43:51.205Z"
   },
   {
    "duration": 423,
    "start_time": "2021-08-23T05:44:46.016Z"
   },
   {
    "duration": 2089,
    "start_time": "2021-08-23T05:45:07.440Z"
   },
   {
    "duration": 5,
    "start_time": "2021-08-23T05:47:31.750Z"
   },
   {
    "duration": 2148,
    "start_time": "2021-08-23T05:47:33.791Z"
   },
   {
    "duration": 5315,
    "start_time": "2021-08-23T05:47:55.408Z"
   },
   {
    "duration": 3068,
    "start_time": "2021-08-23T05:48:13.670Z"
   },
   {
    "duration": 5,
    "start_time": "2021-08-23T05:48:58.072Z"
   },
   {
    "duration": 2752,
    "start_time": "2021-08-23T05:49:01.677Z"
   },
   {
    "duration": 4,
    "start_time": "2021-08-23T05:49:44.510Z"
   },
   {
    "duration": 5028,
    "start_time": "2021-08-23T05:49:56.477Z"
   },
   {
    "duration": 1960,
    "start_time": "2021-08-23T05:51:01.831Z"
   },
   {
    "duration": 4,
    "start_time": "2021-08-23T05:51:33.014Z"
   },
   {
    "duration": 2173,
    "start_time": "2021-08-23T05:51:35.422Z"
   },
   {
    "duration": 4,
    "start_time": "2021-08-23T05:55:58.182Z"
   },
   {
    "duration": 3028,
    "start_time": "2021-08-23T05:56:05.295Z"
   },
   {
    "duration": 6,
    "start_time": "2021-08-23T05:57:42.663Z"
   },
   {
    "duration": 2240,
    "start_time": "2021-08-23T05:57:45.593Z"
   },
   {
    "duration": 2096,
    "start_time": "2021-08-23T05:57:53.509Z"
   },
   {
    "duration": 2189,
    "start_time": "2021-08-23T05:58:08.242Z"
   },
   {
    "duration": 5,
    "start_time": "2021-08-23T06:03:55.223Z"
   },
   {
    "duration": 2183,
    "start_time": "2021-08-23T06:04:00.504Z"
   },
   {
    "duration": 4,
    "start_time": "2021-08-23T06:11:26.104Z"
   },
   {
    "duration": 2179,
    "start_time": "2021-08-23T06:11:40.945Z"
   },
   {
    "duration": 5,
    "start_time": "2021-08-23T06:12:42.192Z"
   },
   {
    "duration": 5848,
    "start_time": "2021-08-23T06:13:02.068Z"
   },
   {
    "duration": 4605,
    "start_time": "2021-08-23T06:16:18.986Z"
   },
   {
    "duration": 4880,
    "start_time": "2021-08-23T06:16:23.593Z"
   },
   {
    "duration": 8,
    "start_time": "2021-08-23T06:16:44.788Z"
   },
   {
    "duration": 6723,
    "start_time": "2021-08-23T06:17:55.585Z"
   },
   {
    "duration": 337,
    "start_time": "2021-08-23T06:19:22.153Z"
   },
   {
    "duration": 6212,
    "start_time": "2021-08-23T06:19:36.920Z"
   },
   {
    "duration": 5,
    "start_time": "2021-08-23T06:21:40.139Z"
   },
   {
    "duration": 3257,
    "start_time": "2021-08-23T06:21:42.033Z"
   },
   {
    "duration": 5,
    "start_time": "2021-08-23T06:22:40.699Z"
   },
   {
    "duration": 3251,
    "start_time": "2021-08-23T06:22:44.099Z"
   },
   {
    "duration": 6397,
    "start_time": "2021-08-23T06:23:01.939Z"
   },
   {
    "duration": 6617,
    "start_time": "2021-08-23T06:23:14.445Z"
   },
   {
    "duration": 483,
    "start_time": "2021-08-23T08:19:00.765Z"
   },
   {
    "duration": 1490,
    "start_time": "2021-08-23T08:19:10.305Z"
   },
   {
    "duration": 468,
    "start_time": "2021-08-23T08:19:11.798Z"
   },
   {
    "duration": 18,
    "start_time": "2021-08-23T08:19:12.444Z"
   },
   {
    "duration": 15,
    "start_time": "2021-08-23T08:19:12.629Z"
   },
   {
    "duration": 14,
    "start_time": "2021-08-23T08:19:12.829Z"
   },
   {
    "duration": 14,
    "start_time": "2021-08-23T08:19:13.030Z"
   },
   {
    "duration": 14,
    "start_time": "2021-08-23T08:19:13.213Z"
   },
   {
    "duration": 15,
    "start_time": "2021-08-23T08:19:13.397Z"
   },
   {
    "duration": 73,
    "start_time": "2021-08-23T08:19:13.582Z"
   },
   {
    "duration": 67,
    "start_time": "2021-08-23T08:19:13.782Z"
   },
   {
    "duration": 70,
    "start_time": "2021-08-23T08:19:13.975Z"
   },
   {
    "duration": 18,
    "start_time": "2021-08-23T08:19:14.166Z"
   },
   {
    "duration": 13,
    "start_time": "2021-08-23T08:19:14.374Z"
   },
   {
    "duration": 12,
    "start_time": "2021-08-23T08:19:14.548Z"
   },
   {
    "duration": 24,
    "start_time": "2021-08-23T08:19:14.749Z"
   },
   {
    "duration": 22,
    "start_time": "2021-08-23T08:19:14.956Z"
   },
   {
    "duration": 33,
    "start_time": "2021-08-23T08:19:15.134Z"
   },
   {
    "duration": 8,
    "start_time": "2021-08-23T08:19:15.542Z"
   },
   {
    "duration": 8,
    "start_time": "2021-08-23T08:19:15.732Z"
   },
   {
    "duration": 8,
    "start_time": "2021-08-23T08:19:15.924Z"
   },
   {
    "duration": 21,
    "start_time": "2021-08-23T08:19:16.675Z"
   },
   {
    "duration": 22,
    "start_time": "2021-08-23T08:19:16.868Z"
   },
   {
    "duration": 24,
    "start_time": "2021-08-23T08:19:17.076Z"
   },
   {
    "duration": 25,
    "start_time": "2021-08-23T08:19:17.453Z"
   },
   {
    "duration": 15,
    "start_time": "2021-08-23T08:19:17.668Z"
   },
   {
    "duration": 22,
    "start_time": "2021-08-23T08:19:17.868Z"
   },
   {
    "duration": 6,
    "start_time": "2021-08-23T08:19:18.236Z"
   },
   {
    "duration": 10,
    "start_time": "2021-08-23T08:19:18.445Z"
   },
   {
    "duration": 7,
    "start_time": "2021-08-23T08:19:18.851Z"
   },
   {
    "duration": 6,
    "start_time": "2021-08-23T08:19:19.083Z"
   },
   {
    "duration": 6,
    "start_time": "2021-08-23T08:19:19.318Z"
   },
   {
    "duration": 6,
    "start_time": "2021-08-23T08:19:19.524Z"
   },
   {
    "duration": 4,
    "start_time": "2021-08-23T08:19:20.796Z"
   },
   {
    "duration": 5,
    "start_time": "2021-08-23T08:19:21.543Z"
   },
   {
    "duration": 8,
    "start_time": "2021-08-23T08:19:21.772Z"
   },
   {
    "duration": 7,
    "start_time": "2021-08-23T08:19:23.300Z"
   },
   {
    "duration": 133,
    "start_time": "2021-08-23T08:19:26.645Z"
   },
   {
    "duration": 408,
    "start_time": "2021-08-23T08:19:29.876Z"
   },
   {
    "duration": 5,
    "start_time": "2021-08-23T08:20:01.580Z"
   },
   {
    "duration": 6,
    "start_time": "2021-08-23T08:20:02.085Z"
   },
   {
    "duration": 5,
    "start_time": "2021-08-23T08:20:05.940Z"
   },
   {
    "duration": 6867,
    "start_time": "2021-08-23T08:20:17.100Z"
   },
   {
    "duration": 6113,
    "start_time": "2021-08-23T08:20:43.463Z"
   },
   {
    "duration": 6800,
    "start_time": "2021-08-23T08:21:34.271Z"
   },
   {
    "duration": 1413,
    "start_time": "2021-08-23T08:22:04.895Z"
   },
   {
    "duration": 472,
    "start_time": "2021-08-23T08:22:06.710Z"
   },
   {
    "duration": 17,
    "start_time": "2021-08-23T08:22:07.185Z"
   },
   {
    "duration": 12,
    "start_time": "2021-08-23T08:22:07.211Z"
   },
   {
    "duration": 13,
    "start_time": "2021-08-23T08:22:07.382Z"
   },
   {
    "duration": 14,
    "start_time": "2021-08-23T08:22:07.557Z"
   },
   {
    "duration": 14,
    "start_time": "2021-08-23T08:22:07.732Z"
   },
   {
    "duration": 13,
    "start_time": "2021-08-23T08:22:07.919Z"
   },
   {
    "duration": 77,
    "start_time": "2021-08-23T08:22:08.086Z"
   },
   {
    "duration": 73,
    "start_time": "2021-08-23T08:22:08.261Z"
   },
   {
    "duration": 76,
    "start_time": "2021-08-23T08:22:08.445Z"
   },
   {
    "duration": 13,
    "start_time": "2021-08-23T08:22:08.632Z"
   },
   {
    "duration": 13,
    "start_time": "2021-08-23T08:22:08.812Z"
   },
   {
    "duration": 12,
    "start_time": "2021-08-23T08:22:08.991Z"
   },
   {
    "duration": 21,
    "start_time": "2021-08-23T08:22:09.165Z"
   },
   {
    "duration": 23,
    "start_time": "2021-08-23T08:22:09.357Z"
   },
   {
    "duration": 22,
    "start_time": "2021-08-23T08:22:09.532Z"
   },
   {
    "duration": 8,
    "start_time": "2021-08-23T08:22:09.900Z"
   },
   {
    "duration": 7,
    "start_time": "2021-08-23T08:22:10.085Z"
   },
   {
    "duration": 8,
    "start_time": "2021-08-23T08:22:10.277Z"
   },
   {
    "duration": 21,
    "start_time": "2021-08-23T08:22:11.039Z"
   },
   {
    "duration": 23,
    "start_time": "2021-08-23T08:22:11.230Z"
   },
   {
    "duration": 22,
    "start_time": "2021-08-23T08:22:11.417Z"
   },
   {
    "duration": 17,
    "start_time": "2021-08-23T08:22:12.300Z"
   },
   {
    "duration": 16,
    "start_time": "2021-08-23T08:22:12.501Z"
   },
   {
    "duration": 17,
    "start_time": "2021-08-23T08:22:12.711Z"
   },
   {
    "duration": 7,
    "start_time": "2021-08-23T08:22:13.102Z"
   },
   {
    "duration": 10,
    "start_time": "2021-08-23T08:22:13.311Z"
   },
   {
    "duration": 6,
    "start_time": "2021-08-23T08:22:13.701Z"
   },
   {
    "duration": 6,
    "start_time": "2021-08-23T08:22:14.069Z"
   },
   {
    "duration": 6,
    "start_time": "2021-08-23T08:22:14.264Z"
   },
   {
    "duration": 5,
    "start_time": "2021-08-23T08:22:14.471Z"
   },
   {
    "duration": 4,
    "start_time": "2021-08-23T08:22:18.276Z"
   },
   {
    "duration": 4,
    "start_time": "2021-08-23T08:22:20.589Z"
   },
   {
    "duration": 9,
    "start_time": "2021-08-23T08:22:21.125Z"
   },
   {
    "duration": 7,
    "start_time": "2021-08-23T08:22:27.254Z"
   },
   {
    "duration": 87,
    "start_time": "2021-08-23T08:22:34.988Z"
   },
   {
    "duration": 472,
    "start_time": "2021-08-23T08:22:38.696Z"
   },
   {
    "duration": 6,
    "start_time": "2021-08-23T08:22:41.228Z"
   },
   {
    "duration": 6,
    "start_time": "2021-08-23T08:22:42.949Z"
   },
   {
    "duration": 5,
    "start_time": "2021-08-23T08:22:45.388Z"
   },
   {
    "duration": 428,
    "start_time": "2021-08-23T08:22:56.468Z"
   },
   {
    "duration": 6351,
    "start_time": "2021-08-23T08:23:21.662Z"
   },
   {
    "duration": 809,
    "start_time": "2021-08-23T08:23:40.632Z"
   },
   {
    "duration": 356,
    "start_time": "2021-08-23T08:24:27.949Z"
   },
   {
    "duration": 6173,
    "start_time": "2021-08-23T08:24:34.894Z"
   },
   {
    "duration": 370,
    "start_time": "2021-08-23T08:24:53.049Z"
   },
   {
    "duration": 6361,
    "start_time": "2021-08-23T08:24:59.294Z"
   },
   {
    "duration": 17,
    "start_time": "2021-08-23T08:27:14.774Z"
   },
   {
    "duration": 10,
    "start_time": "2021-08-23T08:27:18.774Z"
   },
   {
    "duration": 6,
    "start_time": "2021-08-23T08:27:32.438Z"
   },
   {
    "duration": 18,
    "start_time": "2021-08-23T08:28:00.183Z"
   },
   {
    "duration": 1553,
    "start_time": "2021-08-23T08:28:33.059Z"
   },
   {
    "duration": 480,
    "start_time": "2021-08-23T08:28:34.615Z"
   },
   {
    "duration": 18,
    "start_time": "2021-08-23T08:28:36.451Z"
   },
   {
    "duration": 14,
    "start_time": "2021-08-23T08:28:38.339Z"
   },
   {
    "duration": 14,
    "start_time": "2021-08-23T08:28:38.748Z"
   },
   {
    "duration": 15,
    "start_time": "2021-08-23T08:28:40.516Z"
   },
   {
    "duration": 15,
    "start_time": "2021-08-23T08:28:42.379Z"
   },
   {
    "duration": 15,
    "start_time": "2021-08-23T08:28:44.101Z"
   },
   {
    "duration": 70,
    "start_time": "2021-08-23T08:28:44.652Z"
   },
   {
    "duration": 66,
    "start_time": "2021-08-23T08:28:46.367Z"
   },
   {
    "duration": 67,
    "start_time": "2021-08-23T08:28:46.741Z"
   },
   {
    "duration": 12,
    "start_time": "2021-08-23T08:28:47.123Z"
   },
   {
    "duration": 14,
    "start_time": "2021-08-23T08:28:47.587Z"
   },
   {
    "duration": 13,
    "start_time": "2021-08-23T08:28:49.235Z"
   },
   {
    "duration": 22,
    "start_time": "2021-08-23T08:28:50.475Z"
   },
   {
    "duration": 22,
    "start_time": "2021-08-23T08:28:50.915Z"
   },
   {
    "duration": 22,
    "start_time": "2021-08-23T08:28:51.285Z"
   },
   {
    "duration": 8,
    "start_time": "2021-08-23T08:28:53.350Z"
   },
   {
    "duration": 9,
    "start_time": "2021-08-23T08:28:53.690Z"
   },
   {
    "duration": 8,
    "start_time": "2021-08-23T08:28:54.087Z"
   },
   {
    "duration": 21,
    "start_time": "2021-08-23T08:28:56.939Z"
   },
   {
    "duration": 23,
    "start_time": "2021-08-23T08:28:57.685Z"
   },
   {
    "duration": 23,
    "start_time": "2021-08-23T08:28:59.892Z"
   },
   {
    "duration": 25,
    "start_time": "2021-08-23T08:29:02.277Z"
   },
   {
    "duration": 16,
    "start_time": "2021-08-23T08:29:03.107Z"
   },
   {
    "duration": 17,
    "start_time": "2021-08-23T08:29:03.885Z"
   },
   {
    "duration": 9,
    "start_time": "2021-08-23T08:29:11.636Z"
   },
   {
    "duration": 9,
    "start_time": "2021-08-23T08:29:18.295Z"
   },
   {
    "duration": 7,
    "start_time": "2021-08-23T08:29:23.396Z"
   },
   {
    "duration": 7,
    "start_time": "2021-08-23T08:29:27.739Z"
   },
   {
    "duration": 7,
    "start_time": "2021-08-23T08:29:30.188Z"
   },
   {
    "duration": 6,
    "start_time": "2021-08-23T08:29:32.940Z"
   },
   {
    "duration": 3,
    "start_time": "2021-08-23T08:29:39.700Z"
   },
   {
    "duration": 4,
    "start_time": "2021-08-23T08:29:42.693Z"
   },
   {
    "duration": 8,
    "start_time": "2021-08-23T08:29:44.213Z"
   },
   {
    "duration": 6,
    "start_time": "2021-08-23T08:29:52.083Z"
   },
   {
    "duration": 96,
    "start_time": "2021-08-23T08:29:55.773Z"
   },
   {
    "duration": 469,
    "start_time": "2021-08-23T08:30:00.002Z"
   },
   {
    "duration": 4,
    "start_time": "2021-08-23T08:30:03.579Z"
   },
   {
    "duration": 6,
    "start_time": "2021-08-23T08:30:04.442Z"
   },
   {
    "duration": 5,
    "start_time": "2021-08-23T08:30:10.813Z"
   },
   {
    "duration": 902,
    "start_time": "2021-08-23T08:30:20.469Z"
   },
   {
    "duration": 6596,
    "start_time": "2021-08-23T08:30:48.100Z"
   },
   {
    "duration": 6316,
    "start_time": "2021-08-23T08:35:06.373Z"
   },
   {
    "duration": 8,
    "start_time": "2021-08-23T08:35:30.180Z"
   },
   {
    "duration": 1534,
    "start_time": "2021-08-23T09:38:15.195Z"
   },
   {
    "duration": 500,
    "start_time": "2021-08-23T09:38:16.732Z"
   },
   {
    "duration": 18,
    "start_time": "2021-08-23T09:38:17.404Z"
   },
   {
    "duration": 13,
    "start_time": "2021-08-23T09:38:17.620Z"
   },
   {
    "duration": 15,
    "start_time": "2021-08-23T09:38:17.796Z"
   },
   {
    "duration": 17,
    "start_time": "2021-08-23T09:38:17.981Z"
   },
   {
    "duration": 20,
    "start_time": "2021-08-23T09:38:18.163Z"
   },
   {
    "duration": 16,
    "start_time": "2021-08-23T09:38:18.354Z"
   },
   {
    "duration": 75,
    "start_time": "2021-08-23T09:38:18.532Z"
   },
   {
    "duration": 69,
    "start_time": "2021-08-23T09:38:18.726Z"
   },
   {
    "duration": 72,
    "start_time": "2021-08-23T09:38:18.910Z"
   },
   {
    "duration": 14,
    "start_time": "2021-08-23T09:38:19.100Z"
   },
   {
    "duration": 14,
    "start_time": "2021-08-23T09:38:19.282Z"
   },
   {
    "duration": 20,
    "start_time": "2021-08-23T09:38:19.467Z"
   },
   {
    "duration": 23,
    "start_time": "2021-08-23T09:38:19.652Z"
   },
   {
    "duration": 21,
    "start_time": "2021-08-23T09:38:19.835Z"
   },
   {
    "duration": 24,
    "start_time": "2021-08-23T09:38:20.035Z"
   },
   {
    "duration": 8,
    "start_time": "2021-08-23T09:38:20.403Z"
   },
   {
    "duration": 8,
    "start_time": "2021-08-23T09:38:20.587Z"
   },
   {
    "duration": 10,
    "start_time": "2021-08-23T09:38:20.763Z"
   },
   {
    "duration": 21,
    "start_time": "2021-08-23T09:38:21.542Z"
   },
   {
    "duration": 24,
    "start_time": "2021-08-23T09:38:21.723Z"
   },
   {
    "duration": 21,
    "start_time": "2021-08-23T09:38:21.931Z"
   },
   {
    "duration": 26,
    "start_time": "2021-08-23T09:38:22.314Z"
   },
   {
    "duration": 16,
    "start_time": "2021-08-23T09:38:22.506Z"
   },
   {
    "duration": 17,
    "start_time": "2021-08-23T09:38:22.701Z"
   },
   {
    "duration": 9,
    "start_time": "2021-08-23T09:38:23.107Z"
   },
   {
    "duration": 9,
    "start_time": "2021-08-23T09:38:23.451Z"
   },
   {
    "duration": 8,
    "start_time": "2021-08-23T09:38:24.381Z"
   },
   {
    "duration": 6,
    "start_time": "2021-08-23T09:38:25.034Z"
   },
   {
    "duration": 5,
    "start_time": "2021-08-23T09:38:25.341Z"
   },
   {
    "duration": 6,
    "start_time": "2021-08-23T09:38:25.749Z"
   },
   {
    "duration": 4,
    "start_time": "2021-08-23T09:38:27.582Z"
   },
   {
    "duration": 4,
    "start_time": "2021-08-23T09:38:28.243Z"
   },
   {
    "duration": 10,
    "start_time": "2021-08-23T09:38:28.477Z"
   },
   {
    "duration": 7,
    "start_time": "2021-08-23T09:38:29.900Z"
   },
   {
    "duration": 54,
    "start_time": "2021-08-23T09:38:34.620Z"
   },
   {
    "duration": 436,
    "start_time": "2021-08-23T09:38:38.250Z"
   },
   {
    "duration": 5,
    "start_time": "2021-08-23T09:38:40.905Z"
   },
   {
    "duration": 5,
    "start_time": "2021-08-23T09:38:43.060Z"
   },
   {
    "duration": 5,
    "start_time": "2021-08-23T09:38:48.690Z"
   },
   {
    "duration": 6807,
    "start_time": "2021-08-23T09:38:58.020Z"
   },
   {
    "duration": 9263,
    "start_time": "2021-08-23T09:39:14.677Z"
   },
   {
    "duration": 3535,
    "start_time": "2021-08-23T09:39:31.741Z"
   },
   {
    "duration": 5,
    "start_time": "2021-08-23T09:40:47.779Z"
   },
   {
    "duration": 3510,
    "start_time": "2021-08-23T09:40:51.018Z"
   },
   {
    "duration": 8,
    "start_time": "2021-08-23T09:41:14.372Z"
   },
   {
    "duration": 3518,
    "start_time": "2021-08-23T09:41:16.900Z"
   },
   {
    "duration": 6579,
    "start_time": "2021-08-23T09:41:27.164Z"
   },
   {
    "duration": 5250,
    "start_time": "2021-08-23T09:43:29.853Z"
   },
   {
    "duration": 5182,
    "start_time": "2021-08-23T09:43:40.132Z"
   },
   {
    "duration": 7,
    "start_time": "2021-08-23T09:43:54.021Z"
   },
   {
    "duration": 11,
    "start_time": "2021-08-23T09:44:00.776Z"
   },
   {
    "duration": 8,
    "start_time": "2021-08-23T09:44:02.947Z"
   },
   {
    "duration": 875,
    "start_time": "2021-08-23T09:44:12.173Z"
   },
   {
    "duration": 41,
    "start_time": "2021-08-23T09:51:08.533Z"
   },
   {
    "duration": 113,
    "start_time": "2021-08-23T09:52:09.756Z"
   },
   {
    "duration": 51,
    "start_time": "2021-08-23T09:53:19.321Z"
   },
   {
    "duration": 105,
    "start_time": "2021-08-23T09:53:58.263Z"
   },
   {
    "duration": 101,
    "start_time": "2021-08-23T09:54:08.272Z"
   },
   {
    "duration": 172,
    "start_time": "2021-08-23T09:54:13.295Z"
   },
   {
    "duration": 97,
    "start_time": "2021-08-23T09:54:35.774Z"
   },
   {
    "duration": 73,
    "start_time": "2021-08-23T09:55:20.301Z"
   },
   {
    "duration": 67,
    "start_time": "2021-08-23T09:55:26.302Z"
   },
   {
    "duration": 108,
    "start_time": "2021-08-23T09:55:44.360Z"
   },
   {
    "duration": 53,
    "start_time": "2021-08-23T09:56:08.216Z"
   },
   {
    "duration": 99,
    "start_time": "2021-08-23T09:56:17.374Z"
   },
   {
    "duration": 80,
    "start_time": "2021-08-23T09:56:44.590Z"
   },
   {
    "duration": 43,
    "start_time": "2021-08-23T09:57:16.653Z"
   },
   {
    "duration": 524,
    "start_time": "2021-08-23T09:58:06.451Z"
   },
   {
    "duration": 1122,
    "start_time": "2021-08-24T07:14:21.816Z"
   },
   {
    "duration": 352,
    "start_time": "2021-08-24T07:14:23.376Z"
   },
   {
    "duration": 11,
    "start_time": "2021-08-24T07:14:23.863Z"
   },
   {
    "duration": 8,
    "start_time": "2021-08-24T07:14:25.464Z"
   },
   {
    "duration": 15,
    "start_time": "2021-08-24T07:14:25.474Z"
   },
   {
    "duration": 18,
    "start_time": "2021-08-24T07:14:25.492Z"
   },
   {
    "duration": 11,
    "start_time": "2021-08-24T07:14:25.512Z"
   },
   {
    "duration": 11,
    "start_time": "2021-08-24T07:14:25.524Z"
   },
   {
    "duration": 72,
    "start_time": "2021-08-24T07:14:25.537Z"
   },
   {
    "duration": 36,
    "start_time": "2021-08-24T07:14:25.611Z"
   },
   {
    "duration": 54,
    "start_time": "2021-08-24T07:14:26.085Z"
   },
   {
    "duration": 9,
    "start_time": "2021-08-24T07:14:26.254Z"
   },
   {
    "duration": 10,
    "start_time": "2021-08-24T07:14:26.437Z"
   },
   {
    "duration": 9,
    "start_time": "2021-08-24T07:14:26.622Z"
   },
   {
    "duration": 24,
    "start_time": "2021-08-24T07:14:26.806Z"
   },
   {
    "duration": 28,
    "start_time": "2021-08-24T07:14:26.981Z"
   },
   {
    "duration": 17,
    "start_time": "2021-08-24T07:14:27.159Z"
   },
   {
    "duration": 6,
    "start_time": "2021-08-24T07:14:27.517Z"
   },
   {
    "duration": 7,
    "start_time": "2021-08-24T07:14:27.703Z"
   },
   {
    "duration": 6,
    "start_time": "2021-08-24T07:14:27.886Z"
   },
   {
    "duration": 17,
    "start_time": "2021-08-24T07:14:28.639Z"
   },
   {
    "duration": 18,
    "start_time": "2021-08-24T07:14:28.831Z"
   },
   {
    "duration": 17,
    "start_time": "2021-08-24T07:14:29.031Z"
   },
   {
    "duration": 77,
    "start_time": "2021-08-24T07:14:29.414Z"
   },
   {
    "duration": 14,
    "start_time": "2021-08-24T07:14:29.613Z"
   },
   {
    "duration": 13,
    "start_time": "2021-08-24T07:14:29.806Z"
   },
   {
    "duration": 11,
    "start_time": "2021-08-24T07:14:30.190Z"
   },
   {
    "duration": 9,
    "start_time": "2021-08-24T07:14:30.400Z"
   },
   {
    "duration": 6,
    "start_time": "2021-08-24T07:14:30.925Z"
   },
   {
    "duration": 5,
    "start_time": "2021-08-24T07:14:31.097Z"
   },
   {
    "duration": 5,
    "start_time": "2021-08-24T07:14:31.294Z"
   },
   {
    "duration": 6,
    "start_time": "2021-08-24T07:14:31.494Z"
   },
   {
    "duration": 4,
    "start_time": "2021-08-24T07:14:32.694Z"
   },
   {
    "duration": 3,
    "start_time": "2021-08-24T07:14:33.278Z"
   },
   {
    "duration": 5,
    "start_time": "2021-08-24T07:14:33.485Z"
   },
   {
    "duration": 4,
    "start_time": "2021-08-24T07:14:34.638Z"
   },
   {
    "duration": 88,
    "start_time": "2021-08-24T07:14:35.206Z"
   },
   {
    "duration": 404,
    "start_time": "2021-08-24T07:14:35.590Z"
   },
   {
    "duration": 4,
    "start_time": "2021-08-24T07:14:36.002Z"
   },
   {
    "duration": 4,
    "start_time": "2021-08-24T07:14:36.190Z"
   },
   {
    "duration": 3,
    "start_time": "2021-08-24T07:14:36.782Z"
   },
   {
    "duration": 3848,
    "start_time": "2021-08-24T07:14:37.789Z"
   },
   {
    "duration": 2729,
    "start_time": "2021-08-24T07:14:44.709Z"
   },
   {
    "duration": 2759,
    "start_time": "2021-08-24T07:14:49.559Z"
   },
   {
    "duration": 5,
    "start_time": "2021-08-24T07:14:52.839Z"
   },
   {
    "duration": 5,
    "start_time": "2021-08-24T07:14:59.941Z"
   },
   {
    "duration": 6,
    "start_time": "2021-08-24T07:15:00.286Z"
   },
   {
    "duration": 4,
    "start_time": "2021-08-24T07:15:06.214Z"
   },
   {
    "duration": 4,
    "start_time": "2021-08-24T07:15:49.057Z"
   },
   {
    "duration": 3,
    "start_time": "2021-08-24T07:16:05.366Z"
   },
   {
    "duration": 4,
    "start_time": "2021-08-24T07:16:31.744Z"
   },
   {
    "duration": 4,
    "start_time": "2021-08-24T07:16:32.446Z"
   },
   {
    "duration": 3,
    "start_time": "2021-08-24T07:16:33.055Z"
   },
   {
    "duration": 766,
    "start_time": "2021-08-24T07:20:06.990Z"
   },
   {
    "duration": 5,
    "start_time": "2021-08-24T07:27:34.754Z"
   },
   {
    "duration": 13,
    "start_time": "2021-08-24T07:27:59.793Z"
   },
   {
    "duration": 6,
    "start_time": "2021-08-24T07:29:03.842Z"
   },
   {
    "duration": 8,
    "start_time": "2021-08-24T07:29:29.863Z"
   },
   {
    "duration": 4,
    "start_time": "2021-08-24T07:30:41.567Z"
   },
   {
    "duration": 4,
    "start_time": "2021-08-24T07:30:42.048Z"
   },
   {
    "duration": 127,
    "start_time": "2021-08-24T08:01:08.098Z"
   },
   {
    "duration": 7,
    "start_time": "2021-08-24T08:01:55.186Z"
   },
   {
    "duration": 7,
    "start_time": "2021-08-24T08:03:50.983Z"
   },
   {
    "duration": 9,
    "start_time": "2021-08-24T08:04:15.593Z"
   },
   {
    "duration": 8,
    "start_time": "2021-08-24T08:04:35.595Z"
   },
   {
    "duration": 15,
    "start_time": "2021-08-24T08:06:59.393Z"
   },
   {
    "duration": 16,
    "start_time": "2021-08-24T08:07:24.098Z"
   }
  ],
  "kernelspec": {
   "display_name": "Python 3",
   "language": "python",
   "name": "python3"
  },
  "language_info": {
   "codemirror_mode": {
    "name": "ipython",
    "version": 3
   },
   "file_extension": ".py",
   "mimetype": "text/x-python",
   "name": "python",
   "nbconvert_exporter": "python",
   "pygments_lexer": "ipython3",
   "version": "3.7.10"
  },
  "toc": {
   "base_numbering": 1,
   "nav_menu": {},
   "number_sections": true,
   "sideBar": true,
   "skip_h1_title": true,
   "title_cell": "Table of Contents",
   "title_sidebar": "Contents",
   "toc_cell": false,
   "toc_position": {},
   "toc_section_display": true,
   "toc_window_display": false
  }
 },
 "nbformat": 4,
 "nbformat_minor": 5
}
